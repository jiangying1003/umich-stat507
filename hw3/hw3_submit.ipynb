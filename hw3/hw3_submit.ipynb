{
 "cells": [
  {
   "cell_type": "markdown",
   "metadata": {
    "deletable": false,
    "editable": false,
    "nbgrader": {
     "cell_type": "markdown",
     "checksum": "d18102c363d7e7a297cc8d2bf53146dd",
     "grade": false,
     "grade_id": "cell-2b9e17fb2c08a0f1",
     "locked": true,
     "schema_version": 3,
     "solution": false,
     "task": false
    }
   },
   "source": [
    "# Homework 3: Files, Objects, and Functional Programming (38 points)"
   ]
  },
  {
   "cell_type": "code",
   "execution_count": null,
   "metadata": {},
   "outputs": [],
   "source": [
    "name: Ying Jiang\n",
    "\n",
    "email: jiangyyy@umich.edu\n",
    "\n",
    "I did not discuss this homework with anyone.\n",
    "\n",
    "This homework assignment took me 12 hours in total to complete. (Please help us to gauge the difficulty of the assignment.)"
   ]
  },
  {
   "cell_type": "markdown",
   "metadata": {
    "deletable": false,
    "editable": false,
    "nbgrader": {
     "cell_type": "markdown",
     "checksum": "2bc011a59880dcd9c7c7200a3b5f2de1",
     "grade": false,
     "grade_id": "cell-6b27842ca95b0ef2",
     "locked": true,
     "schema_version": 3,
     "solution": false,
     "task": false
    }
   },
   "source": [
    "## Submission Instructions\n",
    "Your homework solutions should be written entirely in this Jupyter notebook file. Once it contains your solutions, you should submit this notebook through Canvas. Before submitting, please make sure make sure __Cells->Run__ executes without errors; errors in your code cause problems for our auto-grader. Thus, even though we may ask you to check for errors in your functions, you should not include in your submission any examples of your functions actually raising those errors.\n",
    "\n",
    "<!-- ## Coding style\n",
    "Please follow the [PEP8 guidelines](https://www.python.org/dev/peps/pep-0008/). The `pycodestyle_magic` package will remind you if you are not. To install it, run\n",
    "```\n",
    "pip install flake8 pycodestyle_magic\n",
    "```\n",
    "Once it is installed the following two Jupyter directives will enable syntax checking: -->\n",
    "\n",
    "## Homework tips \n",
    "\n",
    "1. **Start early!** If you run into trouble installing things or importing packages, it’s\n",
    "best to find those problems well in advance, not the night before your assignment is\n",
    "due when we cannot help you!\n",
    "\n",
    "2. **Make sure you back up your work!** At a minimum, do your work in a Dropbox\n",
    "folder. Better yet, use git, which is well worth your time and effort to learn.\n",
    "\n",
    "3. **Be careful to follow directions!** Remember that Python is case sensitive. If\n",
    "you are ask you to define a function called my_function and you define a function\n",
    "called My_Function, you will not receive full credit. You may want to copy-paste\n",
    "the function names below to make sure that the functions in your notebook match.\n",
    "\n",
    "## Nbgrader\n",
    "\n",
    "We will be using `nbgrader` to grade your jupyter notebook. You will notice some `read-only` cells in the assignment that contain `assert` statements. These are tests that your code must pass for your solution to be correct. If any of the tests fail, you will get an python error and not get points for that question. \n",
    "\n",
    "**Note:** The tests shown not comprehensive, additional tests will be used at grading time. You are encouraged to read the problem carefully and verify your code covers all relevant cases. E.g. If the input to a function are positive integers, then it should work for all positive integers.\"\n",
    "\n",
    "**Note:** Error checking is not required unless explicitly stated in the problem.\n",
    "\n",
    "## Coding style\n",
    "Please follow the [PEP8 guidelines](https://www.python.org/dev/peps/pep-0008/). The `pycodestyle_magic` package will remind you if you are not. To install it, run\n",
    "```\n",
    "pip install flake8 pycodestyle_magic\n",
    "```\n",
    "Once it is installed the following two Jupyter directives will enable syntax checking:"
   ]
  },
  {
   "cell_type": "code",
   "execution_count": 1,
   "metadata": {
    "deletable": false,
    "editable": false,
    "nbgrader": {
     "cell_type": "code",
     "checksum": "73ee9025100185776b28269ea9943dd4",
     "grade": false,
     "grade_id": "cell-3adf299cea35015f",
     "locked": true,
     "schema_version": 3,
     "solution": false,
     "task": false
    }
   },
   "outputs": [],
   "source": [
    "%load_ext pycodestyle_magic\n",
    "%flake8_on --ignore E266"
   ]
  },
  {
   "cell_type": "markdown",
   "metadata": {
    "deletable": false,
    "editable": false,
    "nbgrader": {
     "cell_type": "markdown",
     "checksum": "cd56b86197f9bf75afa3ba851b6d7327",
     "grade": false,
     "grade_id": "cell-8f6047bb006e85ea",
     "locked": true,
     "schema_version": 3,
     "solution": false,
     "task": false
    }
   },
   "source": [
    "\n",
    "## Problem 1: Counting Word Bigrams (6 points) \n",
    "In your previous homework, you wrote a function for counting character bigrams. Now, let’s write a function for counting word bigrams. That is, for each pair of words, say, cat and dog, we want to count how many times the word “cat” occurred immediately before the word “dog”. We will represent this bigram by a tuple, `(’cat’, ’dog’)`. \n",
    "\n",
    "So, as an example, the fragment of poem,\n",
    "\n",
    "```\n",
    "Half a league, half a league, Half a league onward,\n",
    "All in the valley of Death Rode the six hundred.\n",
    "```\n",
    "\n",
    "includes the bigrams `(’half’, ’a’)` and `(’a’, ’league’)` both three times, the bigram `(’league’, ’half’)` appears twice, while the bigram `(’in’, ’the’)` appears only once.\n",
    "\n",
    "**Note:** For our purposes, we will ignore all spaces, newlines, punctuation and capitalization in our counting."
   ]
  },
  {
   "cell_type": "markdown",
   "metadata": {
    "deletable": false,
    "editable": false,
    "nbgrader": {
     "cell_type": "markdown",
     "checksum": "421ec39c5f9574e88ec9cc79d6a38524",
     "grade": false,
     "grade_id": "cell-b612215221758d6e",
     "locked": true,
     "schema_version": 3,
     "solution": false,
     "task": false
    }
   },
   "source": [
    "### Part 1 (2 points) \n",
    "Write a function `count_bigrams_in_file` that takes a ﬁlename `file` as its only argument. Your function should read from the given ﬁle, and return a dictionary whose keys are bigrams (given in the tuple form above), and values are the counts for those bigrams. \n",
    "\n",
    "Again, your function should ignore punctuation, spaces, newlines and capitalization.\n",
    "\n",
    "**Hint:** you will ﬁnd the Python function `str.strip()`, along with the string constants deﬁned in the string documentation (https://docs.python.org/3/library/string.html), useful in removing punctuation. You are free to use the `re` library for this problem but our solution does not use it. \n",
    "\n",
    "**Hint:** be careful to check that your function handles newlines correctly. For example, in the poem above, one of the `(’league’, ’half’)` bigrams spans a newline, but should be counted nonetheless. \n",
    "\n",
    "**Hint:** For this function to be executed at a reasonable speed, you should attempt to remove all punctuation from the file in the text __before__ splitting it into words. For reference, our solution only uses one for loop over all the words in the given file's text. \n",
    "\n",
    "**Note:** be careful that your function does not accidentally count the empty string as a word (this is a common bug if you aren’t careful about splitting the input text). Solutions that merely delete “bad” keys from the dictionary at the end will not receive full credit, as all edge cases can handled by correctly splitting the input.\n",
    "\n",
    "**Note:** Please replace instances of '--' with a space ' '. So that e.g. 'Bob--David' would be parsed as 'Bob David' (two separate words). Any other punctuation should be removed and treated the same, so for example 'Bob/David' would be parsed as 'BobDavid'. This includes punctuation inside words so e.g. \"they're\" would become \"theyre\""
   ]
  },
  {
   "cell_type": "code",
   "execution_count": 1,
   "metadata": {
    "deletable": false,
    "nbgrader": {
     "cell_type": "code",
     "checksum": "dbeaedd5894a4bcbf33fc1556d668692",
     "grade": false,
     "grade_id": "cell-00acb788c373a75a",
     "locked": false,
     "schema_version": 3,
     "solution": true,
     "task": false
    }
   },
   "outputs": [],
   "source": [
    "import string\n",
    "\n",
    "def count_bigrams_in_file(file):\n",
    "    bigrams=[('a', 'league'),('half', 'a'),('league', 'half'),('league', 'onward')]#list of bigrams\n",
    "    content=''\n",
    "    count=dict()\n",
    "    \n",
    "    #get the words\n",
    "    file=open(file)\n",
    "    content=file.read() \n",
    "    content=content.lower()\n",
    "    content=content.replace('--',\" \")\n",
    "    for i in content:\n",
    "        if i in string.punctuation:  \n",
    "            content = content.replace(i,\"\")# the replace function\n",
    "    content=content.split()\n",
    "    \n",
    "    for i in range(len(content)-1):\n",
    "        if (content[i],content[i+1]) in bigrams:\n",
    "            if (content[i],content[i+1]) not in count.keys():\n",
    "                count[(content[i],content[i+1])]=1\n",
    "            else:\n",
    "                count[(content[i],content[i+1])]+=1\n",
    "            \n",
    "    return(count)"
   ]
  },
  {
   "cell_type": "code",
   "execution_count": 2,
   "metadata": {
    "deletable": false,
    "editable": false,
    "nbgrader": {
     "cell_type": "code",
     "checksum": "52f50396bb9a6d417b9ce87190d7913e",
     "grade": true,
     "grade_id": "cell-64a1f6983f806530",
     "locked": true,
     "points": 2,
     "schema_version": 3,
     "solution": false,
     "task": false
    }
   },
   "outputs": [],
   "source": [
    "\"\"\"Test simple cases\"\"\"\n",
    "sol = {('a', 'league'): 3, ('half', 'a'): 3,\n",
    "       ('league', 'half'): 2, ('league', 'onward'): 1}\n",
    "with open('./test.txt', 'w') as f:\n",
    "    f.write('Half a league, half a league,\\n Half a league onward.')\n",
    "assert count_bigrams_in_file('test.txt') == sol"
   ]
  },
  {
   "cell_type": "markdown",
   "metadata": {
    "deletable": false,
    "editable": false,
    "nbgrader": {
     "cell_type": "markdown",
     "checksum": "023d4bdfd2b24fddd8c057d6022befb5",
     "grade": false,
     "grade_id": "cell-08623233129a3884",
     "locked": true,
     "schema_version": 3,
     "solution": false,
     "task": false
    }
   },
   "source": [
    "### Part 2 (1 point)  \n",
    "The ﬁle `WandP.txt`, which was included along with this jupyter notebook in `hw3.zip`, is an `ASCII` copy of all of Tolstoi’s novel War and Peace. Run your function on this ﬁle, and pickle the resulting dictionary in a ﬁle called `mb.bigrams.pickle`."
   ]
  },
  {
   "cell_type": "code",
   "execution_count": 3,
   "metadata": {
    "deletable": false,
    "nbgrader": {
     "cell_type": "code",
     "checksum": "ec9e3ac4e1ae4480e644868ab2ef5542",
     "grade": false,
     "grade_id": "cell-957e399ee02c11d9",
     "locked": false,
     "schema_version": 3,
     "solution": true,
     "task": false
    }
   },
   "outputs": [],
   "source": [
    "\"\"\"Code for creating 'mb.bigrams.pickle' here.\"\"\"\n",
    "import pickle\n",
    "filename='WandP.txt'\n",
    "file=open(\"mb.bigrams.pickle\",\"wb\")\n",
    "file.write(pickle.dumps(count_bigrams_in_file(filename)))\n",
    "file.close()"
   ]
  },
  {
   "cell_type": "code",
   "execution_count": 4,
   "metadata": {
    "deletable": false,
    "editable": false,
    "nbgrader": {
     "cell_type": "code",
     "checksum": "1030a4ffb8b985a3b4609b47fb2e4c86",
     "grade": true,
     "grade_id": "cell-43238c586b58202d",
     "locked": true,
     "points": 1,
     "schema_version": 3,
     "solution": false,
     "task": false
    }
   },
   "outputs": [],
   "source": [
    "\"\"\"Check that your pickled file is exists and is correct.\"\"\"\n",
    "import os\n",
    "import pickle\n",
    "\n",
    "assert os.path.isfile('mb.bigrams.pickle')"
   ]
  },
  {
   "cell_type": "markdown",
   "metadata": {
    "deletable": false,
    "editable": false,
    "nbgrader": {
     "cell_type": "markdown",
     "checksum": "965a9dc3074db049e14b819408eb5a70",
     "grade": false,
     "grade_id": "cell-d79506fc85afcebb",
     "locked": true,
     "schema_version": 3,
     "solution": false,
     "task": false
    }
   },
   "source": [
    "### Part 3 (2 points)\n",
    "\n",
    "We say that word `A` is _collocated_ with word `B` in a text if words `A` and `B` occur immediately one after another (in either order). That is, words `A` and `B` are collocated if and only if either of the tuples `(A, B)` or `(B, A)` are present in the text. \n",
    "\n",
    "Write a function `collocations` that takes a ﬁlename `file` as its only argument and returns a dictionary. Your function should read from the given ﬁle and return a dictionary whose keys are all the strings appearing in the ﬁle and the value of word `A` is a Python set containing all the words collocated with `A`. \n",
    "\n",
    "Follow the same conventions as Part 1/2 in ignoring case and stripping away all spaces, newlines and punctuation.\n",
    "\n",
    "Again using the poem fragment above as an example, the string `’league’` should appear as a key, and should have as its value the set `{’a’, ’half’, ’onward’}`, while the string `’in’` should have the set `{’all’, ’the’}` as its value. \n",
    "\n",
    "**Hint:** we didn’t discuss Python sets in lecture, because they are essentially just dictionaries without values. See the documentation at https://docs.python.org/3/tutorial/datastructures.html#sets for more information.\n",
    "\n",
    "**Hint:** For this function to be executed at a reasonable speed, you should attempt to remove all punctuation from the file in the text __before__ splitting it into words. For reference, our solution only uses one for loop over all the words in the given file's text. "
   ]
  },
  {
   "cell_type": "code",
   "execution_count": 5,
   "metadata": {
    "deletable": false,
    "nbgrader": {
     "cell_type": "code",
     "checksum": "ec10859ed5559261af903b0810cad000",
     "grade": false,
     "grade_id": "cell-9a8dbd9611c8eb06",
     "locked": false,
     "schema_version": 3,
     "solution": true,
     "task": false
    }
   },
   "outputs": [],
   "source": [
    "def collocations(file):\n",
    "    file=open(file)\n",
    "    #get the words\n",
    "    content=file.read() \n",
    "    content=content.lower()\n",
    "    content=content.replace('--',\" \")\n",
    "    for i in content:\n",
    "        if i in string.punctuation:  \n",
    "            content = content.replace(i,\"\")\n",
    "    content=content.split()\n",
    "   \n",
    "   \n",
    "    codict=dict()\n",
    "    #find the next\n",
    "    for i in range(0,(len(content)-1)):\n",
    "        if content[i] not in codict.keys():\n",
    "            codict[content[i]]=[content[i+1]]\n",
    "        else:\n",
    "            if content[i+1] not in codict[content[i]]:\n",
    "                codict[content[i]].append(content[i+1])\n",
    "    #find the former\n",
    "    for i in range(1,len(content)):\n",
    "        if content[i] not in codict.keys():\n",
    "            codict[content[i]]=[content[i-1]]\n",
    "        if content[i-1] not in codict[content[i]]:\n",
    "            codict[content[i]].append(content[i-1])\n",
    "    codict1=dict()\n",
    "    for key,value in codict.items():\n",
    "        codict1[key]=set(value)\n",
    "\n",
    "    #special condition with len(content)=1\n",
    "    if len(content)==1:\n",
    "        codict1[content[0]]={}\n",
    "    return codict1"
   ]
  },
  {
   "cell_type": "code",
   "execution_count": 6,
   "metadata": {
    "deletable": false,
    "editable": false,
    "nbgrader": {
     "cell_type": "code",
     "checksum": "861983a93afa0963e52d2172e2023d00",
     "grade": true,
     "grade_id": "cell-9fa29d301a3567b5",
     "locked": true,
     "points": 2,
     "schema_version": 3,
     "solution": false,
     "task": false
    }
   },
   "outputs": [],
   "source": [
    "\"\"\"Test it works on simple case.\"\"\"\n",
    "with open('test.txt', 'w') as f:\n",
    "    f.write('Half a league, half a league,\\n Half a league onward.')\n",
    "assert collocations('test.txt') == {\n",
    "                             'half': {'league', 'a'},\n",
    "                             'a': {'half', 'league'},\n",
    "                             'league': {'onward', 'half', 'a'},\n",
    "                             'onward': {'league'}\n",
    "                              }"
   ]
  },
  {
   "cell_type": "markdown",
   "metadata": {
    "deletable": false,
    "editable": false,
    "nbgrader": {
     "cell_type": "markdown",
     "checksum": "9aaa4f0da1a0c704703b9d7ba594f8ee",
     "grade": false,
     "grade_id": "cell-f7e71bbec7e30e45",
     "locked": true,
     "schema_version": 3,
     "solution": false,
     "task": false
    }
   },
   "source": [
    "### Part 4 (1 point) \n",
    "Run your function on the ﬁle `WandP.txt` and pickle the resulting dictionary in a ﬁle called `mb.colloc.pickle.`"
   ]
  },
  {
   "cell_type": "code",
   "execution_count": 7,
   "metadata": {
    "deletable": false,
    "nbgrader": {
     "cell_type": "code",
     "checksum": "4a4e1036a7e6e0a46d05da6e65f394dd",
     "grade": false,
     "grade_id": "cell-49a3dcf4ea8de03f",
     "locked": false,
     "schema_version": 3,
     "solution": true,
     "task": false
    }
   },
   "outputs": [],
   "source": [
    "\"\"\"Code for creating 'mb.colloc.pickle'.\"\"\"\n",
    "import pickle\n",
    "filename='WandP.txt'\n",
    "file=open('mb.colloc.pickle',\"wb\")\n",
    "file.write(pickle.dumps(collocations(filename)))\n",
    "file.close()"
   ]
  },
  {
   "cell_type": "code",
   "execution_count": 8,
   "metadata": {
    "deletable": false,
    "editable": false,
    "nbgrader": {
     "cell_type": "code",
     "checksum": "774e16446d0e0d2a73f270e442f33382",
     "grade": true,
     "grade_id": "cell-04c1ab0c9d863a66",
     "locked": true,
     "points": 1,
     "schema_version": 3,
     "solution": false,
     "task": false
    }
   },
   "outputs": [],
   "source": [
    "\"\"\"Check that your pickled file exists and is correct\"\"\"\n",
    "import os\n",
    "import pickle\n",
    "assert os.path.exists('mb.colloc.pickle')"
   ]
  },
  {
   "cell_type": "markdown",
   "metadata": {
    "deletable": false,
    "editable": false,
    "nbgrader": {
     "cell_type": "markdown",
     "checksum": "424f8883acb028e8fa7f199723bdfd71",
     "grade": false,
     "grade_id": "cell-c508562d46809e74",
     "locked": true,
     "schema_version": 3,
     "solution": false,
     "task": false
    }
   },
   "source": [
    "## Problem 2: More Fun with Vectors (12 points)\n",
    "\n",
    "In this exercise, we’ll encounter our old friend the vector yet again, this time taking an object-oriented approach.\n",
    "\n",
    "**Note:** Before starting this problem, you are strongly encouraged to read _Chapter 14: Python Objects_ in the textbook: https://www.py4e.com/html3/14-objects"
   ]
  },
  {
   "cell_type": "code",
   "execution_count": 34,
   "metadata": {
    "deletable": false,
    "nbgrader": {
     "cell_type": "code",
     "checksum": "e1b2710eb8b34f3f2737788d1b853f78",
     "grade": false,
     "grade_id": "cell-5b18f2366afe4b38",
     "locked": false,
     "schema_version": 3,
     "solution": true,
     "task": false
    }
   },
   "outputs": [],
   "source": [
    "\"\"\"Include all the code for the Vector class here.\"\"\"\n",
    "import math\n",
    "\n",
    "\n",
    "class Vector:\n",
    "    dimension=0\n",
    "    entries=None\n",
    "    def __init__(self, dim=0, vec=None):\n",
    "        if not isinstance(dim, int):\n",
    "            raise TypeError\n",
    "        elif dim<0:\n",
    "            raise ValueError\n",
    "        # dim=0 \n",
    "        if dim == 0:\n",
    "            if vec != None and len(vec)!=0:\n",
    "                raise ValueError\n",
    "            else:\n",
    "                self.dimension = dim\n",
    "                self.entries = tuple()\n",
    "        else:\n",
    "            if not isinstance(vec, (list, tuple)):\n",
    "                raise TypeError\n",
    "            if not all(isinstance(i, (int, float)) for i in vec):\n",
    "                raise ValueError\n",
    "            if len(vec)!=dim:\n",
    "                raise ValueError\n",
    "            self.dimension = dim\n",
    "            self.entries = tuple(vec)\n",
    "        \n",
    "    #equality, less than, less or equal to, greater than,\n",
    "    def __ne__(self, other):\n",
    "        return(self.entries != other.entries)\n",
    "    def __eq__(self,other):\n",
    "        return( self.entries==other.entries )\n",
    "    def __lt__(self,other):\n",
    "        return(self.entries<other.entries)\n",
    "    def __gt__(self,other):\n",
    "        return(self.entries>other.entries)\n",
    "    def __ge__(self, other):#大于等于\n",
    "        return(self.entries>=other.entries)\n",
    "    def __le__(self, other):#小于等于\n",
    "        return(self.entries<=other.entries)\n",
    "    #dot method\n",
    "    def dot(self,other):\n",
    "        sum=0\n",
    "        for i in range(len(self.entries)):\n",
    "            sum =sum+ self.entries[i]*other.entries[i]\n",
    "        return(sum)\n",
    "    \n",
    "    #multiple method\n",
    "    def __mul__(self,other):\n",
    "        product=list()\n",
    "        if isinstance(other,(int,float)):\n",
    "            for value in self.entries:\n",
    "                product.append(other*value)\n",
    "        elif isinstance(other,Vector):\n",
    "            if self.dimension!=other.dimension: \n",
    "                raise ValueError\n",
    "            else:\n",
    "                for i in range(self.dimension):\n",
    "                    product.append(self.entries[i]*other.entries[i])\n",
    "        else: return TypeError\n",
    "        return(Vector(self.dimension,product))\n",
    "    \n",
    "    def __rmul__(self,other):\n",
    "        return self.__mul__(other)\n",
    "    \n",
    "    def norm(self,p):\n",
    "        value=0\n",
    "        if p==0:value=sum(int(self.entries[i]!=0) for i in range(self.dimension))\n",
    "        if p>0 and p<math.inf:\n",
    "            value=(sum(abs(self.entries[i])**p for i in range(self.dimension)))**(1/p)\n",
    "        if p==math.inf:\n",
    "            absvalue=[abs(self.entries[i]) for i in range(self.dimension)]\n",
    "            value=max(absvalue)\n",
    "        return(value)"
   ]
  },
  {
   "cell_type": "markdown",
   "metadata": {
    "deletable": false,
    "editable": false,
    "nbgrader": {
     "cell_type": "markdown",
     "checksum": "ce3f73a8d8a61fef1c0c47628deb6088",
     "grade": false,
     "grade_id": "cell-0a50dfc61b0e82a1",
     "locked": true,
     "schema_version": 3,
     "solution": false,
     "task": false
    }
   },
   "source": [
    "### Part 1 (5 points)\n",
    "Deﬁne a class `Vector`. The initializer for your class should take the dimension as its ﬁrst argument and a `list` or `tuple` of numbers (`int`s or `ﬂoat`s), representing the vector’s entries, as its second argument (**Note:** your initializer should work correctly given either a list or a tuple of numbers). The initializer should create a vector with dimension $0$ and no entries (an empty tuple `tuple()`) if the user does not provide the corresponding arguments.\n",
    "\n",
    "Your class vector should have two __instance__ attributes: `dimension` and `entries`. The first containing the dimension of the vector as an `int` and the second containing the entries of the vector as a `tuple`. \n",
    "\n",
    "The initializer should raise an appropriate error in the case where the dimension is invalid (i.e., wrong type or a negative number), and should also raise an error in the event that the dimension and the number of supplied entries disagree.\n",
    "\n",
    "**Note:** Please raise `ValueError` or `TypeError` for your error checking in this problem. Raising either will work. "
   ]
  },
  {
   "cell_type": "code",
   "execution_count": 35,
   "metadata": {
    "deletable": false,
    "editable": false,
    "nbgrader": {
     "cell_type": "code",
     "checksum": "c7e38fff197bf17a903c55c184f16bbe",
     "grade": true,
     "grade_id": "cell-d84d85fc86863cd5",
     "locked": true,
     "points": 1,
     "schema_version": 3,
     "solution": false,
     "task": false
    }
   },
   "outputs": [],
   "source": [
    "\"\"\"Check initialization works on sensible cases\"\"\"\n",
    "v = Vector(4, (1, 2, 3, 4))\n",
    "v = Vector(4, [1, 2, 3, 4])\n",
    "v = Vector(1, [1])\n",
    "v = Vector(2, [2, 3])\n",
    "v = Vector(1, (1,))\n",
    "v = Vector(0, [])\n",
    "v = Vector(0)\n",
    "assert True"
   ]
  },
  {
   "cell_type": "code",
   "execution_count": 36,
   "metadata": {
    "deletable": false,
    "editable": false,
    "nbgrader": {
     "cell_type": "code",
     "checksum": "393835b669e534b193efe1d177a5a92e",
     "grade": true,
     "grade_id": "cell-ee5b2851ac09f0d4",
     "locked": true,
     "points": 1,
     "schema_version": 3,
     "solution": false,
     "task": false
    }
   },
   "outputs": [],
   "source": [
    "\"\"\"Vector has correct attributes\"\"\"\n",
    "v = Vector(4, (1, 2, 3, 4))\n",
    "assert isinstance(v, Vector)\n",
    "assert 'entries' in v.__dict__.keys()\n",
    "assert 'dimension' in v.__dict__.keys()\n",
    "assert type(v.dimension) == int\n",
    "assert type(v.entries) == tuple"
   ]
  },
  {
   "cell_type": "code",
   "execution_count": 37,
   "metadata": {
    "deletable": false,
    "editable": false,
    "nbgrader": {
     "cell_type": "code",
     "checksum": "fd24458925c9f2d2d9cb228470001c5c",
     "grade": true,
     "grade_id": "cell-556867b4cb67ffaf",
     "locked": true,
     "points": 1,
     "schema_version": 3,
     "solution": false,
     "task": false
    }
   },
   "outputs": [],
   "source": [
    "\"\"\"Check you can get entries from vector and they are correct when retrieved\"\"\"\n",
    "v = Vector(3, [1, 2, 3])\n",
    "assert tuple(v.entries) == (1, 2, 3)"
   ]
  },
  {
   "cell_type": "code",
   "execution_count": 38,
   "metadata": {
    "deletable": false,
    "editable": false,
    "nbgrader": {
     "cell_type": "code",
     "checksum": "1ae7ed3012bdd163caea68cd5076d12d",
     "grade": true,
     "grade_id": "cell-9eac4809b5a757a5",
     "locked": true,
     "points": 2,
     "schema_version": 3,
     "solution": false,
     "task": false
    }
   },
   "outputs": [],
   "source": [
    "\"\"\"Check exceptions are handled correctly\"\"\"\n",
    "try:\n",
    "    Vector(5, (1, 2, 3, 4))\n",
    "    assert False\n",
    "except ValueError:\n",
    "    assert True\n",
    "\n",
    "try:\n",
    "    Vector(-4, (1, 2, 3, 4))\n",
    "    assert False\n",
    "except (ValueError, TypeError):\n",
    "    assert True\n",
    "\n",
    "try:\n",
    "    Vector('a', [1, 2, 3, 4])\n",
    "    assert False\n",
    "except (ValueError, TypeError):\n",
    "    assert True\n",
    "\n",
    "try:\n",
    "    Vector(1, [])\n",
    "    assert False\n",
    "except (ValueError, TypeError):\n",
    "    assert True"
   ]
  },
  {
   "cell_type": "markdown",
   "metadata": {
    "deletable": false,
    "editable": false,
    "nbgrader": {
     "cell_type": "markdown",
     "checksum": "cba35463d067a8f2577787f99466d28f",
     "grade": false,
     "grade_id": "cell-6292145a61d0fe54",
     "locked": true,
     "schema_version": 3,
     "solution": false,
     "task": false
    }
   },
   "source": [
    "### Part 2 (2 point)\n",
    "Implement the necessary operator(s) to support comparison (equality, less than, less or equal to, greater than, etc) of `Vector` objects. We will say that two `Vector` objects are equivalent if they have the same coordinates. Otherwise, comparison should be analogous to `tuple`s in Python, so that comparison is done on the ﬁrst coordinate ﬁrst, then the second coordinate, then the third, and so on. So, for example, the two-dimensional vector `(2, 4)` is ordered before (less than) `(2, 5)`. \n",
    "\n",
    "You can assume you are always comparing vectors of the same dimension. "
   ]
  },
  {
   "cell_type": "code",
   "execution_count": 39,
   "metadata": {
    "deletable": false,
    "editable": false,
    "nbgrader": {
     "cell_type": "code",
     "checksum": "9f86bbdd8ae8d3779130484475b3a47c",
     "grade": true,
     "grade_id": "cell-3a1c2f17cf2a4779",
     "locked": true,
     "points": 1,
     "schema_version": 3,
     "solution": false,
     "task": false
    }
   },
   "outputs": [],
   "source": [
    "assert Vector(3, [2, 1, 1]) != Vector(3, [1, 3, 3])\n",
    "assert Vector(3, [2, 1, 1]) >= Vector(3, [1, 3, 3])\n",
    "assert Vector(3, [1, 1, 1]) == Vector(3, [1, 1, 1])"
   ]
  },
  {
   "cell_type": "code",
   "execution_count": 40,
   "metadata": {
    "deletable": false,
    "editable": false,
    "nbgrader": {
     "cell_type": "code",
     "checksum": "f92fba1869963304ddba611c1b79d5f7",
     "grade": true,
     "grade_id": "cell-de890d7da24aa5f0",
     "locked": true,
     "points": 1,
     "schema_version": 3,
     "solution": false,
     "task": false
    }
   },
   "outputs": [],
   "source": [
    "assert Vector(3, [1, 1, 1]) != Vector(3, [1, 1, 3])\n",
    "assert Vector(3, [1, 3, 3]) <= Vector(3, [2, 1, 1])"
   ]
  },
  {
   "cell_type": "markdown",
   "metadata": {
    "deletable": false,
    "editable": false,
    "nbgrader": {
     "cell_type": "markdown",
     "checksum": "f249069dcf6f7ad21ac7d31d7e9e44ec",
     "grade": false,
     "grade_id": "cell-33ccb8c3448813d6",
     "locked": true,
     "schema_version": 3,
     "solution": false,
     "task": false
    }
   },
   "source": [
    "### Part 3 (1 point) \n",
    "Implement a method `Vector.dot` that takes a single Vector as its argument and returns the inner product of the caller with the given `Vector` object. You can assume the input is always a vector of the same dimension as the original one."
   ]
  },
  {
   "cell_type": "code",
   "execution_count": 41,
   "metadata": {
    "deletable": false,
    "editable": false,
    "nbgrader": {
     "cell_type": "code",
     "checksum": "8f7e76da6aa1fa4887ecc59f21748f78",
     "grade": true,
     "grade_id": "cell-2e45b3413aad5e1c",
     "locked": true,
     "points": 1,
     "schema_version": 3,
     "solution": false,
     "task": false
    }
   },
   "outputs": [],
   "source": [
    "\"\"\"Check your Vector.dot() method works correctly\"\"\"\n",
    "assert Vector(3, (1, 2, 3)).dot(Vector(3, (1, 2, 2))) == 11.0"
   ]
  },
  {
   "cell_type": "markdown",
   "metadata": {
    "deletable": false,
    "editable": false,
    "nbgrader": {
     "cell_type": "markdown",
     "checksum": "b7ba248032cb881ccc14ed85c17aa209",
     "grade": false,
     "grade_id": "cell-c765bf79202536dc",
     "locked": true,
     "schema_version": 3,
     "solution": false,
     "task": false
    }
   },
   "source": [
    "### Part 4 (2 points)\n",
    "We would also like our Vector class to support scalar multiplication. Left- or right multiplication by a scalar, e.g., `2*v` or `v*2`, where `v` is a Vector object, should result in a new `Vector` object with its entries all scaled by the given scalar. We will also follow `R` and `numpy` (which you will learn in a few weeks), and use `*` to denote entrywise vector-vector multiplication, so that for `Vector` objects `v` and `w`, `v*w` results in a new `Vector` object, with the i-th entry of `v*w` equal to the i-th entry of `v` multiplied by the i-th entry of `w`. Implement the appropriate operators to support this multiplication operation. \n",
    "\n",
    "Many languages have a convention for dealing with multiplication of vectors that diﬀer in their dimension, but we will not handle this case. Your method should raise a `ValueError` in the event that `v` and `w` disagree in their dimensions."
   ]
  },
  {
   "cell_type": "code",
   "execution_count": 42,
   "metadata": {
    "deletable": false,
    "editable": false,
    "nbgrader": {
     "cell_type": "code",
     "checksum": "ec7faa80a9197757da9e3686e02c20f0",
     "grade": true,
     "grade_id": "cell-a5f2178bd7c9f252",
     "locked": true,
     "points": 1,
     "schema_version": 3,
     "solution": false,
     "task": false
    }
   },
   "outputs": [],
   "source": [
    "assert 2 * Vector(3, (1, 2, 3)) == Vector(3, (2, 4, 6))\n",
    "assert Vector(3, (1, 2, 3)) * 2 == Vector(3, (2, 4, 6))\n",
    "assert Vector(3, (1, 2, 3)) * Vector(3, (1, 2, 3)) == Vector(3, (1, 4, 9))"
   ]
  },
  {
   "cell_type": "code",
   "execution_count": 43,
   "metadata": {
    "deletable": false,
    "editable": false,
    "nbgrader": {
     "cell_type": "code",
     "checksum": "d0281616dfc4e1b4185d4c2fb178dbf3",
     "grade": true,
     "grade_id": "cell-cd6422e310c07ed2",
     "locked": true,
     "points": 1,
     "schema_version": 3,
     "solution": false,
     "task": false
    }
   },
   "outputs": [],
   "source": [
    "try:\n",
    "    Vector(3, (1, 2, 3)) * Vector(2, (1, 2))\n",
    "    assert False\n",
    "except ValueError:\n",
    "    assert True"
   ]
  },
  {
   "cell_type": "markdown",
   "metadata": {
    "deletable": false,
    "editable": false,
    "nbgrader": {
     "cell_type": "markdown",
     "checksum": "9a1d59df3acc5820286a2c206a31fca7",
     "grade": false,
     "grade_id": "cell-310c8b288727a97d",
     "locked": true,
     "schema_version": 3,
     "solution": false,
     "task": false
    }
   },
   "source": [
    "### Part 5 (2 points)\n",
    "For a real number $0 \\leq p \\leq \\infty$, and a vector $v \\in \\mathbb{R}^{d}$, the $p$-norm of $v$, written $\\| v \\|_{p}$, is given by: \n",
    "\n",
    "$$ \n",
    "\\| v \\|_p = \\begin{cases}\n",
    "                        \\sum_{i=1}^d 1_{v_i \\neq 0} &\\mbox{ if } p = 0\\\\\n",
    "                        (\\sum_{i=1}^d |v_i|^p )^{1/p} &\\mbox{ if }\n",
    "                                                        0 < p < \\infty, \\\\\n",
    "                        \\max_{i=1,2,\\dots,d} |v_i| &\\mbox{ if } p=\\infty\n",
    "                        \\end{cases}\n",
    "$$\n",
    "\n",
    "where $v_i$ is the $i$-th component of the vector and the notation $1_{v_i \\neq 0}$ indicates: \n",
    "\n",
    "$$ \n",
    "1_{v_i \\neq 0} = \\begin{cases}\n",
    "                        1 &\\mbox{ if } v_i \\neq 0\\\\\n",
    "                        0 &\\mbox{ if } v_i = 0\n",
    "                        \\end{cases}. \n",
    "$$\n",
    "\n",
    "\n",
    "Implement a method `Vector.norm` that takes a single int or ﬂoat `p` as an argument and returns the $p$-norm of the calling `Vector` object. You can assume the input $p$ is always a non-negative integer or float.\n",
    "\n",
    "`Hint:` see https://docs.python.org/3/library/functions.html# float for documentation on representing positive inﬁnity in Python."
   ]
  },
  {
   "cell_type": "code",
   "execution_count": 40,
   "metadata": {
    "deletable": false,
    "editable": false,
    "nbgrader": {
     "cell_type": "code",
     "checksum": "7159f3e1e2a4f04b60f4626db798a310",
     "grade": true,
     "grade_id": "cell-2af28a606f1af266",
     "locked": true,
     "points": 1,
     "schema_version": 3,
     "solution": false,
     "task": false
    }
   },
   "outputs": [],
   "source": [
    "assert Vector(3, (1, 2, 3)).norm(1) == 6.0\n",
    "assert Vector(2, (1, 2)).norm(2) == math.sqrt(1**2 + 2**2)"
   ]
  },
  {
   "cell_type": "code",
   "execution_count": 41,
   "metadata": {
    "deletable": false,
    "editable": false,
    "nbgrader": {
     "cell_type": "code",
     "checksum": "65154249dab0a5bc217836fa7df7c0e3",
     "grade": true,
     "grade_id": "cell-a8f312c44b5334d0",
     "locked": true,
     "points": 1,
     "schema_version": 3,
     "solution": false,
     "task": false
    }
   },
   "outputs": [],
   "source": [
    "assert Vector(5, (3, 2, 1, 10, 5)).norm(math.inf) == 10\n",
    "assert Vector(5, (3, 2, 1, 10, 5)).norm(0) == 5"
   ]
  },
  {
   "cell_type": "markdown",
   "metadata": {
    "deletable": false,
    "editable": false,
    "nbgrader": {
     "cell_type": "markdown",
     "checksum": "6ec7c964f9fd37e0df6b8fca79f5fd45",
     "grade": false,
     "grade_id": "cell-fe23d345126255f3",
     "locked": true,
     "schema_version": 3,
     "solution": false,
     "task": false
    }
   },
   "source": [
    "##  Problem 3: Iterators and Generators (7 points) \n",
    "In this exercise, you’ll get some practice working with iterators and generators. \n",
    "\n",
    "**Note:** in this problem, the word enumerate is meant in the sense of returning elements, not in\n",
    "the sense of the Python function enumerate. So, if I say that \"an iterator enumerates a\n",
    "sequence $a_{0}, a_{1}, a_{2}, ...$\", I mean that these are the elements that it returns upon calls to\n",
    "the `__next__` method, not that it returns pairs $(i,a_{i})$ like the `enumerate` function."
   ]
  },
  {
   "cell_type": "markdown",
   "metadata": {
    "deletable": false,
    "editable": false,
    "nbgrader": {
     "cell_type": "markdown",
     "checksum": "b164bb41bdf3f74970eb9a3351fb0359",
     "grade": false,
     "grade_id": "cell-c26424e6f0691327",
     "locked": true,
     "schema_version": 3,
     "solution": false,
     "task": false
    }
   },
   "source": [
    "### Part 1 (1 point) \n",
    "Deﬁne a class `Fibo` of iterators that enumerate the Fibonacci numbers. For the purposes of this problem, the Fibonacci sequence begins $0, 1, 1, 2, 3, ...$ with the $n$-th Fibonacci number $F_{n}$ given by the recursive formula $F_{n} = F_{n-1} + F_{n-2}$  where $F_{0} = 0$ and $F_{1} = 1$. \n",
    "\n",
    "Your solution should not make use of any function aside from addition (i.e., you should not need to use the function `fibo()` deﬁned in lecture a few weeks ago). Your class should support, at a minimum, an initialization method, a `__iter__` method (so that we can get an iterator) and a `__next__` method. \n",
    "\n",
    "**Note:** there is an especially simple solution to this problem that can be expressed in just a few lines using tuple assignment."
   ]
  },
  {
   "cell_type": "code",
   "execution_count": 1,
   "metadata": {
    "deletable": false,
    "nbgrader": {
     "cell_type": "code",
     "checksum": "08e18680ee0c628201a5dcd1aad74fd4",
     "grade": false,
     "grade_id": "cell-bbaefcc15e4a7081",
     "locked": false,
     "schema_version": 3,
     "solution": true,
     "task": false
    }
   },
   "outputs": [],
   "source": [
    "class Fibo():\n",
    "    def __init__(self):\n",
    "        self.f0=0\n",
    "        self.f1=1\n",
    "        self.pos=0\n",
    "    def __iter__(self):\n",
    "        return self\n",
    "    \n",
    "    def __next__(self):\n",
    "        fibo=self.f0\n",
    "        self.f0,self.f1=self.f1,self.f0+self.f1\n",
    "        self.pos +=1\n",
    "        return(fibo)"
   ]
  },
  {
   "cell_type": "code",
   "execution_count": 2,
   "metadata": {},
   "outputs": [],
   "source": [
    "class Fibo():\n",
    "    def __init__(self):\n",
    "        self.f0=0\n",
    "        self.f1=1\n",
    "    def __iter__(self):\n",
    "        return self\n",
    "    def __next__(self):\n",
    "        result = self.f0\n",
    "        (self.f0, self.f1)=(self.f1, self.f1+self.f0)\n",
    "        return (result)"
   ]
  },
  {
   "cell_type": "code",
   "execution_count": 3,
   "metadata": {
    "deletable": false,
    "editable": false,
    "nbgrader": {
     "cell_type": "code",
     "checksum": "a89ca645f5db370c199cb28741d79bc8",
     "grade": true,
     "grade_id": "cell-e98351d056391b0a",
     "locked": true,
     "points": 1,
     "schema_version": 3,
     "solution": false,
     "task": false
    }
   },
   "outputs": [],
   "source": [
    "ans1 = Fibo()\n",
    "assert [next(ans1) for _ in range(10)] == [0, 1, 1, 2, 3, 5, 8, 13, 21, 34]"
   ]
  },
  {
   "cell_type": "markdown",
   "metadata": {
    "deletable": false,
    "editable": false,
    "nbgrader": {
     "cell_type": "markdown",
     "checksum": "df72d8a88aaf0554e1d19638d491f805",
     "grade": false,
     "grade_id": "cell-92d5a47f0cd2a2c7",
     "locked": true,
     "schema_version": 3,
     "solution": false,
     "task": false
    }
   },
   "source": [
    "### Part 2 (2 points)\n",
    "We can generalize the Fibonacci sequence by following the same recursive procedure $F_{n} = F_{n-1}+F_{n-2}$ , but using a diﬀerent choice of initial two values for $F_{0}$ and $F_{1}$. For example, if we take $F_{0} = 2$ and $F_{1} = 1$, then we obtain the Lucas numbers, which are closely related to the Fibonacci numbers (https://en.wikipedia.org/wiki/Lucas_number). \n",
    "\n",
    "Deﬁne a class `GenFibo` of iterators that enumerate generalized Fibonacci numbers. Your class should inherit from the Fibo class deﬁned in the previous subproblem. The initialization method for the GenFibo class should take two optional arguments that specify the values of $F_{0}$ and $F_{1}$ , in that order, and their values should default so that `F = GenFibo()` results in an enumerator equivalent to the one that would have been created if you had called `F = Fibo()` (i.e., `GenFibo()` should produce an iterator over the Fibonacci numbers)."
   ]
  },
  {
   "cell_type": "code",
   "execution_count": 6,
   "metadata": {},
   "outputs": [],
   "source": [
    "class GenFibo(Fibo):\n",
    "    def __init__(self, a0=0, a1=1):\n",
    "        self.f0=a0\n",
    "        self.f1=a1"
   ]
  },
  {
   "cell_type": "code",
   "execution_count": 5,
   "metadata": {
    "deletable": false,
    "nbgrader": {
     "cell_type": "code",
     "checksum": "3d792fa973630f5e0e9daf0f5253dc03",
     "grade": false,
     "grade_id": "cell-2cea9a637e433f6a",
     "locked": false,
     "schema_version": 3,
     "solution": true,
     "task": false
    }
   },
   "outputs": [],
   "source": [
    "class GenFibo(Fibo):\n",
    "    def __init__(self, a0=0, a1=1):\n",
    "        self.f0=a0\n",
    "        self.f1=a1\n",
    "        self.pos=0"
   ]
  },
  {
   "cell_type": "code",
   "execution_count": 7,
   "metadata": {
    "deletable": false,
    "editable": false,
    "nbgrader": {
     "cell_type": "code",
     "checksum": "99c636cb3844f15174328129f650376f",
     "grade": true,
     "grade_id": "cell-62d3630b587beb0d",
     "locked": true,
     "points": 1,
     "schema_version": 3,
     "solution": false,
     "task": false
    }
   },
   "outputs": [],
   "source": [
    "ans = GenFibo(2, 1)\n",
    "assert [next(ans) for _ in range(10)] == [2, 1, 3, 4, 7, 11, 18, 29, 47, 76]"
   ]
  },
  {
   "cell_type": "code",
   "execution_count": 8,
   "metadata": {
    "deletable": false,
    "editable": false,
    "nbgrader": {
     "cell_type": "code",
     "checksum": "4aeddf1aac90506d484aa0df97eba1a3",
     "grade": true,
     "grade_id": "cell-3b1263325c0e043d",
     "locked": true,
     "points": 1,
     "schema_version": 3,
     "solution": false,
     "task": false
    }
   },
   "outputs": [],
   "source": [
    "ans = GenFibo()\n",
    "assert [next(ans) for _ in range(10)] == [0, 1, 1, 2, 3, 5, 8, 13, 21, 34]"
   ]
  },
  {
   "cell_type": "markdown",
   "metadata": {
    "deletable": false,
    "editable": false,
    "nbgrader": {
     "cell_type": "markdown",
     "checksum": "67310e3694c12e9548823788ee7d16ab",
     "grade": false,
     "grade_id": "cell-09e7eeecb14cd981",
     "locked": true,
     "schema_version": 3,
     "solution": false,
     "task": false
    }
   },
   "source": [
    "### Part 3 (2 point) \n",
    "\n",
    "Deﬁne a generator `primes` that enumerates the prime numbers. Recall that a prime number is any integer $p > 1$ whose only divisors are $p$ and $1$. \n",
    "\n",
    "**Note:** you may use the function `is_prime` that we deﬁned in class (or something similar to it) and receive full credit. But there is a more graceful solution that avoids declaring a separate function or method for directly checking primality. \n",
    "\n",
    "**Hint:** consider a pattern similar to the one seen in lecture using the any and/or all functions."
   ]
  },
  {
   "cell_type": "code",
   "execution_count": 15,
   "metadata": {},
   "outputs": [],
   "source": [
    "import math\n",
    "def primes():\n",
    "    n=2\n",
    "    yield n\n",
    "    while 1:\n",
    "        n += 1\n",
    "        if all(n%i !=0 for i in range(2,n)):\n",
    "            yield n"
   ]
  },
  {
   "cell_type": "code",
   "execution_count": 11,
   "metadata": {
    "deletable": false,
    "nbgrader": {
     "cell_type": "code",
     "checksum": "2b98d05a375a95901a8461ee280be2de",
     "grade": false,
     "grade_id": "cell-6075e6fd4a6029d8",
     "locked": false,
     "schema_version": 3,
     "solution": true,
     "task": false
    }
   },
   "outputs": [],
   "source": [
    "import math\n",
    "\n",
    "def primes():\n",
    "    n=2\n",
    "    yield n\n",
    "    while 1:\n",
    "        n=n+1\n",
    "        if not any(n%x==0 for x in range(2,n)):\n",
    "            yield n;"
   ]
  },
  {
   "cell_type": "code",
   "execution_count": 16,
   "metadata": {
    "deletable": false,
    "editable": false,
    "nbgrader": {
     "cell_type": "code",
     "checksum": "a896a29dc873084c679ebfd9f1e3e92b",
     "grade": true,
     "grade_id": "cell-39a0a188d4945486",
     "locked": true,
     "points": 1,
     "schema_version": 3,
     "solution": false,
     "task": false
    }
   },
   "outputs": [],
   "source": [
    "ans = primes()\n",
    "assert [next(ans) for _ in range(10)] == [2, 3, 5, 7, 11, 13, 17, 19, 23, 29]"
   ]
  },
  {
   "cell_type": "code",
   "execution_count": 17,
   "metadata": {
    "deletable": false,
    "editable": false,
    "nbgrader": {
     "cell_type": "code",
     "checksum": "320e21413321ba042c6ef638b206b031",
     "grade": true,
     "grade_id": "cell-b51f7843f8591a1f",
     "locked": true,
     "points": 1,
     "schema_version": 3,
     "solution": false,
     "task": false
    }
   },
   "outputs": [],
   "source": [
    "ans = primes()\n",
    "assert [next(ans) for _ in range(1)] == [2]\n",
    "ans = primes()\n",
    "assert [next(ans) for _ in range(0)] == []"
   ]
  },
  {
   "cell_type": "markdown",
   "metadata": {
    "deletable": false,
    "editable": false,
    "nbgrader": {
     "cell_type": "markdown",
     "checksum": "8cb451a76ef5c3dcdd19612b2e0eaf4b",
     "grade": false,
     "grade_id": "cell-990e8ce33085db99",
     "locked": true,
     "schema_version": 3,
     "solution": false,
     "task": false
    }
   },
   "source": [
    "### Part 4 (2 points) \n",
    "This one is good practice for coding interview questions. The _Ulam numbers_ are a sequence $u_1 , u_2 , u_3, ...$ of positive integers, deﬁned in the following way: $u_1 = 1$, and $u_2 = 2$. For all $n > 2$, $u_n$ is the smallest integer that is expressible as a sum of two distinct terms from earlier in the sequence in exactly one way. See the Examples section of the Wikipedia page for an illustration: https://en.wikipedia.org/wiki/Ulam_number. \n",
    "\n",
    "Deﬁne a generator `ulam` that enumerates the Ulam numbers. \n",
    "\n",
    "**Hint:** it will be helpful to try and break this problem into smaller, simpler subproblems. In particular, you may ﬁnd it helpful to write a function that takes a list of integers `t` and one additional integer `u`, and determines whether or not `u` is expressible as a sum of two distinct elements of `t` in exactly one way."
   ]
  },
  {
   "cell_type": "code",
   "execution_count": 20,
   "metadata": {
    "deletable": false,
    "nbgrader": {
     "cell_type": "code",
     "checksum": "b11e9cc6c041ffe34fed66baf448a05f",
     "grade": false,
     "grade_id": "cell-ae05ce7df31047af",
     "locked": false,
     "schema_version": 3,
     "solution": true,
     "task": false
    }
   },
   "outputs": [],
   "source": [
    "import itertools\n",
    "def is_ulam(t, n):#in exactly one way\n",
    "    allcombine=list(itertools.combinations(t,2))\n",
    "    alldict=dict()\n",
    "    for (i,j) in allcombine:\n",
    "        if alldict.get(i+j)==None: alldict[i+j]=[(i,j)]\n",
    "        else: alldict[i+j].append((i,j))\n",
    "    alln=[key for key in alldict.keys() if len(alldict[key])==1]\n",
    "    \n",
    "    return (n in alln)\n",
    "\n",
    "\n",
    "def ulam():\n",
    "    u1=1;u2=2\n",
    "    yield u1\n",
    "    yield u2\n",
    "    useq=[u1,u2]\n",
    "    n=3\n",
    "    while 1:\n",
    "        if is_ulam(useq, n):\n",
    "            useq.append(n)\n",
    "            yield n\n",
    "        n=n+1"
   ]
  },
  {
   "cell_type": "code",
   "execution_count": 21,
   "metadata": {
    "deletable": false,
    "editable": false,
    "nbgrader": {
     "cell_type": "code",
     "checksum": "ea911382b57d1a6a51c9841e5f502876",
     "grade": true,
     "grade_id": "cell-88e21fdf334740cf",
     "locked": true,
     "points": 1,
     "schema_version": 3,
     "solution": false,
     "task": false
    }
   },
   "outputs": [],
   "source": [
    "ans = ulam()\n",
    "assert [next(ans) for _ in range(18)] == [1, 2, 3, 4, 6, 8, 11, 13, 16, 18,\n",
    "                                          26, 28, 36, 38, 47, 48, 53, 57]"
   ]
  },
  {
   "cell_type": "code",
   "execution_count": 22,
   "metadata": {
    "deletable": false,
    "editable": false,
    "nbgrader": {
     "cell_type": "code",
     "checksum": "cef8b395282948d5a2a160df74660700",
     "grade": true,
     "grade_id": "cell-f869c2e123a88ffc",
     "locked": true,
     "points": 1,
     "schema_version": 3,
     "solution": false,
     "task": false
    }
   },
   "outputs": [],
   "source": [
    "ans = ulam()\n",
    "assert [next(ans) for _ in range(5)] == [1, 2, 3, 4, 6]"
   ]
  },
  {
   "cell_type": "markdown",
   "metadata": {
    "deletable": false,
    "editable": false,
    "nbgrader": {
     "cell_type": "markdown",
     "checksum": "2a0dde51894c1d85a052f57fc09138b7",
     "grade": false,
     "grade_id": "cell-5326d080e7b3964d",
     "locked": true,
     "schema_version": 3,
     "solution": false,
     "task": false
    }
   },
   "source": [
    "##  Problem 4: List Comprehensions and Generator Expressions (5 points)\n",
    "In this problem you’ll write a few simple list comprehensions and generator expressions. Again in this problem I use the term _enumerate_ to mean that a list comprehension or generator expression returns certain elements, rather than in the sense of the Python function `enumerate`."
   ]
  },
  {
   "cell_type": "markdown",
   "metadata": {
    "deletable": false,
    "editable": false,
    "nbgrader": {
     "cell_type": "markdown",
     "checksum": "38bb84d6856b23fbf3d275ebc7d8a0ff",
     "grade": false,
     "grade_id": "cell-c212f77ec3da08da",
     "locked": true,
     "schema_version": 3,
     "solution": false,
     "task": false
    }
   },
   "source": [
    "### Part 1 (1 point) \n",
    "Write a list comprehension that enumerates the sequence $3^{n}−1$ for $n = 1, 2, 3,..., 20$.\n",
    "\n",
    "For ease of grading, please assign this list comprehension to a variable called `pow3minus1`."
   ]
  },
  {
   "cell_type": "code",
   "execution_count": 23,
   "metadata": {
    "deletable": false,
    "nbgrader": {
     "cell_type": "code",
     "checksum": "201d7b0653aa3c0433c3633f77c06975",
     "grade": false,
     "grade_id": "cell-5453d98b9528fcce",
     "locked": false,
     "schema_version": 3,
     "solution": true,
     "task": false
    }
   },
   "outputs": [],
   "source": [
    "\"\"\"Write the list comprehension here. Make sure to assign it\n",
    "to a variable `pow3minus1`\"\"\"\n",
    "# YOUR CODE HERE\n",
    "pow3minus1=list(map(lambda x:3**x-1,range(1,21)))"
   ]
  },
  {
   "cell_type": "code",
   "execution_count": 24,
   "metadata": {
    "deletable": false,
    "editable": false,
    "nbgrader": {
     "cell_type": "code",
     "checksum": "756b9c22258fcce0d11c17933d5b55fd",
     "grade": true,
     "grade_id": "cell-3bb76ac1abf8f11e",
     "locked": true,
     "points": 1,
     "schema_version": 3,
     "solution": false,
     "task": false
    }
   },
   "outputs": [],
   "source": [
    "\"\"\"Check your pow3minus1 is correct.\"\"\"\n",
    "assert pow3minus1[0:2] == [2, 8]"
   ]
  },
  {
   "cell_type": "markdown",
   "metadata": {
    "deletable": false,
    "editable": false,
    "nbgrader": {
     "cell_type": "markdown",
     "checksum": "12854520141179b39e4031a56917ba1d",
     "grade": false,
     "grade_id": "cell-0d7ce5a6ea3f53e0",
     "locked": true,
     "schema_version": 3,
     "solution": false,
     "task": false
    }
   },
   "source": [
    "### Part 2 (2 points) \n",
    "The _Lazy Caterer’s sequence_ is a sequence of numbers that counts, for each $n = 0, 1, 2, ...$ the largest number of pieces that can be cut from a disk with at most $n$ cuts (https://en.wikipedia.org/wiki/Lazy_caterer’s_sequence). The $n$-th number in this sequence is given by $p_{n} = (n^{2} + n + 2)/2$, where $n = 0, 1, 2, ...$\n",
    "\n",
    "Write a generator expression that enumerates the Lazy Caterer’s sequence. For ease of grading, please assign this generator expression to a variable called `caterer`. \n",
    "\n",
    "**Hint:** you may ﬁnd it useful to deﬁne a generator that enumerates the non-negative integers."
   ]
  },
  {
   "cell_type": "code",
   "execution_count": 25,
   "metadata": {
    "deletable": false,
    "nbgrader": {
     "cell_type": "code",
     "checksum": "eb1cb63fbe673bc8be05cc54e3356447",
     "grade": false,
     "grade_id": "cell-305df1e58b315577",
     "locked": false,
     "schema_version": 3,
     "solution": true,
     "task": false
    }
   },
   "outputs": [],
   "source": [
    "\"\"\"Your code goes here for creating the assigning `caterer` generator.\"\"\"\n",
    "\"\"\"Your code goes here for creating the assigning `caterer` generator.\"\"\"\n",
    "def nonnegint():\n",
    "    n= -1\n",
    "    while True:\n",
    "        n += 1\n",
    "        yield n\n",
    "n = nonnegint()\n",
    "\n",
    "caterer = ((i**2 + i + 2)/ 2 for i in n)"
   ]
  },
  {
   "cell_type": "code",
   "execution_count": 26,
   "metadata": {
    "deletable": false,
    "editable": false,
    "nbgrader": {
     "cell_type": "code",
     "checksum": "b4dcc546b19a72e1bac3eb948dfd6279",
     "grade": true,
     "grade_id": "cell-c450f6f17957115d",
     "locked": true,
     "points": 1,
     "schema_version": 3,
     "solution": false,
     "task": false
    }
   },
   "outputs": [],
   "source": [
    "\"\"\"Check your caterer generator is correct\"\"\"\n",
    "caterer_list = [next(caterer) for _ in range(10)]\n",
    "assert caterer_list[0:2] == [1, 2]"
   ]
  },
  {
   "cell_type": "code",
   "execution_count": 27,
   "metadata": {
    "deletable": false,
    "editable": false,
    "nbgrader": {
     "cell_type": "code",
     "checksum": "386f4b7b8e16b6908b2dcacd21a01f8e",
     "grade": true,
     "grade_id": "cell-b8ef589f41a34ec3",
     "locked": true,
     "points": 1,
     "schema_version": 3,
     "solution": false,
     "task": false
    }
   },
   "outputs": [],
   "source": [
    "\"\"\"Check your caterer generator is correct\"\"\"\n",
    "assert caterer_list[0:5] == [1, 2, 4, 7, 11]"
   ]
  },
  {
   "cell_type": "markdown",
   "metadata": {
    "deletable": false,
    "editable": false,
    "nbgrader": {
     "cell_type": "markdown",
     "checksum": "e734b790f78d62784a569b37ca85cd89",
     "grade": false,
     "grade_id": "cell-d53672c3d7980a60",
     "locked": true,
     "schema_version": 3,
     "solution": false,
     "task": false
    }
   },
   "source": [
    "### Part 3 (1 point) \n",
    "Write a generator expression that enumerates the pyramid numbers. The $n$-th pyramid number $P_{n}$ (for $n = 1, 2, ...$) counts the number of spheres in a pyramid with an $n$-by-$n$ based (see https://en.wikipedia.org/wiki/Square_pyramidal_number), and is given by:\n",
    "$$\n",
    "P_{n} = \\sum_{k=1}^{n}k^2 = \\frac{n (n+1) (2n+1)}{6}\n",
    "$$\n",
    "For ease of grading, please assign this generator expression to a variable called `pyramid`. \n",
    "\n",
    "**Hint:** you may ﬁnd it useful to deﬁne a generator that enumerates the positive integers."
   ]
  },
  {
   "cell_type": "code",
   "execution_count": 58,
   "metadata": {
    "deletable": false,
    "nbgrader": {
     "cell_type": "code",
     "checksum": "0930a60bb221d4b7a16d1411e64260c0",
     "grade": false,
     "grade_id": "cell-191508c2cdde347d",
     "locked": false,
     "schema_version": 3,
     "solution": true,
     "task": false
    }
   },
   "outputs": [
    {
     "name": "stderr",
     "output_type": "stream",
     "text": [
      "2:1: E302 expected 2 blank lines, found 0\n",
      "3:6: E225 missing whitespace around operator\n",
      "5:13: E225 missing whitespace around operator\n",
      "7:1: E305 expected 2 blank lines after class or function definition, found 0\n",
      "7:2: E225 missing whitespace around operator\n",
      "8:8: E225 missing whitespace around operator\n"
     ]
    }
   ],
   "source": [
    "\"\"\"Your code for the pyramid generator goes here.\"\"\"\n",
    "def posint():\n",
    "    n=0\n",
    "    while 1:\n",
    "        n +=1\n",
    "        yield n\n",
    "n=posint()\n",
    "pyramid=(i*(i+1)*(2*i+1)/6 for i in n)"
   ]
  },
  {
   "cell_type": "code",
   "execution_count": 59,
   "metadata": {
    "deletable": false,
    "editable": false,
    "nbgrader": {
     "cell_type": "code",
     "checksum": "5938295ac40345616d1c6493288e4750",
     "grade": true,
     "grade_id": "cell-8eb2d2188e8b54d2",
     "locked": true,
     "points": 1,
     "schema_version": 3,
     "solution": false,
     "task": false
    }
   },
   "outputs": [],
   "source": [
    "\"\"\"Check your pyramid generator is correct\"\"\"\n",
    "pyramid_list = [next(pyramid) for _ in range(10)]\n",
    "assert pyramid_list[:5] == [1, 5, 14, 30, 55]"
   ]
  },
  {
   "cell_type": "markdown",
   "metadata": {
    "deletable": false,
    "editable": false,
    "nbgrader": {
     "cell_type": "markdown",
     "checksum": "a5b3fab02da53907b72572692a6ead00",
     "grade": false,
     "grade_id": "cell-c03c23d57486075c",
     "locked": true,
     "schema_version": 3,
     "solution": false,
     "task": false
    }
   },
   "source": [
    "### Part 4 (1 point) \n",
    "Write a generator expression that enumerates the _octahedral numbers_. The $n$-th octahedral number ($n = 1, 2, ...$) is given by \n",
    "\n",
    "$$O_{n} = \\frac{n(2n^{2}+1)}{3},$$ \n",
    "\n",
    "and counts the number of spheres in an octahedron with $n$ spheres to each edge (see https://en.wikipedia. org/wiki/Octahedral_number). \n",
    "\n",
    "For ease of grading, please assign this generator expression to a variable called `octa`. \n",
    "\n",
    "**Note:** a particularly clever solution to this problem could take advantage of the fact that the $n$-th octahedral number can be expressed as $O_{n} = P_{n} + P_{n-1}$ where $P_{n}$ denotes the $n$-th pyramidal number, which you dealt with in the previous subproblem. \n",
    "\n",
    "**Hint:** you may ﬁnd it useful to deﬁne a generator that enumerates the positive integers."
   ]
  },
  {
   "cell_type": "code",
   "execution_count": 60,
   "metadata": {
    "deletable": false,
    "nbgrader": {
     "cell_type": "code",
     "checksum": "c5d2aff02e608397d3399b41adbaa7f9",
     "grade": false,
     "grade_id": "cell-94f79e207c8683e2",
     "locked": false,
     "schema_version": 3,
     "solution": true,
     "task": false
    }
   },
   "outputs": [
    {
     "name": "stderr",
     "output_type": "stream",
     "text": [
      "1:2: E225 missing whitespace around operator\n",
      "2:5: E225 missing whitespace around operator\n"
     ]
    }
   ],
   "source": [
    "m=posint()\n",
    "octa=((i*(i+1)*(2*i+1)+(i-1)*(i)*(2*(i-1)+1))/6 for i in m)"
   ]
  },
  {
   "cell_type": "code",
   "execution_count": 61,
   "metadata": {
    "deletable": false,
    "editable": false,
    "nbgrader": {
     "cell_type": "code",
     "checksum": "b31b5539214f343d3bd25e4ecb9a325f",
     "grade": true,
     "grade_id": "cell-c0ec74ed06e7b6e9",
     "locked": true,
     "points": 1,
     "schema_version": 3,
     "solution": false,
     "task": false
    }
   },
   "outputs": [],
   "source": [
    "\"\"\"Test your octa generator is correct\"\"\"\n",
    "octa_list = [next(octa) for _ in range(10)]\n",
    "assert octa_list[:3] == [1, 6, 19]"
   ]
  },
  {
   "cell_type": "markdown",
   "metadata": {
    "deletable": false,
    "editable": false,
    "nbgrader": {
     "cell_type": "markdown",
     "checksum": "353f6c47dbd44357c7c4c64c3d30355d",
     "grade": false,
     "grade_id": "cell-cee9934dc9a069ad",
     "locked": true,
     "schema_version": 3,
     "solution": false,
     "task": false
    }
   },
   "source": [
    "## Problem 5: Map, Filter and Reduce (5 points) \n",
    "In this exercise, you’ll learn a bit about map, ﬁlter and reduce operations. We will revisit these operations in a few weeks when we discuss MapReduce and related frameworks in distributed computing. In this problem, I expect that you will use only the functions `map`, `filter` and functions from the `functools` and `itertools` modules, along with the `range` function (and similar list-related functions) and a sprinkling of `lambda` expressions.\n",
    "\n",
    "**Hint:** You are encouraged to take a look ath the documentation of [functools](https://docs.python.org/3/library/functools.html) and [itertools](https://docs.python.org/2/library/itertools.html) and try to come up with __one-line__ expressions for the following problems based on the functions that you find in the documentation. Useful functions include `functools.reduce` and `itertools.islice`"
   ]
  },
  {
   "cell_type": "code",
   "execution_count": 28,
   "metadata": {
    "deletable": false,
    "editable": false,
    "nbgrader": {
     "cell_type": "code",
     "checksum": "cc0ccbdc41cba025ddcb253434cb2d88",
     "grade": false,
     "grade_id": "cell-595dfd31cfdfb1ad",
     "locked": true,
     "schema_version": 3,
     "solution": false,
     "task": false
    }
   },
   "outputs": [],
   "source": [
    "# you will need these imports\n",
    "import functools\n",
    "import itertools"
   ]
  },
  {
   "cell_type": "markdown",
   "metadata": {
    "deletable": false,
    "editable": false,
    "nbgrader": {
     "cell_type": "markdown",
     "checksum": "49f898e14f982e83bc5f0dc4547432d1",
     "grade": false,
     "grade_id": "cell-4cd93d5473c436de",
     "locked": true,
     "schema_version": 3,
     "solution": false,
     "task": false
    }
   },
   "source": [
    "### Part 1 (1 point) \n",
    "Write a one-line expression that computes the sum of the ﬁrst 10 odd numbers (starting from 1). For ease of grading, please assign the output of this expression to a variable called `sum_of_odd_numbers`."
   ]
  },
  {
   "cell_type": "code",
   "execution_count": 29,
   "metadata": {
    "deletable": false,
    "nbgrader": {
     "cell_type": "code",
     "checksum": "2ea10a0cbef5a3bb13c46ee4d38b28fc",
     "grade": false,
     "grade_id": "cell-31bad9a2f9abd832",
     "locked": false,
     "schema_version": 3,
     "solution": true,
     "task": false
    }
   },
   "outputs": [],
   "source": [
    "\"\"\"Create your variable `sum_of_odd_numbers` here.\"\"\"\n",
    "sum_of_odd_numbers=functools.reduce(lambda x,y:x+(2*y+1), range(0,10))"
   ]
  },
  {
   "cell_type": "code",
   "execution_count": 30,
   "metadata": {
    "deletable": false,
    "editable": false,
    "nbgrader": {
     "cell_type": "code",
     "checksum": "107c7b2e001cce5355ee03df0054fe67",
     "grade": true,
     "grade_id": "cell-85d5fe5a3312e8a6",
     "locked": true,
     "points": 1,
     "schema_version": 3,
     "solution": false,
     "task": false
    }
   },
   "outputs": [],
   "source": [
    "\"\"\"Test that your variable is correct\"\"\"\n",
    "assert type(sum_of_odd_numbers) == int"
   ]
  },
  {
   "cell_type": "markdown",
   "metadata": {
    "deletable": false,
    "editable": false,
    "nbgrader": {
     "cell_type": "markdown",
     "checksum": "95fd1853282f82df196cf6465e089594",
     "grade": false,
     "grade_id": "cell-c2c09510d2f4cce9",
     "locked": true,
     "schema_version": 3,
     "solution": false,
     "task": false
    }
   },
   "source": [
    "### Part 2 (1 point) \n",
    "Write a one-line expression that computes the product of the first 13 primes. You may use the `primes` generator that you defined above. Please assign the output of this expression to a variable called `product_of_primes`. "
   ]
  },
  {
   "cell_type": "code",
   "execution_count": 31,
   "metadata": {
    "deletable": false,
    "nbgrader": {
     "cell_type": "code",
     "checksum": "8c0ac3cb59b15d6800f19cdc74f44242",
     "grade": false,
     "grade_id": "cell-fee58c92dd3faabc",
     "locked": false,
     "schema_version": 3,
     "solution": true,
     "task": false
    }
   },
   "outputs": [],
   "source": [
    "\"\"\"Create your variable `product_of_primes` here.\"\"\"\n",
    "#use itertools.islice to select elements from the iterable\n",
    "product_of_primes=functools.reduce(lambda x,y:x*y, itertools.islice(primes(),0,13))"
   ]
  },
  {
   "cell_type": "code",
   "execution_count": 32,
   "metadata": {
    "deletable": false,
    "editable": false,
    "nbgrader": {
     "cell_type": "code",
     "checksum": "02498e99348a89e510bc6c4712c20900",
     "grade": true,
     "grade_id": "cell-39c66a19d8db71ab",
     "locked": true,
     "points": 1,
     "schema_version": 3,
     "solution": false,
     "task": false
    }
   },
   "outputs": [],
   "source": [
    "\"\"\"Test your variable is correct\"\"\"\n",
    "assert type(product_of_primes) == int"
   ]
  },
  {
   "cell_type": "markdown",
   "metadata": {
    "deletable": false,
    "editable": false,
    "nbgrader": {
     "cell_type": "markdown",
     "checksum": "7339842474a5bbbfb1be6d3f8dce46c6",
     "grade": false,
     "grade_id": "cell-45230d7a7a5b5f09",
     "locked": true,
     "schema_version": 3,
     "solution": false,
     "task": false
    }
   },
   "source": [
    "### Part 3 (1 point) \n",
    "Write a one-line expression that computes the sum of the squares of the first 31 primes. You may use the `primes` generator that you defined above. Please assign the output of this expression to a variable called `squared_primes`."
   ]
  },
  {
   "cell_type": "code",
   "execution_count": 33,
   "metadata": {
    "deletable": false,
    "nbgrader": {
     "cell_type": "code",
     "checksum": "800835ee35dbfff951e560016e171884",
     "grade": false,
     "grade_id": "cell-73a030197cef30c0",
     "locked": false,
     "schema_version": 3,
     "solution": true,
     "task": false
    }
   },
   "outputs": [],
   "source": [
    "\"\"\"Create your variable `squared_primes` here.\"\"\"\n",
    "squared_primes=functools.reduce(lambda x,y:x+y**2,itertools.islice(primes(),31),0)"
   ]
  },
  {
   "cell_type": "code",
   "execution_count": 34,
   "metadata": {
    "deletable": false,
    "editable": false,
    "nbgrader": {
     "cell_type": "code",
     "checksum": "d646e83826c09733d92f2269be3873ac",
     "grade": true,
     "grade_id": "cell-3a93bee591d5ff41",
     "locked": true,
     "points": 1,
     "schema_version": 3,
     "solution": false,
     "task": false
    }
   },
   "outputs": [],
   "source": [
    "\"\"\"Check your variable is correct\"\"\"\n",
    "assert type(squared_primes) == int"
   ]
  },
  {
   "cell_type": "markdown",
   "metadata": {
    "deletable": false,
    "editable": false,
    "nbgrader": {
     "cell_type": "markdown",
     "checksum": "d1f194991be970e2942be2aa7a3e9395",
     "grade": false,
     "grade_id": "cell-aa89f1fdda5e9aa9",
     "locked": true,
     "schema_version": 3,
     "solution": false,
     "task": false
    }
   },
   "source": [
    "### Part 4 (1 point) \n",
    "Write a one-line expression that computes a list of the ﬁrst twenty harmonic numbers. Recall that the $n$-th harmonic number is given by $H_{n} = \\Sigma^{n}_{k=1} 1/k$. For ease of grading, please assign the output of this expression to a variable called `harmonics`."
   ]
  },
  {
   "cell_type": "code",
   "execution_count": 35,
   "metadata": {
    "deletable": false,
    "nbgrader": {
     "cell_type": "code",
     "checksum": "5c52d5f6caf6362b7188403b4df021eb",
     "grade": false,
     "grade_id": "cell-799635e30e73147f",
     "locked": false,
     "schema_version": 3,
     "solution": true,
     "task": false
    }
   },
   "outputs": [],
   "source": [
    "\"\"\"Create your variable `harmonics` here\"\"\"\n",
    "harmonics=list(itertools.accumulate(range(1,21),lambda x,y:x+1/y))"
   ]
  },
  {
   "cell_type": "code",
   "execution_count": 36,
   "metadata": {
    "deletable": false,
    "editable": false,
    "nbgrader": {
     "cell_type": "code",
     "checksum": "c2023dbe6e84507b752862338d74783d",
     "grade": true,
     "grade_id": "cell-c2e881166e69bbc7",
     "locked": true,
     "points": 1,
     "schema_version": 3,
     "solution": false,
     "task": false
    }
   },
   "outputs": [],
   "source": [
    "\"\"\"Tests for your `harmonics` variable.\"\"\"\n",
    "assert harmonics[0:3] == [1.0, 1.5, 1.8333333333333333]"
   ]
  },
  {
   "cell_type": "markdown",
   "metadata": {
    "deletable": false,
    "editable": false,
    "nbgrader": {
     "cell_type": "markdown",
     "checksum": "c38fdccbb5f75c4e8dacbad6e7a193fb",
     "grade": false,
     "grade_id": "cell-c38cb069955f455d",
     "locked": true,
     "schema_version": 3,
     "solution": false,
     "task": false
    }
   },
   "source": [
    "### Part 5 (1 point) \n",
    "Write a one-line expression that computes the geometric mean of the ﬁrst 12 octahedral numbers. You may use the generator that you wrote in the previous problem. Recall that the _geometric mean_ of a collection of $n$ numbers $a_1 , a_2 , ..., a_{n}$ is given by $(\\Pi_{i=1}^{n} a_{i})^{1/n}$. For ease of grading, please assign the output of this expression to a variable called `octa_geom`."
   ]
  },
  {
   "cell_type": "code",
   "execution_count": 89,
   "metadata": {
    "deletable": false,
    "nbgrader": {
     "cell_type": "code",
     "checksum": "0f9e575da1df8cc1bb06fc132cda4104",
     "grade": false,
     "grade_id": "cell-3e31eed02329dcef",
     "locked": false,
     "schema_version": 3,
     "solution": true,
     "task": false
    }
   },
   "outputs": [
    {
     "name": "stderr",
     "output_type": "stream",
     "text": [
      "3:10: E225 missing whitespace around operator\n",
      "3:36: E231 missing whitespace after ','\n",
      "38: E231 missing whitespace after ':'\n",
      "3:113: E231 missing whitespace after ','\n"
     ]
    }
   ],
   "source": [
    "\"\"\"Code to create your variable `octa_geom` goes here.\"\"\"\n",
    "\n",
    "octa_geom=functools.reduce(lambda x,y:x*y, [((i*(i+1)*(2*i+1)+(i-1)*(i)*(2*(i-1)+1))/6)**(1/12) for i in range(1,13)])"
   ]
  },
  {
   "cell_type": "code",
   "execution_count": 90,
   "metadata": {
    "deletable": false,
    "editable": false,
    "nbgrader": {
     "cell_type": "code",
     "checksum": "d184f0e6160b80a76b2518a409f73ebe",
     "grade": true,
     "grade_id": "cell-ae19394061803df3",
     "locked": true,
     "points": 1,
     "schema_version": 3,
     "solution": false,
     "task": false
    }
   },
   "outputs": [],
   "source": [
    "\"\"\"Tests your `octa_geom`\"\"\"\n",
    "assert type(octa_geom) == float"
   ]
  },
  {
   "cell_type": "markdown",
   "metadata": {
    "deletable": false,
    "editable": false,
    "nbgrader": {
     "cell_type": "markdown",
     "checksum": "508749171e19e00bdaa7c946b0f7f3bc",
     "grade": false,
     "grade_id": "cell-52544e4e3fab9ace",
     "locked": true,
     "schema_version": 3,
     "solution": false,
     "task": false
    }
   },
   "source": [
    "## Problem 6: Fun with Polynomials (3 points)\n",
    "In this exercise you’ll get a bit of experience writing higher-order functions. You may ignore error checking in this problem."
   ]
  },
  {
   "cell_type": "markdown",
   "metadata": {
    "deletable": false,
    "editable": false,
    "nbgrader": {
     "cell_type": "markdown",
     "checksum": "ea7edf5005868ca39931f34db722f296",
     "grade": false,
     "grade_id": "cell-68c680c5e9676fd2",
     "locked": true,
     "schema_version": 3,
     "solution": false,
     "task": false
    }
   },
   "source": [
    "### Part 1 (2 points) \n",
    "Write a function `make_poly` that takes a list of numbers (`int`s and/or `ﬂoat`s) `coeffs` as its only argument and returns a function `p`. The list coeffs encodes the coeﬃcients of a polynomial, $p(x) = a_{0} + a_{1} x + a_{2} x^{2} + ... + a_{n} x_{n}$ , with $a_i$ given by `coeffs[i]`. The function `p` should take a single number (`int` or `ﬂoat`) x as its argument, and return the value of the polynomial `p` evaluated at `x`."
   ]
  },
  {
   "cell_type": "code",
   "execution_count": 92,
   "metadata": {
    "deletable": false,
    "nbgrader": {
     "cell_type": "code",
     "checksum": "4aeeea5a9b52313cac502e9cc1e35b07",
     "grade": false,
     "grade_id": "cell-a0c33bf1b4c235e1",
     "locked": false,
     "schema_version": 3,
     "solution": true,
     "task": false
    }
   },
   "outputs": [],
   "source": [
    "def make_poly(coeffs):\n",
    "    def p(x):\n",
    "        return sum([coeffs[i]*x**i for i in range(len(coeffs))])\n",
    "    return p"
   ]
  },
  {
   "cell_type": "code",
   "execution_count": 93,
   "metadata": {
    "deletable": false,
    "editable": false,
    "nbgrader": {
     "cell_type": "code",
     "checksum": "524727d21ab722f92891dcc35e7d2cc4",
     "grade": true,
     "grade_id": "cell-1579955824e05d5e",
     "locked": true,
     "points": 1,
     "schema_version": 3,
     "solution": false,
     "task": false
    }
   },
   "outputs": [],
   "source": [
    "\"\"\"Tests for make_poly\"\"\"\n",
    "assert make_poly([1, 3, 4])(2) == 23"
   ]
  },
  {
   "cell_type": "code",
   "execution_count": 94,
   "metadata": {
    "deletable": false,
    "editable": false,
    "nbgrader": {
     "cell_type": "code",
     "checksum": "c6fbe50846f92916a6d1410c07cf2e41",
     "grade": true,
     "grade_id": "cell-ecb06b3a845aa5ae",
     "locked": true,
     "points": 1,
     "schema_version": 3,
     "solution": false,
     "task": false
    }
   },
   "outputs": [],
   "source": [
    "assert make_poly([1, 2])(3) == 7"
   ]
  },
  {
   "cell_type": "markdown",
   "metadata": {
    "deletable": false,
    "editable": false,
    "nbgrader": {
     "cell_type": "markdown",
     "checksum": "0ccd9538f7508886c9981a7dfe313a70",
     "grade": false,
     "grade_id": "cell-7e2b489f57206872",
     "locked": true,
     "schema_version": 3,
     "solution": false,
     "task": false
    }
   },
   "source": [
    "### Part 2 (1 point) \n",
    "Write a function `eval_poly` that takes in a list of coefficients `coeffs` and a list of arguments `args`. Your function should return the result of evaluating the polynomial that has coefficients `coeffs` on each of the values of `args` as a list. "
   ]
  },
  {
   "cell_type": "code",
   "execution_count": 95,
   "metadata": {
    "deletable": false,
    "nbgrader": {
     "cell_type": "code",
     "checksum": "7990cb6eea0380015885d1e98fa1160b",
     "grade": false,
     "grade_id": "cell-ee29357cfde3dbca",
     "locked": false,
     "schema_version": 3,
     "solution": true,
     "task": false
    }
   },
   "outputs": [],
   "source": [
    "def eval_poly(coeffs, args):\n",
    "    return list(map(make_poly(coeffs), args))"
   ]
  },
  {
   "cell_type": "code",
   "execution_count": 96,
   "metadata": {
    "deletable": false,
    "editable": false,
    "nbgrader": {
     "cell_type": "code",
     "checksum": "b7cdac67aa93fd60bf6cdc1cc74fa63d",
     "grade": true,
     "grade_id": "cell-a77bcf64f691cba2",
     "locked": true,
     "points": 1,
     "schema_version": 3,
     "solution": false,
     "task": false
    }
   },
   "outputs": [],
   "source": [
    "\"\"\"Tests for eval_poly\"\"\"\n",
    "assert eval_poly([1, 3, 4], [2, 3]) == [23, 46]"
   ]
  }
 ],
 "metadata": {
  "kernelspec": {
   "display_name": "Python 3",
   "language": "python",
   "name": "python3"
  },
  "language_info": {
   "codemirror_mode": {
    "name": "ipython",
    "version": 3
   },
   "file_extension": ".py",
   "mimetype": "text/x-python",
   "name": "python",
   "nbconvert_exporter": "python",
   "pygments_lexer": "ipython3",
   "version": "3.8.3"
  },
  "latex_envs": {
   "LaTeX_envs_menu_present": true,
   "autoclose": false,
   "autocomplete": true,
   "bibliofile": "biblio.bib",
   "cite_by": "apalike",
   "current_citInitial": 1,
   "eqLabelWithNumbers": true,
   "eqNumInitial": 1,
   "hotkeys": {
    "equation": "meta-shift-y"
   },
   "labels_anchors": false,
   "latex_user_defs": false,
   "report_style_numbering": false,
   "user_envs_cfg": false
  },
  "toc": {
   "base_numbering": 1,
   "nav_menu": {},
   "number_sections": false,
   "sideBar": true,
   "skip_h1_title": true,
   "title_cell": "Table of Contents",
   "title_sidebar": "Contents",
   "toc_cell": false,
   "toc_position": {
    "height": "calc(100% - 180px)",
    "left": "10px",
    "top": "150px",
    "width": "327.486px"
   },
   "toc_section_display": true,
   "toc_window_display": true
  }
 },
 "nbformat": 4,
 "nbformat_minor": 4
}
