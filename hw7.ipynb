{
 "cells": [
  {
   "cell_type": "markdown",
   "metadata": {
    "deletable": false,
    "editable": false,
    "nbgrader": {
     "cell_type": "markdown",
     "checksum": "d6d8dd0cb065e4643a51c649432ce5ca",
     "grade": false,
     "grade_id": "cell-c40158ec29b15206",
     "locked": true,
     "schema_version": 3,
     "solution": false,
     "task": false
    }
   },
   "source": [
    "# Homework 7: Regexes and Structured Data (31 points)"
   ]
  },
  {
   "cell_type": "markdown",
   "metadata": {},
   "source": [
    "name: Ying Jiang\n",
    "\n",
    "email: jiangyyy@umich.edu\n",
    "\n",
    "This homework assignment took me 15 hours in total to complete. (Please help us to gauge the difficulty of the assignment.)"
   ]
  },
  {
   "cell_type": "markdown",
   "metadata": {
    "deletable": false,
    "editable": false,
    "nbgrader": {
     "cell_type": "markdown",
     "checksum": "26bc23022a9b6661beb31f28d255c61a",
     "grade": false,
     "grade_id": "cell-9fc8abaaecff0e9a",
     "locked": true,
     "schema_version": 3,
     "solution": false,
     "task": false
    }
   },
   "source": [
    "## Collaboration Disclosure\n",
    "\n",
    "In the cell below, please list *everyone* with whom you discussed any of the homework problems, excluding only the GSIs and the course instructor. \n",
    "\n",
    "If you did not discuss the homework with anyone else, write __\"I did not discuss this homework with anyone.\"__\n",
    "\n",
    "Even if you discuss questions with other, the code you submit must be only yours. All work is checked with the [MOSS plagiarism detector](https://theory.stanford.edu/~aiken/moss/).)"
   ]
  },
  {
   "cell_type": "markdown",
   "metadata": {},
   "source": [
    "I did not discuss this homework with anyone"
   ]
  },
  {
   "cell_type": "markdown",
   "metadata": {
    "deletable": false,
    "editable": false,
    "nbgrader": {
     "cell_type": "markdown",
     "checksum": "67d1cebd5332a880b36d813916b69dbe",
     "grade": false,
     "grade_id": "submission",
     "locked": true,
     "schema_version": 3,
     "solution": false,
     "task": false
    }
   },
   "source": [
    "## Submission Instructions\n",
    "Your homework solutions should be written entirely in this Jupyter notebook file. Once it contains your solutions, you should submit this notebook through Canvas. Before submitting, please make sure make sure __Cells->Run__ executes without errors; errors in your code cause problems for our auto-grader. Thus, even though we may ask you to check for errors in your functions, you should not include in your submission any examples of your functions actually raising those errors.\n",
    "\n",
    "## Nbgrader\n",
    "\n",
    "We will be using `nbgrader` to grade your jupyter notebook. Additional tests will be used at grading time, you are encouraged to read the problem carefully and verify your code covers all appropriate cases.\n",
    "\n",
    "**Be careful:** If a jupyter notebook cell takes longer than `60s` to run, the autograder will not grade it and you will receive zero credit for that question.\n",
    "\n",
    "## Error checking\n",
    "\n",
    "You do not need to do error checking (raising errors, etc.) in your code unless we explicitly ask you to so in a problem."
   ]
  },
  {
   "cell_type": "markdown",
   "metadata": {
    "deletable": false,
    "editable": false,
    "nbgrader": {
     "cell_type": "markdown",
     "checksum": "99a4b1f52b2a51fd259655608d2d5669",
     "grade": false,
     "grade_id": "coding-style",
     "locked": true,
     "schema_version": 3,
     "solution": false,
     "task": false
    }
   },
   "source": [
    "## Coding style\n",
    "Please follow the [PEP8 guidelines](https://www.python.org/dev/peps/pep-0008/). The `pycodestyle_magic` package will remind you if you are not. To install it, run\n",
    "```\n",
    "pip install flake8 pycodestyle_magic\n",
    "```\n",
    "Once it is installed the following two Jupyter directives will enable syntax checking:"
   ]
  },
  {
   "cell_type": "code",
   "execution_count": 154,
   "metadata": {
    "deletable": false,
    "editable": false,
    "nbgrader": {
     "cell_type": "code",
     "checksum": "adc2dd72889f65739158011373320c9e",
     "grade": false,
     "grade_id": "cell-7311e8da28736726",
     "locked": true,
     "schema_version": 3,
     "solution": false,
     "task": false
    }
   },
   "outputs": [
    {
     "name": "stdout",
     "output_type": "stream",
     "text": [
      "The pycodestyle_magic extension is already loaded. To reload it, use:\n",
      "  %reload_ext pycodestyle_magic\n"
     ]
    }
   ],
   "source": [
    "%load_ext pycodestyle_magic\n",
    "%flake8_on --ignore E266 --max_line_length=99"
   ]
  },
  {
   "cell_type": "markdown",
   "metadata": {
    "deletable": false,
    "editable": false,
    "nbgrader": {
     "cell_type": "markdown",
     "checksum": "28a763d0876a8e4af9f6c999db19cfb7",
     "grade": false,
     "grade_id": "cell-05fdbcbd6a551279",
     "locked": true,
     "schema_version": 3,
     "solution": false,
     "task": false
    }
   },
   "source": [
    "## 1 Regular Expressions: Warmup (10 points)\n",
    "\n",
    "In this problem, you'll get practice with basic regular expressions. Pay particular attention to edge cases such as the empty string and single-character strings when writing your regexes. At the URL http://www.greenteapress.com/thinkpython/code/words.txt is a list of about 100,000 English words.\n",
    "\n",
    "**Note:** For this problem, you can assume all characters/words are lower-case. "
   ]
  },
  {
   "cell_type": "markdown",
   "metadata": {
    "deletable": false,
    "editable": false,
    "nbgrader": {
     "cell_type": "markdown",
     "checksum": "adc83565fe53bd1786ba6de8af54c9c8",
     "grade": false,
     "grade_id": "cell-89ef2c7b16a663de",
     "locked": true,
     "schema_version": 3,
     "solution": false,
     "task": false
    }
   },
   "source": [
    "### Part 1 (1 point) \n",
    "Use the `urllib` python module to open the URL and read the file, and produce a list named `ascii_list` of ASCII strings so that each line of the file corresponds to an element of the list. \n",
    "\n",
    "**Note:** You will likely need to convert the raw bytes read from the webpage to ASCII characters, for which you should see the documentation for the string methods `encode` and `decode`. How many words are in the file?"
   ]
  },
  {
   "cell_type": "code",
   "execution_count": null,
   "metadata": {
    "deletable": false,
    "nbgrader": {
     "cell_type": "code",
     "checksum": "220d2aa9691242eda7a295a6e6c393fe",
     "grade": false,
     "grade_id": "cell-a0aba8b2f9988a7b",
     "locked": false,
     "schema_version": 3,
     "solution": true,
     "task": false
    }
   },
   "outputs": [],
   "source": [
    "import urllib.request\n",
    "import re\n",
    "\n",
    "f = urllib.request.urlopen(\"http://www.greenteapress.com/thinkpython/code/words.txt\")\n",
    "a = f.read()\n",
    "a = str(a).strip('b\\'')\n",
    "ascii_list = [i.encode('ascii') for i in a.split('\\\\r\\\\n')[:-1]]"
   ]
  },
  {
   "cell_type": "code",
   "execution_count": 156,
   "metadata": {
    "deletable": false,
    "editable": false,
    "nbgrader": {
     "cell_type": "code",
     "checksum": "10d2c79a1997ba3bb9341b0da9adf5dd",
     "grade": true,
     "grade_id": "cell-0d008655e95238cb",
     "locked": true,
     "points": 1,
     "schema_version": 3,
     "solution": false,
     "task": false
    }
   },
   "outputs": [],
   "source": [
    "assert type(ascii_list) == list, \"Variable ascii_list does not \\\n",
    "                                  exist or not a list.\"\n",
    "assert ascii_list[0] == b'aa'"
   ]
  },
  {
   "cell_type": "markdown",
   "metadata": {
    "deletable": false,
    "editable": false,
    "nbgrader": {
     "cell_type": "markdown",
     "checksum": "ed8e69d362845f71736efdaf487fc38c",
     "grade": false,
     "grade_id": "cell-6d4da480ac49bb72",
     "locked": true,
     "schema_version": 3,
     "solution": false,
     "task": false
    }
   },
   "source": [
    "### Part 2 (1 point) \n",
    "It is a good habit to always look at your data to check that it makes sense. Have a look at the words in the list. Does anything jump out at you? \n",
    "\n",
    "**Note:** I am not requiring you to do anything specific, here. Just look at the data!"
   ]
  },
  {
   "cell_type": "code",
   "execution_count": 157,
   "metadata": {},
   "outputs": [],
   "source": [
    "ans = 'The words in the list are in alphabetical order.'"
   ]
  },
  {
   "cell_type": "code",
   "execution_count": 158,
   "metadata": {
    "deletable": false,
    "editable": false,
    "nbgrader": {
     "cell_type": "code",
     "checksum": "7b9ebc13956bb9bc5bbbe9805af503ee",
     "grade": true,
     "grade_id": "cell-b1cd5d3b26cbc441",
     "locked": true,
     "points": 1,
     "schema_version": 3,
     "solution": false,
     "task": false
    }
   },
   "outputs": [],
   "source": [
    "assert True"
   ]
  },
  {
   "cell_type": "markdown",
   "metadata": {
    "deletable": false,
    "editable": false,
    "nbgrader": {
     "cell_type": "markdown",
     "checksum": "c8a934729bbdb4e5b44f12edc074e2a2",
     "grade": false,
     "grade_id": "cell-70f58d8785a59034",
     "locked": true,
     "schema_version": 3,
     "solution": false,
     "task": false
    }
   },
   "source": [
    "### Part 3 (2 points)\n",
    "Write a regular expression that matches any string containing exactly three consecutive vowels. Compile this regular expression, and assign it to a variable called `three_consecutive_vowels`. \n",
    "\n",
    "Use this regex to determine how many words from the list contain exactly three consecutive vowels. For the purposes of this **specific** subproblem, the vowels are \"a, e, i, o, u\". All other letters are consonants. Produce a list `q1_3` of all such words."
   ]
  },
  {
   "cell_type": "code",
   "execution_count": 3,
   "metadata": {
    "deletable": false,
    "nbgrader": {
     "cell_type": "code",
     "checksum": "a3098a026566186cdf2d53cd9b7334a4",
     "grade": false,
     "grade_id": "cell-438a47acf51d9852",
     "locked": false,
     "schema_version": 3,
     "solution": true,
     "task": false
    }
   },
   "outputs": [
    {
     "ename": "NameError",
     "evalue": "name 'ascii_list' is not defined",
     "output_type": "error",
     "traceback": [
      "\u001b[1;31m---------------------------------------------------------------------------\u001b[0m",
      "\u001b[1;31mNameError\u001b[0m                                 Traceback (most recent call last)",
      "\u001b[1;32m<ipython-input-3-8bf6879e3508>\u001b[0m in \u001b[0;36m<module>\u001b[1;34m\u001b[0m\n\u001b[0;32m      4\u001b[0m      \"\"\"(^[aeiou]{3}[^aeiou])|([^aeiou][aeiou]{3}[^aeiou])\"\"\")\n\u001b[0;32m      5\u001b[0m \u001b[0mthree_consecutive_vowels\u001b[0m \u001b[1;33m=\u001b[0m \u001b[0mre\u001b[0m\u001b[1;33m.\u001b[0m\u001b[0mcompile\u001b[0m\u001b[1;33m(\u001b[0m\u001b[0ma\u001b[0m\u001b[1;33m)\u001b[0m\u001b[1;33m\u001b[0m\u001b[1;33m\u001b[0m\u001b[0m\n\u001b[1;32m----> 6\u001b[1;33m \u001b[1;32mfor\u001b[0m \u001b[0mword\u001b[0m \u001b[1;32min\u001b[0m \u001b[1;33m[\u001b[0m\u001b[0mi\u001b[0m\u001b[1;33m.\u001b[0m\u001b[0mdecode\u001b[0m\u001b[1;33m(\u001b[0m\u001b[1;34m'ascii'\u001b[0m\u001b[1;33m)\u001b[0m \u001b[1;32mfor\u001b[0m \u001b[0mi\u001b[0m \u001b[1;32min\u001b[0m \u001b[0mascii_list\u001b[0m\u001b[1;33m]\u001b[0m\u001b[1;33m:\u001b[0m\u001b[1;33m\u001b[0m\u001b[1;33m\u001b[0m\u001b[0m\n\u001b[0m\u001b[0;32m      7\u001b[0m     \u001b[1;32mif\u001b[0m \u001b[0mthree_consecutive_vowels\u001b[0m\u001b[1;33m.\u001b[0m\u001b[0msearch\u001b[0m\u001b[1;33m(\u001b[0m\u001b[0mword\u001b[0m\u001b[1;33m)\u001b[0m \u001b[1;32mis\u001b[0m \u001b[1;32mnot\u001b[0m \u001b[1;32mNone\u001b[0m\u001b[1;33m:\u001b[0m\u001b[1;33m\u001b[0m\u001b[1;33m\u001b[0m\u001b[0m\n\u001b[0;32m      8\u001b[0m         \u001b[0mq1_3\u001b[0m\u001b[1;33m.\u001b[0m\u001b[0mappend\u001b[0m\u001b[1;33m(\u001b[0m\u001b[0mword\u001b[0m\u001b[1;33m)\u001b[0m\u001b[1;33m\u001b[0m\u001b[1;33m\u001b[0m\u001b[0m\n",
      "\u001b[1;31mNameError\u001b[0m: name 'ascii_list' is not defined"
     ]
    }
   ],
   "source": [
    "# Write your code to create the regex and the list here.\n",
    "q1_3 = []\n",
    "a = (\"\"\"(^[aeiou]{3}$)|([^aeiou][aeiou]{3}$)|\"\"\"\n",
    "     \"\"\"(^[aeiou]{3}[^aeiou])|([^aeiou][aeiou]{3}[^aeiou])\"\"\")\n",
    "three_consecutive_vowels = re.compile(a)\n",
    "for word in [i.decode('ascii') for i in ascii_list]:\n",
    "    if three_consecutive_vowels.search(word) is not None:\n",
    "        q1_3.append(word)"
   ]
  },
  {
   "cell_type": "code",
   "execution_count": 4,
   "metadata": {},
   "outputs": [],
   "source": [
    "import urllib.request\n",
    "import re\n",
    "q1_3 = []\n",
    "a = (\"\"\"(^[aeiou]{3}$)|([^aeiou][aeiou]{3}$)|\"\"\"\n",
    "     \"\"\"(^[aeiou]{3}[^aeiou])|([^aeiou][aeiou]{3}[^aeiou])\"\"\")\n",
    "three_consecutive_vowels = re.compile(a)"
   ]
  },
  {
   "cell_type": "code",
   "execution_count": 241,
   "metadata": {
    "deletable": false,
    "editable": false,
    "nbgrader": {
     "cell_type": "code",
     "checksum": "633db5e588fd4b54c4cfc02e18a1c14b",
     "grade": true,
     "grade_id": "cell-e4aa7890a4bcfcb5",
     "locked": true,
     "points": 1,
     "schema_version": 3,
     "solution": false,
     "task": false
    }
   },
   "outputs": [],
   "source": [
    "assert q1_3[0] == 'aboideau'\n",
    "assert q1_3[-1] == 'zouaves'"
   ]
  },
  {
   "cell_type": "code",
   "execution_count": 242,
   "metadata": {
    "deletable": false,
    "editable": false,
    "nbgrader": {
     "cell_type": "code",
     "checksum": "8829f59c5594e7552aea0133cf8e9477",
     "grade": true,
     "grade_id": "cell-ad89d2e5664ed4a1",
     "locked": true,
     "points": 1,
     "schema_version": 3,
     "solution": false,
     "task": false
    }
   },
   "outputs": [],
   "source": [
    "assert three_consecutive_vowels.match(\"aei\").group(0) == \"aei\""
   ]
  },
  {
   "cell_type": "code",
   "execution_count": 5,
   "metadata": {},
   "outputs": [
    {
     "data": {
      "text/plain": [
       "'aaab'"
      ]
     },
     "execution_count": 5,
     "metadata": {},
     "output_type": "execute_result"
    }
   ],
   "source": [
    "three_consecutive_vowels.match(\"aaabaaaa\").group(0)"
   ]
  },
  {
   "cell_type": "markdown",
   "metadata": {
    "deletable": false,
    "editable": false,
    "nbgrader": {
     "cell_type": "markdown",
     "checksum": "8a15b64c49dafe357c5e81b4da480bb5",
     "grade": false,
     "grade_id": "cell-ff0645c1403a18ef",
     "locked": true,
     "schema_version": 3,
     "solution": false,
     "task": false
    }
   },
   "source": [
    "### Part 4  (2 point) \n",
    "Write a regular expression that matches any string that contains no instances of the letter e. Compile this regular expression, and assign it to a variable called `gadsby`. (\"Gadsby\" is the title of an English novel written in the 1930s that contains __almost__ no instances of the letter \"e\"). \n",
    "\n",
    "How many words in the list do not contain the letter \"e\"? Enter your answer as a variable called `num_words_no_e`."
   ]
  },
  {
   "cell_type": "code",
   "execution_count": 18,
   "metadata": {
    "deletable": false,
    "nbgrader": {
     "cell_type": "code",
     "checksum": "6bba4eae5c09c5d459b734f3f3244987",
     "grade": false,
     "grade_id": "cell-0d5a69a9d7b78b42",
     "locked": false,
     "schema_version": 3,
     "solution": true,
     "task": false
    }
   },
   "outputs": [
    {
     "ename": "NameError",
     "evalue": "name 'ascii_list' is not defined",
     "output_type": "error",
     "traceback": [
      "\u001b[1;31m---------------------------------------------------------------------------\u001b[0m",
      "\u001b[1;31mNameError\u001b[0m                                 Traceback (most recent call last)",
      "\u001b[1;32m<ipython-input-18-e9ae49f8874b>\u001b[0m in \u001b[0;36m<module>\u001b[1;34m\u001b[0m\n\u001b[0;32m      4\u001b[0m \u001b[1;31m# find words without e\u001b[0m\u001b[1;33m\u001b[0m\u001b[1;33m\u001b[0m\u001b[1;33m\u001b[0m\u001b[0m\n\u001b[0;32m      5\u001b[0m \u001b[0mnum_words_no_e\u001b[0m \u001b[1;33m=\u001b[0m \u001b[1;36m0\u001b[0m\u001b[1;33m\u001b[0m\u001b[1;33m\u001b[0m\u001b[0m\n\u001b[1;32m----> 6\u001b[1;33m \u001b[1;32mfor\u001b[0m \u001b[0mi\u001b[0m \u001b[1;32min\u001b[0m \u001b[0mrange\u001b[0m\u001b[1;33m(\u001b[0m\u001b[0mlen\u001b[0m\u001b[1;33m(\u001b[0m\u001b[0mascii_list\u001b[0m\u001b[1;33m)\u001b[0m\u001b[1;33m)\u001b[0m\u001b[1;33m:\u001b[0m\u001b[1;33m\u001b[0m\u001b[1;33m\u001b[0m\u001b[0m\n\u001b[0m\u001b[0;32m      7\u001b[0m     \u001b[1;32mif\u001b[0m \u001b[0mgadsby\u001b[0m\u001b[1;33m.\u001b[0m\u001b[0mmatch\u001b[0m\u001b[1;33m(\u001b[0m\u001b[0mascii_list\u001b[0m\u001b[1;33m[\u001b[0m\u001b[0mi\u001b[0m\u001b[1;33m]\u001b[0m\u001b[1;33m.\u001b[0m\u001b[0mdecode\u001b[0m\u001b[1;33m(\u001b[0m\u001b[1;34m'ascii'\u001b[0m\u001b[1;33m)\u001b[0m\u001b[1;33m)\u001b[0m \u001b[1;32mis\u001b[0m \u001b[1;32mnot\u001b[0m \u001b[1;32mNone\u001b[0m\u001b[1;33m:\u001b[0m\u001b[1;33m\u001b[0m\u001b[1;33m\u001b[0m\u001b[0m\n\u001b[0;32m      8\u001b[0m         \u001b[0mnum_words_no_e\u001b[0m \u001b[1;33m+=\u001b[0m \u001b[1;36m1\u001b[0m\u001b[1;33m\u001b[0m\u001b[1;33m\u001b[0m\u001b[0m\n",
      "\u001b[1;31mNameError\u001b[0m: name 'ascii_list' is not defined"
     ]
    }
   ],
   "source": [
    "# Create your variable 'gadsby' here.\n",
    "gadsby = re.compile(r'^[0-9a-df-z]+$')# also need to concern digits\n",
    "\n",
    "# find words without e\n",
    "num_words_no_e = 0\n",
    "for i in range(len(ascii_list)):\n",
    "    if gadsby.match(ascii_list[i].decode('ascii')) is not None:\n",
    "        num_words_no_e += 1"
   ]
  },
  {
   "cell_type": "code",
   "execution_count": 19,
   "metadata": {
    "deletable": false,
    "editable": false,
    "nbgrader": {
     "cell_type": "code",
     "checksum": "82f040bcc3119da9414a22fb56bf0c94",
     "grade": true,
     "grade_id": "cell-2bf17210c874ff96",
     "locked": true,
     "points": 1,
     "schema_version": 3,
     "solution": false,
     "task": false
    }
   },
   "outputs": [],
   "source": [
    "assert gadsby.match(\"stats\").group(0) == 'stats'\n",
    "assert gadsby.match(\"state\") is None"
   ]
  },
  {
   "cell_type": "code",
   "execution_count": 20,
   "metadata": {},
   "outputs": [
    {
     "data": {
      "text/plain": [
       "True"
      ]
     },
     "execution_count": 20,
     "metadata": {},
     "output_type": "execute_result"
    }
   ],
   "source": [
    " gadsby.match(\"dasjkhjbbkg21\") is not None"
   ]
  },
  {
   "cell_type": "code",
   "execution_count": 245,
   "metadata": {
    "deletable": false,
    "editable": false,
    "nbgrader": {
     "cell_type": "code",
     "checksum": "16483b47b0389a757799cf94826f030b",
     "grade": true,
     "grade_id": "cell-6fe115d6cdbced12",
     "locked": true,
     "points": 1,
     "schema_version": 3,
     "solution": false,
     "task": false
    }
   },
   "outputs": [],
   "source": [
    "assert type(num_words_no_e) == int\n",
    "assert num_words_no_e > 0"
   ]
  },
  {
   "cell_type": "markdown",
   "metadata": {
    "deletable": false,
    "editable": false,
    "nbgrader": {
     "cell_type": "markdown",
     "checksum": "3c1876aa4875f892a50dcd71022051e1",
     "grade": false,
     "grade_id": "cell-08ed7b4c8d0a61c4",
     "locked": true,
     "schema_version": 3,
     "solution": false,
     "task": false
    }
   },
   "source": [
    "### Part 5 (2 points)\n",
    "\n",
    "Write a regular expression that matches any string that begins and ends with a consonant and has no consonants in between. \n",
    "For the purposes of this __specific__ subproblem, \"y\" is neither consonant nor vowel, so consonants are the 20 letters that are not one of \"a, e, i, o, u, y\" and vowels are \"a, e, i, o, u\". \n",
    "\n",
    "The words need not begin and end with the _same_ consonant, so 'door' is a valid match. Compile this regular expression, and assign it to a variable called `consonant_consonant`. \n",
    "\n",
    "How many words begin and end with a consonant with no consonants in between? Assign this answer to a variable `num_words_consonants`"
   ]
  },
  {
   "cell_type": "code",
   "execution_count": 246,
   "metadata": {
    "deletable": false,
    "nbgrader": {
     "cell_type": "code",
     "checksum": "1d992c044272c6fa5e036d582ab82332",
     "grade": false,
     "grade_id": "cell-7a11ee912d6ade8e",
     "locked": false,
     "schema_version": 3,
     "solution": true,
     "task": false
    }
   },
   "outputs": [],
   "source": [
    "# create your variables 'consonant_consonant' and `num_words_consonants` here.\n",
    "consonant_consonant = re.compile(r'^[^aeiouy][aeiouy]*[^aeiouy]$')\n",
    "\n",
    "# find required words\n",
    "num_words_consonants = 0\n",
    "for i in range(len(ascii_list)):\n",
    "    if consonant_consonant.match(ascii_list[i].decode('ascii')) is not None:\n",
    "        num_words_consonants += 1"
   ]
  },
  {
   "cell_type": "code",
   "execution_count": 247,
   "metadata": {
    "deletable": false,
    "editable": false,
    "nbgrader": {
     "cell_type": "code",
     "checksum": "7978a725b19f15621bc96f657445b865",
     "grade": true,
     "grade_id": "cell-0c55b19997db9a14",
     "locked": true,
     "points": 1,
     "schema_version": 3,
     "solution": false,
     "task": false
    }
   },
   "outputs": [],
   "source": [
    "assert consonant_consonant.match(\"door\").group(0) == 'door'\n",
    "assert consonant_consonant.match(\"bb\").group(0) == \"bb\"\n",
    "assert consonant_consonant.match(\"aaabaaa\") is None\n",
    "assert consonant_consonant.match(\"stats\") is None\n",
    "assert consonant_consonant.match(\"by\") is None"
   ]
  },
  {
   "cell_type": "code",
   "execution_count": 248,
   "metadata": {
    "deletable": false,
    "editable": false,
    "nbgrader": {
     "cell_type": "code",
     "checksum": "73e2e5dce3ede8167ee51740fb7f2069",
     "grade": true,
     "grade_id": "cell-f2393d4ff60240f2",
     "locked": true,
     "points": 1,
     "schema_version": 3,
     "solution": false,
     "task": false
    }
   },
   "outputs": [],
   "source": [
    "assert type(num_words_consonants) == int\n",
    "assert num_words_consonants > 0"
   ]
  },
  {
   "cell_type": "markdown",
   "metadata": {
    "deletable": false,
    "editable": false,
    "nbgrader": {
     "cell_type": "markdown",
     "checksum": "74d4db87c0e163aaf0fc8244b7aad39b",
     "grade": false,
     "grade_id": "cell-c1f7402679082a29",
     "locked": true,
     "schema_version": 3,
     "solution": false,
     "task": false
    }
   },
   "source": [
    "### Part 6  (2 points)\n",
    "Write a regular expression that matches any string whose last two characters are the first two characters in reverse order. So, for example, your regex should match \"repeater\" and \"stats\", but not \"neoprene\". Compile this regular expression and assign it to a variable called `bookends`. \n",
    "\n",
    "How many words in the list have this property? Assign this number to a variable `num_words_bookends`\n",
    "\n",
    "__Note:__ Your regex should NOT match cases where the word has a length of 3 or less. "
   ]
  },
  {
   "cell_type": "code",
   "execution_count": 249,
   "metadata": {
    "deletable": false,
    "nbgrader": {
     "cell_type": "code",
     "checksum": "fa563207824b18f06c920732d632b5e5",
     "grade": false,
     "grade_id": "cell-a6983727569760ac",
     "locked": false,
     "schema_version": 3,
     "solution": true,
     "task": false
    }
   },
   "outputs": [],
   "source": [
    "bookends = re.compile(r'^(\\w)(\\w)\\w*\\2\\1$')#‘\\w’ : matches a “word” character (number, letter or underscore ‘_’)\n",
    "\n",
    "# find required words\n",
    "num_words_bookends = 0\n",
    "for i in range(len(ascii_list)):\n",
    "    if bookends.match(ascii_list[i].decode('ascii')) is not None and\\\n",
    "     len(ascii_list[i].decode('ascii')) > 3:\n",
    "        num_words_bookends += 1"
   ]
  },
  {
   "cell_type": "code",
   "execution_count": 250,
   "metadata": {
    "deletable": false,
    "editable": false,
    "nbgrader": {
     "cell_type": "code",
     "checksum": "1c60bb7fc64e8e07a10786427ee8ae09",
     "grade": true,
     "grade_id": "cell-596b63551ef1fbd4",
     "locked": true,
     "points": 1,
     "schema_version": 3,
     "solution": false,
     "task": false
    }
   },
   "outputs": [],
   "source": [
    "assert bookends.match(\"repeater\").group(0) == 'repeater'\n",
    "assert bookends.match(\"stats\").group(0) == 'stats'\n",
    "assert bookends.match(\"fallinaf\").group(0) == 'fallinaf'\n",
    "\n",
    "assert bookends.match(\"neoprene\") is None\n",
    "assert bookends.match(\"afa\") is None"
   ]
  },
  {
   "cell_type": "code",
   "execution_count": 251,
   "metadata": {
    "deletable": false,
    "editable": false,
    "nbgrader": {
     "cell_type": "code",
     "checksum": "e072d8c34fd382b2a4d2e8c8a576ffa7",
     "grade": true,
     "grade_id": "cell-9352a33a43e8dca5",
     "locked": true,
     "points": 1,
     "schema_version": 3,
     "solution": false,
     "task": false
    }
   },
   "outputs": [],
   "source": [
    "assert num_words_bookends > 0\n",
    "assert type(num_words_bookends) == int"
   ]
  },
  {
   "cell_type": "markdown",
   "metadata": {
    "deletable": false,
    "editable": false,
    "nbgrader": {
     "cell_type": "markdown",
     "checksum": "9ecb801e821792293e3a2ffede073647",
     "grade": false,
     "grade_id": "cell-f66c1ee9209824f5",
     "locked": true,
     "schema_version": 3,
     "solution": false,
     "task": false
    }
   },
   "source": [
    "## 2 Exploring Internet Traffic with Regexes (6 points)\n",
    "\n",
    "In this problem, you'll get a taste of a more realistic application of regular expressions. The file `SkypeIRC.txt` (which was included along with this homework in `hw7.zip`) contains data generated by web traffic associated with Skype and IRC, captured using the Wireshark program, a common tool for analyzing web traffic. "
   ]
  },
  {
   "cell_type": "markdown",
   "metadata": {
    "deletable": false,
    "editable": false,
    "nbgrader": {
     "cell_type": "markdown",
     "checksum": "2130fb6782cf95c3c6bd7dd3a653fcea",
     "grade": false,
     "grade_id": "cell-e55690a7c723d04c",
     "locked": true,
     "schema_version": 3,
     "solution": false,
     "task": false
    }
   },
   "source": [
    "### Part 1 (1 point) \n",
    "\n",
    "Open the file `SkypeIRC.txt` and read its contents into a string. Each line of this file corresponds to a single packet sent over the internet. Save a list containing each packet into a variable called `packets`.\n",
    "\n",
    "How many packets are in this file? Save the answer in a variable `n_packets`. "
   ]
  },
  {
   "cell_type": "code",
   "execution_count": 282,
   "metadata": {
    "deletable": false,
    "nbgrader": {
     "cell_type": "code",
     "checksum": "bdb75772342cd877e4002a9896daa513",
     "grade": false,
     "grade_id": "cell-5570fccf90767335",
     "locked": false,
     "schema_version": 3,
     "solution": true,
     "task": false
    }
   },
   "outputs": [],
   "source": [
    "SkypeIRC = open('SkypeIRC.txt', encoding='utf-8')\n",
    "content = str(SkypeIRC.read())\n",
    "packets = content.split('\\n')[:-1]\n",
    "n_packets = len(packets)"
   ]
  },
  {
   "cell_type": "code",
   "execution_count": 283,
   "metadata": {
    "deletable": false,
    "editable": false,
    "nbgrader": {
     "cell_type": "code",
     "checksum": "953782a6e8dc82fbe1c820e735edb9ec",
     "grade": true,
     "grade_id": "cell-83e4582bb7634be7",
     "locked": true,
     "points": 1,
     "schema_version": 3,
     "solution": false,
     "task": false
    }
   },
   "outputs": [],
   "source": [
    "assert type(n_packets) == int\n",
    "assert type(packets) == list"
   ]
  },
  {
   "cell_type": "markdown",
   "metadata": {
    "deletable": false,
    "editable": false,
    "nbgrader": {
     "cell_type": "markdown",
     "checksum": "bfffda5d7bd6c5090e1e7a61e39549cc",
     "grade": false,
     "grade_id": "cell-af4935edc41b73f3",
     "locked": true,
     "schema_version": 3,
     "solution": false,
     "task": false
    }
   },
   "source": [
    "### Part 2 (2 points)\n",
    "\n",
    "An IP address consists of four numbers, which are displayed as `A.B.C.D` where `A,B,C`, and `D` are each numbers between 0 and 255 inclusive.\n",
    "\n",
    "Use regular expressions to extract all the IP addresses from the file and collect them in a Python list. How many unique IP addresses appear in the data set? Save the answer in a variable `n_ip_addresses`. \n",
    "\n",
    "__Note:__ there are a few pieces of text in the file that _look_ like IP addresses but aren't (e.g., they are of the form `A.B.C.D`, but one or more of `A,B,C`, and `D` are outside the range 0 to 255). You should try to craft a regex that matches as few of these as you can, but of course it will not be possible to avoid certain edge cases."
   ]
  },
  {
   "cell_type": "code",
   "execution_count": 343,
   "metadata": {
    "deletable": false,
    "nbgrader": {
     "cell_type": "code",
     "checksum": "92b4d13f6545a143d35f7971039d3ef7",
     "grade": false,
     "grade_id": "cell-93c89971beafd000",
     "locked": false,
     "schema_version": 3,
     "solution": true,
     "task": false
    }
   },
   "outputs": [],
   "source": [
    "a = '((25[0-5]|2[0-4][0-9]|1[0-9][0-9]|[1-9][0-9]|[0-9])\\\\.)' + \\\n",
    "    '((25[0-5]|2[0-4][0-9]|1[0-9][0-9]|[1-9][0-9]|[0-9])\\\\.)' + \\\n",
    "    '((25[0-5]|2[0-4][0-9]|1[0-9][0-9]|[1-9][0-9]|[0-9])\\\\.)' + \\\n",
    "    '((25[0-5]|2[0-4][0-9]|1[0-9][0-9]|[1-9][0-9]|[0-9]))'\n",
    "reg = re.compile(a)\n",
    "ip = []\n",
    "for i in range(len(packets)):\n",
    "    for t in reg.findall(packets[i]):\n",
    "        if t not in ip:\n",
    "            ip.append(t)\n",
    "n_ip_addresses = len(ip)"
   ]
  },
  {
   "cell_type": "code",
   "execution_count": 344,
   "metadata": {
    "deletable": false,
    "editable": false,
    "nbgrader": {
     "cell_type": "code",
     "checksum": "ddf0cd2a06e2d72372d4d0030858b423",
     "grade": true,
     "grade_id": "cell-c4430ca17a9bc917",
     "locked": true,
     "points": 2,
     "schema_version": 3,
     "solution": false,
     "task": false
    }
   },
   "outputs": [],
   "source": [
    "assert type(n_ip_addresses) == int"
   ]
  },
  {
   "cell_type": "markdown",
   "metadata": {
    "deletable": false,
    "editable": false,
    "nbgrader": {
     "cell_type": "markdown",
     "checksum": "5cf78ac8bd02a8f5090949ab0fa37fd5",
     "grade": false,
     "grade_id": "cell-134a680ceac6ea2c",
     "locked": true,
     "schema_version": 3,
     "solution": false,
     "task": false
    }
   },
   "source": [
    "### Part 3 (1 points) \n",
    "\n",
    "Write a function called `get_packets_by_regex` that takes a single raw string as its argument and returns a list of all the lines from the input file `SkypeIRC.txt` that match the input raw string as a regular expression. \n",
    "\n",
    "So, for example, `get_packets_by_regex(r\"comcast\")` will return all lines from the file containing the string `\"comcast\"`. You can assume that your input is a raw string."
   ]
  },
  {
   "cell_type": "code",
   "execution_count": 345,
   "metadata": {
    "deletable": false,
    "nbgrader": {
     "cell_type": "code",
     "checksum": "1cf9f5a43fa3cc8331fee758fc92bf81",
     "grade": false,
     "grade_id": "prob2-part3-ans",
     "locked": false,
     "schema_version": 3,
     "solution": true,
     "task": false
    }
   },
   "outputs": [],
   "source": [
    "def get_packets_by_regex(s):\n",
    "    result = []\n",
    "    for i in packets:\n",
    "        if re.search(s, i) is not None:\n",
    "            result.append(i)\n",
    "    return result"
   ]
  },
  {
   "cell_type": "code",
   "execution_count": 346,
   "metadata": {
    "deletable": false,
    "editable": false,
    "nbgrader": {
     "cell_type": "code",
     "checksum": "1da33b7df05f181fcda79bfbe8555f4a",
     "grade": true,
     "grade_id": "prob2-part3-test",
     "locked": true,
     "points": 1,
     "schema_version": 3,
     "solution": false,
     "task": false
    }
   },
   "outputs": [],
   "source": [
    "assert type(get_packets_by_regex(r'114.214.204.212')) == list\n",
    "assert len(get_packets_by_regex(r'114.214.204.212')) == 2"
   ]
  },
  {
   "cell_type": "markdown",
   "metadata": {
    "deletable": false,
    "editable": false,
    "nbgrader": {
     "cell_type": "markdown",
     "checksum": "ab1f5b48b18c27509292831e59aa6d6b",
     "grade": false,
     "grade_id": "cell-c99ad9a96df3dc43",
     "locked": true,
     "points": 2,
     "schema_version": 3,
     "solution": false,
     "task": true
    }
   },
   "source": [
    "### Part 4 (2 points) \n",
    "The second piece of text (i.e., non-whitespace) on each line is a time stamp, counting the time (in seconds) since the beginning of the traffic recording. Using `matplotlib`, create a plot displaying how many packets appeared in each second of the recording. Be sure to label your plot with appropriate axes labels. \n",
    "\n",
    "A histogram or line plot is the most obvious way to do this, but you should feel free to use a more creative way of displaying this information if you wish to do so. The plot should display in your ipython notebook after running the cell below. \n",
    "\n",
    "__Note:__ There is no need to use a regular expression for this subproblem if you do not want to."
   ]
  },
  {
   "cell_type": "code",
   "execution_count": 347,
   "metadata": {
    "deletable": false,
    "nbgrader": {
     "cell_type": "code",
     "checksum": "6be8791b12c4112e0f1a252f38a28e60",
     "grade": false,
     "grade_id": "cell-7cb593eab90c8cbe",
     "locked": false,
     "schema_version": 3,
     "solution": true,
     "task": false
    }
   },
   "outputs": [
    {
     "data": {
      "text/plain": [
       "Text(0, 0.5, 'packets appeared')"
      ]
     },
     "execution_count": 347,
     "metadata": {},
     "output_type": "execute_result"
    },
    {
     "data": {
      "image/png": "[encoded data removed]",
      "text/plain": [
       "<Figure size 432x288 with 1 Axes>"
      ]
     },
     "metadata": {
      "needs_background": "light"
     },
     "output_type": "display_data"
    }
   ],
   "source": [
    "%matplotlib inline\n",
    "import matplotlib.pyplot as plt\n",
    "\n",
    "time = [int(float(i.split()[1])) for i in packets]\n",
    "count=dict()\n",
    "for key in time:\n",
    "    if key not in count.keys():\n",
    "        count[key] = 1\n",
    "    else:\n",
    "        count[key] += 1\n",
    "x=list(count.keys())\n",
    "x.append(max(x)+1)\n",
    "x.pop(0)\n",
    "plt.plot(x,list(count.values()))\n",
    "plt.xlabel('time stamp')\n",
    "plt.ylabel('packets appeared')"
   ]
  },
  {
   "cell_type": "markdown",
   "metadata": {
    "deletable": false,
    "editable": false,
    "nbgrader": {
     "cell_type": "markdown",
     "checksum": "fc7855054bb279d456053fd0ff39909f",
     "grade": false,
     "grade_id": "cell-d8a9f74b335628bc",
     "locked": true,
     "schema_version": 3,
     "solution": false,
     "task": false
    }
   },
   "source": [
    "## 3 Retrieving Data from the Web (7 points)\n",
    "In this problem, we'll scrape data from Wikipedia using __BeautifulSoup__. Documentation for BeauitfulSoup can be found at https://www.crummy.com/software/BeautifulSoup/bs4/doc/. As mentioned in lecture, there is another package, called __requests__, which is becoming quite popular, which you are welcome to use for this problem instead, if you wish. Documentation for the `requests` package can be found at http://docs.python-requests.org/en/master/.\n",
    "\n",
    "Suppose you are trying to choose a city to vacation in. A major factor in your decision is weather. Conveniently, lots of weather information is present in the Wikipedia articles for most world cities. Your job in this problem is to use __BeautifulSoup__ to retrieve weather information from Wikipedia articles. \n",
    "\n",
    "**Note:** In practice, such information is typically more easily obtained from, for example, the National Oceanic and Atmospheric Administration (NOAA), in the case of cities in the United States, and from analogous organizations in other countries.\n",
    "\n",
    "\n",
    "**Note:** For the purposes of this problem, you may want to learn a bit about the structure of HTML tables by looking at the resources available on these websites:\n",
    " - https://developer.mozilla.org/en-US/docs/Web/HTML/Element/table\n",
    " - https://www.w3schools.com/html/html_tables.asp\n",
    " - https://www.w3.org/TR/html401/struct/tables.html"
   ]
  },
  {
   "cell_type": "markdown",
   "metadata": {
    "deletable": false,
    "editable": false,
    "nbgrader": {
     "cell_type": "markdown",
     "checksum": "38295d0090cfb7569e9a23bcb8babb98",
     "grade": false,
     "grade_id": "cell-04ff02235bd6315d",
     "locked": true,
     "schema_version": 3,
     "solution": false,
     "task": false
    }
   },
   "source": [
    "### Part 1 (2 points) \n",
    "\n",
    "Look at a few Wikipedia pages corresponding to cities. For example:\n",
    " - https://en.wikipedia.org/wiki/Ann_Arbor,_Michigan\n",
    " - https://en.wikipedia.org/wiki/Buenos_Aires\n",
    " - https://en.wikipedia.org/wiki/Harbin\n",
    "\n",
    "Note that most city pages include a table titled something like \"Climate data for [Cityname] (normals YYYY-YYYY, extremes YYYY-YYYY)\". \n",
    " \n",
    "**Use the Wikipedia page for _Ann Arbor, Michigan_**. In your jupyter notebook, open the URL and read the HTML using either `urllib` or `requests`, and parse it with `BeautifulSoup` using the standard parser, `html.parser`. \n",
    "Have a look at the parsed HTML and find the climate data table (there should only be one such table), which will have the tag `table` and will contain a child tag `th` containing a string similar to\n",
    "\n",
    "```\n",
    " Climate data for [Cityname] (normals YYYY-YYYY, extremes YYYY-YYYY)}.\n",
    "```\n",
    "\n",
    "Find the node in the `BeautifulSoup` object corresponding to this table. Store the number of children of this table in a variable `num_children`. How many children does the first child of this table have? Store it in a variable called `num_child_children`, what are the tags of these children (take a look at the `.name` attribute)?  Store in a variable call `tag`. \n",
    "\n",
    "**Note:** You might find that the character `\"\\n\"` is listed as one of the climate table's children. You should exclude this child completely from all your calculations. "
   ]
  },
  {
   "cell_type": "code",
   "execution_count": null,
   "metadata": {
    "deletable": false,
    "nbgrader": {
     "cell_type": "code",
     "checksum": "32da1c161b7b87a3b6189ac82b949df2",
     "grade": false,
     "grade_id": "cell-ba9802ab6c2ba864",
     "locked": false,
     "schema_version": 3,
     "solution": true,
     "task": false
    }
   },
   "outputs": [],
   "source": [
    "# Use this cell to explore the URLs and climate data,\n",
    "# creating the variables mentioned above.\n",
    "import urllib.request\n",
    "import re\n",
    "from bs4 import BeautifulSoup\n",
    "\n",
    "response = urllib.request.urlopen('https://en.wikipedia.org/wiki/Ann_Arbor,_Michigan')\n",
    "annanbor = BeautifulSoup(response, 'html.parser')\n",
    "aatable = annanbor.find('table', class_=\"wikitable collapsible\")\n",
    "\n",
    "# calculate num_children\n",
    "num_children = 0\n",
    "for t in aatable.contents:\n",
    "    if t != '\\n':\n",
    "        num_children += 1\n",
    "# calculate num_child_children:\n",
    "num_child_children = 0\n",
    "total = len(aatable.contents[1].contents)\n",
    "for i in range(total):\n",
    "    if aatable.contents[1].contents[i] != '\\n':\n",
    "        num_child_children += 1\n",
    "        # print(aatable.contents[1].contents[i].name)\n",
    "# through looking at all the tags\n",
    "tag = 'tr'"
   ]
  },
  {
   "cell_type": "code",
   "execution_count": null,
   "metadata": {
    "deletable": false,
    "editable": false,
    "nbgrader": {
     "cell_type": "code",
     "checksum": "cd2b6715c014de90ada6c5362db8e067",
     "grade": true,
     "grade_id": "cell-118ba5ad4937107e",
     "locked": true,
     "points": 1,
     "schema_version": 3,
     "solution": false,
     "task": false
    }
   },
   "outputs": [],
   "source": [
    "assert type(num_children) == int"
   ]
  },
  {
   "cell_type": "code",
   "execution_count": null,
   "metadata": {
    "deletable": false,
    "editable": false,
    "nbgrader": {
     "cell_type": "code",
     "checksum": "8c9ebf2c5ffec7aea86807c2fd40c574",
     "grade": true,
     "grade_id": "cell-2d282d03893afc33",
     "locked": true,
     "points": 1,
     "schema_version": 3,
     "solution": false,
     "task": false
    }
   },
   "outputs": [],
   "source": [
    "assert type(num_child_children) == int\n",
    "assert type(tag) == str\n",
    "num_child_children > 3"
   ]
  },
  {
   "cell_type": "markdown",
   "metadata": {
    "deletable": false,
    "editable": false,
    "nbgrader": {
     "cell_type": "markdown",
     "checksum": "c6a9d3dc0e44f6c3bb764e5c4955cb86",
     "grade": false,
     "grade_id": "cell-4b11434921fd1d91",
     "locked": true,
     "schema_version": 3,
     "solution": false,
     "task": false
    }
   },
   "source": [
    "### Part 2 (3 points) \n",
    "Write a function `retrieve_climate_table` that takes as its only argument a Wikipedia URL, and returns the `BeautifulSoup` object corresponding to the climate data table (if it exists in the page) and returns `None` if no such table exists on the page. You should check that the URL is retrieved successfully, and raise an error if `urllib2` fails to successfully read the website. \n",
    "\n",
    "You may notice that some city pages include more than one climate data table or several nested tables (see, for example, https://en.wikipedia.org/wiki/Los_Angeles). In this case, for ease of grading, please return the **first** table found as a `BeautifulSoup` object. \n",
    "\n",
    "__Note:__ a good way to check for edge cases is to test your script on the Wikipedia pages for a few of your favorite cities. The pages for Los Angeles, Hyderabad and Boston will give good examples of edge cases that you should be able to handle. \n",
    "\n",
    "__Hint:__ make use of the __contents__ attribute of the __BeautifulSoup__ objects and the ability to change the elements of the contents list to Unicode."
   ]
  },
  {
   "cell_type": "code",
   "execution_count": 34,
   "metadata": {
    "deletable": false,
    "nbgrader": {
     "cell_type": "code",
     "checksum": "d0ba0b74ef37984ee1cface5502772e6",
     "grade": false,
     "grade_id": "cell-00a47d81403bcb53",
     "locked": false,
     "schema_version": 3,
     "solution": true,
     "task": false
    }
   },
   "outputs": [],
   "source": [
    "def retrieve_climate_table(URL):\n",
    "    if type(URL) != str:\n",
    "        raise TypeError\n",
    "    try:\n",
    "        response = urllib.request.urlopen(URL)\n",
    "        city = BeautifulSoup(response, 'html.parser')\n",
    "        alltable = city.find_all('table')\n",
    "        find = re.compile(r'Climate data for')\n",
    "        climatetb = None\n",
    "        for tb in alltable:\n",
    "            if find.search(str(tb)) is not None:\n",
    "                climatetb = tb\n",
    "                break\n",
    "        if climatetb is None:\n",
    "            return None\n",
    "        else:\n",
    "            return climatetb\n",
    "    except ValueError:\n",
    "        raise ValueError"
   ]
  },
  {
   "cell_type": "code",
   "execution_count": 26,
   "metadata": {
    "deletable": false,
    "editable": false,
    "nbgrader": {
     "cell_type": "code",
     "checksum": "8a1eb9da41db24e923cb6e617c1151a8",
     "grade": true,
     "grade_id": "cell-6eb2d744ec8115b9",
     "locked": true,
     "points": 1,
     "schema_version": 3,
     "solution": false,
     "task": false
    }
   },
   "outputs": [],
   "source": [
    "t = retrieve_climate_table('https://en.wikipedia.org/wiki/Ann_Arbor,_Michigan')\n",
    "assert 'Climate data for Ann Arbor, Michigan' in t.text"
   ]
  },
  {
   "cell_type": "code",
   "execution_count": 27,
   "metadata": {
    "deletable": false,
    "editable": false,
    "nbgrader": {
     "cell_type": "code",
     "checksum": "b6a1515a3b66ccda66dc27937c6652fc",
     "grade": true,
     "grade_id": "cell-98cf978c8d053856",
     "locked": true,
     "points": 1,
     "schema_version": 3,
     "solution": false,
     "task": false
    }
   },
   "outputs": [],
   "source": [
    "t = retrieve_climate_table(\n",
    "    'https://en.wikipedia.org/wiki/Buenos_Aires'\n",
    ")\n",
    "assert 'Climate data for Buenos Aires' in t.text"
   ]
  },
  {
   "cell_type": "code",
   "execution_count": 35,
   "metadata": {
    "deletable": false,
    "editable": false,
    "nbgrader": {
     "cell_type": "code",
     "checksum": "2ae47f9db788df581e3efc5d8e128dcf",
     "grade": true,
     "grade_id": "cell-0448f42bb268ec5e",
     "locked": true,
     "points": 1,
     "schema_version": 3,
     "solution": false,
     "task": false
    }
   },
   "outputs": [],
   "source": [
    "try:\n",
    "    retrieve_climate_table(12)\n",
    "    assert False\n",
    "except TypeError:\n",
    "    assert True"
   ]
  },
  {
   "cell_type": "markdown",
   "metadata": {
    "deletable": false,
    "editable": false,
    "nbgrader": {
     "cell_type": "markdown",
     "checksum": "dc2a12ff9812f89cb175bb7f589244cc",
     "grade": false,
     "grade_id": "cell-70d0fd24379158cd",
     "locked": true,
     "schema_version": 3,
     "solution": false,
     "task": false
    }
   },
   "source": [
    "### Part 3 (2 points) \n",
    "\n",
    "As you look at some of the climate data tables, you may notice that different cities' tables contain different information. For example, not all cities include snowfall data. \n",
    "\n",
    "Write a function `list_climate_table_row_names` that takes as its only argument a Wikipedia URL and returns a list of the row names of the climate data table (that your function `retrieve_climate_table` obtains), or returns `None` if no such table exists. The list returned by your function should, ideally, consist solely of Python strings (either Unicode or ASCII), and should not include any `BeautifulSoup` objects or HTML. The list returned by your script should _not_ include an entry corresponding to the __Climate data for...__ row in the table. \n",
    "\n",
    "__Hint:__ see the `BeautifulSoup` method `get_text()`\n",
    "\n",
    "__Second hint:__ you are looking for HTML table header (__th__) objects. The HTML attribute __scope__ is your friend here, because in the context of an HTML table it tells you when a __th__ tag is the header of a row or a column."
   ]
  },
  {
   "cell_type": "code",
   "execution_count": 53,
   "metadata": {
    "deletable": false,
    "nbgrader": {
     "cell_type": "code",
     "checksum": "3453f0493b9c60a6d149a99aa6f739b0",
     "grade": false,
     "grade_id": "cell-ad773b533aa54a2e",
     "locked": false,
     "schema_version": 3,
     "solution": true,
     "task": false
    }
   },
   "outputs": [],
   "source": [
    "def list_climate_table_row_names(URL):\n",
    "    climatetb = retrieve_climate_table(URL)\n",
    "    if climatetb is None:\n",
    "        return None\n",
    "    else:\n",
    "        row = climatetb.find_all('th', scope='row')\n",
    "        rowname = [x.get_text().strip('\\n') for x in row]\n",
    "    return rowname"
   ]
  },
  {
   "cell_type": "code",
   "execution_count": 54,
   "metadata": {
    "deletable": false,
    "editable": false,
    "nbgrader": {
     "cell_type": "code",
     "checksum": "080a08d2667fa393f63afd5a5b5073b0",
     "grade": true,
     "grade_id": "cell-25d177e7dae248e2",
     "locked": true,
     "points": 1,
     "schema_version": 3,
     "solution": false,
     "task": false
    }
   },
   "outputs": [],
   "source": [
    "ann_arbor_url = 'https://en.wikipedia.org/wiki/Ann_Arbor,_Michigan'\n",
    "assert list_climate_table_row_names(ann_arbor_url) == [\n",
    " 'Month',\n",
    " 'Record high °F (°C)',\n",
    " 'Average high °F (°C)',\n",
    " 'Daily mean °F (°C)',\n",
    " 'Average low °F (°C)',\n",
    " 'Record low °F (°C)',\n",
    " 'Average precipitation inches (mm)',\n",
    " 'Average snowfall inches (cm)',\n",
    " 'Average precipitation days (≥ 0.01 in)',\n",
    " 'Average snowy days (≥ 0.1 in)']"
   ]
  },
  {
   "cell_type": "code",
   "execution_count": 55,
   "metadata": {
    "deletable": false,
    "editable": false,
    "nbgrader": {
     "cell_type": "code",
     "checksum": "fbe9f6e2871db59c9366489470ee7e98",
     "grade": true,
     "grade_id": "cell-3f8eaf7214244eba",
     "locked": true,
     "points": 1,
     "schema_version": 3,
     "solution": false,
     "task": false
    }
   },
   "outputs": [],
   "source": [
    "not_city_url = \"https://en.wikipedia.org/wiki/George_Tucker_(politician)\"\n",
    "assert list_climate_table_row_names(not_city_url) is None"
   ]
  },
  {
   "cell_type": "markdown",
   "metadata": {
    "deletable": false,
    "editable": false,
    "nbgrader": {
     "cell_type": "markdown",
     "checksum": "61d3d3b8b300585feffc587db7550d31",
     "grade": false,
     "grade_id": "cell-a207a650f2d1ef94",
     "locked": true,
     "schema_version": 3,
     "solution": false,
     "task": false
    }
   },
   "source": [
    "## 4 Relational Databases and SQL (8 points)\n",
    "In this problem, you'll interact with a toy SQL database using Python's built-in `sqlite3` package. Documentation can be found at https://docs.python.org/3/library/sqlite3.html. For this problem, we'll use a popular toy SQLite database, called `Chinook`, which represents a digital music collection. See the documentation at:\n",
    " \n",
    " https://github.com/lerocha/chinook-database/blob/master/ChinookDatabase/DataSources/Chinook_Sqlite.sqlite\n",
    "\n",
    "for a more detailed explanation. We'll use the `.sqlite` file `Chinook_Sqlite.sqlite`, which should have been included along with this hwk in the `hw7.zip` file. "
   ]
  },
  {
   "cell_type": "markdown",
   "metadata": {
    "deletable": false,
    "editable": false,
    "nbgrader": {
     "cell_type": "markdown",
     "checksum": "368eeb7c5659d75036a2a3580e2d8a85",
     "grade": false,
     "grade_id": "cell-56ee4373a5efce0e",
     "locked": true,
     "schema_version": 3,
     "solution": false,
     "task": false
    }
   },
   "source": [
    "### Part 1 (1 points) \n",
    "Load the database using the Python `sqlite3` package. How many tables are in the database? Save the answer in the variable `n_tables`."
   ]
  },
  {
   "cell_type": "code",
   "execution_count": 21,
   "metadata": {
    "deletable": false,
    "nbgrader": {
     "cell_type": "code",
     "checksum": "717efcdb0ac4920899edbdf6028b5e80",
     "grade": false,
     "grade_id": "cell-84893af64498c3cc",
     "locked": false,
     "schema_version": 3,
     "solution": true,
     "task": false
    }
   },
   "outputs": [],
   "source": [
    "import sqlite3\n",
    "conn = sqlite3.connect('Chinook_Sqlite.sqlite')\n",
    "c = conn.cursor()\n",
    "n_tables = len([i for i in c.execute('''Select * from sqlite_master WHERE type='table' ''')])"
   ]
  },
  {
   "cell_type": "code",
   "execution_count": 22,
   "metadata": {
    "deletable": false,
    "editable": false,
    "nbgrader": {
     "cell_type": "code",
     "checksum": "633e11ed35b1dd8bb42e882d16b1444e",
     "grade": true,
     "grade_id": "cell-68ac85fd573d6251",
     "locked": true,
     "points": 1,
     "schema_version": 3,
     "solution": false,
     "task": false
    }
   },
   "outputs": [],
   "source": [
    "assert type(n_tables) == int\n",
    "assert n_tables > 2"
   ]
  },
  {
   "cell_type": "markdown",
   "metadata": {
    "deletable": false,
    "editable": false,
    "nbgrader": {
     "cell_type": "markdown",
     "checksum": "90fc7812cc2533e748dfdd236f08b8a2",
     "grade": false,
     "grade_id": "cell-ac8e505b743d93d5",
     "locked": true,
     "schema_version": 3,
     "solution": false,
     "task": false
    }
   },
   "source": [
    "### Part 2 (1 points) \n",
    "What are the names of the tables in the database? Save the answer as a list of strings, `table_names`. \n",
    "\n",
    "__Note:__ you should write Python `sqlite3` code to answer this; don't just look up the answer in the documentation!"
   ]
  },
  {
   "cell_type": "code",
   "execution_count": 23,
   "metadata": {
    "deletable": false,
    "nbgrader": {
     "cell_type": "code",
     "checksum": "d135eed4a4357a65679aa62439c15c78",
     "grade": false,
     "grade_id": "cell-ce5f6a6581833d60",
     "locked": false,
     "schema_version": 3,
     "solution": true,
     "task": false
    }
   },
   "outputs": [],
   "source": [
    "table_names = [i[1] for i in c.execute('''Select * from sqlite_master WHERE type='table' ''')]"
   ]
  },
  {
   "cell_type": "code",
   "execution_count": 30,
   "metadata": {},
   "outputs": [
    {
     "name": "stdout",
     "output_type": "stream",
     "text": [
      "Album\n",
      "Artist\n",
      "Customer\n",
      "Employee\n",
      "Genre\n",
      "Invoice\n",
      "InvoiceLine\n",
      "MediaType\n",
      "Playlist\n",
      "PlaylistTrack\n",
      "Track\n"
     ]
    }
   ],
   "source": [
    "for i in c.execute('''Select * from sqlite_master WHERE type='table' '''):\n",
    "    print(i[1])"
   ]
  },
  {
   "cell_type": "code",
   "execution_count": 144,
   "metadata": {
    "deletable": false,
    "editable": false,
    "nbgrader": {
     "cell_type": "code",
     "checksum": "4dd747b0404b7fae7bbcfa557d3f81f0",
     "grade": true,
     "grade_id": "cell-34217dd8ef66ceae",
     "locked": true,
     "points": 1,
     "schema_version": 3,
     "solution": false,
     "task": false
    }
   },
   "outputs": [],
   "source": [
    "assert type(table_names) == list\n",
    "assert len(table_names) > 2\n",
    "assert 'Album' in table_names and 'Employee' in table_names"
   ]
  },
  {
   "cell_type": "markdown",
   "metadata": {
    "deletable": false,
    "editable": false,
    "nbgrader": {
     "cell_type": "markdown",
     "checksum": "fb1352d9917e90cd726af95a4e67de20",
     "grade": false,
     "grade_id": "cell-28f3508b1cf8bebb",
     "locked": true,
     "schema_version": 3,
     "solution": false,
     "task": false
    }
   },
   "source": [
    "### Part 3 (2 points)\n",
    "\n",
    "Write a function `list_album_ids_by_letter` that takes as an argument a single character and returns a list of the primary keys of all the albums whose titles start with that character. Your function should ignore case, so that the inputs \"a\" and \"A\" yield the same results. \n",
    "\n",
    "Include error checking that raises an error in the event that the input is not a single character."
   ]
  },
  {
   "cell_type": "code",
   "execution_count": 31,
   "metadata": {
    "deletable": false,
    "nbgrader": {
     "cell_type": "code",
     "checksum": "243ea8d20c6e41936e3b01a71448b6d0",
     "grade": false,
     "grade_id": "cell-978a04358ba1be71",
     "locked": false,
     "schema_version": 3,
     "solution": true,
     "task": false
    }
   },
   "outputs": [],
   "source": [
    "import string\n",
    "\n",
    "\n",
    "def list_album_ids_by_letter(s):\n",
    "    # error check\n",
    "    if not isinstance(s, str):\n",
    "        raise TypeError\n",
    "    if len(s) != 1 or s not in string.ascii_letters:\n",
    "        raise ValueError\n",
    "    # match table\n",
    "    cha = s.lower()\n",
    "    result = []\n",
    "    for i in c.execute('''Select * from Album '''):\n",
    "        if re.match(cha, i[1].lower()) is not None:\n",
    "            result.append(i[0])\n",
    "    return result"
   ]
  },
  {
   "cell_type": "code",
   "execution_count": 34,
   "metadata": {},
   "outputs": [
    {
     "name": "stdout",
     "output_type": "stream",
     "text": [
      "(1, 'For Those About To Rock We Salute You', 1)\n",
      "(2, 'Balls to the Wall', 2)\n",
      "(3, 'Restless and Wild', 2)\n",
      "(4, 'Let There Be Rock', 1)\n",
      "(5, 'Big Ones', 3)\n",
      "(6, 'Jagged Little Pill', 4)\n",
      "(7, 'Facelift', 5)\n",
      "(8, 'Warner 25 Anos', 6)\n",
      "(9, 'Plays Metallica By Four Cellos', 7)\n",
      "(10, 'Audioslave', 8)\n",
      "(11, 'Out Of Exile', 8)\n",
      "(12, 'BackBeat Soundtrack', 9)\n",
      "(13, 'The Best Of Billy Cobham', 10)\n",
      "(14, 'Alcohol Fueled Brewtality Live! [Disc 1]', 11)\n",
      "(15, 'Alcohol Fueled Brewtality Live! [Disc 2]', 11)\n",
      "(16, 'Black Sabbath', 12)\n",
      "(17, 'Black Sabbath Vol. 4 (Remaster)', 12)\n",
      "(18, 'Body Count', 13)\n",
      "(19, 'Chemical Wedding', 14)\n",
      "(20, 'The Best Of Buddy Guy - The Millenium Collection', 15)\n",
      "(21, 'Prenda Minha', 16)\n",
      "(22, 'Sozinho Remix Ao Vivo', 16)\n",
      "(23, 'Minha Historia', 17)\n",
      "(24, 'Afrociberdelia', 18)\n",
      "(25, 'Da Lama Ao Caos', 18)\n",
      "(26, 'Acústico MTV [Live]', 19)\n",
      "(27, 'Cidade Negra - Hits', 19)\n",
      "(28, 'Na Pista', 20)\n",
      "(29, 'Axé Bahia 2001', 21)\n",
      "(30, 'BBC Sessions [Disc 1] [Live]', 22)\n",
      "(31, 'Bongo Fury', 23)\n",
      "(32, 'Carnaval 2001', 21)\n",
      "(33, 'Chill: Brazil (Disc 1)', 24)\n",
      "(34, 'Chill: Brazil (Disc 2)', 6)\n",
      "(35, 'Garage Inc. (Disc 1)', 50)\n",
      "(36, 'Greatest Hits II', 51)\n",
      "(37, 'Greatest Kiss', 52)\n",
      "(38, 'Heart of the Night', 53)\n",
      "(39, 'International Superhits', 54)\n",
      "(40, 'Into The Light', 55)\n",
      "(41, 'Meus Momentos', 56)\n",
      "(42, 'Minha História', 57)\n",
      "(43, 'MK III The Final Concerts [Disc 1]', 58)\n",
      "(44, 'Physical Graffiti [Disc 1]', 22)\n",
      "(45, 'Sambas De Enredo 2001', 21)\n",
      "(46, 'Supernatural', 59)\n",
      "(47, 'The Best of Ed Motta', 37)\n",
      "(48, 'The Essential Miles Davis [Disc 1]', 68)\n",
      "(49, 'The Essential Miles Davis [Disc 2]', 68)\n",
      "(50, 'The Final Concerts (Disc 2)', 58)\n",
      "(51, \"Up An' Atom\", 69)\n",
      "(52, 'Vinícius De Moraes - Sem Limite', 70)\n",
      "(53, 'Vozes do MPB', 21)\n",
      "(54, 'Chronicle, Vol. 1', 76)\n",
      "(55, 'Chronicle, Vol. 2', 76)\n",
      "(56, 'Cássia Eller - Coleção Sem Limite [Disc 2]', 77)\n",
      "(57, 'Cássia Eller - Sem Limite [Disc 1]', 77)\n",
      "(58, 'Come Taste The Band', 58)\n",
      "(59, 'Deep Purple In Rock', 58)\n",
      "(60, 'Fireball', 58)\n",
      "(61, \"Knocking at Your Back Door: The Best Of Deep Purple in the 80's\", 58)\n",
      "(62, 'Machine Head', 58)\n",
      "(63, 'Purpendicular', 58)\n",
      "(64, 'Slaves And Masters', 58)\n",
      "(65, 'Stormbringer', 58)\n",
      "(66, 'The Battle Rages On', 58)\n",
      "(67, \"Vault: Def Leppard's Greatest Hits\", 78)\n",
      "(68, 'Outbreak', 79)\n",
      "(69, 'Djavan Ao Vivo - Vol. 02', 80)\n",
      "(70, 'Djavan Ao Vivo - Vol. 1', 80)\n",
      "(71, 'Elis Regina-Minha História', 41)\n",
      "(72, 'The Cream Of Clapton', 81)\n",
      "(73, 'Unplugged', 81)\n",
      "(74, 'Album Of The Year', 82)\n",
      "(75, 'Angel Dust', 82)\n",
      "(76, 'King For A Day Fool For A Lifetime', 82)\n",
      "(77, 'The Real Thing', 82)\n",
      "(78, 'Deixa Entrar', 83)\n",
      "(79, 'In Your Honor [Disc 1]', 84)\n",
      "(80, 'In Your Honor [Disc 2]', 84)\n",
      "(81, 'One By One', 84)\n",
      "(82, 'The Colour And The Shape', 84)\n",
      "(83, 'My Way: The Best Of Frank Sinatra [Disc 1]', 85)\n",
      "(84, 'Roda De Funk', 86)\n",
      "(85, 'As Canções de Eu Tu Eles', 27)\n",
      "(86, 'Quanta Gente Veio Ver (Live)', 27)\n",
      "(87, 'Quanta Gente Veio ver--Bônus De Carnaval', 27)\n",
      "(88, 'Faceless', 87)\n",
      "(89, 'American Idiot', 54)\n",
      "(90, 'Appetite for Destruction', 88)\n",
      "(91, 'Use Your Illusion I', 88)\n",
      "(92, 'Use Your Illusion II', 88)\n",
      "(93, 'Blue Moods', 89)\n",
      "(94, 'A Matter of Life and Death', 90)\n",
      "(95, 'A Real Dead One', 90)\n",
      "(96, 'A Real Live One', 90)\n",
      "(97, 'Brave New World', 90)\n",
      "(98, 'Dance Of Death', 90)\n",
      "(99, 'Fear Of The Dark', 90)\n",
      "(100, 'Iron Maiden', 90)\n",
      "(101, 'Killers', 90)\n",
      "(102, 'Live After Death', 90)\n",
      "(103, 'Live At Donington 1992 (Disc 1)', 90)\n",
      "(104, 'Live At Donington 1992 (Disc 2)', 90)\n",
      "(105, 'No Prayer For The Dying', 90)\n",
      "(106, 'Piece Of Mind', 90)\n",
      "(107, 'Powerslave', 90)\n",
      "(108, 'Rock In Rio [CD1]', 90)\n",
      "(109, 'Rock In Rio [CD2]', 90)\n",
      "(110, 'Seventh Son of a Seventh Son', 90)\n",
      "(111, 'Somewhere in Time', 90)\n",
      "(112, 'The Number of The Beast', 90)\n",
      "(113, 'The X Factor', 90)\n",
      "(114, 'Virtual XI', 90)\n",
      "(115, 'Sex Machine', 91)\n",
      "(116, 'Emergency On Planet Earth', 92)\n",
      "(117, 'Synkronized', 92)\n",
      "(118, 'The Return Of The Space Cowboy', 92)\n",
      "(119, 'Get Born', 93)\n",
      "(120, 'Are You Experienced?', 94)\n",
      "(121, 'Surfing with the Alien (Remastered)', 95)\n",
      "(122, 'Jorge Ben Jor 25 Anos', 46)\n",
      "(123, 'Jota Quest-1995', 96)\n",
      "(124, 'Cafezinho', 97)\n",
      "(125, 'Living After Midnight', 98)\n",
      "(126, 'Unplugged [Live]', 52)\n",
      "(127, 'BBC Sessions [Disc 2] [Live]', 22)\n",
      "(128, 'Coda', 22)\n",
      "(129, 'Houses Of The Holy', 22)\n",
      "(130, 'In Through The Out Door', 22)\n",
      "(131, 'IV', 22)\n",
      "(132, 'Led Zeppelin I', 22)\n",
      "(133, 'Led Zeppelin II', 22)\n",
      "(134, 'Led Zeppelin III', 22)\n",
      "(135, 'Physical Graffiti [Disc 2]', 22)\n",
      "(136, 'Presence', 22)\n",
      "(137, 'The Song Remains The Same (Disc 1)', 22)\n",
      "(138, 'The Song Remains The Same (Disc 2)', 22)\n",
      "(139, 'A TempestadeTempestade Ou O Livro Dos Dias', 99)\n",
      "(140, 'Mais Do Mesmo', 99)\n",
      "(141, 'Greatest Hits', 100)\n",
      "(142, 'Lulu Santos - RCA 100 Anos De Música - Álbum 01', 101)\n",
      "(143, 'Lulu Santos - RCA 100 Anos De Música - Álbum 02', 101)\n",
      "(144, 'Misplaced Childhood', 102)\n",
      "(145, 'Barulhinho Bom', 103)\n",
      "(146, 'Seek And Shall Find: More Of The Best (1963-1981)', 104)\n",
      "(147, 'The Best Of Men At Work', 105)\n",
      "(148, 'Black Album', 50)\n",
      "(149, 'Garage Inc. (Disc 2)', 50)\n",
      "(150, \"Kill 'Em All\", 50)\n",
      "(151, 'Load', 50)\n",
      "(152, 'Master Of Puppets', 50)\n",
      "(153, 'ReLoad', 50)\n",
      "(154, 'Ride The Lightning', 50)\n",
      "(155, 'St. Anger', 50)\n",
      "(156, '...And Justice For All', 50)\n",
      "(157, 'Miles Ahead', 68)\n",
      "(158, 'Milton Nascimento Ao Vivo', 42)\n",
      "(159, 'Minas', 42)\n",
      "(160, 'Ace Of Spades', 106)\n",
      "(161, 'Demorou...', 108)\n",
      "(162, 'Motley Crue Greatest Hits', 109)\n",
      "(163, 'From The Muddy Banks Of The Wishkah [Live]', 110)\n",
      "(164, 'Nevermind', 110)\n",
      "(165, 'Compositores', 111)\n",
      "(166, 'Olodum', 112)\n",
      "(167, 'Acústico MTV', 113)\n",
      "(168, 'Arquivo II', 113)\n",
      "(169, 'Arquivo Os Paralamas Do Sucesso', 113)\n",
      "(170, 'Bark at the Moon (Remastered)', 114)\n",
      "(171, 'Blizzard of Ozz', 114)\n",
      "(172, 'Diary of a Madman (Remastered)', 114)\n",
      "(173, 'No More Tears (Remastered)', 114)\n",
      "(174, 'Tribute', 114)\n",
      "(175, 'Walking Into Clarksdale', 115)\n",
      "(176, 'Original Soundtracks 1', 116)\n",
      "(177, 'The Beast Live', 117)\n",
      "(178, 'Live On Two Legs [Live]', 118)\n",
      "(179, 'Pearl Jam', 118)\n",
      "(180, 'Riot Act', 118)\n",
      "(181, 'Ten', 118)\n",
      "(182, 'Vs.', 118)\n",
      "(183, 'Dark Side Of The Moon', 120)\n",
      "(184, 'Os Cães Ladram Mas A Caravana Não Pára', 121)\n",
      "(185, 'Greatest Hits I', 51)\n",
      "(186, 'News Of The World', 51)\n",
      "(187, 'Out Of Time', 122)\n",
      "(188, 'Green', 124)\n",
      "(189, 'New Adventures In Hi-Fi', 124)\n",
      "(190, 'The Best Of R.E.M.: The IRS Years', 124)\n",
      "(191, 'Cesta Básica', 125)\n",
      "(192, 'Raul Seixas', 126)\n",
      "(193, 'Blood Sugar Sex Magik', 127)\n",
      "(194, 'By The Way', 127)\n",
      "(195, 'Californication', 127)\n",
      "(196, 'Retrospective I (1974-1980)', 128)\n",
      "(197, 'Santana - As Years Go By', 59)\n",
      "(198, 'Santana Live', 59)\n",
      "(199, 'Maquinarama', 130)\n",
      "(200, 'O Samba Poconé', 130)\n",
      "(201, 'Judas 0: B-Sides and Rarities', 131)\n",
      "(202, 'Rotten Apples: Greatest Hits', 131)\n",
      "(203, 'A-Sides', 132)\n",
      "(204, 'Morning Dance', 53)\n",
      "(205, 'In Step', 133)\n",
      "(206, 'Core', 134)\n",
      "(207, 'Mezmerize', 135)\n",
      "(208, '[1997] Black Light Syndrome', 136)\n",
      "(209, 'Live [Disc 1]', 137)\n",
      "(210, 'Live [Disc 2]', 137)\n",
      "(211, 'The Singles', 138)\n",
      "(212, 'Beyond Good And Evil', 139)\n",
      "(213, 'Pure Cult: The Best Of The Cult (For Rockers, Ravers, Lovers & Sinners) [UK]', 139)\n",
      "(214, 'The Doors', 140)\n",
      "(215, 'The Police Greatest Hits', 141)\n",
      "(216, 'Hot Rocks, 1964-1971 (Disc 1)', 142)\n",
      "(217, 'No Security', 142)\n",
      "(218, 'Voodoo Lounge', 142)\n",
      "(219, 'Tangents', 143)\n",
      "(220, 'Transmission', 143)\n",
      "(221, 'My Generation - The Very Best Of The Who', 144)\n",
      "(222, 'Serie Sem Limite (Disc 1)', 145)\n",
      "(223, 'Serie Sem Limite (Disc 2)', 145)\n",
      "(224, 'Acústico', 146)\n",
      "(225, 'Volume Dois', 146)\n",
      "(226, 'Battlestar Galactica: The Story So Far', 147)\n",
      "(227, 'Battlestar Galactica, Season 3', 147)\n",
      "(228, 'Heroes, Season 1', 148)\n",
      "(229, 'Lost, Season 3', 149)\n",
      "(230, 'Lost, Season 1', 149)\n",
      "(231, 'Lost, Season 2', 149)\n",
      "(232, 'Achtung Baby', 150)\n",
      "(233, \"All That You Can't Leave Behind\", 150)\n",
      "(234, 'B-Sides 1980-1990', 150)\n",
      "(235, 'How To Dismantle An Atomic Bomb', 150)\n",
      "(236, 'Pop', 150)\n",
      "(237, 'Rattle And Hum', 150)\n",
      "(238, 'The Best Of 1980-1990', 150)\n",
      "(239, 'War', 150)\n",
      "(240, 'Zooropa', 150)\n",
      "(241, 'UB40 The Best Of - Volume Two [UK]', 151)\n",
      "(242, 'Diver Down', 152)\n",
      "(243, 'The Best Of Van Halen, Vol. I', 152)\n",
      "(244, 'Van Halen', 152)\n",
      "(245, 'Van Halen III', 152)\n",
      "(246, 'Contraband', 153)\n",
      "(247, 'Vinicius De Moraes', 72)\n",
      "(248, 'Ao Vivo [IMPORT]', 155)\n",
      "(249, 'The Office, Season 1', 156)\n",
      "(250, 'The Office, Season 2', 156)\n",
      "(251, 'The Office, Season 3', 156)\n",
      "(252, 'Un-Led-Ed', 157)\n",
      "(253, 'Battlestar Galactica (Classic), Season 1', 158)\n",
      "(254, 'Aquaman', 159)\n",
      "(255, 'Instant Karma: The Amnesty International Campaign to Save Darfur', 150)\n",
      "(256, 'Speak of the Devil', 114)\n",
      "(257, '20th Century Masters - The Millennium Collection: The Best of Scorpions', 179)\n",
      "(258, 'House of Pain', 180)\n",
      "(259, 'Radio Brasil (O Som da Jovem Vanguarda) - Seleccao de Henrique Amaro', 36)\n",
      "(260, 'Cake: B-Sides and Rarities', 196)\n",
      "(261, 'LOST, Season 4', 149)\n",
      "(262, 'Quiet Songs', 197)\n",
      "(263, 'Muso Ko', 198)\n",
      "(264, 'Realize', 199)\n",
      "(265, 'Every Kind of Light', 200)\n",
      "(266, 'Duos II', 201)\n",
      "(267, 'Worlds', 202)\n",
      "(268, 'The Best of Beethoven', 203)\n",
      "(269, 'Temple of the Dog', 204)\n",
      "(270, 'Carry On', 205)\n",
      "(271, 'Revelations', 8)\n",
      "(272, 'Adorate Deum: Gregorian Chant from the Proper of the Mass', 206)\n",
      "(273, 'Allegri: Miserere', 207)\n",
      "(274, 'Pachelbel: Canon & Gigue', 208)\n",
      "(275, 'Vivaldi: The Four Seasons', 209)\n",
      "(276, 'Bach: Violin Concertos', 210)\n",
      "(277, 'Bach: Goldberg Variations', 211)\n",
      "(278, 'Bach: The Cello Suites', 212)\n",
      "(279, 'Handel: The Messiah (Highlights)', 213)\n",
      "(280, 'The World of Classical Favourites', 214)\n",
      "(281, 'Sir Neville Marriner: A Celebration', 215)\n",
      "(282, 'Mozart: Wind Concertos', 216)\n",
      "(283, 'Haydn: Symphonies 99 - 104', 217)\n",
      "(284, 'Beethoven: Symhonies Nos. 5 & 6', 218)\n",
      "(285, 'A Soprano Inspired', 219)\n",
      "(286, 'Great Opera Choruses', 220)\n",
      "(287, 'Wagner: Favourite Overtures', 221)\n",
      "(288, 'Fauré: Requiem, Ravel: Pavane & Others', 222)\n",
      "(289, 'Tchaikovsky: The Nutcracker', 223)\n",
      "(290, 'The Last Night of the Proms', 224)\n",
      "(291, 'Puccini: Madama Butterfly - Highlights', 225)\n",
      "(292, 'Holst: The Planets, Op. 32 & Vaughan Williams: Fantasies', 226)\n",
      "(293, \"Pavarotti's Opera Made Easy\", 227)\n",
      "(294, \"Great Performances - Barber's Adagio and Other Romantic Favorites for Strings\", 228)\n",
      "(295, 'Carmina Burana', 229)\n",
      "(296, 'A Copland Celebration, Vol. I', 230)\n",
      "(297, 'Bach: Toccata & Fugue in D Minor', 231)\n",
      "(298, 'Prokofiev: Symphony No.1', 232)\n",
      "(299, 'Scheherazade', 233)\n",
      "(300, 'Bach: The Brandenburg Concertos', 234)\n",
      "(301, 'Chopin: Piano Concertos Nos. 1 & 2', 235)\n",
      "(302, 'Mascagni: Cavalleria Rusticana', 236)\n",
      "(303, 'Sibelius: Finlandia', 237)\n",
      "(304, 'Beethoven Piano Sonatas: Moonlight & Pastorale', 238)\n",
      "(305, 'Great Recordings of the Century - Mahler: Das Lied von der Erde', 240)\n",
      "(306, 'Elgar: Cello Concerto & Vaughan Williams: Fantasias', 241)\n",
      "(307, 'Adams, John: The Chairman Dances', 242)\n",
      "(308, \"Tchaikovsky: 1812 Festival Overture, Op.49, Capriccio Italien & Beethoven: Wellington's Victory\", 243)\n",
      "(309, 'Palestrina: Missa Papae Marcelli & Allegri: Miserere', 244)\n",
      "(310, 'Prokofiev: Romeo & Juliet', 245)\n",
      "(311, 'Strauss: Waltzes', 226)\n",
      "(312, 'Berlioz: Symphonie Fantastique', 245)\n",
      "(313, 'Bizet: Carmen Highlights', 246)\n",
      "(314, 'English Renaissance', 247)\n",
      "(315, 'Handel: Music for the Royal Fireworks (Original Version 1749)', 208)\n",
      "(316, 'Grieg: Peer Gynt Suites & Sibelius: Pelléas et Mélisande', 248)\n",
      "(317, 'Mozart Gala: Famous Arias', 249)\n",
      "(318, 'SCRIABIN: Vers la flamme', 250)\n",
      "(319, 'Armada: Music from the Courts of England and Spain', 251)\n",
      "(320, 'Mozart: Symphonies Nos. 40 & 41', 248)\n",
      "(321, 'Back to Black', 252)\n",
      "(322, 'Frank', 252)\n",
      "(323, 'Carried to Dust (Bonus Track Version)', 253)\n",
      "(324, \"Beethoven: Symphony No. 6 'Pastoral' Etc.\", 254)\n",
      "(325, 'Bartok: Violin & Viola Concertos', 255)\n",
      "(326, \"Mendelssohn: A Midsummer Night's Dream\", 256)\n",
      "(327, 'Bach: Orchestral Suites Nos. 1 - 4', 257)\n",
      "(328, 'Charpentier: Divertissements, Airs & Concerts', 258)\n",
      "(329, 'South American Getaway', 259)\n",
      "(330, 'Górecki: Symphony No. 3', 260)\n",
      "(331, 'Purcell: The Fairy Queen', 261)\n",
      "(332, 'The Ultimate Relexation Album', 262)\n",
      "(333, 'Purcell: Music for the Queen Mary', 263)\n",
      "(334, 'Weill: The Seven Deadly Sins', 264)\n",
      "(335, 'J.S. Bach: Chaconne, Suite in E Minor, Partita in E Major & Prelude, Fugue and Allegro', 265)\n",
      "(336, 'Prokofiev: Symphony No.5 & Stravinksy: Le Sacre Du Printemps', 248)\n",
      "(337, 'Szymanowski: Piano Works, Vol. 1', 266)\n",
      "(338, 'Nielsen: The Six Symphonies', 267)\n",
      "(339, \"Great Recordings of the Century: Paganini's 24 Caprices\", 268)\n",
      "(340, \"Liszt - 12 Études D'Execution Transcendante\", 269)\n",
      "(341, 'Great Recordings of the Century - Shubert: Schwanengesang, 4 Lieder', 270)\n",
      "(342, 'Locatelli: Concertos for Violin, Strings and Continuo, Vol. 3', 271)\n",
      "(343, 'Respighi:Pines of Rome', 226)\n",
      "(344, \"Schubert: The Late String Quartets & String Quintet (3 CD's)\", 272)\n",
      "(345, \"Monteverdi: L'Orfeo\", 273)\n",
      "(346, 'Mozart: Chamber Music', 274)\n",
      "(347, 'Koyaanisqatsi (Soundtrack from the Motion Picture)', 275)\n"
     ]
    }
   ],
   "source": [
    " for i in c.execute('''Select * from Album '''):\n",
    "        print(i)"
   ]
  },
  {
   "cell_type": "code",
   "execution_count": 32,
   "metadata": {
    "deletable": false,
    "editable": false,
    "nbgrader": {
     "cell_type": "code",
     "checksum": "3a1f1748e5b34f968940f553c67e75be",
     "grade": true,
     "grade_id": "cell-d403320337a4b928",
     "locked": true,
     "points": 1,
     "schema_version": 3,
     "solution": false,
     "task": false
    }
   },
   "outputs": [],
   "source": [
    "try:\n",
    "    list_album_ids_by_letter('ndf')\n",
    "    assert False\n",
    "except ValueError:\n",
    "    assert True"
   ]
  },
  {
   "cell_type": "code",
   "execution_count": 33,
   "metadata": {
    "deletable": false,
    "editable": false,
    "nbgrader": {
     "cell_type": "code",
     "checksum": "05a41f6049aea7fe634f9c2cca212d20",
     "grade": true,
     "grade_id": "cell-0d4f64e117432d87",
     "locked": true,
     "points": 1,
     "schema_version": 3,
     "solution": false,
     "task": false
    }
   },
   "outputs": [],
   "source": [
    "assert list_album_ids_by_letter('n') == [28, 105, 164, 173, 186, 189, 217, 338]"
   ]
  },
  {
   "cell_type": "markdown",
   "metadata": {
    "deletable": false,
    "editable": false,
    "nbgrader": {
     "cell_type": "markdown",
     "checksum": "b84077cf48dad96098e5f92dedab1d4a",
     "grade": false,
     "grade_id": "cell-3d203c8a56231a2d",
     "locked": true,
     "schema_version": 3,
     "solution": false,
     "task": false
    }
   },
   "source": [
    "### Part 4 (2 points)\n",
    "Write a function `list_song_ids_by_album_letter` that takes as an argument a single character and returns a list of the primary keys of all the songs whose album names begin with that letter. \n",
    "\n",
    "Again, your function should ignore case and perform error checking as in `list_album_ids_by_letter`. \n",
    "\n",
    "__Hint:__ you'll need a `JOIN` statement here. Don't forget that you can use the `cursor.description` attribute to find out about tables and the names of their columns."
   ]
  },
  {
   "cell_type": "code",
   "execution_count": 148,
   "metadata": {
    "deletable": false,
    "nbgrader": {
     "cell_type": "code",
     "checksum": "6e78c016aae8b050bf67c334fbaac7a0",
     "grade": false,
     "grade_id": "cell-923e58005cc15786",
     "locked": false,
     "schema_version": 3,
     "solution": true,
     "task": false
    }
   },
   "outputs": [],
   "source": [
    "def list_song_ids_by_album_letter(s):\n",
    "    albumlist = list_album_ids_by_letter(s)\n",
    "    result = []\n",
    "    for i in c.execute('''Select Track.TrackId,Name, Track.AlbumId from Track \\\n",
    "     LEFT JOIN Album on Track.AlbumId=Album.AlbumId'''):\n",
    "        if i[2] in albumlist:\n",
    "            result.append(i[0])\n",
    "    return result"
   ]
  },
  {
   "cell_type": "code",
   "execution_count": 149,
   "metadata": {
    "deletable": false,
    "editable": false,
    "nbgrader": {
     "cell_type": "code",
     "checksum": "861842e205471937802b11a3e320adc3",
     "grade": true,
     "grade_id": "prob4-4-test1",
     "locked": true,
     "points": 1,
     "schema_version": 3,
     "solution": false,
     "task": false
    }
   },
   "outputs": [],
   "source": [
    "try:\n",
    "    list_song_ids_by_album_letter('ndf')\n",
    "    assert False\n",
    "except ValueError:\n",
    "    assert True"
   ]
  },
  {
   "cell_type": "code",
   "execution_count": 150,
   "metadata": {
    "deletable": false,
    "editable": false,
    "nbgrader": {
     "cell_type": "code",
     "checksum": "fae65620a2dc7ebf47882529f044c127",
     "grade": true,
     "grade_id": "prob4-4-test2",
     "locked": true,
     "points": 1,
     "schema_version": 3,
     "solution": false,
     "task": false
    }
   },
   "outputs": [],
   "source": [
    "assert list_song_ids_by_album_letter('z') == [3028, 3029, 3030, 3031,\n",
    "                                              3032, 3033, 3034, 3035,\n",
    "                                              3036, 3037]"
   ]
  },
  {
   "cell_type": "markdown",
   "metadata": {
    "deletable": false,
    "editable": false,
    "nbgrader": {
     "cell_type": "markdown",
     "checksum": "533f6fc60cec695457cab1e142bc08e9",
     "grade": false,
     "grade_id": "cell-d2888e63a0623e2a",
     "locked": true,
     "schema_version": 3,
     "solution": false,
     "task": false
    }
   },
   "source": [
    "### Part 5 (2 points)\n",
    "\n",
    "Write a function `total_cost_by_album_letter` that takes as an argument a single character and returns the cost of buying every song whose album begins with that letter. This cost should be based on the tracks' unit prices, so that the cost of buying a set of tracks is simply the sum of the unit prices of all the tracks in the set. Assume input is always a single lower case chracter."
   ]
  },
  {
   "cell_type": "code",
   "execution_count": 151,
   "metadata": {
    "deletable": false,
    "nbgrader": {
     "cell_type": "code",
     "checksum": "9969a3fe2392ae3cffb83920a9e10b82",
     "grade": false,
     "grade_id": "cell-0c65ee406ac0ffe4",
     "locked": false,
     "schema_version": 3,
     "solution": true,
     "task": false
    }
   },
   "outputs": [],
   "source": [
    "def total_cost_by_album_letter(s):\n",
    "    songlist = list_song_ids_by_album_letter(s)\n",
    "    result = 0\n",
    "    for i in c.execute('''Select TrackId, UnitPrice from Track '''):\n",
    "        if i[0] in songlist:\n",
    "            result += i[1]\n",
    "    return result"
   ]
  },
  {
   "cell_type": "code",
   "execution_count": 152,
   "metadata": {
    "deletable": false,
    "editable": false,
    "nbgrader": {
     "cell_type": "code",
     "checksum": "7bd7821fda608ef4516861101c87ec6a",
     "grade": true,
     "grade_id": "cell-c7a96ed82a24e685",
     "locked": true,
     "points": 1,
     "schema_version": 3,
     "solution": false,
     "task": false
    }
   },
   "outputs": [],
   "source": [
    "assert total_cost_by_album_letter('z') == 9.9"
   ]
  },
  {
   "cell_type": "code",
   "execution_count": 153,
   "metadata": {
    "deletable": false,
    "editable": false,
    "nbgrader": {
     "cell_type": "code",
     "checksum": "1b556a4f10da1add2a057b17ec6e14cb",
     "grade": true,
     "grade_id": "cell-8ee5f3e15e1fc42b",
     "locked": true,
     "points": 1,
     "schema_version": 3,
     "solution": false,
     "task": false
    }
   },
   "outputs": [],
   "source": [
    "assert round(total_cost_by_album_letter('a'), 0) == 366"
   ]
  }
 ],
 "metadata": {
  "kernelspec": {
   "display_name": "Python 3",
   "language": "python",
   "name": "python3"
  },
  "language_info": {
   "codemirror_mode": {
    "name": "ipython",
    "version": 3
   },
   "file_extension": ".py",
   "mimetype": "text/x-python",
   "name": "python",
   "nbconvert_exporter": "python",
   "pygments_lexer": "ipython3",
   "version": "3.8.3"
  },
  "latex_envs": {
   "LaTeX_envs_menu_present": true,
   "autoclose": false,
   "autocomplete": true,
   "bibliofile": "biblio.bib",
   "cite_by": "apalike",
   "current_citInitial": 1,
   "eqLabelWithNumbers": true,
   "eqNumInitial": 1,
   "hotkeys": {
    "equation": "meta-shift-y"
   },
   "labels_anchors": false,
   "latex_user_defs": false,
   "report_style_numbering": false,
   "user_envs_cfg": false
  },
  "toc": {
   "base_numbering": 1,
   "nav_menu": {},
   "number_sections": false,
   "sideBar": true,
   "skip_h1_title": false,
   "title_cell": "Table of Contents",
   "title_sidebar": "Contents",
   "toc_cell": false,
   "toc_position": {
    "height": "calc(100% - 180px)",
    "left": "10px",
    "top": "150px",
    "width": "353.483px"
   },
   "toc_section_display": true,
   "toc_window_display": true
  }
 },
 "nbformat": 4,
 "nbformat_minor": 2
}
