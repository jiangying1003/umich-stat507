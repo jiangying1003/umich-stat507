{
 "cells": [
  {
   "cell_type": "markdown",
   "metadata": {
    "colab_type": "text",
    "id": "PGuiblw1REef"
   },
   "source": [
    "# Stats507 Homework 2 (40 points)\n",
    "### Ying Jiang\n",
    "#### jiangyyy@umich.edu\n",
    "\n",
    "__Remark: For this homework, do not use \"input\" in your code!!!__\n",
    "\n",
    "I did not discuss this homework with anyone.\n",
    "\n",
    "This homework assignment took me 10 hours in total to complete.\n"
   ]
  },
  {
   "cell_type": "markdown",
   "metadata": {
    "colab_type": "text",
    "deletable": false,
    "editable": false,
    "id": "0lSVBdY-REem",
    "nbgrader": {
     "cell_type": "markdown",
     "checksum": "fca5597d6bffda23ce519b071c6117f1",
     "grade": false,
     "grade_id": "cell-d15e3b06a5d44dd3",
     "locked": true,
     "schema_version": 3,
     "solution": false,
     "task": false
    }
   },
   "source": [
    "#### (1 point) Chapter 6, Exercise 5: Use find and string slicing to extract the portion of the string after the colon character and then use the float function to convert the extracted string into a floating point number."
   ]
  },
  {
   "cell_type": "code",
   "execution_count": 1,
   "metadata": {
    "colab": {},
    "colab_type": "code",
    "deletable": false,
    "id": "4-SzXxvCREen",
    "nbgrader": {
     "cell_type": "code",
     "checksum": "be034b6b76754c1846bcbcf17edd9b77",
     "grade": false,
     "grade_id": "6_5",
     "locked": false,
     "schema_version": 3,
     "solution": true,
     "task": false
    },
    "scrolled": true
   },
   "outputs": [
    {
     "name": "stdout",
     "output_type": "stream",
     "text": [
      "0.8475\n"
     ]
    }
   ],
   "source": [
    "# Finish the question based on the string below:\n",
    "string_example = 'X-DSPAM-Confidence:  0.8475'\n",
    "\n",
    "\n",
    "# You final result should be defined as number, i.e.\n",
    "# number = ?\n",
    "# YOUR CODE HERE\n",
    "pos=string_example.find(\":\")\n",
    "need=string_example[(pos+1):]\n",
    "num=float(need)\n",
    "print(num)"
   ]
  },
  {
   "cell_type": "code",
   "execution_count": 1,
   "metadata": {},
   "outputs": [
    {
     "data": {
      "text/plain": [
       "7"
      ]
     },
     "execution_count": 1,
     "metadata": {},
     "output_type": "execute_result"
    }
   ],
   "source": [
    "a= 'X-DSPAM:-Confidence:  0.8475'\n",
    "a.find(\":\")"
   ]
  },
  {
   "cell_type": "code",
   "execution_count": null,
   "metadata": {
    "deletable": false,
    "editable": false,
    "nbgrader": {
     "cell_type": "code",
     "checksum": "2a79c46822fb9e49cd516c18edc5b666",
     "grade": true,
     "grade_id": "cell-7bdf8410ad9ecabc",
     "locked": true,
     "points": 1,
     "schema_version": 3,
     "solution": false,
     "task": false
    }
   },
   "outputs": [],
   "source": []
  },
  {
   "cell_type": "markdown",
   "metadata": {
    "colab_type": "text",
    "deletable": false,
    "editable": false,
    "id": "wSW5yVgkREeu",
    "nbgrader": {
     "cell_type": "markdown",
     "checksum": "5aebca20019c92f2616ddc9fa6f40fd2",
     "grade": false,
     "grade_id": "cell-36fad7bce2571599",
     "locked": true,
     "schema_version": 3,
     "solution": false,
     "task": false
    }
   },
   "source": [
    "#### (1 point) Chapter 7, Exercises 1: Write a program to read through a file and print the contents of the file (line by line) all in upper case. Executing the program for the first 5 lines of *mbox-short.txt* will look as follows:\n",
    "\n",
    "FROM STEPHEN.MARQUARD@UCT.AC.ZA SAT JAN  5 09:14:16 2008\n",
    "\n",
    "RETURN-PATH: \\<POSTMASTER@COLLAB.SAKAIPROJECT.ORG\\>\n",
    "\n",
    "RECEIVED: FROM MURDER (MAIL.UMICH.EDU \\[141.211.14.90\\])\n",
    "\n",
    "> BY FRANKENSTEIN.MAIL.UMICH.EDU (CYRUS V2.3.8) WITH LMTPA;\n",
    "     \n",
    "> SAT, 05 JAN 2008 09:14:16 -0500"
   ]
  },
  {
   "cell_type": "code",
   "execution_count": 3,
   "metadata": {
    "colab": {},
    "colab_type": "code",
    "deletable": false,
    "id": "WvXW38UmREev",
    "nbgrader": {
     "cell_type": "code",
     "checksum": "1e87c823578e3ffb097dbec01e683f99",
     "grade": true,
     "grade_id": "cell-db52ee6479e35ee3",
     "locked": false,
     "points": 1,
     "schema_version": 3,
     "solution": true,
     "task": false
    }
   },
   "outputs": [
    {
     "name": "stdout",
     "output_type": "stream",
     "text": [
      "FROM STEPHEN.MARQUARD@UCT.AC.ZA SAT JAN  5 09:14:16 2008\n",
      "\n",
      "RETURN-PATH: <POSTMASTER@COLLAB.SAKAIPROJECT.ORG>\n",
      "\n",
      "RECEIVED: FROM MURDER (MAIL.UMICH.EDU [141.211.14.90])\n",
      "\n",
      "\t BY FRANKENSTEIN.MAIL.UMICH.EDU (CYRUS V2.3.8) WITH LMTPA;\n",
      "\n",
      "\t SAT, 05 JAN 2008 09:14:16 -0500\n",
      "\n",
      "X-SIEVE: CMU SIEVE 2.3\n",
      "\n",
      "RECEIVED: FROM MURDER ([UNIX SOCKET])\n",
      "\n",
      "\t BY MAIL.UMICH.EDU (CYRUS V2.2.12) WITH LMTPA;\n",
      "\n",
      "\t SAT, 05 JAN 2008 09:14:16 -0500\n",
      "\n",
      "RECEIVED: FROM HOLES.MR.ITD.UMICH.EDU (HOLES.MR.ITD.UMICH.EDU [141.211.14.79])\n",
      "\n",
      "\tBY FLAWLESS.MAIL.UMICH.EDU () WITH ESMTP ID M05EEFR1013674;\n",
      "\n",
      "\tSAT, 5 JAN 2008 09:14:15 -0500\n",
      "\n",
      "RECEIVED: FROM PAPLOO.UHI.AC.UK (APP1.PROD.COLLAB.UHI.AC.UK [194.35.219.184])\n",
      "\n",
      "\tBY HOLES.MR.ITD.UMICH.EDU ID 477F90B0.2DB2F.12494 ; \n",
      "\n",
      "\t 5 JAN 2008 09:14:10 -0500\n",
      "\n",
      "RECEIVED: FROM PAPLOO.UHI.AC.UK (LOCALHOST [127.0.0.1])\n",
      "\n",
      "\tBY PAPLOO.UHI.AC.UK (POSTFIX) WITH ESMTP ID 5F919BC2F2;\n",
      "\n",
      "\tSAT,  5 JAN 2008 14:10:05 +0000 (GMT)\n",
      "\n",
      "MESSAGE-ID: <200801051412.M05ECIAH010327@NAKAMURA.UITS.IUPUI.EDU>\n",
      "\n",
      "MIME-VERSION: 1.0\n",
      "\n",
      "CONTENT-TRANSFER-ENCODING: 7BIT\n",
      "\n",
      "RECEIVED: FROM PROD.COLLAB.UHI.AC.UK ([194.35.219.182])\n",
      "\n",
      "          BY PAPLOO.UHI.AC.UK (JAMES SMTP SERVER 2.1.3) WITH SMTP ID 899\n",
      "\n",
      "          FOR <SOURCE@COLLAB.SAKAIPROJECT.ORG>;\n",
      "\n",
      "          SAT, 5 JAN 2008 14:09:50 +0000 (GMT)\n",
      "\n",
      "RECEIVED: FROM NAKAMURA.UITS.IUPUI.EDU (NAKAMURA.UITS.IUPUI.EDU [134.68.220.122])\n",
      "\n",
      "\tBY SHMI.UHI.AC.UK (POSTFIX) WITH ESMTP ID A215243002\n",
      "\n",
      "\tFOR <SOURCE@COLLAB.SAKAIPROJECT.ORG>; SAT,  5 JAN 2008 14:13:33 +0000 (GMT)\n",
      "\n",
      "RECEIVED: FROM NAKAMURA.UITS.IUPUI.EDU (LOCALHOST [127.0.0.1])\n",
      "\n",
      "\tBY NAKAMURA.UITS.IUPUI.EDU (8.12.11.20060308/8.12.11) WITH ESMTP ID M05ECJVP010329\n",
      "\n",
      "\tFOR <SOURCE@COLLAB.SAKAIPROJECT.ORG>; SAT, 5 JAN 2008 09:12:19 -0500\n",
      "\n",
      "RECEIVED: (FROM APACHE@LOCALHOST)\n",
      "\n",
      "\tBY NAKAMURA.UITS.IUPUI.EDU (8.12.11.20060308/8.12.11/SUBMIT) ID M05ECIAH010327\n",
      "\n",
      "\tFOR SOURCE@COLLAB.SAKAIPROJECT.ORG; SAT, 5 JAN 2008 09:12:18 -0500\n",
      "\n",
      "DATE: SAT, 5 JAN 2008 09:12:18 -0500\n",
      "\n",
      "X-AUTHENTICATION-WARNING: NAKAMURA.UITS.IUPUI.EDU: APACHE SET SENDER TO STEPHEN.MARQUARD@UCT.AC.ZA USING -F\n",
      "\n",
      "TO: SOURCE@COLLAB.SAKAIPROJECT.ORG\n",
      "\n",
      "FROM: STEPHEN.MARQUARD@UCT.AC.ZA\n",
      "\n",
      "SUBJECT: [SAKAI] SVN COMMIT: R39772 - CONTENT/BRANCHES/SAKAI_2-5-X/CONTENT-IMPL/IMPL/SRC/JAVA/ORG/SAKAIPROJECT/CONTENT/IMPL\n",
      "\n",
      "X-CONTENT-TYPE-OUTER-ENVELOPE: TEXT/PLAIN; CHARSET=UTF-8\n",
      "\n",
      "X-CONTENT-TYPE-MESSAGE-BODY: TEXT/PLAIN; CHARSET=UTF-8\n",
      "\n",
      "CONTENT-TYPE: TEXT/PLAIN; CHARSET=UTF-8\n",
      "\n",
      "X-DSPAM-RESULT: INNOCENT\n",
      "\n",
      "X-DSPAM-PROCESSED: SAT JAN  5 09:14:16 2008\n",
      "\n",
      "X-DSPAM-CONFIDENCE: 0.8475\n",
      "\n",
      "X-DSPAM-PROBABILITY: 0.0000\n",
      "\n",
      "\n",
      "\n",
      "DETAILS: HTTP://SOURCE.SAKAIPROJECT.ORG/VIEWSVN/?VIEW=REV&REV=39772\n",
      "\n",
      "\n",
      "\n",
      "AUTHOR: STEPHEN.MARQUARD@UCT.AC.ZA\n",
      "\n",
      "DATE: 2008-01-05 09:12:07 -0500 (SAT, 05 JAN 2008)\n",
      "\n",
      "NEW REVISION: 39772\n",
      "\n",
      "\n",
      "\n",
      "MODIFIED:\n",
      "\n",
      "CONTENT/BRANCHES/SAKAI_2-5-X/CONTENT-IMPL/IMPL/SRC/JAVA/ORG/SAKAIPROJECT/CONTENT/IMPL/CONTENTSERVICESQLORACLE.JAVA\n",
      "\n",
      "CONTENT/BRANCHES/SAKAI_2-5-X/CONTENT-IMPL/IMPL/SRC/JAVA/ORG/SAKAIPROJECT/CONTENT/IMPL/DBCONTENTSERVICE.JAVA\n",
      "\n",
      "LOG:\n",
      "\n",
      "SAK-12501 MERGE TO 2-5-X: R39622, R39624:5, R39632:3 (RESOLVE CONFLICT FROM DIFFERING LINEBREAKS FOR R39622)\n",
      "\n",
      "\n",
      "\n",
      "----------------------\n",
      "\n",
      "THIS AUTOMATIC NOTIFICATION MESSAGE WAS SENT BY SAKAI COLLAB (HTTPS://COLLAB.SAKAIPROJECT.ORG/PORTAL) FROM THE SOURCE SITE.\n",
      "\n",
      "YOU CAN MODIFY HOW YOU RECEIVE NOTIFICATIONS AT MY WORKSPACE > PREFERENCES.\n",
      "\n",
      "\n",
      "\n",
      "\n",
      "\n",
      "\n",
      "\n",
      "FROM LOUIS@MEDIA.BERKELEY.EDU FRI JAN  4 18:10:48 2008\n",
      "\n",
      "RETURN-PATH: <POSTMASTER@COLLAB.SAKAIPROJECT.ORG>\n",
      "\n",
      "RECEIVED: FROM MURDER (MAIL.UMICH.EDU [141.211.14.97])\n",
      "\n",
      "\t BY FRANKENSTEIN.MAIL.UMICH.EDU (CYRUS V2.3.8) WITH LMTPA;\n",
      "\n",
      "\t FRI, 04 JAN 2008 18:10:48 -0500\n",
      "\n",
      "X-SIEVE: CMU SIEVE 2.3\n",
      "\n",
      "RECEIVED: FROM MURDER ([UNIX SOCKET])\n",
      "\n",
      "\t BY MAIL.UMICH.EDU (CYRUS V2.2.12) WITH LMTPA;\n",
      "\n",
      "\t FRI, 04 JAN 2008 18:10:48 -0500\n",
      "\n",
      "RECEIVED: FROM ICESTORM.MR.ITD.UMICH.EDU (ICESTORM.MR.ITD.UMICH.EDU [141.211.93.149])\n",
      "\n",
      "\tBY SLEEPERS.MAIL.UMICH.EDU () WITH ESMTP ID M04NABGA029441;\n",
      "\n",
      "\tFRI, 4 JAN 2008 18:10:37 -0500\n",
      "\n",
      "RECEIVED: FROM PAPLOO.UHI.AC.UK (APP1.PROD.COLLAB.UHI.AC.UK [194.35.219.184])\n",
      "\n",
      "\tBY ICESTORM.MR.ITD.UMICH.EDU ID 477EBCE3.161BB.4320 ; \n",
      "\n",
      "\t 4 JAN 2008 18:10:31 -0500\n",
      "\n",
      "RECEIVED: FROM PAPLOO.UHI.AC.UK (LOCALHOST [127.0.0.1])\n",
      "\n",
      "\tBY PAPLOO.UHI.AC.UK (POSTFIX) WITH ESMTP ID 07969BB706;\n",
      "\n",
      "\tFRI,  4 JAN 2008 23:10:33 +0000 (GMT)\n",
      "\n",
      "MESSAGE-ID: <200801042308.M04N8V6O008125@NAKAMURA.UITS.IUPUI.EDU>\n",
      "\n",
      "MIME-VERSION: 1.0\n",
      "\n",
      "CONTENT-TRANSFER-ENCODING: 7BIT\n",
      "\n",
      "RECEIVED: FROM PROD.COLLAB.UHI.AC.UK ([194.35.219.182])\n",
      "\n",
      "          BY PAPLOO.UHI.AC.UK (JAMES SMTP SERVER 2.1.3) WITH SMTP ID 710\n",
      "\n",
      "          FOR <SOURCE@COLLAB.SAKAIPROJECT.ORG>;\n",
      "\n",
      "          FRI, 4 JAN 2008 23:10:10 +0000 (GMT)\n",
      "\n",
      "RECEIVED: FROM NAKAMURA.UITS.IUPUI.EDU (NAKAMURA.UITS.IUPUI.EDU [134.68.220.122])\n",
      "\n",
      "\tBY SHMI.UHI.AC.UK (POSTFIX) WITH ESMTP ID 4BA2F42F57\n",
      "\n",
      "\tFOR <SOURCE@COLLAB.SAKAIPROJECT.ORG>; FRI,  4 JAN 2008 23:10:10 +0000 (GMT)\n",
      "\n",
      "RECEIVED: FROM NAKAMURA.UITS.IUPUI.EDU (LOCALHOST [127.0.0.1])\n",
      "\n",
      "\tBY NAKAMURA.UITS.IUPUI.EDU (8.12.11.20060308/8.12.11) WITH ESMTP ID M04N8VHG008127\n",
      "\n",
      "\tFOR <SOURCE@COLLAB.SAKAIPROJECT.ORG>; FRI, 4 JAN 2008 18:08:57 -0500\n",
      "\n",
      "RECEIVED: (FROM APACHE@LOCALHOST)\n",
      "\n",
      "\tBY NAKAMURA.UITS.IUPUI.EDU (8.12.11.20060308/8.12.11/SUBMIT) ID M04N8V6O008125\n",
      "\n",
      "\tFOR SOURCE@COLLAB.SAKAIPROJECT.ORG; FRI, 4 JAN 2008 18:08:57 -0500\n",
      "\n",
      "DATE: FRI, 4 JAN 2008 18:08:57 -0500\n",
      "\n",
      "X-AUTHENTICATION-WARNING: NAKAMURA.UITS.IUPUI.EDU: APACHE SET SENDER TO LOUIS@MEDIA.BERKELEY.EDU USING -F\n",
      "\n",
      "TO: SOURCE@COLLAB.SAKAIPROJECT.ORG\n",
      "\n",
      "FROM: LOUIS@MEDIA.BERKELEY.EDU\n",
      "\n",
      "SUBJECT: [SAKAI] SVN COMMIT: R39771 - IN BSPACE/SITE-MANAGE/SAKAI_2-4-X/SITE-MANAGE-TOOL/TOOL/SRC: BUNDLE JAVA/ORG/SAKAIPROJECT/SITE/TOOL\n",
      "\n",
      "X-CONTENT-TYPE-OUTER-ENVELOPE: TEXT/PLAIN; CHARSET=UTF-8\n",
      "\n",
      "X-CONTENT-TYPE-MESSAGE-BODY: TEXT/PLAIN; CHARSET=UTF-8\n",
      "\n",
      "CONTENT-TYPE: TEXT/PLAIN; CHARSET=UTF-8\n",
      "\n",
      "X-DSPAM-RESULT: INNOCENT\n",
      "\n",
      "X-DSPAM-PROCESSED: FRI JAN  4 18:10:48 2008\n",
      "\n",
      "X-DSPAM-CONFIDENCE: 0.6178\n",
      "\n",
      "X-DSPAM-PROBABILITY: 0.0000\n",
      "\n",
      "\n",
      "\n",
      "DETAILS: HTTP://SOURCE.SAKAIPROJECT.ORG/VIEWSVN/?VIEW=REV&REV=39771\n",
      "\n",
      "\n",
      "\n",
      "AUTHOR: LOUIS@MEDIA.BERKELEY.EDU\n",
      "\n",
      "DATE: 2008-01-04 18:08:50 -0500 (FRI, 04 JAN 2008)\n",
      "\n",
      "NEW REVISION: 39771\n",
      "\n",
      "\n",
      "\n",
      "MODIFIED:\n",
      "\n",
      "BSPACE/SITE-MANAGE/SAKAI_2-4-X/SITE-MANAGE-TOOL/TOOL/SRC/BUNDLE/SITESETUPGENERIC.PROPERTIES\n",
      "\n",
      "BSPACE/SITE-MANAGE/SAKAI_2-4-X/SITE-MANAGE-TOOL/TOOL/SRC/JAVA/ORG/SAKAIPROJECT/SITE/TOOL/SITEACTION.JAVA\n",
      "\n",
      "LOG:\n",
      "\n",
      "BSP-1415 NEW (GUEST) USER NOTIFICATION\n",
      "\n",
      "\n",
      "\n",
      "----------------------\n",
      "\n",
      "THIS AUTOMATIC NOTIFICATION MESSAGE WAS SENT BY SAKAI COLLAB (HTTPS://COLLAB.SAKAIPROJECT.ORG/PORTAL) FROM THE SOURCE SITE.\n",
      "\n",
      "YOU CAN MODIFY HOW YOU RECEIVE NOTIFICATIONS AT MY WORKSPACE > PREFERENCES.\n",
      "\n",
      "\n",
      "\n",
      "\n",
      "\n",
      "\n",
      "\n",
      "FROM ZQIAN@UMICH.EDU FRI JAN  4 16:10:39 2008\n",
      "\n",
      "RETURN-PATH: <POSTMASTER@COLLAB.SAKAIPROJECT.ORG>\n",
      "\n",
      "RECEIVED: FROM MURDER (MAIL.UMICH.EDU [141.211.14.25])\n",
      "\n",
      "\t BY FRANKENSTEIN.MAIL.UMICH.EDU (CYRUS V2.3.8) WITH LMTPA;\n",
      "\n",
      "\t FRI, 04 JAN 2008 16:10:39 -0500\n",
      "\n",
      "X-SIEVE: CMU SIEVE 2.3\n",
      "\n",
      "RECEIVED: FROM MURDER ([UNIX SOCKET])\n",
      "\n",
      "\t BY MAIL.UMICH.EDU (CYRUS V2.2.12) WITH LMTPA;\n",
      "\n",
      "\t FRI, 04 JAN 2008 16:10:39 -0500\n",
      "\n",
      "RECEIVED: FROM GHOSTBUSTERS.MR.ITD.UMICH.EDU (GHOSTBUSTERS.MR.ITD.UMICH.EDU [141.211.93.144])\n",
      "\n",
      "\tBY PANTHER.MAIL.UMICH.EDU () WITH ESMTP ID M04LACZW014275;\n",
      "\n",
      "\tFRI, 4 JAN 2008 16:10:38 -0500\n",
      "\n",
      "RECEIVED: FROM PAPLOO.UHI.AC.UK (APP1.PROD.COLLAB.UHI.AC.UK [194.35.219.184])\n",
      "\n",
      "\tBY GHOSTBUSTERS.MR.ITD.UMICH.EDU ID 477EA0C6.A0214.25480 ; \n",
      "\n",
      "\t 4 JAN 2008 16:10:33 -0500\n",
      "\n",
      "RECEIVED: FROM PAPLOO.UHI.AC.UK (LOCALHOST [127.0.0.1])\n",
      "\n",
      "\tBY PAPLOO.UHI.AC.UK (POSTFIX) WITH ESMTP ID C48CDBB490;\n",
      "\n",
      "\tFRI,  4 JAN 2008 21:10:31 +0000 (GMT)\n",
      "\n",
      "MESSAGE-ID: <200801042109.M04L92HB007923@NAKAMURA.UITS.IUPUI.EDU>\n",
      "\n",
      "MIME-VERSION: 1.0\n",
      "\n",
      "CONTENT-TRANSFER-ENCODING: 7BIT\n",
      "\n",
      "RECEIVED: FROM PROD.COLLAB.UHI.AC.UK ([194.35.219.182])\n",
      "\n",
      "          BY PAPLOO.UHI.AC.UK (JAMES SMTP SERVER 2.1.3) WITH SMTP ID 906\n",
      "\n",
      "          FOR <SOURCE@COLLAB.SAKAIPROJECT.ORG>;\n",
      "\n",
      "          FRI, 4 JAN 2008 21:10:18 +0000 (GMT)\n",
      "\n",
      "RECEIVED: FROM NAKAMURA.UITS.IUPUI.EDU (NAKAMURA.UITS.IUPUI.EDU [134.68.220.122])\n",
      "\n",
      "\tBY SHMI.UHI.AC.UK (POSTFIX) WITH ESMTP ID 7D13042F71\n",
      "\n",
      "\tFOR <SOURCE@COLLAB.SAKAIPROJECT.ORG>; FRI,  4 JAN 2008 21:10:14 +0000 (GMT)\n",
      "\n",
      "RECEIVED: FROM NAKAMURA.UITS.IUPUI.EDU (LOCALHOST [127.0.0.1])\n",
      "\n",
      "\tBY NAKAMURA.UITS.IUPUI.EDU (8.12.11.20060308/8.12.11) WITH ESMTP ID M04L927E007925\n",
      "\n",
      "\tFOR <SOURCE@COLLAB.SAKAIPROJECT.ORG>; FRI, 4 JAN 2008 16:09:02 -0500\n",
      "\n",
      "RECEIVED: (FROM APACHE@LOCALHOST)\n",
      "\n",
      "\tBY NAKAMURA.UITS.IUPUI.EDU (8.12.11.20060308/8.12.11/SUBMIT) ID M04L92HB007923\n",
      "\n",
      "\tFOR SOURCE@COLLAB.SAKAIPROJECT.ORG; FRI, 4 JAN 2008 16:09:02 -0500\n",
      "\n",
      "DATE: FRI, 4 JAN 2008 16:09:02 -0500\n",
      "\n",
      "X-AUTHENTICATION-WARNING: NAKAMURA.UITS.IUPUI.EDU: APACHE SET SENDER TO ZQIAN@UMICH.EDU USING -F\n",
      "\n",
      "TO: SOURCE@COLLAB.SAKAIPROJECT.ORG\n",
      "\n",
      "FROM: ZQIAN@UMICH.EDU\n",
      "\n",
      "SUBJECT: [SAKAI] SVN COMMIT: R39770 - SITE-MANAGE/BRANCHES/SAKAI_2-5-X/SITE-MANAGE-TOOL/TOOL/SRC/WEBAPP/VM/SITESETUP\n",
      "\n",
      "X-CONTENT-TYPE-OUTER-ENVELOPE: TEXT/PLAIN; CHARSET=UTF-8\n",
      "\n",
      "X-CONTENT-TYPE-MESSAGE-BODY: TEXT/PLAIN; CHARSET=UTF-8\n",
      "\n",
      "CONTENT-TYPE: TEXT/PLAIN; CHARSET=UTF-8\n",
      "\n",
      "X-DSPAM-RESULT: INNOCENT\n",
      "\n",
      "X-DSPAM-PROCESSED: FRI JAN  4 16:10:39 2008\n",
      "\n",
      "X-DSPAM-CONFIDENCE: 0.6961\n",
      "\n",
      "X-DSPAM-PROBABILITY: 0.0000\n",
      "\n",
      "\n",
      "\n",
      "DETAILS: HTTP://SOURCE.SAKAIPROJECT.ORG/VIEWSVN/?VIEW=REV&REV=39770\n",
      "\n",
      "\n",
      "\n",
      "AUTHOR: ZQIAN@UMICH.EDU\n",
      "\n",
      "DATE: 2008-01-04 16:09:01 -0500 (FRI, 04 JAN 2008)\n",
      "\n",
      "NEW REVISION: 39770\n",
      "\n",
      "\n",
      "\n",
      "MODIFIED:\n",
      "\n",
      "SITE-MANAGE/BRANCHES/SAKAI_2-5-X/SITE-MANAGE-TOOL/TOOL/SRC/WEBAPP/VM/SITESETUP/CHEF_SITE-SITEINFO-LIST.VM\n",
      "\n",
      "LOG:\n",
      "\n",
      "MERGE FIX TO SAK-9996 INTO 2-5-X BRANCH: SVN MERGE -R 39687:39688 HTTPS://SOURCE.SAKAIPROJECT.ORG/SVN/SITE-MANAGE/TRUNK/\n",
      "\n",
      "\n",
      "\n",
      "----------------------\n",
      "\n",
      "THIS AUTOMATIC NOTIFICATION MESSAGE WAS SENT BY SAKAI COLLAB (HTTPS://COLLAB.SAKAIPROJECT.ORG/PORTAL) FROM THE SOURCE SITE.\n",
      "\n",
      "YOU CAN MODIFY HOW YOU RECEIVE NOTIFICATIONS AT MY WORKSPACE > PREFERENCES.\n",
      "\n",
      "\n",
      "\n",
      "\n",
      "\n",
      "\n",
      "\n",
      "FROM RJLOWE@IUPUI.EDU FRI JAN  4 15:46:24 2008\n",
      "\n",
      "RETURN-PATH: <POSTMASTER@COLLAB.SAKAIPROJECT.ORG>\n",
      "\n",
      "RECEIVED: FROM MURDER (MAIL.UMICH.EDU [141.211.14.25])\n",
      "\n",
      "\t BY FRANKENSTEIN.MAIL.UMICH.EDU (CYRUS V2.3.8) WITH LMTPA;\n",
      "\n",
      "\t FRI, 04 JAN 2008 15:46:24 -0500\n",
      "\n",
      "X-SIEVE: CMU SIEVE 2.3\n",
      "\n",
      "RECEIVED: FROM MURDER ([UNIX SOCKET])\n",
      "\n",
      "\t BY MAIL.UMICH.EDU (CYRUS V2.2.12) WITH LMTPA;\n",
      "\n",
      "\t FRI, 04 JAN 2008 15:46:24 -0500\n",
      "\n",
      "RECEIVED: FROM DREAMCATCHER.MR.ITD.UMICH.EDU (DREAMCATCHER.MR.ITD.UMICH.EDU [141.211.14.43])\n",
      "\n",
      "\tBY PANTHER.MAIL.UMICH.EDU () WITH ESMTP ID M04KKNBX032077;\n",
      "\n",
      "\tFRI, 4 JAN 2008 15:46:23 -0500\n",
      "\n",
      "RECEIVED: FROM PAPLOO.UHI.AC.UK (APP1.PROD.COLLAB.UHI.AC.UK [194.35.219.184])\n",
      "\n",
      "\tBY DREAMCATCHER.MR.ITD.UMICH.EDU ID 477E9B13.2F3BC.22965 ; \n",
      "\n",
      "\t 4 JAN 2008 15:46:13 -0500\n",
      "\n",
      "RECEIVED: FROM PAPLOO.UHI.AC.UK (LOCALHOST [127.0.0.1])\n",
      "\n",
      "\tBY PAPLOO.UHI.AC.UK (POSTFIX) WITH ESMTP ID 4AE03BB552;\n",
      "\n",
      "\tFRI,  4 JAN 2008 20:46:13 +0000 (GMT)\n",
      "\n",
      "MESSAGE-ID: <200801042044.M04KIEM3007881@NAKAMURA.UITS.IUPUI.EDU>\n",
      "\n",
      "MIME-VERSION: 1.0\n",
      "\n",
      "CONTENT-TRANSFER-ENCODING: 7BIT\n",
      "\n",
      "RECEIVED: FROM PROD.COLLAB.UHI.AC.UK ([194.35.219.182])\n",
      "\n",
      "          BY PAPLOO.UHI.AC.UK (JAMES SMTP SERVER 2.1.3) WITH SMTP ID 38\n",
      "\n",
      "          FOR <SOURCE@COLLAB.SAKAIPROJECT.ORG>;\n",
      "\n",
      "          FRI, 4 JAN 2008 20:45:56 +0000 (GMT)\n",
      "\n",
      "RECEIVED: FROM NAKAMURA.UITS.IUPUI.EDU (NAKAMURA.UITS.IUPUI.EDU [134.68.220.122])\n",
      "\n",
      "\tBY SHMI.UHI.AC.UK (POSTFIX) WITH ESMTP ID A55D242F57\n",
      "\n",
      "\tFOR <SOURCE@COLLAB.SAKAIPROJECT.ORG>; FRI,  4 JAN 2008 20:45:52 +0000 (GMT)\n",
      "\n",
      "RECEIVED: FROM NAKAMURA.UITS.IUPUI.EDU (LOCALHOST [127.0.0.1])\n",
      "\n",
      "\tBY NAKAMURA.UITS.IUPUI.EDU (8.12.11.20060308/8.12.11) WITH ESMTP ID M04KIEQE007883\n",
      "\n",
      "\tFOR <SOURCE@COLLAB.SAKAIPROJECT.ORG>; FRI, 4 JAN 2008 15:44:40 -0500\n",
      "\n",
      "RECEIVED: (FROM APACHE@LOCALHOST)\n",
      "\n",
      "\tBY NAKAMURA.UITS.IUPUI.EDU (8.12.11.20060308/8.12.11/SUBMIT) ID M04KIEM3007881\n",
      "\n",
      "\tFOR SOURCE@COLLAB.SAKAIPROJECT.ORG; FRI, 4 JAN 2008 15:44:40 -0500\n",
      "\n",
      "DATE: FRI, 4 JAN 2008 15:44:40 -0500\n",
      "\n",
      "X-AUTHENTICATION-WARNING: NAKAMURA.UITS.IUPUI.EDU: APACHE SET SENDER TO RJLOWE@IUPUI.EDU USING -F\n",
      "\n",
      "TO: SOURCE@COLLAB.SAKAIPROJECT.ORG\n",
      "\n",
      "FROM: RJLOWE@IUPUI.EDU\n",
      "\n",
      "SUBJECT: [SAKAI] SVN COMMIT: R39769 - IN GRADEBOOK/TRUNK/APP/UI/SRC: JAVA/ORG/SAKAIPROJECT/TOOL/GRADEBOOK/UI/HELPERS/BEANS JAVA/ORG/SAKAIPROJECT/TOOL/GRADEBOOK/UI/HELPERS/PRODUCERS WEBAPP/WEB-INF WEBAPP/WEB-INF/BUNDLE\n",
      "\n",
      "X-CONTENT-TYPE-OUTER-ENVELOPE: TEXT/PLAIN; CHARSET=UTF-8\n",
      "\n",
      "X-CONTENT-TYPE-MESSAGE-BODY: TEXT/PLAIN; CHARSET=UTF-8\n",
      "\n",
      "CONTENT-TYPE: TEXT/PLAIN; CHARSET=UTF-8\n",
      "\n",
      "X-DSPAM-RESULT: INNOCENT\n",
      "\n",
      "X-DSPAM-PROCESSED: FRI JAN  4 15:46:24 2008\n",
      "\n",
      "X-DSPAM-CONFIDENCE: 0.7565\n",
      "\n",
      "X-DSPAM-PROBABILITY: 0.0000\n",
      "\n",
      "\n",
      "\n",
      "DETAILS: HTTP://SOURCE.SAKAIPROJECT.ORG/VIEWSVN/?VIEW=REV&REV=39769\n",
      "\n",
      "\n",
      "\n",
      "AUTHOR: RJLOWE@IUPUI.EDU\n",
      "\n",
      "DATE: 2008-01-04 15:44:39 -0500 (FRI, 04 JAN 2008)\n",
      "\n",
      "NEW REVISION: 39769\n",
      "\n",
      "\n",
      "\n",
      "MODIFIED:\n",
      "\n",
      "GRADEBOOK/TRUNK/APP/UI/SRC/JAVA/ORG/SAKAIPROJECT/TOOL/GRADEBOOK/UI/HELPERS/BEANS/ASSIGNMENTGRADERECORDBEAN.JAVA\n",
      "\n",
      "GRADEBOOK/TRUNK/APP/UI/SRC/JAVA/ORG/SAKAIPROJECT/TOOL/GRADEBOOK/UI/HELPERS/PRODUCERS/GRADEGRADEBOOKITEMPRODUCER.JAVA\n",
      "\n",
      "GRADEBOOK/TRUNK/APP/UI/SRC/WEBAPP/WEB-INF/APPLICATIONCONTEXT.XML\n",
      "\n",
      "GRADEBOOK/TRUNK/APP/UI/SRC/WEBAPP/WEB-INF/BUNDLE/MESSAGES.PROPERTIES\n",
      "\n",
      "GRADEBOOK/TRUNK/APP/UI/SRC/WEBAPP/WEB-INF/REQUESTCONTEXT.XML\n",
      "\n",
      "LOG:\n",
      "\n",
      "SAK-12180 - FIXED ERRORS WITH GRADING HELPER\n",
      "\n",
      "\n",
      "\n",
      "----------------------\n",
      "\n",
      "THIS AUTOMATIC NOTIFICATION MESSAGE WAS SENT BY SAKAI COLLAB (HTTPS://COLLAB.SAKAIPROJECT.ORG/PORTAL) FROM THE SOURCE SITE.\n",
      "\n",
      "YOU CAN MODIFY HOW YOU RECEIVE NOTIFICATIONS AT MY WORKSPACE > PREFERENCES.\n",
      "\n",
      "\n",
      "\n",
      "\n",
      "\n",
      "\n",
      "\n",
      "FROM ZQIAN@UMICH.EDU FRI JAN  4 15:03:18 2008\n",
      "\n",
      "RETURN-PATH: <POSTMASTER@COLLAB.SAKAIPROJECT.ORG>\n",
      "\n",
      "RECEIVED: FROM MURDER (MAIL.UMICH.EDU [141.211.14.46])\n",
      "\n",
      "\t BY FRANKENSTEIN.MAIL.UMICH.EDU (CYRUS V2.3.8) WITH LMTPA;\n",
      "\n",
      "\t FRI, 04 JAN 2008 15:03:18 -0500\n",
      "\n",
      "X-SIEVE: CMU SIEVE 2.3\n",
      "\n",
      "RECEIVED: FROM MURDER ([UNIX SOCKET])\n",
      "\n",
      "\t BY MAIL.UMICH.EDU (CYRUS V2.2.12) WITH LMTPA;\n",
      "\n",
      "\t FRI, 04 JAN 2008 15:03:18 -0500\n",
      "\n",
      "RECEIVED: FROM FIRESTARTER.MR.ITD.UMICH.EDU (FIRESTARTER.MR.ITD.UMICH.EDU [141.211.14.83])\n",
      "\n",
      "\tBY FAN.MAIL.UMICH.EDU () WITH ESMTP ID M04K3HGF006563;\n",
      "\n",
      "\tFRI, 4 JAN 2008 15:03:17 -0500\n",
      "\n",
      "RECEIVED: FROM PAPLOO.UHI.AC.UK (APP1.PROD.COLLAB.UHI.AC.UK [194.35.219.184])\n",
      "\n",
      "\tBY FIRESTARTER.MR.ITD.UMICH.EDU ID 477E9100.8F7F4.1590 ; \n",
      "\n",
      "\t 4 JAN 2008 15:03:15 -0500\n",
      "\n",
      "RECEIVED: FROM PAPLOO.UHI.AC.UK (LOCALHOST [127.0.0.1])\n",
      "\n",
      "\tBY PAPLOO.UHI.AC.UK (POSTFIX) WITH ESMTP ID 57770BB477;\n",
      "\n",
      "\tFRI,  4 JAN 2008 20:03:09 +0000 (GMT)\n",
      "\n",
      "MESSAGE-ID: <200801042001.M04K1CO0007738@NAKAMURA.UITS.IUPUI.EDU>\n",
      "\n",
      "MIME-VERSION: 1.0\n",
      "\n",
      "CONTENT-TRANSFER-ENCODING: 7BIT\n",
      "\n",
      "RECEIVED: FROM PROD.COLLAB.UHI.AC.UK ([194.35.219.182])\n",
      "\n",
      "          BY PAPLOO.UHI.AC.UK (JAMES SMTP SERVER 2.1.3) WITH SMTP ID 622\n",
      "\n",
      "          FOR <SOURCE@COLLAB.SAKAIPROJECT.ORG>;\n",
      "\n",
      "          FRI, 4 JAN 2008 20:02:46 +0000 (GMT)\n",
      "\n",
      "RECEIVED: FROM NAKAMURA.UITS.IUPUI.EDU (NAKAMURA.UITS.IUPUI.EDU [134.68.220.122])\n",
      "\n",
      "\tBY SHMI.UHI.AC.UK (POSTFIX) WITH ESMTP ID AB4D042F4D\n",
      "\n",
      "\tFOR <SOURCE@COLLAB.SAKAIPROJECT.ORG>; FRI,  4 JAN 2008 20:02:50 +0000 (GMT)\n",
      "\n",
      "RECEIVED: FROM NAKAMURA.UITS.IUPUI.EDU (LOCALHOST [127.0.0.1])\n",
      "\n",
      "\tBY NAKAMURA.UITS.IUPUI.EDU (8.12.11.20060308/8.12.11) WITH ESMTP ID M04K1CXV007740\n",
      "\n",
      "\tFOR <SOURCE@COLLAB.SAKAIPROJECT.ORG>; FRI, 4 JAN 2008 15:01:38 -0500\n",
      "\n",
      "RECEIVED: (FROM APACHE@LOCALHOST)\n",
      "\n",
      "\tBY NAKAMURA.UITS.IUPUI.EDU (8.12.11.20060308/8.12.11/SUBMIT) ID M04K1CO0007738\n",
      "\n",
      "\tFOR SOURCE@COLLAB.SAKAIPROJECT.ORG; FRI, 4 JAN 2008 15:01:38 -0500\n",
      "\n",
      "DATE: FRI, 4 JAN 2008 15:01:38 -0500\n",
      "\n",
      "X-AUTHENTICATION-WARNING: NAKAMURA.UITS.IUPUI.EDU: APACHE SET SENDER TO ZQIAN@UMICH.EDU USING -F\n",
      "\n",
      "TO: SOURCE@COLLAB.SAKAIPROJECT.ORG\n",
      "\n",
      "FROM: ZQIAN@UMICH.EDU\n",
      "\n",
      "SUBJECT: [SAKAI] SVN COMMIT: R39766 - SITE-MANAGE/BRANCHES/SAKAI_2-4-X/SITE-MANAGE-TOOL/TOOL/SRC/JAVA/ORG/SAKAIPROJECT/SITE/TOOL\n",
      "\n",
      "X-CONTENT-TYPE-OUTER-ENVELOPE: TEXT/PLAIN; CHARSET=UTF-8\n",
      "\n",
      "X-CONTENT-TYPE-MESSAGE-BODY: TEXT/PLAIN; CHARSET=UTF-8\n",
      "\n",
      "CONTENT-TYPE: TEXT/PLAIN; CHARSET=UTF-8\n",
      "\n",
      "X-DSPAM-RESULT: INNOCENT\n",
      "\n",
      "X-DSPAM-PROCESSED: FRI JAN  4 15:03:18 2008\n",
      "\n",
      "X-DSPAM-CONFIDENCE: 0.7626\n",
      "\n",
      "X-DSPAM-PROBABILITY: 0.0000\n",
      "\n",
      "\n",
      "\n",
      "DETAILS: HTTP://SOURCE.SAKAIPROJECT.ORG/VIEWSVN/?VIEW=REV&REV=39766\n",
      "\n",
      "\n",
      "\n",
      "AUTHOR: ZQIAN@UMICH.EDU\n",
      "\n",
      "DATE: 2008-01-04 15:01:37 -0500 (FRI, 04 JAN 2008)\n",
      "\n",
      "NEW REVISION: 39766\n",
      "\n",
      "\n",
      "\n",
      "MODIFIED:\n",
      "\n",
      "SITE-MANAGE/BRANCHES/SAKAI_2-4-X/SITE-MANAGE-TOOL/TOOL/SRC/JAVA/ORG/SAKAIPROJECT/SITE/TOOL/SITEACTION.JAVA\n",
      "\n",
      "LOG:\n",
      "\n",
      "MERGE FIX TO SAK-10788 INTO SITE-MANAGE 2.4.X BRANCH:\n",
      "\n",
      "\n",
      "\n",
      "SAKAI SOURCE REPOSITORY  \t#38024  \tWED NOV 07 14:54:46 MST 2007  \tZQIAN@UMICH.EDU  \t FIX TO SAK-10788: IF A PROVIDED ID IN A COUSE SITE IS FAKE OR DOESN'T PROVIDE ANY USER INFORMATION, SITE INFO APPEARS TO BE LIKE PROJECT SITE WITH EMPTY PARTICIPANT LIST\n",
      "\n",
      "\n",
      "\n",
      "WATCH FOR ENROLLMENTS OBJECT BEING NULL AND CONCATENATE PROVIDER IDS WHEN THERE ARE MORE THAN ONE.\n",
      "\n",
      "FILES CHANGED\n",
      "\n",
      "MODIFY /SITE-MANAGE/TRUNK/SITE-MANAGE-TOOL/TOOL/SRC/JAVA/ORG/SAKAIPROJECT/SITE/TOOL/SITEACTION.JAVA \n",
      "\n",
      "\n",
      "\n",
      "\n",
      "\n",
      "\n",
      "\n",
      "\n",
      "\n",
      "----------------------\n",
      "\n",
      "THIS AUTOMATIC NOTIFICATION MESSAGE WAS SENT BY SAKAI COLLAB (HTTPS://COLLAB.SAKAIPROJECT.ORG/PORTAL) FROM THE SOURCE SITE.\n",
      "\n",
      "YOU CAN MODIFY HOW YOU RECEIVE NOTIFICATIONS AT MY WORKSPACE > PREFERENCES.\n",
      "\n",
      "\n",
      "\n",
      "\n",
      "\n",
      "\n",
      "\n",
      "FROM RJLOWE@IUPUI.EDU FRI JAN  4 14:50:18 2008\n",
      "\n",
      "RETURN-PATH: <POSTMASTER@COLLAB.SAKAIPROJECT.ORG>\n",
      "\n",
      "RECEIVED: FROM MURDER (MAIL.UMICH.EDU [141.211.14.93])\n",
      "\n",
      "\t BY FRANKENSTEIN.MAIL.UMICH.EDU (CYRUS V2.3.8) WITH LMTPA;\n",
      "\n",
      "\t FRI, 04 JAN 2008 14:50:18 -0500\n",
      "\n",
      "X-SIEVE: CMU SIEVE 2.3\n",
      "\n",
      "RECEIVED: FROM MURDER ([UNIX SOCKET])\n",
      "\n",
      "\t BY MAIL.UMICH.EDU (CYRUS V2.2.12) WITH LMTPA;\n",
      "\n",
      "\t FRI, 04 JAN 2008 14:50:18 -0500\n",
      "\n",
      "RECEIVED: FROM EYEWITNESS.MR.ITD.UMICH.EDU (EYEWITNESS.MR.ITD.UMICH.EDU [141.211.93.142])\n",
      "\n",
      "\tBY MISSION.MAIL.UMICH.EDU () WITH ESMTP ID M04JOHJI019755;\n",
      "\n",
      "\tFRI, 4 JAN 2008 14:50:17 -0500\n",
      "\n",
      "RECEIVED: FROM PAPLOO.UHI.AC.UK (APP1.PROD.COLLAB.UHI.AC.UK [194.35.219.184])\n",
      "\n",
      "\tBY EYEWITNESS.MR.ITD.UMICH.EDU ID 477E8DF2.67B91.5278 ; \n",
      "\n",
      "\t 4 JAN 2008 14:50:13 -0500\n",
      "\n",
      "RECEIVED: FROM PAPLOO.UHI.AC.UK (LOCALHOST [127.0.0.1])\n",
      "\n",
      "\tBY PAPLOO.UHI.AC.UK (POSTFIX) WITH ESMTP ID 2D1B9BB492;\n",
      "\n",
      "\tFRI,  4 JAN 2008 19:47:10 +0000 (GMT)\n",
      "\n",
      "MESSAGE-ID: <200801041948.M04JMDWO007705@NAKAMURA.UITS.IUPUI.EDU>\n",
      "\n",
      "MIME-VERSION: 1.0\n",
      "\n",
      "CONTENT-TRANSFER-ENCODING: 7BIT\n",
      "\n",
      "RECEIVED: FROM PROD.COLLAB.UHI.AC.UK ([194.35.219.182])\n",
      "\n",
      "          BY PAPLOO.UHI.AC.UK (JAMES SMTP SERVER 2.1.3) WITH SMTP ID 960\n",
      "\n",
      "          FOR <SOURCE@COLLAB.SAKAIPROJECT.ORG>;\n",
      "\n",
      "          FRI, 4 JAN 2008 19:46:50 +0000 (GMT)\n",
      "\n",
      "RECEIVED: FROM NAKAMURA.UITS.IUPUI.EDU (NAKAMURA.UITS.IUPUI.EDU [134.68.220.122])\n",
      "\n",
      "\tBY SHMI.UHI.AC.UK (POSTFIX) WITH ESMTP ID B3E6742F4A\n",
      "\n",
      "\tFOR <SOURCE@COLLAB.SAKAIPROJECT.ORG>; FRI,  4 JAN 2008 19:49:51 +0000 (GMT)\n",
      "\n",
      "RECEIVED: FROM NAKAMURA.UITS.IUPUI.EDU (LOCALHOST [127.0.0.1])\n",
      "\n",
      "\tBY NAKAMURA.UITS.IUPUI.EDU (8.12.11.20060308/8.12.11) WITH ESMTP ID M04JMEV9007707\n",
      "\n",
      "\tFOR <SOURCE@COLLAB.SAKAIPROJECT.ORG>; FRI, 4 JAN 2008 14:48:40 -0500\n",
      "\n",
      "RECEIVED: (FROM APACHE@LOCALHOST)\n",
      "\n",
      "\tBY NAKAMURA.UITS.IUPUI.EDU (8.12.11.20060308/8.12.11/SUBMIT) ID M04JMDWO007705\n",
      "\n",
      "\tFOR SOURCE@COLLAB.SAKAIPROJECT.ORG; FRI, 4 JAN 2008 14:48:39 -0500\n",
      "\n",
      "DATE: FRI, 4 JAN 2008 14:48:39 -0500\n",
      "\n",
      "X-AUTHENTICATION-WARNING: NAKAMURA.UITS.IUPUI.EDU: APACHE SET SENDER TO RJLOWE@IUPUI.EDU USING -F\n",
      "\n",
      "TO: SOURCE@COLLAB.SAKAIPROJECT.ORG\n",
      "\n",
      "FROM: RJLOWE@IUPUI.EDU\n",
      "\n",
      "SUBJECT: [SAKAI] SVN COMMIT: R39765 - IN GRADEBOOK/TRUNK/APP: BUSINESS/SRC/JAVA/ORG/SAKAIPROJECT/TOOL/GRADEBOOK/BUSINESS BUSINESS/SRC/JAVA/ORG/SAKAIPROJECT/TOOL/GRADEBOOK/BUSINESS/IMPL UI UI/SRC/JAVA/ORG/SAKAIPROJECT/TOOL/GRADEBOOK/UI/HELPERS/BEANS UI/SRC/JAVA/ORG/SAKAIPROJECT/TOOL/GRADEBOOK/UI/HELPERS/ENTITY UI/SRC/JAVA/ORG/SAKAIPROJECT/TOOL/GRADEBOOK/UI/HELPERS/PARAMS UI/SRC/JAVA/ORG/SAKAIPROJECT/TOOL/GRADEBOOK/UI/HELPERS/PRODUCERS UI/SRC/WEBAPP/WEB-INF UI/SRC/WEBAPP/WEB-INF/BUNDLE UI/SRC/WEBAPP/CONTENT/TEMPLATES\n",
      "\n",
      "X-CONTENT-TYPE-OUTER-ENVELOPE: TEXT/PLAIN; CHARSET=UTF-8\n",
      "\n",
      "X-CONTENT-TYPE-MESSAGE-BODY: TEXT/PLAIN; CHARSET=UTF-8\n",
      "\n",
      "CONTENT-TYPE: TEXT/PLAIN; CHARSET=UTF-8\n",
      "\n",
      "X-DSPAM-RESULT: INNOCENT\n",
      "\n",
      "X-DSPAM-PROCESSED: FRI JAN  4 14:50:18 2008\n",
      "\n",
      "X-DSPAM-CONFIDENCE: 0.7556\n",
      "\n",
      "X-DSPAM-PROBABILITY: 0.0000\n",
      "\n",
      "\n",
      "\n",
      "DETAILS: HTTP://SOURCE.SAKAIPROJECT.ORG/VIEWSVN/?VIEW=REV&REV=39765\n",
      "\n",
      "\n",
      "\n",
      "AUTHOR: RJLOWE@IUPUI.EDU\n",
      "\n",
      "DATE: 2008-01-04 14:48:37 -0500 (FRI, 04 JAN 2008)\n",
      "\n",
      "NEW REVISION: 39765\n",
      "\n",
      "\n",
      "\n",
      "ADDED:\n",
      "\n",
      "GRADEBOOK/TRUNK/APP/UI/SRC/JAVA/ORG/SAKAIPROJECT/TOOL/GRADEBOOK/UI/HELPERS/BEANS/ASSIGNMENTGRADERECORDBEAN.JAVA\n",
      "\n",
      "GRADEBOOK/TRUNK/APP/UI/SRC/JAVA/ORG/SAKAIPROJECT/TOOL/GRADEBOOK/UI/HELPERS/BEANS/ASSIGNMENTGRADERECORDCREATOR.JAVA\n",
      "\n",
      "GRADEBOOK/TRUNK/APP/UI/SRC/JAVA/ORG/SAKAIPROJECT/TOOL/GRADEBOOK/UI/HELPERS/ENTITY/GRADEBOOKENTRYGRADEENTITYPROVIDER.JAVA\n",
      "\n",
      "GRADEBOOK/TRUNK/APP/UI/SRC/JAVA/ORG/SAKAIPROJECT/TOOL/GRADEBOOK/UI/HELPERS/PARAMS/GRADEGRADEBOOKITEMVIEWPARAMS.JAVA\n",
      "\n",
      "GRADEBOOK/TRUNK/APP/UI/SRC/JAVA/ORG/SAKAIPROJECT/TOOL/GRADEBOOK/UI/HELPERS/PRODUCERS/GRADEGRADEBOOKITEMPRODUCER.JAVA\n",
      "\n",
      "GRADEBOOK/TRUNK/APP/UI/SRC/WEBAPP/CONTENT/TEMPLATES/GRADE-GRADEBOOK-ITEM.HTML\n",
      "\n",
      "MODIFIED:\n",
      "\n",
      "GRADEBOOK/TRUNK/APP/BUSINESS/SRC/JAVA/ORG/SAKAIPROJECT/TOOL/GRADEBOOK/BUSINESS/GRADEBOOKMANAGER.JAVA\n",
      "\n",
      "GRADEBOOK/TRUNK/APP/BUSINESS/SRC/JAVA/ORG/SAKAIPROJECT/TOOL/GRADEBOOK/BUSINESS/IMPL/GRADEBOOKMANAGERHIBERNATEIMPL.JAVA\n",
      "\n",
      "GRADEBOOK/TRUNK/APP/UI/POM.XML\n",
      "\n",
      "GRADEBOOK/TRUNK/APP/UI/SRC/JAVA/ORG/SAKAIPROJECT/TOOL/GRADEBOOK/UI/HELPERS/BEANS/GRADEBOOKITEMBEAN.JAVA\n",
      "\n",
      "GRADEBOOK/TRUNK/APP/UI/SRC/JAVA/ORG/SAKAIPROJECT/TOOL/GRADEBOOK/UI/HELPERS/ENTITY/GRADEBOOKENTRYENTITYPROVIDER.JAVA\n",
      "\n",
      "GRADEBOOK/TRUNK/APP/UI/SRC/JAVA/ORG/SAKAIPROJECT/TOOL/GRADEBOOK/UI/HELPERS/PRODUCERS/ADDGRADEBOOKITEMPRODUCER.JAVA\n",
      "\n",
      "GRADEBOOK/TRUNK/APP/UI/SRC/WEBAPP/WEB-INF/APPLICATIONCONTEXT.XML\n",
      "\n",
      "GRADEBOOK/TRUNK/APP/UI/SRC/WEBAPP/WEB-INF/BUNDLE/MESSAGES.PROPERTIES\n",
      "\n",
      "GRADEBOOK/TRUNK/APP/UI/SRC/WEBAPP/WEB-INF/REQUESTCONTEXT.XML\n",
      "\n",
      "LOG:\n",
      "\n",
      "SAK-12180 - NEW HELPER TOOL TO GRADE AN ASSIGNMENT\n",
      "\n",
      "\n",
      "\n",
      "----------------------\n",
      "\n",
      "THIS AUTOMATIC NOTIFICATION MESSAGE WAS SENT BY SAKAI COLLAB (HTTPS://COLLAB.SAKAIPROJECT.ORG/PORTAL) FROM THE SOURCE SITE.\n",
      "\n",
      "YOU CAN MODIFY HOW YOU RECEIVE NOTIFICATIONS AT MY WORKSPACE > PREFERENCES.\n",
      "\n",
      "\n",
      "\n",
      "\n",
      "\n",
      "\n",
      "\n",
      "FROM CWEN@IUPUI.EDU FRI JAN  4 11:37:30 2008\n",
      "\n",
      "RETURN-PATH: <POSTMASTER@COLLAB.SAKAIPROJECT.ORG>\n",
      "\n",
      "RECEIVED: FROM MURDER (MAIL.UMICH.EDU [141.211.14.46])\n",
      "\n",
      "\t BY FRANKENSTEIN.MAIL.UMICH.EDU (CYRUS V2.3.8) WITH LMTPA;\n",
      "\n",
      "\t FRI, 04 JAN 2008 11:37:30 -0500\n",
      "\n",
      "X-SIEVE: CMU SIEVE 2.3\n",
      "\n",
      "RECEIVED: FROM MURDER ([UNIX SOCKET])\n",
      "\n",
      "\t BY MAIL.UMICH.EDU (CYRUS V2.2.12) WITH LMTPA;\n",
      "\n",
      "\t FRI, 04 JAN 2008 11:37:30 -0500\n",
      "\n",
      "RECEIVED: FROM TADPOLE.MR.ITD.UMICH.EDU (TADPOLE.MR.ITD.UMICH.EDU [141.211.14.72])\n",
      "\n",
      "\tBY FAN.MAIL.UMICH.EDU () WITH ESMTP ID M04GBT9X022078;\n",
      "\n",
      "\tFRI, 4 JAN 2008 11:37:29 -0500\n",
      "\n",
      "RECEIVED: FROM PAPLOO.UHI.AC.UK (APP1.PROD.COLLAB.UHI.AC.UK [194.35.219.184])\n",
      "\n",
      "\tBY TADPOLE.MR.ITD.UMICH.EDU ID 477E60B2.82756.9904 ; \n",
      "\n",
      "\t 4 JAN 2008 11:37:09 -0500\n",
      "\n",
      "RECEIVED: FROM PAPLOO.UHI.AC.UK (LOCALHOST [127.0.0.1])\n",
      "\n",
      "\tBY PAPLOO.UHI.AC.UK (POSTFIX) WITH ESMTP ID 8D13DBB001;\n",
      "\n",
      "\tFRI,  4 JAN 2008 16:37:07 +0000 (GMT)\n",
      "\n",
      "MESSAGE-ID: <200801041635.M04GZQGZ007313@NAKAMURA.UITS.IUPUI.EDU>\n",
      "\n",
      "MIME-VERSION: 1.0\n",
      "\n",
      "CONTENT-TRANSFER-ENCODING: 7BIT\n",
      "\n",
      "RECEIVED: FROM PROD.COLLAB.UHI.AC.UK ([194.35.219.182])\n",
      "\n",
      "          BY PAPLOO.UHI.AC.UK (JAMES SMTP SERVER 2.1.3) WITH SMTP ID 120\n",
      "\n",
      "          FOR <SOURCE@COLLAB.SAKAIPROJECT.ORG>;\n",
      "\n",
      "          FRI, 4 JAN 2008 16:36:40 +0000 (GMT)\n",
      "\n",
      "RECEIVED: FROM NAKAMURA.UITS.IUPUI.EDU (NAKAMURA.UITS.IUPUI.EDU [134.68.220.122])\n",
      "\n",
      "\tBY SHMI.UHI.AC.UK (POSTFIX) WITH ESMTP ID D430B42E42\n",
      "\n",
      "\tFOR <SOURCE@COLLAB.SAKAIPROJECT.ORG>; FRI,  4 JAN 2008 16:36:37 +0000 (GMT)\n",
      "\n",
      "RECEIVED: FROM NAKAMURA.UITS.IUPUI.EDU (LOCALHOST [127.0.0.1])\n",
      "\n",
      "\tBY NAKAMURA.UITS.IUPUI.EDU (8.12.11.20060308/8.12.11) WITH ESMTP ID M04GZQ7W007315\n",
      "\n",
      "\tFOR <SOURCE@COLLAB.SAKAIPROJECT.ORG>; FRI, 4 JAN 2008 11:35:26 -0500\n",
      "\n",
      "RECEIVED: (FROM APACHE@LOCALHOST)\n",
      "\n",
      "\tBY NAKAMURA.UITS.IUPUI.EDU (8.12.11.20060308/8.12.11/SUBMIT) ID M04GZQGZ007313\n",
      "\n",
      "\tFOR SOURCE@COLLAB.SAKAIPROJECT.ORG; FRI, 4 JAN 2008 11:35:26 -0500\n",
      "\n",
      "DATE: FRI, 4 JAN 2008 11:35:26 -0500\n",
      "\n",
      "X-AUTHENTICATION-WARNING: NAKAMURA.UITS.IUPUI.EDU: APACHE SET SENDER TO CWEN@IUPUI.EDU USING -F\n",
      "\n",
      "TO: SOURCE@COLLAB.SAKAIPROJECT.ORG\n",
      "\n",
      "FROM: CWEN@IUPUI.EDU\n",
      "\n",
      "SUBJECT: [SAKAI] SVN COMMIT: R39764 - IN MSGCNTR/TRUNK/MESSAGEFORUMS-APP/SRC/JAVA/ORG/SAKAIPROJECT/TOOL/MESSAGEFORUMS: . UI\n",
      "\n",
      "X-CONTENT-TYPE-OUTER-ENVELOPE: TEXT/PLAIN; CHARSET=UTF-8\n",
      "\n",
      "X-CONTENT-TYPE-MESSAGE-BODY: TEXT/PLAIN; CHARSET=UTF-8\n",
      "\n",
      "CONTENT-TYPE: TEXT/PLAIN; CHARSET=UTF-8\n",
      "\n",
      "X-DSPAM-RESULT: INNOCENT\n",
      "\n",
      "X-DSPAM-PROCESSED: FRI JAN  4 11:37:30 2008\n",
      "\n",
      "X-DSPAM-CONFIDENCE: 0.7002\n",
      "\n",
      "X-DSPAM-PROBABILITY: 0.0000\n",
      "\n",
      "\n",
      "\n",
      "DETAILS: HTTP://SOURCE.SAKAIPROJECT.ORG/VIEWSVN/?VIEW=REV&REV=39764\n",
      "\n",
      "\n",
      "\n",
      "AUTHOR: CWEN@IUPUI.EDU\n",
      "\n",
      "DATE: 2008-01-04 11:35:25 -0500 (FRI, 04 JAN 2008)\n",
      "\n",
      "NEW REVISION: 39764\n",
      "\n",
      "\n",
      "\n",
      "MODIFIED:\n",
      "\n",
      "MSGCNTR/TRUNK/MESSAGEFORUMS-APP/SRC/JAVA/ORG/SAKAIPROJECT/TOOL/MESSAGEFORUMS/PRIVATEMESSAGESTOOL.JAVA\n",
      "\n",
      "MSGCNTR/TRUNK/MESSAGEFORUMS-APP/SRC/JAVA/ORG/SAKAIPROJECT/TOOL/MESSAGEFORUMS/UI/PRIVATEMESSAGEDECORATEDBEAN.JAVA\n",
      "\n",
      "LOG:\n",
      "\n",
      "UNMERGE XINGTANG'S CHECKIN FOR SAK-12488.\n",
      "\n",
      "\n",
      "\n",
      "SVN MERGE -R39558:39557 HTTPS://SOURCE.SAKAIPROJECT.ORG/SVN/MSGCNTR/TRUNK\n",
      "\n",
      "U    MESSAGEFORUMS-APP/SRC/JAVA/ORG/SAKAIPROJECT/TOOL/MESSAGEFORUMS/PRIVATEMESSAGESTOOL.JAVA\n",
      "\n",
      "U    MESSAGEFORUMS-APP/SRC/JAVA/ORG/SAKAIPROJECT/TOOL/MESSAGEFORUMS/UI/PRIVATEMESSAGEDECORATEDBEAN.JAVA\n",
      "\n",
      "\n",
      "\n",
      "SVN LOG -R 39558\n",
      "\n",
      "------------------------------------------------------------------------\n",
      "\n",
      "R39558 | HU2@IUPUI.EDU | 2007-12-20 15:25:38 -0500 (THU, 20 DEC 2007) | 3 LINES\n",
      "\n",
      "\n",
      "\n",
      "SAK-12488\n",
      "\n",
      "WHEN SEND A MESSAGE TO YOURSELF. CLICK REPLY TO ALL, CC ROW SHOULD BE NULL.\n",
      "\n",
      "HTTP://JIRA.SAKAIPROJECT.ORG/JIRA/BROWSE/SAK-12488\n",
      "\n",
      "------------------------------------------------------------------------\n",
      "\n",
      "\n",
      "\n",
      "\n",
      "\n",
      "----------------------\n",
      "\n",
      "THIS AUTOMATIC NOTIFICATION MESSAGE WAS SENT BY SAKAI COLLAB (HTTPS://COLLAB.SAKAIPROJECT.ORG/PORTAL) FROM THE SOURCE SITE.\n",
      "\n",
      "YOU CAN MODIFY HOW YOU RECEIVE NOTIFICATIONS AT MY WORKSPACE > PREFERENCES.\n",
      "\n",
      "\n",
      "\n",
      "\n",
      "\n",
      "\n",
      "\n",
      "FROM CWEN@IUPUI.EDU FRI JAN  4 11:35:08 2008\n",
      "\n",
      "RETURN-PATH: <POSTMASTER@COLLAB.SAKAIPROJECT.ORG>\n",
      "\n",
      "RECEIVED: FROM MURDER (MAIL.UMICH.EDU [141.211.14.46])\n",
      "\n",
      "\t BY FRANKENSTEIN.MAIL.UMICH.EDU (CYRUS V2.3.8) WITH LMTPA;\n",
      "\n",
      "\t FRI, 04 JAN 2008 11:35:08 -0500\n",
      "\n",
      "X-SIEVE: CMU SIEVE 2.3\n",
      "\n",
      "RECEIVED: FROM MURDER ([UNIX SOCKET])\n",
      "... Output truncated ..."
     ]
    }
   ],
   "source": [
    "# YOUR CODE HERE\n",
    "file=open(\"mbox-short.txt\")\n",
    "for line in file:\n",
    "    print(line.upper())"
   ]
  },
  {
   "cell_type": "markdown",
   "metadata": {
    "colab_type": "text",
    "deletable": false,
    "editable": false,
    "id": "VIXv57wTREez",
    "nbgrader": {
     "cell_type": "markdown",
     "checksum": "d2b3cbab774550d06f497da8e7abadd9",
     "grade": false,
     "grade_id": "cell-7a59431e1ea02157",
     "locked": true,
     "schema_version": 3,
     "solution": false,
     "task": false
    }
   },
   "source": [
    "#### (2 points) Chapter 7, Exercises 2: Write a program that uses (or takes in if you decide to write a function) a file name, and then read through the file and look for lines of the form:\n",
    "\n",
    "X-DSPAM-Confidence: 0.8475\n",
    "\n",
    "#### When you encounter a line that starts with “X-DSPAM-Confidence:” pull apart the line to extract the floating-point number on the line. Count these lines and then compute the total of the spam confidence values from these lines. When you reach the end of the file, print out the average spam confidence."
   ]
  },
  {
   "cell_type": "code",
   "execution_count": 4,
   "metadata": {
    "colab": {},
    "colab_type": "code",
    "deletable": false,
    "id": "8LJQVqttREe1",
    "nbgrader": {
     "cell_type": "code",
     "checksum": "e8acb29c02aeca703ee2e822c0e94077",
     "grade": true,
     "grade_id": "X-DSPAM",
     "locked": false,
     "points": 2,
     "schema_version": 3,
     "solution": true,
     "task": false
    },
    "outputId": "82ccca0e-d106-4cae-b96e-85df7557d77d"
   },
   "outputs": [
    {
     "name": "stdout",
     "output_type": "stream",
     "text": [
      "0.8941280467445736\n"
     ]
    }
   ],
   "source": [
    "# YOUR CODE HERE\n",
    "filename=\"mbox.txt\"\n",
    "fhand=open(filename)\n",
    "def turn_num(string_example):\n",
    "    pos=string_example.find(\":\")\n",
    "    need=string_example[(pos+1):]\n",
    "    num=float(need)\n",
    "    return(num)\n",
    "\n",
    "count=0;value=0\n",
    "for line in fhand:\n",
    "    if line.startswith(\"X-DSPAM-Confidence:\"):\n",
    "        count=count+1\n",
    "        value=value+turn_num(line)\n",
    "print(value/count)    "
   ]
  },
  {
   "cell_type": "markdown",
   "metadata": {
    "colab_type": "text",
    "deletable": false,
    "editable": false,
    "id": "0dJzJF2TREe6",
    "nbgrader": {
     "cell_type": "markdown",
     "checksum": "1f59119496ea212f8177ebebaf8996c0",
     "grade": false,
     "grade_id": "cell-79a188ffe05bf4a8",
     "locked": true,
     "schema_version": 3,
     "solution": false,
     "task": false
    }
   },
   "source": [
    "#### Chapter 8, Exercises 2: \n",
    "fhand = open('mbox-short.txt')\n",
    "\n",
    "\n",
    "count = 0\n",
    "\n",
    "\n",
    "for line in fhand:\n",
    "    words = line.split()\n",
    "    # print 'Debug:', words\n",
    "    if len(words) == 0 : continue\n",
    "    if words[0] != 'From' : continue\n",
    "    print words[2]\n",
    "\n",
    "#### (2 points) Figure out which line of the above program is still not properly guarded. See if you can construct a text file which causes the program to fail and then modify the program so that the line is properly guarded and test it to make sure it handles your new text file. \n",
    "\n",
    "user_data = \"mbox-short.txt\"\n",
    "\n",
    "\n",
    "fhand = open(user_data, 'r')\n",
    "\n",
    "\n",
    "count = 0\n",
    "\n",
    "\n",
    "for line in fhand:\n",
    "    words = line.split()\n",
    "    # print 'Debug:', words\n",
    "    if len(words) == 0 : continue\n",
    "    if words[0] != 'From' : continue\n",
    "    print words[2]"
   ]
  },
  {
   "cell_type": "markdown",
   "metadata": {
    "colab_type": "text",
    "deletable": false,
    "id": "xB352pS1REe7",
    "nbgrader": {
     "cell_type": "markdown",
     "checksum": "bfce5226e511617481c70e111110fbcf",
     "grade": true,
     "grade_id": "cell-9ef0746e6cea5fe4",
     "locked": false,
     "points": 1,
     "schema_version": 3,
     "solution": true,
     "task": false
    }
   },
   "source": [
    "YOUR ANSWER HERE"
   ]
  },
  {
   "cell_type": "code",
   "execution_count": 5,
   "metadata": {
    "colab": {},
    "colab_type": "code",
    "deletable": false,
    "id": "_2u9VUBgREe9",
    "nbgrader": {
     "cell_type": "code",
     "checksum": "f32680cd62cea94a3708e16ee255999a",
     "grade": true,
     "grade_id": "cell-7770687564fc26ec",
     "locked": false,
     "points": 1,
     "schema_version": 3,
     "solution": true,
     "task": false
    },
    "outputId": "c58ea779-bfc2-43d0-88ca-2e155104b843"
   },
   "outputs": [
    {
     "name": "stdout",
     "output_type": "stream",
     "text": [
      "Sat\n",
      "Fri\n",
      "Fri\n",
      "Fri\n",
      "Fri\n",
      "Fri\n",
      "Fri\n",
      "Fri\n",
      "Fri\n",
      "Fri\n",
      "Fri\n",
      "Fri\n",
      "Fri\n",
      "Fri\n",
      "Fri\n",
      "Fri\n",
      "Fri\n",
      "Fri\n",
      "Fri\n",
      "Fri\n",
      "Fri\n",
      "Thu\n",
      "Thu\n",
      "Thu\n",
      "Thu\n",
      "Thu\n",
      "Thu\n"
     ]
    }
   ],
   "source": [
    "#the 8th line \"print words[2]\" is still not guarded.\n",
    "user_data = \"mbox-short.txt\"\n",
    "fhand = open(user_data, 'r')\n",
    "count = 0\n",
    "for line in fhand: \n",
    "    words = line.split()\n",
    "# print 'Debug:', words\n",
    "    if len(words) == 0 : continue\n",
    "    if words[0] != 'From': continue\n",
    "    if len(words)<=2: continue\n",
    "    print(words[2])"
   ]
  },
  {
   "cell_type": "markdown",
   "metadata": {
    "colab_type": "text",
    "id": "tTqzkULcREfC"
   },
   "source": [
    "#### (1 point) Chapter 8, Exercises 3: Rewrite the guardian code in the above example without two $if$ statements. Instead, use a compound logical expression using the $or$ logical operator with a single if statement."
   ]
  },
  {
   "cell_type": "code",
   "execution_count": 6,
   "metadata": {
    "colab": {},
    "colab_type": "code",
    "deletable": false,
    "id": "rBiYVzWjREfD",
    "nbgrader": {
     "cell_type": "code",
     "checksum": "ca6d7af91cb25bf4c282a7c89f667058",
     "grade": true,
     "grade_id": "cell-f9593bd8e0e0bb9b",
     "locked": false,
     "points": 1,
     "schema_version": 3,
     "solution": true,
     "task": false
    },
    "outputId": "e90a27cb-f13f-4ec9-e0fb-a4c26f1a48d5"
   },
   "outputs": [
    {
     "name": "stdout",
     "output_type": "stream",
     "text": [
      "Sat\n",
      "Fri\n",
      "Fri\n",
      "Fri\n",
      "Fri\n",
      "Fri\n",
      "Fri\n",
      "Fri\n",
      "Fri\n",
      "Fri\n",
      "Fri\n",
      "Fri\n",
      "Fri\n",
      "Fri\n",
      "Fri\n",
      "Fri\n",
      "Fri\n",
      "Fri\n",
      "Fri\n",
      "Fri\n",
      "Fri\n",
      "Thu\n",
      "Thu\n",
      "Thu\n",
      "Thu\n",
      "Thu\n",
      "Thu\n"
     ]
    }
   ],
   "source": [
    "user_data = \"mbox-short.txt\"\n",
    "fhand = open(user_data, 'r')\n",
    "count = 0\n",
    "for line in fhand: \n",
    "    words = line.split()\n",
    "# print 'Debug:', words\n",
    "    if (len(words) == 0) or(words[0] != 'From') or(len(words)<=2) : continue\n",
    "    print(words[2])"
   ]
  },
  {
   "cell_type": "markdown",
   "metadata": {
    "colab_type": "text",
    "deletable": false,
    "editable": false,
    "id": "ISSbTTU6REfG",
    "nbgrader": {
     "cell_type": "markdown",
     "checksum": "8bd5f3aa4895f6d512d7ceaca2219137",
     "grade": false,
     "grade_id": "cell-28fd87b08896c1b9",
     "locked": true,
     "schema_version": 3,
     "solution": false,
     "task": false
    }
   },
   "source": [
    "#### (1 point) Chapter 8, Exercises 5: Write a program to read through the mail box data and when you find line that starts with “From”, you will split the line into words using the split function. We are interested in who sent the message, which is the second word on the From line.\n",
    "From stephen.marquard@uct.ac.za Sat Jan 5 09:14:16 2008\n",
    "\n",
    "#### You will parse the From line and print out the second word for each From line, then you will also count the number of From (not From:) lines and print out a count at the end.\n",
    "This is a good sample output with a few lines removed:\n",
    "\n",
    "\n",
    "python fromcount.py\n",
    "\n",
    "\n",
    "Enter a file name: mbox-short.txt\n",
    "\n",
    "\n",
    "stephen.marquard@uct.ac.za\n",
    "\n",
    "\n",
    "louis@media.berkeley.edu\n",
    "\n",
    "\n",
    "zqian@umich.edu"
   ]
  },
  {
   "cell_type": "code",
   "execution_count": 7,
   "metadata": {
    "colab": {},
    "colab_type": "code",
    "deletable": false,
    "id": "_Y0DuWM9REfH",
    "nbgrader": {
     "cell_type": "code",
     "checksum": "2a86be83e7375c3909a74affedc8226c",
     "grade": true,
     "grade_id": "cell-62e3962a1fb2bf0a",
     "locked": false,
     "points": 1,
     "schema_version": 3,
     "solution": true,
     "task": false
    },
    "outputId": "c22e2cc5-1235-41a1-9bbb-26881856e72d"
   },
   "outputs": [
    {
     "name": "stdout",
     "output_type": "stream",
     "text": [
      "stephen.marquard@uct.ac.za\n",
      "louis@media.berkeley.edu\n",
      "zqian@umich.edu\n",
      "rjlowe@iupui.edu\n",
      "zqian@umich.edu\n",
      "rjlowe@iupui.edu\n",
      "cwen@iupui.edu\n",
      "cwen@iupui.edu\n",
      "gsilver@umich.edu\n",
      "gsilver@umich.edu\n",
      "zqian@umich.edu\n",
      "gsilver@umich.edu\n",
      "wagnermr@iupui.edu\n",
      "zqian@umich.edu\n",
      "antranig@caret.cam.ac.uk\n",
      "gopal.ramasammycook@gmail.com\n",
      "david.horwitz@uct.ac.za\n",
      "david.horwitz@uct.ac.za\n",
      "david.horwitz@uct.ac.za\n",
      "david.horwitz@uct.ac.za\n",
      "stephen.marquard@uct.ac.za\n",
      "louis@media.berkeley.edu\n",
      "louis@media.berkeley.edu\n",
      "ray@media.berkeley.edu\n",
      "cwen@iupui.edu\n",
      "cwen@iupui.edu\n",
      "cwen@iupui.edu\n",
      "27\n"
     ]
    }
   ],
   "source": [
    "user_data = \"mbox-short.txt\"\n",
    "fhand = open(user_data, 'r')\n",
    "count = 0\n",
    "for line in fhand: \n",
    "    words = line.split()\n",
    "# print 'Debug:', words\n",
    "    if (len(words) == 0) or(words[0] != 'From') or(len(words)<=2) : continue\n",
    "    print(words[1])\n",
    "    count=count+1\n",
    "\n",
    "print(count)"
   ]
  },
  {
   "cell_type": "markdown",
   "metadata": {
    "colab_type": "text",
    "deletable": false,
    "editable": false,
    "id": "CgvHfbLXREfK",
    "nbgrader": {
     "cell_type": "markdown",
     "checksum": "db305a2790a05772f76784e180334314",
     "grade": false,
     "grade_id": "cell-5a81efde95cab697",
     "locked": true,
     "schema_version": 3,
     "solution": false,
     "task": false
    }
   },
   "source": [
    "#### (1 point) Chapter 9, Exercises 3: Write a program to read through a mail log, build a histogram using a dictionary to count how many messages have come from each email address, and print the dictionary."
   ]
  },
  {
   "cell_type": "code",
   "execution_count": 8,
   "metadata": {
    "colab": {},
    "colab_type": "code",
    "deletable": false,
    "id": "rS-CPHCWREfL",
    "nbgrader": {
     "cell_type": "code",
     "checksum": "2b84e55a9e4bd01e878229d9dfa9bf20",
     "grade": true,
     "grade_id": "cell-0111fc1a5d93c960",
     "locked": false,
     "points": 1,
     "schema_version": 3,
     "solution": true,
     "task": false
    },
    "outputId": "8d30704b-99aa-4e06-d3d2-be9e913a577d"
   },
   "outputs": [
    {
     "name": "stdout",
     "output_type": "stream",
     "text": [
      "{'stephen.marquard@uct.ac.za': 2, 'louis@media.berkeley.edu': 3, 'zqian@umich.edu': 4, 'rjlowe@iupui.edu': 2, 'cwen@iupui.edu': 5, 'gsilver@umich.edu': 3, 'wagnermr@iupui.edu': 1, 'antranig@caret.cam.ac.uk': 1, 'gopal.ramasammycook@gmail.com': 1, 'david.horwitz@uct.ac.za': 4, 'ray@media.berkeley.edu': 1}\n"
     ]
    },
    {
     "data": {
      "image/png": "[encoded data removed]",
      "text/plain": [
       "<Figure size 432x288 with 1 Axes>"
      ]
     },
     "metadata": {
      "needs_background": "light"
     },
     "output_type": "display_data"
    }
   ],
   "source": [
    "import matplotlib.pyplot as plt\n",
    "user_data = \"mbox-short.txt\"\n",
    "fhand = open(user_data, 'r')\n",
    "message_count=dict()\n",
    "for line in fhand: \n",
    "    words = line.split()\n",
    "    if (len(words) == 0) or(words[0] != 'From') or(len(words)<=2) : continue\n",
    "    if words[1] not in message_count:\n",
    "        message_count[words[1]]=1\n",
    "    else: message_count[words[1]]=message_count[words[1]]+1\n",
    "\n",
    "x=list(message_count.keys())\n",
    "y=list(message_count.values())\n",
    "plt.barh(x,y,orientation=\"horizontal\")\n",
    "\n",
    "print(message_count)"
   ]
  },
  {
   "cell_type": "markdown",
   "metadata": {
    "colab_type": "text",
    "deletable": false,
    "editable": false,
    "id": "H5UDx1bWREfP",
    "nbgrader": {
     "cell_type": "markdown",
     "checksum": "93c2a16951a1021c25c02b28b2ec2466",
     "grade": false,
     "grade_id": "cell-cdff7e4e77ccad56",
     "locked": true,
     "schema_version": 3,
     "solution": false,
     "task": false
    }
   },
   "source": [
    "#### (1 point) Chapter 9, Exercises 4: Add code to the above program to figure out who has the most messages in the file. After all the data has been read and the dictionary has been created, look through the dictionary using a maximum loop (see Chapter 5: Maximum and minimum loops) to find who has the most messages and print how many messages the person has."
   ]
  },
  {
   "cell_type": "code",
   "execution_count": 9,
   "metadata": {
    "colab": {},
    "colab_type": "code",
    "deletable": false,
    "id": "IPRDy1R9REfQ",
    "nbgrader": {
     "cell_type": "code",
     "checksum": "086694681832b8099a526948bfc1215c",
     "grade": true,
     "grade_id": "cell-1567629def5bd621",
     "locked": false,
     "points": 1,
     "schema_version": 3,
     "solution": true,
     "task": false
    },
    "outputId": "3065db5f-3524-46e8-95de-2d4f56cd96c3"
   },
   "outputs": [
    {
     "name": "stdout",
     "output_type": "stream",
     "text": [
      "cwen 5\n"
     ]
    }
   ],
   "source": [
    "user_data = \"mbox-short.txt\"\n",
    "fhand = open(user_data, 'r')\n",
    "message_count=dict()\n",
    "for line in fhand: \n",
    "    words = line.split()\n",
    "    if (len(words) == 0) or(words[0] != 'From') or(len(words)<=2) : continue\n",
    "    if words[1] not in message_count:\n",
    "        message_count[words[1]]=1\n",
    "    else: message_count[words[1]]=message_count[words[1]]+1\n",
    "        \n",
    "#maximum loop\n",
    "maximum=0\n",
    "name=''\n",
    "for key in message_count:\n",
    "    if message_count[key] > maximum:\n",
    "        maximum=message_count[key]\n",
    "        name=key\n",
    "print(name[:name.find('@')],message_count[name])"
   ]
  },
  {
   "cell_type": "markdown",
   "metadata": {
    "colab_type": "text",
    "deletable": false,
    "editable": false,
    "id": "SLymHtPmREfT",
    "nbgrader": {
     "cell_type": "markdown",
     "checksum": "cd6147bbdf4f65232d4698c6a601735c",
     "grade": false,
     "grade_id": "cell-33d923c8c18023a4",
     "locked": true,
     "schema_version": 3,
     "solution": false,
     "task": false
    }
   },
   "source": [
    "#### (1 point) Chapter 10, Exercises 1: Read and parse the “From” lines and pull out the addresses from the line. Count the number of messages from each person using a dictionary. After all the data has been read, print the person with the most commits by creating a list of (count, email) tuples from the dictionary. Then sort the list in reverse order and print out the person who has the most commits."
   ]
  },
  {
   "cell_type": "code",
   "execution_count": 10,
   "metadata": {
    "colab": {},
    "colab_type": "code",
    "deletable": false,
    "id": "Yj_dCQ0RREfU",
    "nbgrader": {
     "cell_type": "code",
     "checksum": "06a50cddf838ed141069f24d231d2b3b",
     "grade": true,
     "grade_id": "cell-a8164b4b9647cf09",
     "locked": false,
     "points": 1,
     "schema_version": 3,
     "solution": true,
     "task": false
    },
    "outputId": "8d45dcc6-ecfb-44dc-d592-b0dbe0c2e636"
   },
   "outputs": [
    {
     "name": "stdout",
     "output_type": "stream",
     "text": [
      "cwen\n",
      "cwen\n"
     ]
    }
   ],
   "source": [
    "#make dict\n",
    "user_data = \"mbox-short.txt\"\n",
    "fhand = open(user_data, 'r')\n",
    "message_count=dict()\n",
    "for line in fhand: \n",
    "    words = line.split()\n",
    "    if (len(words) == 0) or(words[0] != 'From') or(len(words)<=2) : continue\n",
    "    if words[1] not in message_count:\n",
    "        message_count[words[1]]=1\n",
    "    else: message_count[words[1]]=message_count[words[1]]+1\n",
    "        \n",
    "#create list\n",
    "lst=[]\n",
    "for (k,v) in message_count.items():\n",
    "    lst.append((v,k))\n",
    "    \n",
    "#print the person with the most commits\n",
    "maximum=0\n",
    "index=0\n",
    "for i in range(len(lst)):\n",
    "    if lst[i][0]> maximum:\n",
    "        maximum=lst[i][0]\n",
    "        index=i\n",
    "print(lst[index][1][:lst[index][1].find('@')])\n",
    "\n",
    "#sort the list in reverse order and print person has most commits\n",
    "for i in range(len(lst)):\n",
    "    for j in range(i,len(lst)):\n",
    "        if lst[i][0]<lst[j][0]:\n",
    "            temp=lst[i]\n",
    "            lst[i]=lst[j]\n",
    "            lst[j]=temp\n",
    "print(lst[0][1][:lst[0][1].find('@')])"
   ]
  },
  {
   "cell_type": "markdown",
   "metadata": {
    "colab_type": "text",
    "deletable": false,
    "editable": false,
    "id": "iz0ellhAREfY",
    "nbgrader": {
     "cell_type": "markdown",
     "checksum": "40b482ec072ca3128a59c81ac9a7bbd7",
     "grade": false,
     "grade_id": "cell-1d0141fef35b0cd1",
     "locked": true,
     "schema_version": 3,
     "solution": false,
     "task": false
    }
   },
   "source": [
    "### Problem 2: Fun with Strings (6 points)\n",
    "1. <b>(2 points)</b>  A palindrome is a word or phrase that reads the same backwards and forwards. Write a function called `is_palindrome`, which takes a string as its only argument, and returns a Boolean. Your function should ignore spaces and capitalization in assessing whether or not a string is a palindrome, so that \"tacocat\" and \"T A C O cat\" are both considered palindromes."
   ]
  },
  {
   "cell_type": "code",
   "execution_count": 1,
   "metadata": {
    "colab": {},
    "colab_type": "code",
    "deletable": false,
    "id": "g-T3RywIREfZ",
    "nbgrader": {
     "cell_type": "code",
     "checksum": "ffecc6c0a1947fcb8b6c5da63aab5389",
     "grade": false,
     "grade_id": "hw2-2_1",
     "locked": false,
     "schema_version": 3,
     "solution": true,
     "task": false
    }
   },
   "outputs": [],
   "source": [
    "def is_palindrome(a):\n",
    "    a=a.lower()\n",
    "    while 1:\n",
    "        if len(a)==1 or len(a)==0: \n",
    "            return True\n",
    "        a=a.strip(\" \")\n",
    "        if a[0]!=a[-1]: return False\n",
    "        else: \n",
    "            a=a[1:(len(a)-1)]"
   ]
  },
  {
   "cell_type": "code",
   "execution_count": 2,
   "metadata": {
    "deletable": false,
    "editable": false,
    "nbgrader": {
     "cell_type": "code",
     "checksum": "24ef638c39e625e2c20ac69af1431ace",
     "grade": true,
     "grade_id": "cell-6f018e99d2dda393",
     "locked": true,
     "points": 0.5,
     "schema_version": 3,
     "solution": false,
     "task": false
    }
   },
   "outputs": [],
   "source": [
    "assert type(is_palindrome('level')) == bool"
   ]
  },
  {
   "cell_type": "code",
   "execution_count": 3,
   "metadata": {
    "deletable": false,
    "editable": false,
    "nbgrader": {
     "cell_type": "code",
     "checksum": "4d21bd789bc5ef02809493dea5259b14",
     "grade": true,
     "grade_id": "palindrome",
     "locked": true,
     "points": 1,
     "schema_version": 3,
     "solution": false,
     "task": false
    }
   },
   "outputs": [],
   "source": [
    "assert is_palindrome('level') == True\n",
    "assert is_palindrome('WAS it a car or a cat I saw') == True"
   ]
  },
  {
   "cell_type": "code",
   "execution_count": 4,
   "metadata": {
    "deletable": false,
    "editable": false,
    "nbgrader": {
     "cell_type": "code",
     "checksum": "8f79a0875b632ddcc36ce15e29b9e419",
     "grade": true,
     "grade_id": "space",
     "locked": true,
     "points": 0.5,
     "schema_version": 3,
     "solution": false,
     "task": false
    }
   },
   "outputs": [],
   "source": [
    "assert is_palindrome('a') == True"
   ]
  },
  {
   "cell_type": "markdown",
   "metadata": {
    "colab_type": "text",
    "deletable": false,
    "editable": false,
    "id": "2N10vKhTREfn",
    "nbgrader": {
     "cell_type": "markdown",
     "checksum": "8f3aab0c44031266046af252a01ac02e",
     "grade": false,
     "grade_id": "cell-780d06bd8fb69f76",
     "locked": true,
     "schema_version": 3,
     "solution": false,
     "task": false
    }
   },
   "source": [
    "2. <b>(2 points)</b>  Let us say that a word is “abecedarian” if its letters appear in alphabetical order(repeated  letters  are  okay).   So,  for  example,  “adder”  and  “beet”  are  abecedar-ian,  whereas  “dog”  and  “cat”  are  not.   Write  a  function `is_abecedarian`,  which takes a single argument in the form of a string and returns True if the argumentis abecedarian and False otherwise.  Here you may assume that the input consistsonly  of  alphabetic  characters  and  spaces.   Your  function  should  ignore  spaces,  so that the string \"abcd efgh xyz\" is considered abecedarian.  Your function should ignore capitalization, so that \"aA\",\"aa\" and \"aA\" are all considered abecedarian."
   ]
  },
  {
   "cell_type": "code",
   "execution_count": 5,
   "metadata": {
    "colab": {},
    "colab_type": "code",
    "deletable": false,
    "id": "0SMFrCUWREfo",
    "nbgrader": {
     "cell_type": "code",
     "checksum": "9a2c5fa314ccf55961cf8bd8fa56d859",
     "grade": false,
     "grade_id": "hw2-2_2",
     "locked": false,
     "schema_version": 3,
     "solution": true,
     "task": false
    }
   },
   "outputs": [],
   "source": [
    "def is_abecedarian(a):\n",
    "    a=a.lower()\n",
    "    a=a.lstrip(\" \")\n",
    "    left=0\n",
    "    for right in range(1,len(a)):\n",
    "        if a[right]==\" \": continue\n",
    "        if a[left]>a[right]: return False\n",
    "        if a[left]<=a[right]:\n",
    "            left=right\n",
    "    return True"
   ]
  },
  {
   "cell_type": "code",
   "execution_count": 6,
   "metadata": {
    "deletable": false,
    "editable": false,
    "nbgrader": {
     "cell_type": "code",
     "checksum": "059ed8367b484fb71a69d34e94b9564a",
     "grade": true,
     "grade_id": "abc_blank",
     "locked": true,
     "points": 0.5,
     "schema_version": 3,
     "solution": false,
     "task": false
    }
   },
   "outputs": [],
   "source": [
    "assert type(is_abecedarian(\"Ca T\")) == bool"
   ]
  },
  {
   "cell_type": "code",
   "execution_count": 7,
   "metadata": {
    "deletable": false,
    "editable": false,
    "nbgrader": {
     "cell_type": "code",
     "checksum": "60cb8f8efb23470302f2ee22fa0a10f8",
     "grade": true,
     "grade_id": "abc-basic",
     "locked": true,
     "points": 0.5,
     "schema_version": 3,
     "solution": false,
     "task": false
    }
   },
   "outputs": [],
   "source": [
    "assert is_abecedarian(\"Ca T\") == False"
   ]
  },
  {
   "cell_type": "code",
   "execution_count": 8,
   "metadata": {
    "deletable": false,
    "editable": false,
    "nbgrader": {
     "cell_type": "code",
     "checksum": "ae0736cb6950cb981a2764f48cdf006b",
     "grade": true,
     "grade_id": "abc",
     "locked": true,
     "points": 0.5,
     "schema_version": 3,
     "solution": false,
     "task": false
    }
   },
   "outputs": [],
   "source": [
    "assert is_abecedarian(\"adder\") == True"
   ]
  },
  {
   "cell_type": "code",
   "execution_count": 9,
   "metadata": {
    "deletable": false,
    "editable": false,
    "nbgrader": {
     "cell_type": "code",
     "checksum": "04615582f642ac5de9b68ac58e9c2efe",
     "grade": true,
     "grade_id": "abc-caps",
     "locked": true,
     "points": 0.5,
     "schema_version": 3,
     "solution": false,
     "task": false
    }
   },
   "outputs": [],
   "source": [
    "assert is_abecedarian(\"zYx\") == False"
   ]
  },
  {
   "cell_type": "markdown",
   "metadata": {
    "colab_type": "text",
    "deletable": false,
    "editable": false,
    "id": "lNX9WVqBREfq",
    "nbgrader": {
     "cell_type": "markdown",
     "checksum": "28c35094161dac911a6c10f5e8f26687",
     "grade": false,
     "grade_id": "cell-53128ff937d72294",
     "locked": true,
     "schema_version": 3,
     "solution": false,
     "task": false
    }
   },
   "source": [
    "3. <b>(2 points)</b> Write a function called `double_vowels` that takes a string as its only argument and returns that string with all the vowels duplicated."
   ]
  },
  {
   "cell_type": "code",
   "execution_count": 7,
   "metadata": {
    "colab": {},
    "colab_type": "code",
    "deletable": false,
    "id": "SNIVjdYMREfr",
    "nbgrader": {
     "cell_type": "code",
     "checksum": "b0522791cfd434269363a208e2cffc30",
     "grade": false,
     "grade_id": "hw2-2_3",
     "locked": false,
     "schema_version": 3,
     "solution": true,
     "task": false
    }
   },
   "outputs": [],
   "source": [
    "def double_vowels(a):\n",
    "    vowel='aeiou'\n",
    "    word=[]\n",
    "    for i in a:\n",
    "        if i not in vowel:\n",
    "            word.append(i)\n",
    "        else:\n",
    "            word.append(i*2)\n",
    "    return ''.join(word)"
   ]
  },
  {
   "cell_type": "code",
   "execution_count": 19,
   "metadata": {
    "deletable": false,
    "editable": false,
    "nbgrader": {
     "cell_type": "code",
     "checksum": "73a132ee6248c2e0db7bc0dc43e2eff2",
     "grade": true,
     "grade_id": "spaces",
     "locked": true,
     "points": 1,
     "schema_version": 3,
     "solution": false,
     "task": false
    }
   },
   "outputs": [],
   "source": [
    "assert double_vowels('this should work') == 'thiis shoouuld woork'"
   ]
  },
  {
   "cell_type": "code",
   "execution_count": 20,
   "metadata": {},
   "outputs": [
    {
     "data": {
      "text/plain": [
       "'iis iis aa seenteencee'"
      ]
     },
     "execution_count": 20,
     "metadata": {},
     "output_type": "execute_result"
    }
   ],
   "source": [
    "double_vowels('is is a sentence')"
   ]
  },
  {
   "cell_type": "code",
   "execution_count": 21,
   "metadata": {
    "deletable": false,
    "editable": false,
    "nbgrader": {
     "cell_type": "code",
     "checksum": "2ca33fc28a64f178b3896ef6f0214ef8",
     "grade": true,
     "grade_id": "double_vowels",
     "locked": true,
     "points": 1,
     "schema_version": 3,
     "solution": false,
     "task": false
    }
   },
   "outputs": [],
   "source": [
    "assert double_vowels('vowel') == \"vooweel\""
   ]
  },
  {
   "cell_type": "code",
   "execution_count": 22,
   "metadata": {},
   "outputs": [
    {
     "data": {
      "text/plain": [
       "'nvwl'"
      ]
     },
     "execution_count": 22,
     "metadata": {},
     "output_type": "execute_result"
    }
   ],
   "source": [
    "double_vowels('nvwl')"
   ]
  },
  {
   "cell_type": "markdown",
   "metadata": {
    "colab_type": "text",
    "deletable": false,
    "editable": false,
    "id": "ulRVgeowREf4",
    "nbgrader": {
     "cell_type": "markdown",
     "checksum": "8c73220cc7481d4aae79776e68376ee2",
     "grade": false,
     "grade_id": "cell-81148f36ee7ebdb4",
     "locked": true,
     "schema_version": 3,
     "solution": false,
     "task": false
    }
   },
   "source": [
    "### Problem 3: Fun with Lists (5 points)\n",
    "1. <b>(2 points)</b> Write a function `list_reverse` that takes a list as an argument and returns that list, reversed. Your function should perform error checking to ensure that the input is a list. "
   ]
  },
  {
   "cell_type": "code",
   "execution_count": 23,
   "metadata": {
    "colab": {},
    "colab_type": "code",
    "deletable": false,
    "id": "8-HRXXsgREf5",
    "nbgrader": {
     "cell_type": "code",
     "checksum": "c5050122b673c864db2457ecc2f9f996",
     "grade": false,
     "grade_id": "hw2-3_1",
     "locked": false,
     "schema_version": 3,
     "solution": true,
     "task": false
    }
   },
   "outputs": [],
   "source": [
    "def list_reverse(a):\n",
    "    if isinstance(a,list):\n",
    "        lst=[]\n",
    "        if len(a)!=0:\n",
    "            for i in range(len(a)):\n",
    "                lst.append(a[-(i+1)])\n",
    "        return lst\n",
    "    else:\n",
    "        raise TypeError(\"error: input is not a list\")"
   ]
  },
  {
   "cell_type": "code",
   "execution_count": 24,
   "metadata": {
    "deletable": false,
    "editable": false,
    "nbgrader": {
     "cell_type": "code",
     "checksum": "fcd19d73ea87a1fa2f32b5cf5167e929",
     "grade": true,
     "grade_id": "cell-1deca1a3bac64b18",
     "locked": true,
     "points": 0.5,
     "schema_version": 3,
     "solution": false,
     "task": false
    }
   },
   "outputs": [],
   "source": [
    "assert list_reverse (['this should be the same list']) == ['this should be the same list']"
   ]
  },
  {
   "cell_type": "code",
   "execution_count": 25,
   "metadata": {
    "deletable": false,
    "editable": false,
    "nbgrader": {
     "cell_type": "code",
     "checksum": "b9735af417979a862a4edbb726388485",
     "grade": true,
     "grade_id": "error",
     "locked": true,
     "points": 1,
     "schema_version": 3,
     "solution": false,
     "task": false
    }
   },
   "outputs": [],
   "source": [
    "assert type(list_reverse([1,2,3,9])) == list"
   ]
  },
  {
   "cell_type": "code",
   "execution_count": 26,
   "metadata": {
    "deletable": false,
    "editable": false,
    "nbgrader": {
     "cell_type": "code",
     "checksum": "2f42d67f1c199ac285d1cfe2fd6d8a2e",
     "grade": true,
     "grade_id": "list_reverse",
     "locked": true,
     "points": 0.5,
     "schema_version": 3,
     "solution": false,
     "task": false
    }
   },
   "outputs": [],
   "source": [
    "assert list_reverse([1, 2, 3]) == [3, 2, 1]"
   ]
  },
  {
   "cell_type": "markdown",
   "metadata": {
    "colab_type": "text",
    "deletable": false,
    "editable": false,
    "id": "p621CcriREf-",
    "nbgrader": {
     "cell_type": "markdown",
     "checksum": "7595cc507ec5fdc05886bdb934cee54d",
     "grade": false,
     "grade_id": "cell-7e1f328702b5349e",
     "locked": true,
     "schema_version": 3,
     "solution": false,
     "task": false
    }
   },
   "source": [
    "2. <b>(1 point)</b> Write a function `is_sorted` that takes a sequence `seq` as its only argument and returns True if the sequence is sorted in ascending order and returns False otherwise."
   ]
  },
  {
   "cell_type": "code",
   "execution_count": 27,
   "metadata": {
    "colab": {},
    "colab_type": "code",
    "deletable": false,
    "id": "GIdjPSe_REf-",
    "nbgrader": {
     "cell_type": "code",
     "checksum": "34b7e4ca02377e2bad2a57a957fdab4a",
     "grade": false,
     "grade_id": "hw2-3_2",
     "locked": false,
     "schema_version": 3,
     "solution": true,
     "task": false
    }
   },
   "outputs": [],
   "source": [
    "def is_sorted(seq): \n",
    "    left=0\n",
    "    if len(seq)==0 or len(seq)==1: return True\n",
    "    for right in range(1,len(seq)):\n",
    "        if seq[left]>seq[right]:return False\n",
    "        else:\n",
    "            left=right\n",
    "    return True"
   ]
  },
  {
   "cell_type": "code",
   "execution_count": 28,
   "metadata": {
    "deletable": false,
    "editable": false,
    "nbgrader": {
     "cell_type": "code",
     "checksum": "28770d278fad572a568c66cdb177ceb4",
     "grade": true,
     "grade_id": "is_sorted",
     "locked": true,
     "points": 1,
     "schema_version": 3,
     "solution": false,
     "task": false
    }
   },
   "outputs": [],
   "source": [
    "assert is_sorted('abbde') == True\n",
    "assert is_sorted([1, 2, 3, 3, 5]) == True"
   ]
  },
  {
   "cell_type": "markdown",
   "metadata": {
    "colab_type": "text",
    "deletable": false,
    "editable": false,
    "id": "G1wqpqaQREgE",
    "nbgrader": {
     "cell_type": "markdown",
     "checksum": "557551ddbceaa9b36c822b89d7c348e1",
     "grade": false,
     "grade_id": "cell-c9b27e07eac40ba7",
     "locked": true,
     "schema_version": 3,
     "solution": false,
     "task": false
    }
   },
   "source": [
    "3. <b>(2 points)</b> Write a function called `binary_search` that takes two arguments, a list of integers `t`(which is guaranteed to be sorted in ascending order) and an integer `elmt`, and returns True if `elmt` appears in list `t` and False otherwise. The binary search algorithm works as follows: \n",
    "\n",
    "    Search a sorted array by repeatedly dividing the search interval in half. Begin with an interval covering the whole array. If the value of the search key is less than the item in the middle of the interval, narrow the interval to the lower half. Otherwise narrow it to the upper half. Repeatedly check until the value is found or the interval is empty. (Source: https://www.geeksforgeeks.org/binary-search/)\n",
    "    \n",
    "    __Note:__ No credit will be given if binary search is not implemented. A simple for loop checking that the element is in the list will not qualify as a binary search."
   ]
  },
  {
   "cell_type": "code",
   "execution_count": 29,
   "metadata": {
    "colab": {},
    "colab_type": "code",
    "deletable": false,
    "id": "M_mrsQLZREgE",
    "nbgrader": {
     "cell_type": "code",
     "checksum": "5a0cb9265f176174beab4a8205a66574",
     "grade": false,
     "grade_id": "hw2-3_3",
     "locked": false,
     "schema_version": 3,
     "solution": true,
     "task": false
    }
   },
   "outputs": [],
   "source": [
    "def binary_search(t, elmt):\n",
    "    lst=t\n",
    "    while len(lst)>=1:\n",
    "        mid=int((len(lst)+1)/2)\n",
    "        if elmt==lst[mid-1]:\n",
    "            return True\n",
    "        elif elmt<lst[mid-1]:  \n",
    "            lst=lst[:(mid-1)]\n",
    "        else:\n",
    "            lst=lst[mid:]\n",
    "    return False"
   ]
  },
  {
   "cell_type": "code",
   "execution_count": 30,
   "metadata": {
    "deletable": false,
    "editable": false,
    "nbgrader": {
     "cell_type": "code",
     "checksum": "027fb498cb1f7ded76df96899c4aa386",
     "grade": true,
     "grade_id": "empty_list",
     "locked": true,
     "points": 1,
     "schema_version": 3,
     "solution": false,
     "task": false
    }
   },
   "outputs": [],
   "source": [
    "assert type(binary_search([1,3], 0)) == bool"
   ]
  },
  {
   "cell_type": "code",
   "execution_count": 31,
   "metadata": {
    "deletable": false,
    "editable": false,
    "nbgrader": {
     "cell_type": "code",
     "checksum": "f96f4edef157334eed4417d79c9e36d4",
     "grade": true,
     "grade_id": "binary_search",
     "locked": true,
     "points": 1,
     "schema_version": 3,
     "solution": false,
     "task": false
    }
   },
   "outputs": [],
   "source": [
    "assert binary_search ([1, 3, 5, 7, 9], 9) == True\n",
    "assert binary_search ([1, 3, 5, 7, 9], 1) == True\n",
    "assert binary_search ([1, 3, 5, 7, 9], 7) == True\n",
    "assert binary_search ([1, 3, 5, 7, 9], 0) == False"
   ]
  },
  {
   "cell_type": "markdown",
   "metadata": {
    "colab_type": "text",
    "deletable": false,
    "editable": false,
    "id": "pRxI9OLUREgK",
    "nbgrader": {
     "cell_type": "markdown",
     "checksum": "9ec1f032171939b75866b1c9113cf66a",
     "grade": false,
     "grade_id": "cell-3640a8aa6830ca77",
     "locked": true,
     "schema_version": 3,
     "solution": false,
     "task": false
    }
   },
   "source": [
    "### Problem 4: More Fun with Strings (4 points)\n",
    "1. <b>(2 points)</b> Write a function called `char_hist` that takes a string as its argument and returns adictionary whose keys are characters and values are the number of times each character appeared in the input. The inputted string should be converted to have exclusive lowercase letters. "
   ]
  },
  {
   "cell_type": "code",
   "execution_count": 32,
   "metadata": {
    "colab": {},
    "colab_type": "code",
    "deletable": false,
    "id": "m-m3TNquREgL",
    "nbgrader": {
     "cell_type": "code",
     "checksum": "1dc18ec83723482afc5ed19a98889f91",
     "grade": false,
     "grade_id": "hw2-4_1",
     "locked": false,
     "schema_version": 3,
     "solution": true,
     "task": false
    }
   },
   "outputs": [],
   "source": [
    "def char_hist(a):\n",
    "    a=a.lower()\n",
    "    dic=dict()\n",
    "    for i in a:\n",
    "        if i not in dic:\n",
    "            dic[i]=1\n",
    "        else:\n",
    "            dic[i]=dic[i]+1\n",
    "    return(dic)"
   ]
  },
  {
   "cell_type": "code",
   "execution_count": 29,
   "metadata": {},
   "outputs": [],
   "source": [
    "def char_hist(a):\n",
    "    a=a.lower()\n",
    "    result = dict()\n",
    "    for i in a:\n",
    "        result[i] = result.get(i,0)+1## use get function of dictionary\n",
    "    return(result)"
   ]
  },
  {
   "cell_type": "code",
   "execution_count": 31,
   "metadata": {
    "deletable": false,
    "editable": false,
    "nbgrader": {
     "cell_type": "code",
     "checksum": "d7de7c7e6f9947554ea7ce38d05212ad",
     "grade": true,
     "grade_id": "empty_char",
     "locked": true,
     "points": 1,
     "schema_version": 3,
     "solution": false,
     "task": false
    }
   },
   "outputs": [],
   "source": [
    "assert type(char_hist('This should return a dictionary.')) == dict"
   ]
  },
  {
   "cell_type": "code",
   "execution_count": 32,
   "metadata": {
    "deletable": false,
    "editable": false,
    "nbgrader": {
     "cell_type": "code",
     "checksum": "1aacb6b3d83e75af85d9d5d87c90a6d5",
     "grade": true,
     "grade_id": "char_hist",
     "locked": true,
     "points": 1,
     "schema_version": 3,
     "solution": false,
     "task": false
    }
   },
   "outputs": [],
   "source": [
    "assert char_hist('gattaca') == {'g': 1, 'a': 3, 't': 2, 'c': 1}"
   ]
  },
  {
   "cell_type": "markdown",
   "metadata": {
    "colab_type": "text",
    "deletable": false,
    "editable": false,
    "id": "D8L3ykBAREgb",
    "nbgrader": {
     "cell_type": "markdown",
     "checksum": "dde116b3f843368fd4cb8d29c0e9bbaa",
     "grade": false,
     "grade_id": "cell-f0eb106f96726b9e",
     "locked": true,
     "schema_version": 3,
     "solution": false,
     "task": false
    }
   },
   "source": [
    "2. <b>(2 points)</b> Write a function called `bigram_hist` that takes a string as its argument and returns a dictionary whose keys are 2-tuples of characters and values are the number of times that pair of characters appeared in the string. Your function should convert the string to have exclusive lowercase letters."
   ]
  },
  {
   "cell_type": "code",
   "execution_count": 35,
   "metadata": {
    "colab": {},
    "colab_type": "code",
    "deletable": false,
    "id": "qc_7ctBXREgc",
    "nbgrader": {
     "cell_type": "code",
     "checksum": "3253677c476f2222e7de0d46acbcb443",
     "grade": false,
     "grade_id": "hw2-4_2",
     "locked": false,
     "schema_version": 3,
     "solution": true,
     "task": false
    }
   },
   "outputs": [],
   "source": [
    "def bigram_hist(a):\n",
    "    a=a.lower()\n",
    "    dic=dict()\n",
    "    if len(a)<=1:return(dic)\n",
    "    else:\n",
    "        for i in range(len(a)-1):\n",
    "            if (a[i],a[i+1]) not in dic:\n",
    "                dic[(a[i],a[i+1])]=1\n",
    "            else:\n",
    "                dic[(a[i],a[i+1])] +=1\n",
    "        return(dic)"
   ]
  },
  {
   "cell_type": "code",
   "execution_count": 36,
   "metadata": {
    "deletable": false,
    "editable": false,
    "nbgrader": {
     "cell_type": "code",
     "checksum": "5bf4f528d912084675a28d430debb2c1",
     "grade": true,
     "grade_id": "bigram_hist",
     "locked": true,
     "points": 1,
     "schema_version": 3,
     "solution": false,
     "task": false
    }
   },
   "outputs": [],
   "source": [
    "assert bigram_hist(\"mississippi\") == {('i','p'):1,('i','s'):2,('m','i'):1,('p','i'):1,('p','p'):1,('s','i'):2,('s','s'):2}"
   ]
  },
  {
   "cell_type": "code",
   "execution_count": 37,
   "metadata": {
    "deletable": false,
    "editable": false,
    "nbgrader": {
     "cell_type": "code",
     "checksum": "f292d3d95a8d89cc3264c1e9bf18e160",
     "grade": true,
     "grade_id": "empty_hist",
     "locked": true,
     "points": 1,
     "schema_version": 3,
     "solution": false,
     "task": false
    }
   },
   "outputs": [],
   "source": [
    "assert bigram_hist('') == {}"
   ]
  },
  {
   "cell_type": "markdown",
   "metadata": {
    "colab_type": "text",
    "deletable": false,
    "editable": false,
    "id": "GIRzOFhVREgl",
    "nbgrader": {
     "cell_type": "markdown",
     "checksum": "89a32cdeb90cff1c77cbd08cbfbaf66b",
     "grade": false,
     "grade_id": "cell-5316da91ff114931",
     "locked": true,
     "schema_version": 3,
     "solution": false,
     "task": false
    }
   },
   "source": [
    "### Problem 5: Tuples as Vectors (6 points)\n",
    "1. <b>(2 points)</b> Implement a function called `vec_scalar_mult`, which takes two arguments: a tuple of numbers (floats and/or integers) `t` and a number (float or integer) `s` and returns a tuple of the same length as `t`, with its entries equal to the entries of `t` multiplied by `s`. Your function should do appropriate error checking about the types of the arguments and the types within the vector. "
   ]
  },
  {
   "cell_type": "code",
   "execution_count": 38,
   "metadata": {
    "colab": {},
    "colab_type": "code",
    "deletable": false,
    "id": "d_-z3E7zREgm",
    "nbgrader": {
     "cell_type": "code",
     "checksum": "1f6403555998f1d83c5f61b74fc0350e",
     "grade": false,
     "grade_id": "hw2-5_1",
     "locked": false,
     "schema_version": 3,
     "solution": true,
     "task": false
    }
   },
   "outputs": [],
   "source": [
    "def vec_scalar_mult(t, s):\n",
    "    #check t and s\n",
    "    if not isinstance(t,tuple) and isinstance(s,(float,int)):\n",
    "        raise TypeError('error: input type error')\n",
    "    #check elements in t\n",
    "    if not all(isinstance(x,(float,int)) for x in t):\n",
    "        raise TypeError('error: input type error of tuple')\n",
    "    \n",
    "    t_new=[]\n",
    "    for x in t:\n",
    "        t_new.append(x*s)\n",
    "    return tuple(t_new)"
   ]
  },
  {
   "cell_type": "code",
   "execution_count": 39,
   "metadata": {
    "deletable": false,
    "editable": false,
    "nbgrader": {
     "cell_type": "code",
     "checksum": "466b45c9e6cd2ffdad0c6706df3aaf09",
     "grade": true,
     "grade_id": "vec_scalar_mult",
     "locked": true,
     "points": 1,
     "schema_version": 3,
     "solution": false,
     "task": false
    }
   },
   "outputs": [],
   "source": [
    "assert vec_scalar_mult ((1.0, 2), 4.0) == (4.0, 8.0)"
   ]
  },
  {
   "cell_type": "code",
   "execution_count": 40,
   "metadata": {
    "deletable": false,
    "editable": false,
    "nbgrader": {
     "cell_type": "code",
     "checksum": "bb80030b7f8b4bd9ad7ee0bf2047db79",
     "grade": true,
     "grade_id": "empty_mult",
     "locked": true,
     "points": 1,
     "schema_version": 3,
     "solution": false,
     "task": false
    }
   },
   "outputs": [],
   "source": [
    "assert vec_scalar_mult ((1.0, 2), 4.0) == (4.0, 8.0)\n",
    "assert vec_scalar_mult ((1.0, 2, 3), -2.0) == (-2.0, -4.0, -6.0)"
   ]
  },
  {
   "cell_type": "markdown",
   "metadata": {
    "colab_type": "text",
    "deletable": false,
    "editable": false,
    "id": "qWofnY0fREgu",
    "nbgrader": {
     "cell_type": "markdown",
     "checksum": "7f81d9115179cc681235a786f8496ee6",
     "grade": false,
     "grade_id": "cell-1c3f330aabcd46e5",
     "locked": true,
     "schema_version": 3,
     "solution": false,
     "task": false
    }
   },
   "source": [
    "2. <b>(2 points)</b> Implement a function called `vec_inner_product` which takes two vectors (i.e., tuples of foats and/or ints) as its inputs and outputs a float corresponding to the inner product of these two vectors. Your function should do appropriate error checking regarding the types and lengths of the arguments."
   ]
  },
  {
   "cell_type": "code",
   "execution_count": 41,
   "metadata": {
    "colab": {},
    "colab_type": "code",
    "deletable": false,
    "id": "aVok0FNQREgv",
    "nbgrader": {
     "cell_type": "code",
     "checksum": "67ab7cdcd60d5866c77b6f0c12ab607f",
     "grade": false,
     "grade_id": "hw2-5_2",
     "locked": false,
     "schema_version": 3,
     "solution": true,
     "task": false
    }
   },
   "outputs": [],
   "source": [
    "def vec_inner_product(t,s):\n",
    "    #check type of t and s\n",
    "    if not (isinstance(t,tuple) and isinstance(s,tuple)):\n",
    "        raise TypeError('error: input type error')\n",
    "    #check elements\n",
    "    if not (all(isinstance(x,(float,int)) for x in t) and all(isinstance(x,(float,int)) for x in s)):\n",
    "        raise TypeError('error: input type error')\n",
    "\n",
    "    #check length\n",
    "    if len(t)!=len(s):\n",
    "        raise ValueError(\"Dimensions don't line up.\")\n",
    "\n",
    "    output=0\n",
    "    for i in range(len(t)):\n",
    "        output+= t[i]*s[i]\n",
    "    return output"
   ]
  },
  {
   "cell_type": "code",
   "execution_count": 42,
   "metadata": {
    "deletable": false,
    "editable": false,
    "nbgrader": {
     "cell_type": "code",
     "checksum": "f65d2ff3a5b043c76d436f267dd05123",
     "grade": true,
     "grade_id": "inner_product",
     "locked": true,
     "points": 0.5,
     "schema_version": 3,
     "solution": false,
     "task": false
    }
   },
   "outputs": [],
   "source": [
    "assert vec_inner_product((1,1),(1,2)) == 3.0\n",
    "assert vec_inner_product((1,1),(-1,2)) == 1.0\n",
    "assert vec_inner_product((1.0, 2.0), (1, 2)) == 5.0"
   ]
  },
  {
   "cell_type": "code",
   "execution_count": 43,
   "metadata": {
    "deletable": false,
    "editable": false,
    "nbgrader": {
     "cell_type": "code",
     "checksum": "39e9b5243b435ebd3b49b798cf429fdc",
     "grade": true,
     "grade_id": "inner-product-empty",
     "locked": true,
     "points": 0.5,
     "schema_version": 3,
     "solution": false,
     "task": false
    }
   },
   "outputs": [],
   "source": [
    "assert vec_inner_product((), ()) == 0.0"
   ]
  },
  {
   "cell_type": "code",
   "execution_count": 44,
   "metadata": {
    "deletable": false,
    "editable": false,
    "nbgrader": {
     "cell_type": "code",
     "checksum": "0023ed628c1b8b855ff2d6b91ab550b9",
     "grade": true,
     "grade_id": "inner-pr",
     "locked": true,
     "points": 0.5,
     "schema_version": 3,
     "solution": false,
     "task": false
    }
   },
   "outputs": [],
   "source": [
    "assert vec_inner_product((1,5,9,4.5), (7,-2,3,-4)) == 6.0"
   ]
  },
  {
   "cell_type": "code",
   "execution_count": 45,
   "metadata": {
    "deletable": false,
    "editable": false,
    "nbgrader": {
     "cell_type": "code",
     "checksum": "96cbd2e586c63d882a250520b5905a9b",
     "grade": true,
     "grade_id": "error_handling",
     "locked": true,
     "points": 0.5,
     "schema_version": 3,
     "solution": false,
     "task": false
    }
   },
   "outputs": [],
   "source": [
    "try:\n",
    "    vec_inner_product((1.0, 2.0), (1.0,))\n",
    "\n",
    "except ValueError:\n",
    "    pass\n",
    "except TypeError:\n",
    "    pass\n",
    "\n",
    "else:\n",
    "    raise AssertionError(\"Dimensions don't line up.\")"
   ]
  },
  {
   "cell_type": "markdown",
   "metadata": {
    "colab_type": "text",
    "deletable": false,
    "editable": false,
    "id": "rfnD_nosREg0",
    "nbgrader": {
     "cell_type": "markdown",
     "checksum": "e544e0e809b05aaf5a2fa217a149fe3e",
     "grade": false,
     "grade_id": "cell-4dd20a4384c7b20f",
     "locked": true,
     "schema_version": 3,
     "solution": false,
     "task": false
    }
   },
   "source": [
    "3. <b>(1 point)</b> Write a function `check_valid_mx` that takes a single argument and returns a Boolean, which is True if the given argument is a tuple that validly represents a matrix, and returns False otherwise. A valid matrix is a tuple of tuples that has exclusively numeric values (floats or ints). Additionally, each innermost tuple must have the same length. If the length of the first tuple is 5, then all other inner tuples must have length 5 in order for the structure to be considered a valid matrix. "
   ]
  },
  {
   "cell_type": "code",
   "execution_count": 46,
   "metadata": {
    "colab": {},
    "colab_type": "code",
    "deletable": false,
    "id": "hi3WFhPbREg1",
    "nbgrader": {
     "cell_type": "code",
     "checksum": "88be07e6cd40e0306e7f118b141ff462",
     "grade": false,
     "grade_id": "hw2-5_3",
     "locked": false,
     "schema_version": 3,
     "solution": true,
     "task": false
    }
   },
   "outputs": [],
   "source": [
    "def check_valid_mx(a):\n",
    "    if type(a)!=tuple:return False\n",
    "    for i in range(len(a)):\n",
    "        if len(a[0])!=len(a[i]):return False\n",
    "        for j in range(len(a[i])):\n",
    "            if not type(a[i][j]) in (float,int):return False\n",
    "    return True  "
   ]
  },
  {
   "cell_type": "code",
   "execution_count": 47,
   "metadata": {
    "deletable": false,
    "editable": false,
    "nbgrader": {
     "cell_type": "code",
     "checksum": "9827d35c98d3483878ebfb4a8333496b",
     "grade": true,
     "grade_id": "check_valid_mx",
     "locked": true,
     "points": 0.5,
     "schema_version": 3,
     "solution": false,
     "task": false
    }
   },
   "outputs": [],
   "source": [
    "assert check_valid_mx('s') == False\n",
    "assert check_valid_mx(((1.0, 2.0), (2.0,))) == False\n",
    "assert check_valid_mx(((1.0, 2.0), (2.0, 4.0))) == True"
   ]
  },
  {
   "cell_type": "code",
   "execution_count": 48,
   "metadata": {
    "deletable": false,
    "editable": false,
    "nbgrader": {
     "cell_type": "code",
     "checksum": "4b35c7ece63472c16ed947e194eaacc7",
     "grade": true,
     "grade_id": "cell-b66e8d0741a7c7c4",
     "locked": true,
     "points": 0.5,
     "schema_version": 3,
     "solution": false,
     "task": false
    }
   },
   "outputs": [],
   "source": [
    "assert check_valid_mx(((1.0, 2.0), (2.0, 's'))) == False"
   ]
  },
  {
   "cell_type": "markdown",
   "metadata": {
    "colab_type": "text",
    "deletable": false,
    "editable": false,
    "id": "FCs-qwJvREhB",
    "nbgrader": {
     "cell_type": "markdown",
     "checksum": "4ff5961c33ff6464d6f6541059ec0307",
     "grade": false,
     "grade_id": "cell-dd2b9e164b75960b",
     "locked": true,
     "schema_version": 3,
     "solution": false,
     "task": false
    }
   },
   "source": [
    "4. <b>(1 point)</b> Write a function `mx_vec_mult` that takes a matrix (i.e., tuple of tuples) and a vector (i.e., a tuple) as its arguments, and returns a vector (i.e., a tuple of numbers) that is the result of multiplying the given vector by the given matrix. Your function should check that all of the types of the parameters are correct and that they are all valid with matching dimensions for matrix-vector multiplication. __Hint:__ Think carefully about what type of error should be raised in each situation."
   ]
  },
  {
   "cell_type": "code",
   "execution_count": 49,
   "metadata": {
    "colab": {},
    "colab_type": "code",
    "deletable": false,
    "id": "T8RONfEsREhC",
    "nbgrader": {
     "cell_type": "code",
     "checksum": "267c3441a609375643d55f2d3ff8ff24",
     "grade": false,
     "grade_id": "hw2-5_4",
     "locked": false,
     "schema_version": 3,
     "solution": true,
     "task": false
    }
   },
   "outputs": [],
   "source": [
    "def mx_vec_mult(a,b):\n",
    "    #check matrix:\n",
    "    if not(check_valid_mx(a)):\n",
    "        raise TypeError\n",
    "    #check vector:\n",
    "    if not all(isinstance(x,(int,float)) for x in b):\n",
    "        raise TypeError\n",
    "    #check length\n",
    "    if len(a)!=len(b):\n",
    "        return ValueError\n",
    "    \n",
    "    output=[0]*len(a[0])\n",
    "    for i in range(len(a[0])):\n",
    "        for j in range(len(b)):\n",
    "            output[i]+= a[j][i]*b[j]\n",
    "    return tuple(output)"
   ]
  },
  {
   "cell_type": "code",
   "execution_count": 50,
   "metadata": {
    "deletable": false,
    "editable": false,
    "nbgrader": {
     "cell_type": "code",
     "checksum": "c501648c3f127a554b3122b992072193",
     "grade": true,
     "grade_id": "mx_vec_mult",
     "locked": true,
     "points": 0.5,
     "schema_version": 3,
     "solution": false,
     "task": false
    }
   },
   "outputs": [],
   "source": [
    "assert mx_vec_mult(((1.0, 2.0), (2.0, 3.0)), (1.0, 2.0)) == (5.0, 8.0)"
   ]
  },
  {
   "cell_type": "code",
   "execution_count": 51,
   "metadata": {
    "deletable": false,
    "editable": false,
    "nbgrader": {
     "cell_type": "code",
     "checksum": "1643f05b8333fd9bf6d7f42d32bcc789",
     "grade": true,
     "grade_id": "cell-0bf79440f86eb75b",
     "locked": true,
     "points": 0.5,
     "schema_version": 3,
     "solution": false,
     "task": false
    }
   },
   "outputs": [
    {
     "ename": "AssertionError",
     "evalue": "Vector is not of tuples.",
     "output_type": "error",
     "traceback": [
      "\u001b[1;31m---------------------------------------------------------------------------\u001b[0m",
      "\u001b[1;31mAssertionError\u001b[0m                            Traceback (most recent call last)",
      "\u001b[1;32m<ipython-input-51-6ef755fa73b3>\u001b[0m in \u001b[0;36m<module>\u001b[1;34m\u001b[0m\n\u001b[0;32m     27\u001b[0m     \u001b[1;32mpass\u001b[0m\u001b[1;33m\u001b[0m\u001b[1;33m\u001b[0m\u001b[0m\n\u001b[0;32m     28\u001b[0m \u001b[1;32melse\u001b[0m\u001b[1;33m:\u001b[0m\u001b[1;33m\u001b[0m\u001b[1;33m\u001b[0m\u001b[0m\n\u001b[1;32m---> 29\u001b[1;33m     \u001b[1;32mraise\u001b[0m \u001b[0mAssertionError\u001b[0m\u001b[1;33m(\u001b[0m\u001b[1;34m\"Vector is not of tuples.\"\u001b[0m\u001b[1;33m)\u001b[0m\u001b[1;33m\u001b[0m\u001b[1;33m\u001b[0m\u001b[0m\n\u001b[0m\u001b[0;32m     30\u001b[0m \u001b[1;31m### END HIDDEN TESTS\u001b[0m\u001b[1;33m\u001b[0m\u001b[1;33m\u001b[0m\u001b[1;33m\u001b[0m\u001b[0m\n",
      "\u001b[1;31mAssertionError\u001b[0m: Vector is not of tuples."
     ]
    }
   ],
   "source": [
    "try:\n",
    "    mx_vec_mult(((1.0, 2.0), (2.0, 's')), (1.0, 2.0))\n",
    "\n",
    "except ValueError:\n",
    "    pass\n",
    "    \n",
    "except TypeError:\n",
    "    pass\n",
    "\n",
    "else:\n",
    "    raise AssertionError(\"The matrix is invalid.\")"
   ]
  },
  {
   "cell_type": "markdown",
   "metadata": {
    "colab_type": "text",
    "deletable": false,
    "editable": false,
    "id": "FsLwiEHPREhG",
    "nbgrader": {
     "cell_type": "markdown",
     "checksum": "18ea4e51941bdaf1ac09ff74865827e7",
     "grade": false,
     "grade_id": "cell-e8d90b1ce5e0ed42",
     "locked": true,
     "schema_version": 3,
     "solution": false,
     "task": false
    }
   },
   "source": [
    "###  Problem 6: More Fun with Vectors (3 points)\n",
    "1. <b>(1 point)</b> A sparse vector (or matrix) is one that is reporesented by only the storage of its non-zero entries, with (index, value) pairs. Write a function `is_valid_sparse_vector` that takes one argument, and returns True if and only if the input is a valid sparse vector, and returns False otherwise. Note: your function should not assume that the input is a dictionary. A valid sparse vector will be a dictionary that has the properties that \n",
    "    1. all its indices are positive integers, and \n",
    "    2. all its values are floats. \n",
    "\n"
   ]
  },
  {
   "cell_type": "code",
   "execution_count": 33,
   "metadata": {
    "colab": {},
    "colab_type": "code",
    "deletable": false,
    "id": "mWVhSoH-REhI",
    "nbgrader": {
     "cell_type": "code",
     "checksum": "d90ca7e873b261665fb9637ff4c9597b",
     "grade": false,
     "grade_id": "hw2-6_1",
     "locked": false,
     "schema_version": 3,
     "solution": true,
     "task": false
    }
   },
   "outputs": [],
   "source": [
    "def is_valid_sparse_vector(vec):\n",
    "    #check dictionary\n",
    "    if not isinstance(vec,dict):return False\n",
    "    #check int,float\n",
    "    if not all(isinstance(key,int) for key in vec.keys()):return False\n",
    "    if not all(isinstance(value,float) for value in vec.values()):return False\n",
    "    \n",
    "    if not all(key>0 for key in vec.keys()):return False\n",
    "    \n",
    "    return True"
   ]
  },
  {
   "cell_type": "code",
   "execution_count": 34,
   "metadata": {
    "deletable": false,
    "editable": false,
    "nbgrader": {
     "cell_type": "code",
     "checksum": "5d274ed0bcc070e611e4e65b694ca325",
     "grade": true,
     "grade_id": "is_valid_sparse_vector",
     "locked": true,
     "points": 0.5,
     "schema_version": 3,
     "solution": false,
     "task": false
    }
   },
   "outputs": [],
   "source": [
    "assert is_valid_sparse_vector({1:2.,6:1.,5:3.5,7:4.0}) == True\n",
    "assert is_valid_sparse_vector({-2:1.2,3:2.5,5:4.1}) == False\n",
    "assert is_valid_sparse_vector({1: 1.0, 3: 2.0, 5: 3.0, 7: 4.0}) == True\n",
    "assert is_valid_sparse_vector({-1: 1.0, 3: 2.0, 5: 3.0}) == False"
   ]
  },
  {
   "cell_type": "code",
   "execution_count": 35,
   "metadata": {
    "deletable": false,
    "editable": false,
    "nbgrader": {
     "cell_type": "code",
     "checksum": "71a82e59661e839a2f7040d959684ff1",
     "grade": true,
     "grade_id": "is-valid-sparse-vector-empty",
     "locked": true,
     "points": 0.5,
     "schema_version": 3,
     "solution": false,
     "task": false
    }
   },
   "outputs": [],
   "source": [
    "assert is_valid_sparse_vector({1}) == False"
   ]
  },
  {
   "cell_type": "markdown",
   "metadata": {
    "colab_type": "text",
    "deletable": false,
    "editable": false,
    "id": "7AaWdvugREhP",
    "nbgrader": {
     "cell_type": "markdown",
     "checksum": "ded7e66185cbb385db090a296fd63d54",
     "grade": false,
     "grade_id": "cell-11de3fbe2964000e",
     "locked": true,
     "schema_version": 3,
     "solution": false,
     "task": false
    }
   },
   "source": [
    "2. <b>(2 points)</b> Write a function `sparse_inner_product` that takes two sparse vectors as its inputs, and returns a float that is the value of the inner product of the vectors that the inputs represent. Note that by our definition, a sparse vector has no specified dimension, so there is no need to check that the dimensions of the arguments agree. Your function should do the appropriate error checking for ensuring that both inputs are valid sparse vectors."
   ]
  },
  {
   "cell_type": "code",
   "execution_count": 39,
   "metadata": {
    "colab": {},
    "colab_type": "code",
    "deletable": false,
    "id": "Vu9c07iCREhR",
    "nbgrader": {
     "cell_type": "code",
     "checksum": "67d7d757811b184c841fdf5508336d5b",
     "grade": false,
     "grade_id": "hw2-6_2",
     "locked": false,
     "schema_version": 3,
     "solution": true,
     "task": false
    }
   },
   "outputs": [],
   "source": [
    "def sparse_inner_product(vec1,vec2):\n",
    "    if  not(is_valid_sparse_vector(vec1) and is_valid_sparse_vector(vec2)):\n",
    "        raise TypeError\n",
    "    ### should raise valueerror when values are not proper instead of just raise TypeError\n",
    "        \n",
    "    product=0\n",
    "    for key in vec1.keys():\n",
    "        if vec2.get(key)!=None:\n",
    "            product+=vec1[key]*vec2[key]\n",
    "    return(product)"
   ]
  },
  {
   "cell_type": "code",
   "execution_count": 40,
   "metadata": {
    "deletable": false,
    "editable": false,
    "nbgrader": {
     "cell_type": "code",
     "checksum": "074ce17e565031ecfa48542f34ff63a6",
     "grade": true,
     "grade_id": "cell-ab54723e53513a3c",
     "locked": true,
     "points": 0.5,
     "schema_version": 3,
     "solution": false,
     "task": false
    }
   },
   "outputs": [],
   "source": [
    "assert sparse_inner_product({1: 1.0, 2: 2.0, 3: 3.0}, {1: 1.0, 3: 3.0, 5: 5.0}) == 10.0"
   ]
  },
  {
   "cell_type": "code",
   "execution_count": 41,
   "metadata": {
    "deletable": false,
    "editable": false,
    "nbgrader": {
     "cell_type": "code",
     "checksum": "345d81e2de0e32bdd977207280ad8bf2",
     "grade": true,
     "grade_id": "cell-cde1f885231cf4bd",
     "locked": true,
     "points": 0.5,
     "schema_version": 3,
     "solution": false,
     "task": false
    }
   },
   "outputs": [],
   "source": [
    "assert sparse_inner_product({1: 1.0, 2: 2.0, 3: 3.0}, {}) == 0"
   ]
  },
  {
   "cell_type": "code",
   "execution_count": 42,
   "metadata": {
    "deletable": false,
    "editable": false,
    "nbgrader": {
     "cell_type": "code",
     "checksum": "f9209b90134ac0cc2c9f12fe49954900",
     "grade": true,
     "grade_id": "cell-e8d82c1c87291d19",
     "locked": true,
     "points": 0.5,
     "schema_version": 3,
     "solution": false,
     "task": false
    }
   },
   "outputs": [],
   "source": [
    "assert sparse_inner_product({1: 1.0, 4: -3.5, 3: -3.5}, {1: 10.0, 3: 1.5, 5: 3.14}) == 4.75"
   ]
  },
  {
   "cell_type": "code",
   "execution_count": 43,
   "metadata": {
    "deletable": false,
    "editable": false,
    "nbgrader": {
     "cell_type": "code",
     "checksum": "d61861e70cb9ad90da9dd9e469004a60",
     "grade": true,
     "grade_id": "cell-d4d7e89ace52b2c4",
     "locked": true,
     "points": 0.5,
     "schema_version": 3,
     "solution": false,
     "task": false
    }
   },
   "outputs": [],
   "source": [
    "assert sparse_inner_product({6: 1.0, 4: 2.0, 37: 3.0}, {2: 1.0, 1: 3.0, 55: 5.0}) == 0.0"
   ]
  },
  {
   "cell_type": "markdown",
   "metadata": {
    "colab_type": "text",
    "deletable": false,
    "editable": false,
    "id": "8hRSaKe2REhV",
    "nbgrader": {
     "cell_type": "markdown",
     "checksum": "7306b8402aa7bb4b8fd1d5e69ae9876d",
     "grade": false,
     "grade_id": "cell-6daf8a3fbef40487",
     "locked": true,
     "schema_version": 3,
     "solution": false,
     "task": false
    }
   },
   "source": [
    "### Problem 7: More Fun with Tuples (5 points)\n",
    "1. <b>(2 points)</b> Write a function called `my_sum` that takes any number of numeric (ints and floats) arguments, and returns the sum of its arguments."
   ]
  },
  {
   "cell_type": "code",
   "execution_count": 60,
   "metadata": {
    "colab": {},
    "colab_type": "code",
    "deletable": false,
    "id": "BnH-0-2rREhX",
    "nbgrader": {
     "cell_type": "code",
     "checksum": "bd874ae6dba0cb077bf3644b9d19866e",
     "grade": false,
     "grade_id": "hw2-7_1",
     "locked": false,
     "schema_version": 3,
     "solution": true,
     "task": false
    }
   },
   "outputs": [],
   "source": [
    "def my_sum(*t):#turn the inputs into tuple\n",
    "    sum=0\n",
    "    for i in range(len(t)):\n",
    "        sum=sum+t[i]\n",
    "    return sum"
   ]
  },
  {
   "cell_type": "code",
   "execution_count": 61,
   "metadata": {
    "deletable": false,
    "editable": false,
    "nbgrader": {
     "cell_type": "code",
     "checksum": "73ec277b9397a2dda040d96f84d3cd11",
     "grade": true,
     "grade_id": "star-args",
     "locked": true,
     "points": 1,
     "schema_version": 3,
     "solution": false,
     "task": false
    }
   },
   "outputs": [],
   "source": [
    "# Please make sure this cell is directly beneath the cell with your my_sum function."
   ]
  },
  {
   "cell_type": "code",
   "execution_count": 62,
   "metadata": {
    "deletable": false,
    "editable": false,
    "nbgrader": {
     "cell_type": "code",
     "checksum": "d1714f4a908f751d5f74835c89a47533",
     "grade": true,
     "grade_id": "my_sum",
     "locked": true,
     "points": 0.5,
     "schema_version": 3,
     "solution": false,
     "task": false
    }
   },
   "outputs": [],
   "source": [
    "assert my_sum(3.2,4.1,-3) == 4.3\n",
    "assert my_sum(3,4) == 7"
   ]
  },
  {
   "cell_type": "code",
   "execution_count": 63,
   "metadata": {
    "deletable": false,
    "editable": false,
    "nbgrader": {
     "cell_type": "code",
     "checksum": "537002bf55de2f95b595840cd1dd5243",
     "grade": true,
     "grade_id": "cell-2c0a2ace639c9c61",
     "locked": true,
     "points": 0.5,
     "schema_version": 3,
     "solution": false,
     "task": false
    }
   },
   "outputs": [],
   "source": [
    "assert my_sum(-0) == 0"
   ]
  },
  {
   "cell_type": "markdown",
   "metadata": {
    "colab_type": "text",
    "deletable": false,
    "editable": false,
    "id": "ah3HTYViREhg",
    "nbgrader": {
     "cell_type": "markdown",
     "checksum": "9b026826a253a8c83ac971fb3e7f3955",
     "grade": false,
     "grade_id": "cell-35388ed532368a9d",
     "locked": true,
     "schema_version": 3,
     "solution": false,
     "task": false
    }
   },
   "source": [
    "2. <b>(1 point)</b> Write a function called `reverse_tuple` that takes a tuple as its only argument and returns a tuple that is the reverse of the input."
   ]
  },
  {
   "cell_type": "code",
   "execution_count": 64,
   "metadata": {
    "colab": {},
    "colab_type": "code",
    "deletable": false,
    "id": "LOv2F-m7REhh",
    "nbgrader": {
     "cell_type": "code",
     "checksum": "0b2eb488eafee0591a74b8baeae67644",
     "grade": false,
     "grade_id": "hw2-7_2",
     "locked": false,
     "schema_version": 3,
     "solution": true,
     "task": false
    }
   },
   "outputs": [],
   "source": [
    "def reverse_tuple(t):\n",
    "    t_reverse=[]\n",
    "    for i in range(len(t)):\n",
    "        t_reverse.append(t[-(i+1)])\n",
    "    t_reverse=tuple(t_reverse)\n",
    "    return t_reverse"
   ]
  },
  {
   "cell_type": "code",
   "execution_count": 65,
   "metadata": {
    "deletable": false,
    "editable": false,
    "nbgrader": {
     "cell_type": "code",
     "checksum": "4b73007f4a3352d92b0acb2109302652",
     "grade": true,
     "grade_id": "cell-9aa079959f08d94e",
     "locked": true,
     "points": 0.5,
     "schema_version": 3,
     "solution": false,
     "task": false
    }
   },
   "outputs": [],
   "source": [
    "assert type(reverse_tuple((4,5,6))) == tuple"
   ]
  },
  {
   "cell_type": "code",
   "execution_count": 66,
   "metadata": {
    "deletable": false,
    "editable": false,
    "nbgrader": {
     "cell_type": "code",
     "checksum": "7023f499ce1f22f50e8719832ed609b4",
     "grade": true,
     "grade_id": "cell-66e2cb2b968800d1",
     "locked": true,
     "points": 0.5,
     "schema_version": 3,
     "solution": false,
     "task": false
    }
   },
   "outputs": [],
   "source": [
    "assert reverse_tuple((3,4,1)) == (1,4,3)\n",
    "assert reverse_tuple((4,1)) == (1,4)"
   ]
  },
  {
   "cell_type": "markdown",
   "metadata": {
    "colab_type": "text",
    "deletable": false,
    "editable": false,
    "id": "f2Rnkfw2REhi",
    "nbgrader": {
     "cell_type": "markdown",
     "checksum": "dc10a75316c80fe47e4e2d8e751c8d27",
     "grade": false,
     "grade_id": "cell-7bb365ff79f7e4c3",
     "locked": true,
     "schema_version": 3,
     "solution": false,
     "task": false
    }
   },
   "source": [
    "3. <b>(2 points)</b> Write a function called `rotate_tuple` that takes two arguments: a tuple and an integer, in that order. Letting $n$ be the integer given in the input, your function should return a tuple of the same length as the input tuple, but with its entries “rotated” by n. If n is positive, this should mean to “push forward” all the entries of the input tuple by n entries, with entries that “go off the end” of the tuple being wrapped around to the beginning, so that the $i^{th}$ entry of the input tuple becomes the $(i + n)^{th}$ entry of the output, wrapping around to the beginning of the tuple if this index goes off the end. If n is negative, then this corresponds to rotating the entries in the other direction, with entries of the input tuple being “pushed backward”. Your function should perform error checking to ensure that the inputs are of appropriate types. If the user supplies a non-integer, print a message to alert the user that the input was not as expected, and try to recover by casting it to an integer. __Hint__: a try/catch statement will likely be useful here."
   ]
  },
  {
   "cell_type": "code",
   "execution_count": 12,
   "metadata": {
    "colab": {},
    "colab_type": "code",
    "deletable": false,
    "id": "RWHyYX0-REhj",
    "nbgrader": {
     "cell_type": "code",
     "checksum": "c493efa6f96ee3099fb16a680470595d",
     "grade": false,
     "grade_id": "hw2-7_3",
     "locked": false,
     "schema_version": 3,
     "solution": true,
     "task": false
    }
   },
   "outputs": [],
   "source": [
    "##########wrong answer\n",
    "def rotate_tuple(t,n):\n",
    "    #error checking\n",
    "    if not(isinstance(t,tuple)): raise TypeError\n",
    "    try:\n",
    "        tnew=[]\n",
    "        if n==0:return t\n",
    "        elif n>0:\n",
    "            tnew= t[(len(t)-n):]+t[:(len(t)-n)]\n",
    "        else:\n",
    "            tnew= t[(-n):]+t[:(-n)]\n",
    "        return tuple(tnew)   \n",
    "    except:\n",
    "        print(\"Second input is not an integer.\")\n",
    "        n=int(n)\n",
    "        return rotate_tuple(t,n)\n",
    "#####problems: 1. not consider abs(n)>len(t) "
   ]
  },
  {
   "cell_type": "code",
   "execution_count": 31,
   "metadata": {},
   "outputs": [],
   "source": [
    "def rotate_tuple(t,n):\n",
    "    #error checking\n",
    "    if not(isinstance(t,tuple)): raise TypeError\n",
    "    if not(isinstance(n,(float, int))):\n",
    "        try:\n",
    "            n=int(n)\n",
    "            print(\"Second input is not an integer.\")\n",
    "        except:\n",
    "            raise TypeError\n",
    "        \n",
    "    \n",
    "    tnew=[]\n",
    "    if n==0:return t\n",
    "    elif n>0:\n",
    "        d=n%len(t)\n",
    "        tnew= t[(len(t)-d):]+t[:(len(t)-d)]\n",
    "    else:\n",
    "        d=-(abs(n)%len(t))\n",
    "        tnew= t[(-d):]+t[:(-d)]\n",
    "    return tuple(tnew)   "
   ]
  },
  {
   "cell_type": "code",
   "execution_count": 19,
   "metadata": {
    "deletable": false,
    "editable": false,
    "nbgrader": {
     "cell_type": "code",
     "checksum": "7f9e2f0afb7cfc09efd21d7ea4f52ccd",
     "grade": true,
     "grade_id": "floats_and_empty",
     "locked": true,
     "points": 0.5,
     "schema_version": 3,
     "solution": false,
     "task": false
    }
   },
   "outputs": [],
   "source": [
    "assert type(rotate_tuple((1,2,3,4), 5)) == tuple"
   ]
  },
  {
   "cell_type": "code",
   "execution_count": 69,
   "metadata": {
    "deletable": false,
    "editable": false,
    "nbgrader": {
     "cell_type": "code",
     "checksum": "f4ba7f2d67afa1b0b6fbf8dccc61dec2",
     "grade": true,
     "grade_id": "neg_and_large_index",
     "locked": true,
     "points": 1,
     "schema_version": 3,
     "solution": false,
     "task": false
    }
   },
   "outputs": [
    {
     "ename": "AssertionError",
     "evalue": "",
     "output_type": "error",
     "traceback": [
      "\u001b[1;31m---------------------------------------------------------------------------\u001b[0m",
      "\u001b[1;31mAssertionError\u001b[0m                            Traceback (most recent call last)",
      "\u001b[1;32m<ipython-input-69-eb8f643b66e3>\u001b[0m in \u001b[0;36m<module>\u001b[1;34m\u001b[0m\n\u001b[0;32m      3\u001b[0m \u001b[1;31m### BEGIN HIDDEN TESTS\u001b[0m\u001b[1;33m\u001b[0m\u001b[1;33m\u001b[0m\u001b[1;33m\u001b[0m\u001b[0m\n\u001b[0;32m      4\u001b[0m \u001b[1;32massert\u001b[0m \u001b[0mrotate_tuple\u001b[0m\u001b[1;33m(\u001b[0m\u001b[1;33m(\u001b[0m\u001b[1;36m1\u001b[0m\u001b[1;33m,\u001b[0m\u001b[1;36m2\u001b[0m\u001b[1;33m,\u001b[0m\u001b[1;36m3\u001b[0m\u001b[1;33m,\u001b[0m\u001b[1;36m4\u001b[0m\u001b[1;33m,\u001b[0m\u001b[1;36m5\u001b[0m\u001b[1;33m,\u001b[0m\u001b[1;36m6\u001b[0m\u001b[1;33m,\u001b[0m\u001b[1;36m7\u001b[0m\u001b[1;33m)\u001b[0m\u001b[1;33m,\u001b[0m\u001b[1;36m9\u001b[0m\u001b[1;33m)\u001b[0m \u001b[1;33m==\u001b[0m \u001b[1;33m(\u001b[0m\u001b[1;36m6\u001b[0m\u001b[1;33m,\u001b[0m\u001b[1;36m7\u001b[0m\u001b[1;33m,\u001b[0m\u001b[1;36m1\u001b[0m\u001b[1;33m,\u001b[0m\u001b[1;36m2\u001b[0m\u001b[1;33m,\u001b[0m\u001b[1;36m3\u001b[0m\u001b[1;33m,\u001b[0m\u001b[1;36m4\u001b[0m\u001b[1;33m,\u001b[0m\u001b[1;36m5\u001b[0m\u001b[1;33m)\u001b[0m\u001b[1;33m\u001b[0m\u001b[1;33m\u001b[0m\u001b[0m\n\u001b[1;32m----> 5\u001b[1;33m \u001b[1;32massert\u001b[0m \u001b[0mrotate_tuple\u001b[0m\u001b[1;33m(\u001b[0m\u001b[1;33m(\u001b[0m\u001b[1;36m1\u001b[0m\u001b[1;33m,\u001b[0m\u001b[1;36m2\u001b[0m\u001b[1;33m,\u001b[0m\u001b[1;36m3\u001b[0m\u001b[1;33m,\u001b[0m\u001b[1;36m4\u001b[0m\u001b[1;33m,\u001b[0m\u001b[1;36m5\u001b[0m\u001b[1;33m,\u001b[0m\u001b[1;36m6\u001b[0m\u001b[1;33m,\u001b[0m\u001b[1;36m7\u001b[0m\u001b[1;33m)\u001b[0m\u001b[1;33m,\u001b[0m\u001b[1;33m-\u001b[0m\u001b[1;36m9\u001b[0m\u001b[1;33m)\u001b[0m \u001b[1;33m==\u001b[0m \u001b[1;33m(\u001b[0m\u001b[1;36m3\u001b[0m\u001b[1;33m,\u001b[0m\u001b[1;36m4\u001b[0m\u001b[1;33m,\u001b[0m\u001b[1;36m5\u001b[0m\u001b[1;33m,\u001b[0m\u001b[1;36m6\u001b[0m\u001b[1;33m,\u001b[0m\u001b[1;36m7\u001b[0m\u001b[1;33m,\u001b[0m\u001b[1;36m1\u001b[0m\u001b[1;33m,\u001b[0m\u001b[1;36m2\u001b[0m\u001b[1;33m)\u001b[0m\u001b[1;33m\u001b[0m\u001b[1;33m\u001b[0m\u001b[0m\n\u001b[0m\u001b[0;32m      6\u001b[0m \u001b[1;32massert\u001b[0m \u001b[0mrotate_tuple\u001b[0m\u001b[1;33m(\u001b[0m\u001b[1;33m(\u001b[0m\u001b[1;34m'a'\u001b[0m\u001b[1;33m,\u001b[0m\u001b[1;34m'b'\u001b[0m\u001b[1;33m,\u001b[0m\u001b[1;34m'c'\u001b[0m\u001b[1;33m,\u001b[0m\u001b[1;34m'd'\u001b[0m\u001b[1;33m,\u001b[0m \u001b[1;34m'e'\u001b[0m\u001b[1;33m,\u001b[0m \u001b[1;34m'f'\u001b[0m\u001b[1;33m,\u001b[0m \u001b[1;34m'g'\u001b[0m\u001b[1;33m,\u001b[0m \u001b[1;34m'h'\u001b[0m\u001b[1;33m)\u001b[0m\u001b[1;33m,\u001b[0m \u001b[1;36m1\u001b[0m\u001b[1;33m)\u001b[0m \u001b[1;33m==\u001b[0m \u001b[1;33m(\u001b[0m\u001b[1;34m'h'\u001b[0m\u001b[1;33m,\u001b[0m \u001b[1;34m'a'\u001b[0m\u001b[1;33m,\u001b[0m \u001b[1;34m'b'\u001b[0m\u001b[1;33m,\u001b[0m\u001b[1;34m'c'\u001b[0m\u001b[1;33m,\u001b[0m\u001b[1;34m'd'\u001b[0m\u001b[1;33m,\u001b[0m \u001b[1;34m'e'\u001b[0m\u001b[1;33m,\u001b[0m \u001b[1;34m'f'\u001b[0m\u001b[1;33m,\u001b[0m \u001b[1;34m'g'\u001b[0m\u001b[1;33m)\u001b[0m\u001b[1;33m\u001b[0m\u001b[1;33m\u001b[0m\u001b[0m\n\u001b[0;32m      7\u001b[0m \u001b[1;31m### END HIDDEN TESTS\u001b[0m\u001b[1;33m\u001b[0m\u001b[1;33m\u001b[0m\u001b[1;33m\u001b[0m\u001b[0m\n",
      "\u001b[1;31mAssertionError\u001b[0m: "
     ]
    }
   ],
   "source": [
    "assert rotate_tuple((1,2,3,4,5,6,7),2) == (6,7,1,2,3,4,5)\n",
    "assert rotate_tuple((1,2,3,4,5,6,7),-2) == (3,4,5,6,7,1,2)"
   ]
  },
  {
   "cell_type": "code",
   "execution_count": 24,
   "metadata": {},
   "outputs": [
    {
     "data": {
      "text/plain": [
       "(3, 4, 5, 6, 7, 1, 2)"
      ]
     },
     "execution_count": 24,
     "metadata": {},
     "output_type": "execute_result"
    }
   ],
   "source": [
    "rotate_tuple((1,2,3,4,5,6,7),-9)"
   ]
  },
  {
   "cell_type": "code",
   "execution_count": 70,
   "metadata": {
    "deletable": false,
    "editable": false,
    "nbgrader": {
     "cell_type": "code",
     "checksum": "75b1589d3e69db986bcd403ee32a2eaa",
     "grade": true,
     "grade_id": "cell-8eefa6355b206775",
     "locked": true,
     "points": 0.5,
     "schema_version": 3,
     "solution": false,
     "task": false
    }
   },
   "outputs": [
    {
     "name": "stdout",
     "output_type": "stream",
     "text": [
      "Second input is not an integer.\n",
      "Second input is not an integer.\n",
      "Second input is not an integer.\n"
     ]
    },
    {
     "ename": "ValueError",
     "evalue": "invalid literal for int() with base 10: 'two'",
     "output_type": "error",
     "traceback": [
      "\u001b[1;31m---------------------------------------------------------------------------\u001b[0m",
      "\u001b[1;31mTypeError\u001b[0m                                 Traceback (most recent call last)",
      "\u001b[1;32m<ipython-input-67-a8812038c8f5>\u001b[0m in \u001b[0;36mrotate_tuple\u001b[1;34m(t, n)\u001b[0m\n\u001b[0;32m      6\u001b[0m         \u001b[1;32mif\u001b[0m \u001b[0mn\u001b[0m\u001b[1;33m==\u001b[0m\u001b[1;36m0\u001b[0m\u001b[1;33m:\u001b[0m\u001b[1;32mreturn\u001b[0m \u001b[0mt\u001b[0m\u001b[1;33m\u001b[0m\u001b[1;33m\u001b[0m\u001b[0m\n\u001b[1;32m----> 7\u001b[1;33m         \u001b[1;32melif\u001b[0m \u001b[0mn\u001b[0m\u001b[1;33m>\u001b[0m\u001b[1;36m0\u001b[0m\u001b[1;33m:\u001b[0m\u001b[1;33m\u001b[0m\u001b[1;33m\u001b[0m\u001b[0m\n\u001b[0m\u001b[0;32m      8\u001b[0m             \u001b[0mtnew\u001b[0m\u001b[1;33m=\u001b[0m \u001b[0mt\u001b[0m\u001b[1;33m[\u001b[0m\u001b[1;33m(\u001b[0m\u001b[0mlen\u001b[0m\u001b[1;33m(\u001b[0m\u001b[0mt\u001b[0m\u001b[1;33m)\u001b[0m\u001b[1;33m-\u001b[0m\u001b[0mn\u001b[0m\u001b[1;33m)\u001b[0m\u001b[1;33m:\u001b[0m\u001b[1;33m]\u001b[0m\u001b[1;33m+\u001b[0m\u001b[0mt\u001b[0m\u001b[1;33m[\u001b[0m\u001b[1;33m:\u001b[0m\u001b[1;33m(\u001b[0m\u001b[0mlen\u001b[0m\u001b[1;33m(\u001b[0m\u001b[0mt\u001b[0m\u001b[1;33m)\u001b[0m\u001b[1;33m-\u001b[0m\u001b[0mn\u001b[0m\u001b[1;33m)\u001b[0m\u001b[1;33m]\u001b[0m\u001b[1;33m\u001b[0m\u001b[1;33m\u001b[0m\u001b[0m\n",
      "\u001b[1;31mTypeError\u001b[0m: '>' not supported between instances of 'str' and 'int'",
      "\nDuring handling of the above exception, another exception occurred:\n",
      "\u001b[1;31mValueError\u001b[0m                                Traceback (most recent call last)",
      "\u001b[1;32m<ipython-input-70-7cce8d7fec95>\u001b[0m in \u001b[0;36m<module>\u001b[1;34m\u001b[0m\n\u001b[0;32m      3\u001b[0m \u001b[1;32massert\u001b[0m \u001b[0mrotate_tuple\u001b[0m\u001b[1;33m(\u001b[0m\u001b[1;33m(\u001b[0m\u001b[1;36m1\u001b[0m\u001b[1;33m,\u001b[0m\u001b[1;36m2\u001b[0m\u001b[1;33m,\u001b[0m\u001b[1;36m3\u001b[0m\u001b[1;33m,\u001b[0m\u001b[1;36m4\u001b[0m\u001b[1;33m,\u001b[0m\u001b[1;36m5\u001b[0m\u001b[1;33m,\u001b[0m\u001b[1;36m6\u001b[0m\u001b[1;33m,\u001b[0m\u001b[1;36m7\u001b[0m\u001b[1;33m)\u001b[0m\u001b[1;33m,\u001b[0m\u001b[1;33m-\u001b[0m\u001b[1;36m2.5\u001b[0m\u001b[1;33m)\u001b[0m \u001b[1;33m==\u001b[0m \u001b[1;33m(\u001b[0m\u001b[1;36m3\u001b[0m\u001b[1;33m,\u001b[0m\u001b[1;36m4\u001b[0m\u001b[1;33m,\u001b[0m\u001b[1;36m5\u001b[0m\u001b[1;33m,\u001b[0m\u001b[1;36m6\u001b[0m\u001b[1;33m,\u001b[0m\u001b[1;36m7\u001b[0m\u001b[1;33m,\u001b[0m\u001b[1;36m1\u001b[0m\u001b[1;33m,\u001b[0m\u001b[1;36m2\u001b[0m\u001b[1;33m)\u001b[0m\u001b[1;33m\u001b[0m\u001b[1;33m\u001b[0m\u001b[0m\n\u001b[0;32m      4\u001b[0m \u001b[1;32mtry\u001b[0m\u001b[1;33m:\u001b[0m\u001b[1;33m\u001b[0m\u001b[1;33m\u001b[0m\u001b[0m\n\u001b[1;32m----> 5\u001b[1;33m     \u001b[0mrotate_tuple\u001b[0m\u001b[1;33m(\u001b[0m\u001b[1;33m(\u001b[0m\u001b[1;36m1\u001b[0m\u001b[1;33m,\u001b[0m\u001b[1;36m2\u001b[0m\u001b[1;33m,\u001b[0m\u001b[1;36m3\u001b[0m\u001b[1;33m,\u001b[0m\u001b[1;36m4\u001b[0m\u001b[1;33m,\u001b[0m\u001b[1;36m5\u001b[0m\u001b[1;33m,\u001b[0m\u001b[1;36m6\u001b[0m\u001b[1;33m,\u001b[0m\u001b[1;36m7\u001b[0m\u001b[1;33m)\u001b[0m\u001b[1;33m,\u001b[0m\u001b[1;34m\"two\"\u001b[0m\u001b[1;33m)\u001b[0m\u001b[1;33m\u001b[0m\u001b[1;33m\u001b[0m\u001b[0m\n\u001b[0m\u001b[0;32m      6\u001b[0m \u001b[1;33m\u001b[0m\u001b[0m\n\u001b[0;32m      7\u001b[0m \u001b[1;32mexcept\u001b[0m \u001b[0mTypeError\u001b[0m\u001b[1;33m:\u001b[0m\u001b[1;33m\u001b[0m\u001b[1;33m\u001b[0m\u001b[0m\n",
      "\u001b[1;32m<ipython-input-67-a8812038c8f5>\u001b[0m in \u001b[0;36mrotate_tuple\u001b[1;34m(t, n)\u001b[0m\n\u001b[0;32m     12\u001b[0m     \u001b[1;32mexcept\u001b[0m\u001b[1;33m:\u001b[0m\u001b[1;33m\u001b[0m\u001b[1;33m\u001b[0m\u001b[0m\n\u001b[0;32m     13\u001b[0m         \u001b[0mprint\u001b[0m\u001b[1;33m(\u001b[0m\u001b[1;34m\"Second input is not an integer.\"\u001b[0m\u001b[1;33m)\u001b[0m\u001b[1;33m\u001b[0m\u001b[1;33m\u001b[0m\u001b[0m\n\u001b[1;32m---> 14\u001b[1;33m         \u001b[0mn\u001b[0m\u001b[1;33m=\u001b[0m\u001b[0mint\u001b[0m\u001b[1;33m(\u001b[0m\u001b[0mn\u001b[0m\u001b[1;33m)\u001b[0m\u001b[1;33m\u001b[0m\u001b[1;33m\u001b[0m\u001b[0m\n\u001b[0m\u001b[0;32m     15\u001b[0m         \u001b[1;32mreturn\u001b[0m \u001b[0mrotate_tuple\u001b[0m\u001b[1;33m(\u001b[0m\u001b[0mt\u001b[0m\u001b[1;33m,\u001b[0m\u001b[0mn\u001b[0m\u001b[1;33m)\u001b[0m\u001b[1;33m\u001b[0m\u001b[1;33m\u001b[0m\u001b[0m\n",
      "\u001b[1;31mValueError\u001b[0m: invalid literal for int() with base 10: 'two'"
     ]
    }
   ],
   "source": [
    "assert rotate_tuple((1,2,3,4,5,6,7),-2.0) == (3,4,5,6,7,1,2)"
   ]
  },
  {
   "cell_type": "code",
   "execution_count": 32,
   "metadata": {},
   "outputs": [
    {
     "ename": "TypeError",
     "evalue": "",
     "output_type": "error",
     "traceback": [
      "\u001b[1;31m---------------------------------------------------------------------------\u001b[0m",
      "\u001b[1;31mValueError\u001b[0m                                Traceback (most recent call last)",
      "\u001b[1;32m<ipython-input-31-f3876e7f0ce7>\u001b[0m in \u001b[0;36mrotate_tuple\u001b[1;34m(t, n)\u001b[0m\n\u001b[0;32m      5\u001b[0m         \u001b[1;32mtry\u001b[0m\u001b[1;33m:\u001b[0m\u001b[1;33m\u001b[0m\u001b[1;33m\u001b[0m\u001b[0m\n\u001b[1;32m----> 6\u001b[1;33m             \u001b[0mn\u001b[0m\u001b[1;33m=\u001b[0m\u001b[0mint\u001b[0m\u001b[1;33m(\u001b[0m\u001b[0mn\u001b[0m\u001b[1;33m)\u001b[0m\u001b[1;33m\u001b[0m\u001b[1;33m\u001b[0m\u001b[0m\n\u001b[0m\u001b[0;32m      7\u001b[0m             \u001b[0mprint\u001b[0m\u001b[1;33m(\u001b[0m\u001b[1;34m\"Second input is not an integer.\"\u001b[0m\u001b[1;33m)\u001b[0m\u001b[1;33m\u001b[0m\u001b[1;33m\u001b[0m\u001b[0m\n",
      "\u001b[1;31mValueError\u001b[0m: invalid literal for int() with base 10: 'two'",
      "\nDuring handling of the above exception, another exception occurred:\n",
      "\u001b[1;31mTypeError\u001b[0m                                 Traceback (most recent call last)",
      "\u001b[1;32m<ipython-input-32-bf785324c4ba>\u001b[0m in \u001b[0;36m<module>\u001b[1;34m\u001b[0m\n\u001b[0;32m      1\u001b[0m \u001b[1;31m#rotate_tuple((1,2,3,4,5,6,7),-2.5)\u001b[0m\u001b[1;33m\u001b[0m\u001b[1;33m\u001b[0m\u001b[1;33m\u001b[0m\u001b[0m\n\u001b[1;32m----> 2\u001b[1;33m \u001b[0mrotate_tuple\u001b[0m\u001b[1;33m(\u001b[0m\u001b[1;33m(\u001b[0m\u001b[1;36m1\u001b[0m\u001b[1;33m,\u001b[0m\u001b[1;36m2\u001b[0m\u001b[1;33m,\u001b[0m\u001b[1;36m3\u001b[0m\u001b[1;33m,\u001b[0m\u001b[1;36m4\u001b[0m\u001b[1;33m,\u001b[0m\u001b[1;36m5\u001b[0m\u001b[1;33m,\u001b[0m\u001b[1;36m6\u001b[0m\u001b[1;33m,\u001b[0m\u001b[1;36m7\u001b[0m\u001b[1;33m)\u001b[0m\u001b[1;33m,\u001b[0m\u001b[1;34m\"two\"\u001b[0m\u001b[1;33m)\u001b[0m\u001b[1;33m\u001b[0m\u001b[1;33m\u001b[0m\u001b[0m\n\u001b[0m",
      "\u001b[1;32m<ipython-input-31-f3876e7f0ce7>\u001b[0m in \u001b[0;36mrotate_tuple\u001b[1;34m(t, n)\u001b[0m\n\u001b[0;32m      7\u001b[0m             \u001b[0mprint\u001b[0m\u001b[1;33m(\u001b[0m\u001b[1;34m\"Second input is not an integer.\"\u001b[0m\u001b[1;33m)\u001b[0m\u001b[1;33m\u001b[0m\u001b[1;33m\u001b[0m\u001b[0m\n\u001b[0;32m      8\u001b[0m         \u001b[1;32mexcept\u001b[0m\u001b[1;33m:\u001b[0m\u001b[1;33m\u001b[0m\u001b[1;33m\u001b[0m\u001b[0m\n\u001b[1;32m----> 9\u001b[1;33m             \u001b[1;32mraise\u001b[0m \u001b[0mTypeError\u001b[0m\u001b[1;33m\u001b[0m\u001b[1;33m\u001b[0m\u001b[0m\n\u001b[0m\u001b[0;32m     10\u001b[0m \u001b[1;33m\u001b[0m\u001b[0m\n\u001b[0;32m     11\u001b[0m \u001b[1;33m\u001b[0m\u001b[0m\n",
      "\u001b[1;31mTypeError\u001b[0m: "
     ]
    }
   ],
   "source": [
    "#rotate_tuple((1,2,3,4,5,6,7),-2.5)\n",
    "rotate_tuple((1,2,3,4,5,6,7),\"two\")"
   ]
  }
 ],
 "metadata": {
  "colab": {
   "collapsed_sections": [],
   "name": "HW2 Template.ipynb",
   "provenance": []
  },
  "kernelspec": {
   "display_name": "Python 3",
   "language": "python",
   "name": "python3"
  },
  "language_info": {
   "codemirror_mode": {
    "name": "ipython",
    "version": 3
   },
   "file_extension": ".py",
   "mimetype": "text/x-python",
   "name": "python",
   "nbconvert_exporter": "python",
   "pygments_lexer": "ipython3",
   "version": "3.8.3"
  }
 },
 "nbformat": 4,
 "nbformat_minor": 1
}
