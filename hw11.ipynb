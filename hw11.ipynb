{
 "cells": [
  {
   "cell_type": "markdown",
   "metadata": {
    "deletable": false,
    "editable": false,
    "nbgrader": {
     "cell_type": "markdown",
     "checksum": "f577ce5bb210ecfe3832fa6839474f29",
     "grade": false,
     "grade_id": "cell-2f1307d2d407983d",
     "locked": true,
     "schema_version": 3,
     "solution": false,
     "task": false
    }
   },
   "source": [
    "# Homework 11: Galaxy Detection Challenge (40 points)"
   ]
  },
  {
   "cell_type": "markdown",
   "metadata": {},
   "source": [
    "name: Ying Jiang\n",
    "\n",
    "email: jiangyyy@umich.edu\n",
    "\n",
    "This homework assignment took me 15 hours in total to complete. (Please help us to gauge the difficulty of the assignment.)"
   ]
  },
  {
   "cell_type": "markdown",
   "metadata": {
    "deletable": false,
    "editable": false,
    "nbgrader": {
     "cell_type": "markdown",
     "checksum": "26bc23022a9b6661beb31f28d255c61a",
     "grade": false,
     "grade_id": "cell-9fc8abaaecff0e9a",
     "locked": true,
     "schema_version": 3,
     "solution": false,
     "task": false
    }
   },
   "source": [
    "## Collaboration Disclosure\n",
    "\n",
    "In the cell below, please list *everyone* with whom you discussed any of the homework problems, excluding only the GSIs and the course instructor. \n",
    "\n",
    "If you did not discuss the homework with anyone else, write __\"I did not discuss this homework with anyone.\"__\n",
    "\n",
    "Even if you discuss questions with other, the code you submit must be only yours. All work is checked with the [MOSS plagiarism detector](https://theory.stanford.edu/~aiken/moss/).)"
   ]
  },
  {
   "cell_type": "markdown",
   "metadata": {},
   "source": [
    "I did not discuss this homework with anyone."
   ]
  },
  {
   "cell_type": "markdown",
   "metadata": {
    "deletable": false,
    "editable": false,
    "nbgrader": {
     "cell_type": "markdown",
     "checksum": "d3094217c7178efbfb879f4e691ff104",
     "grade": false,
     "grade_id": "cell-e151cac721fa8533",
     "locked": true,
     "schema_version": 3,
     "solution": false,
     "task": false
    }
   },
   "source": [
    "## Introduction\n",
    "\n",
    "For this homework, we are hosting a kaggle competition! We hope that you enjoy this opportunity to learn more about machine learning by tackling a real-world dataset and problem. Please take a look at the kaggle page of this competition https://www.kaggle.com/c/galaxy-detection-challenge. In kaggle you can find a leaderboard displaying how the class is doing in the public version of the test set results. \n",
    "\n",
    "This problem set is designed to be more __open-ended__, you should feel free to experiment with different algorithms or strategies to solve this challenge. We provide a basic implementation using a single layer feedforward neural network, you should feel free to experiment with other architectures and approaches. In the following we provide a non-exhaustive list. \n",
    "\n",
    "### Neural network architecture\n",
    "\n",
    "Without changing the type of neural network, here are some changes you can try:\n",
    "\n",
    "- changing the number of layers\n",
    "- changing the activation function(s) (logistic sigmoid, tanh, relu, leaky relu, ...)\n",
    "- modifying the # of hidden layers\n",
    "- changing the # units in the hidden layer(s)\n",
    "\n",
    "Other types of layers that might be useful include: \n",
    "\n",
    "- using drouput layers\n",
    "- adding pooling layers\n",
    "- adding batch-norm layers\n",
    "- adding convolutional layers (since we are using images)\n",
    "\n",
    "### Training\n",
    "\n",
    "- running for more epochs (be careful to avoid over-fitting!)\n",
    "- changing the minibatch size\n",
    "- use data augmentation methods. \n",
    "- early stopping (choosing the model that does the best in a particular epoch even if you train it for longer)\n",
    "\n",
    "\n",
    "### Optimizer \n",
    "\n",
    "- modifying the learning rate, weight_decay, or other parameters of the optimizers. \n",
    "- Try other optimizers from the `torch.optim` module. \n",
    "\n",
    "### Other approaches\n",
    "\n",
    "- using ResNet style architecture \n",
    "- Divide the images into smaller tiles and then combine the results (why is this a good idea?) \n",
    "- Multi-step approaches, i.e. first employ one algorithm/network and then refine the result via another one.\n",
    "- using the scipy peak-finding function. \n",
    "- normalizing the images (like in the baseline model below) \n",
    "- other preprocessing steps or [transformations](https://pytorch.org/docs/stable/torchvision/transforms.html) on the images.\n",
    "\n",
    "__IMPORTANT:__ If you do borrow ideas from external sources to design your algorithm, please reference them explicitly in the **Conclusion** section at the end of this notebook."
   ]
  },
  {
   "cell_type": "markdown",
   "metadata": {
    "deletable": false,
    "editable": false,
    "nbgrader": {
     "cell_type": "markdown",
     "checksum": "4d5c249ba52cb12c01686ad5c82433f0",
     "grade": false,
     "grade_id": "cell-e151cac721fa8534",
     "locked": true,
     "schema_version": 3,
     "solution": false,
     "task": false
    }
   },
   "source": [
    "## Deliverables\n",
    "\n",
    "- Submit this jupyter notebook to Canvas as usual.\n",
    "\n",
    "- A `.csv` file with the output of your algorithm on the `test.pt` images (submitted to kaggle).\n",
    "\n",
    "**Hint:** At the end of this notebook, there is a function `output_to_csv` that you can use to create a `.csv` file that can be uploaded to kaggle for evaluation. \n",
    "\n",
    "## Submission to kaggle\n",
    "\n",
    "You will need to access kaggle with the following link: \n",
    "\n",
    "https://www.kaggle.com/t/d88b1d95728848fe8d082fff446801fe\n",
    "\n",
    "and create an account. If possible, please use your __umich email address__ and real name to register so that we can easily match your submission to your Canvas grade.\n",
    "\n",
    "## Grading\n",
    "\n",
    "Since this final project is open-ended and encouraged to be of a exploratory nature, we are not giving explicit accuracy thresholds that you must aim for to get a specific grade. Instead, you are encouraged to do your best in the time available and we will adjust the grading rubric depending on the submissions we get. We will carefully take into account effort and the results of your exploration for our grading - feel free to go into detail in the **Conclusion** section of this homework below. "
   ]
  },
  {
   "cell_type": "markdown",
   "metadata": {
    "deletable": false,
    "editable": false,
    "nbgrader": {
     "cell_type": "markdown",
     "checksum": "f93b2c312a0d3c5c76bd3c8472bc3d0f",
     "grade": false,
     "grade_id": "cell-b458fdc0806a00f1",
     "locked": true,
     "schema_version": 3,
     "solution": false,
     "task": false
    }
   },
   "source": [
    "## Setup"
   ]
  },
  {
   "cell_type": "code",
   "execution_count": 1,
   "metadata": {
    "deletable": false,
    "editable": false,
    "nbgrader": {
     "cell_type": "code",
     "checksum": "faf51644260cdf8df67889a5f3cf8ce0",
     "grade": false,
     "grade_id": "cell-28f41897b696e4a2",
     "locked": true,
     "schema_version": 3,
     "solution": false,
     "task": false
    }
   },
   "outputs": [],
   "source": [
    "%matplotlib inline\n",
    "import os\n",
    "import csv\n",
    "import time\n",
    "import matplotlib.pyplot as plt\n",
    "import torch\n",
    "import torch.nn as nn\n",
    "import torch.nn.functional as F"
   ]
  },
  {
   "cell_type": "code",
   "execution_count": 2,
   "metadata": {
    "deletable": false,
    "editable": false,
    "nbgrader": {
     "cell_type": "code",
     "checksum": "d946bd051e7e6fe5d3354049e3240640",
     "grade": false,
     "grade_id": "cell-f44bb618f7e0adad",
     "locked": true,
     "schema_version": 3,
     "solution": false,
     "task": false
    }
   },
   "outputs": [
    {
     "name": "stderr",
     "output_type": "stream",
     "text": [
      "C:\\Users\\57277\\anaconda3_2020\\lib\\site-packages\\torch\\cuda\\__init__.py:52: UserWarning: CUDA initialization: Found no NVIDIA driver on your system. Please check that you have an NVIDIA GPU and installed a driver from http://www.nvidia.com/Download/index.aspx (Triggered internally at  ..\\c10\\cuda\\CUDAFunctions.cpp:100.)\n",
      "  return torch._C._cuda_getDeviceCount() > 0\n"
     ]
    }
   ],
   "source": [
    "DEVICE = torch.device('cuda:0' if torch.cuda.is_available() else 'cpu')"
   ]
  },
  {
   "cell_type": "markdown",
   "metadata": {
    "deletable": false,
    "editable": false,
    "nbgrader": {
     "cell_type": "markdown",
     "checksum": "ef4860fc87776e4de963fcd2c486bdfc",
     "grade": false,
     "grade_id": "cell-733e2923e98b5b3a",
     "locked": true,
     "schema_version": 3,
     "solution": false,
     "task": false
    }
   },
   "source": [
    "## Data \n",
    "\n",
    "We have provided dataset with images of galaxies in `.pt` format (`pytorch` readable) consisting of the following files (included along this notebook in your Canvas download):\n",
    "\n",
    "- train.pt\n",
    "\n",
    "- valid.pt\n",
    "\n",
    "- test.pt \n",
    "\n",
    "The training file contains __10k__ images of simulated galaxies, the validation contains __10k__ galaxies, and testing contains __10k__ galaxies. Each image can contain anything between **0 and 6 galaxies**. Each image has dimensions __20x20__ pixels. \n",
    "\n",
    "The **goal** of your algorithm is to determine the number of galaxies in a given image. You can think of this problem as a classification problem: given an input image we classify it as 1 of the 7 classes (whether the image contains 0, 1, ..., 6 galaxies).\n",
    "\n",
    "**Note:** In total, we provided __20k__ images with the true labels which we split into the `train.pt` and `valid.pt` files provided above. Note that this separation of training and validation is ultimately up to you so you can change it if you want. "
   ]
  },
  {
   "cell_type": "markdown",
   "metadata": {
    "deletable": false,
    "editable": false,
    "nbgrader": {
     "cell_type": "markdown",
     "checksum": "dce4be00a14bfe4bb339bf358e98915c",
     "grade": false,
     "grade_id": "cell-733a264a8087d65d",
     "locked": true,
     "schema_version": 3,
     "solution": false,
     "task": false
    }
   },
   "source": [
    "### Overview"
   ]
  },
  {
   "cell_type": "markdown",
   "metadata": {
    "deletable": false,
    "editable": false,
    "nbgrader": {
     "cell_type": "markdown",
     "checksum": "bbd9e77ed5075548066cb50a28f56155",
     "grade": false,
     "grade_id": "cell-733e2923e98b5b33b",
     "locked": true,
     "schema_version": 3,
     "solution": false,
     "task": false
    }
   },
   "source": [
    "The __training set__ contains images and their true counts which can be accessed as follows: "
   ]
  },
  {
   "cell_type": "code",
   "execution_count": 3,
   "metadata": {
    "deletable": false,
    "editable": false,
    "nbgrader": {
     "cell_type": "code",
     "checksum": "c9917f23ae7adf57a37ec542f8b5a11a",
     "grade": false,
     "grade_id": "cell-f0d1c7bccf1e00a1",
     "locked": true,
     "schema_version": 3,
     "solution": false,
     "task": false
    }
   },
   "outputs": [
    {
     "name": "stdout",
     "output_type": "stream",
     "text": [
      "torch.Size([10000, 20, 20])\n",
      "torch.Size([10000])\n"
     ]
    }
   ],
   "source": [
    "train_data = torch.load('train.pt')\n",
    "train_images = train_data['images']\n",
    "train_counts = train_data['counts']\n",
    "\n",
    "print(train_images.shape) # = (10000, 20, 20)\n",
    "print(train_counts.shape) # = (10000)"
   ]
  },
  {
   "cell_type": "code",
   "execution_count": 4,
   "metadata": {
    "deletable": false,
    "editable": false,
    "nbgrader": {
     "cell_type": "code",
     "checksum": "579b17eb8e47f080fd142a9bbfe349c6",
     "grade": false,
     "grade_id": "cell-fe3b937bb5080bf4",
     "locked": true,
     "schema_version": 3,
     "solution": false,
     "task": false
    }
   },
   "outputs": [],
   "source": [
    "SLEN = train_images.shape[-1]"
   ]
  },
  {
   "cell_type": "markdown",
   "metadata": {
    "deletable": false,
    "editable": false,
    "nbgrader": {
     "cell_type": "markdown",
     "checksum": "58c87d515a9a5e2e7721e4fc67005c7e",
     "grade": false,
     "grade_id": "cell-15614a179e68a4b2",
     "locked": true,
     "schema_version": 3,
     "solution": false,
     "task": false
    }
   },
   "source": [
    "To be explicit, let $i$ be an index satisfying $0 < i < 10,000$, then `train_counts[i]` corresponds to the number of galaxies in the 20-by-20 image `train_images[i]`. "
   ]
  },
  {
   "cell_type": "markdown",
   "metadata": {
    "deletable": false,
    "editable": false,
    "nbgrader": {
     "cell_type": "markdown",
     "checksum": "dba44440ce8b286761cdec3488b2273a",
     "grade": false,
     "grade_id": "cell-43e4fcc0a89e7cab",
     "locked": true,
     "schema_version": 3,
     "solution": false,
     "task": false
    }
   },
   "source": [
    "Lets take a look at the first 4 images of galaxies to get an idea of what the data looks like and make sure you can load them correctly."
   ]
  },
  {
   "cell_type": "code",
   "execution_count": 5,
   "metadata": {
    "deletable": false,
    "editable": false,
    "nbgrader": {
     "cell_type": "code",
     "checksum": "acdc0ac68882aa065bc91beac21df199",
     "grade": false,
     "grade_id": "cell-dbb6b4c1add4c695",
     "locked": true,
     "schema_version": 3,
     "solution": false,
     "task": false
    }
   },
   "outputs": [
    {
     "data": {
      "image/png": "[encoded data removed]",
      "text/plain": [
       "<Figure size 720x720 with 9 Axes>"
      ]
     },
     "metadata": {
      "needs_background": "light"
     },
     "output_type": "display_data"
    }
   ],
   "source": [
    "fig, axes = plt.subplots(3, 3, figsize=(10,10))\n",
    "axes = axes.flatten() # get a single dimensional array. \n",
    "for i in range(9):\n",
    "    ax = axes[i]\n",
    "    image = train_images[i].cpu().numpy()\n",
    "    count = train_counts[i].item()\n",
    "    ax.imshow(image)\n",
    "    ax.set_xlabel(f\"Number of galaxies: {count}\")\n",
    "plt.tight_layout()"
   ]
  },
  {
   "cell_type": "markdown",
   "metadata": {
    "deletable": false,
    "editable": false,
    "nbgrader": {
     "cell_type": "markdown",
     "checksum": "ea0058466a7f4d4a2e68c38cfc62c352",
     "grade": false,
     "grade_id": "cell-244979d66543d2c7",
     "locked": true,
     "schema_version": 3,
     "solution": false,
     "task": false
    }
   },
   "source": [
    "The __testing set__ does not countain the counts of each image, your model will predict the counts and these will be evaluated in kaggle. You can access them like this:"
   ]
  },
  {
   "cell_type": "code",
   "execution_count": 6,
   "metadata": {
    "deletable": false,
    "editable": false,
    "nbgrader": {
     "cell_type": "code",
     "checksum": "876960460402ab5a9d9b9f0cf6bccd2e",
     "grade": false,
     "grade_id": "cell-0d4c55c1082d830e",
     "locked": true,
     "schema_version": 3,
     "solution": false,
     "task": false
    }
   },
   "outputs": [
    {
     "name": "stdout",
     "output_type": "stream",
     "text": [
      "torch.Size([10000, 20, 20])\n"
     ]
    }
   ],
   "source": [
    "test_set = torch.load('test.pt')\n",
    "test_images = test_set['images'] \n",
    "assert 'count' not in test_set # does not include counts.\n",
    "print(test_images.shape) # = (10000, 20, 20)"
   ]
  },
  {
   "cell_type": "markdown",
   "metadata": {
    "deletable": false,
    "editable": false,
    "nbgrader": {
     "cell_type": "markdown",
     "checksum": "0d1b3c1fff7d716c443d523e0452d472",
     "grade": false,
     "grade_id": "cell-241cad1a819a07b0",
     "locked": true,
     "schema_version": 3,
     "solution": false,
     "task": false
    }
   },
   "source": [
    "### Dataset and Dataloader\n",
    "\n",
    "What follows is a skeleton for a pytorch `Dataset` and corresponding `DataLoaders` that can be used to train and test the model. You can modify this base implementation if you want, but it's not necessary for completing the problem set."
   ]
  },
  {
   "cell_type": "code",
   "execution_count": 7,
   "metadata": {},
   "outputs": [],
   "source": [
    "# You can modify these attributes if you want.\n",
    "BATCH_SIZE = 32\n",
    "N_WORKERS = 0  # number of cpus used to load the data faster.\n",
    "assert N_WORKERS <= os.cpu_count(), \"Your computer does not have enough CPUs.\""
   ]
  },
  {
   "cell_type": "code",
   "execution_count": 8,
   "metadata": {},
   "outputs": [],
   "source": [
    "from torch.utils.data import Dataset, DataLoader\n",
    "\n",
    "class GalaxyDataset(Dataset):\n",
    "    \"\"\"Custom Dataset for loading Quickdraw images\"\"\"\n",
    "\n",
    "    def __init__(self, filepath, test=False):\n",
    "        self.data = torch.load(filepath)\n",
    "        self.images = self.data['images']\n",
    "        self.test = test\n",
    "    \n",
    "    def __len__(self):\n",
    "        return self.images.shape[0]\n",
    "\n",
    "    def __getitem__(self, idx):\n",
    "        \n",
    "        if self.test: \n",
    "            return {'images': self.images[idx]}\n",
    "        \n",
    "        else: \n",
    "            return {'images': self.images[idx], 'counts': self.data['counts'][idx]}"
   ]
  },
  {
   "cell_type": "code",
   "execution_count": 9,
   "metadata": {
    "deletable": false,
    "editable": false,
    "nbgrader": {
     "cell_type": "code",
     "checksum": "68491153ad4ca62114e0c12fcb8de969",
     "grade": false,
     "grade_id": "cell-b8723d8bf7e2ff97",
     "locked": true,
     "schema_version": 3,
     "solution": false,
     "task": false
    }
   },
   "outputs": [],
   "source": [
    "# Define datasets and dataloaders. \n",
    "train_dataset = GalaxyDataset('train.pt', test=False)\n",
    "valid_dataset = GalaxyDataset('valid.pt', test=False)\n",
    "test_dataset = GalaxyDataset('test.pt', test=True)\n",
    "\n",
    "train_loader = DataLoader(dataset=train_dataset,\n",
    "                          batch_size=BATCH_SIZE,\n",
    "                          shuffle=True,\n",
    "                          num_workers=N_WORKERS)\n",
    "valid_loader = DataLoader(dataset=valid_dataset,\n",
    "                          batch_size=BATCH_SIZE,\n",
    "                          shuffle=True,\n",
    "                          num_workers=N_WORKERS)\n",
    "test_loader = DataLoader(dataset=test_dataset,\n",
    "                         batch_size=BATCH_SIZE,\n",
    "                         shuffle=False,\n",
    "                         num_workers=N_WORKERS)"
   ]
  },
  {
   "cell_type": "markdown",
   "metadata": {
    "deletable": false,
    "editable": false,
    "nbgrader": {
     "cell_type": "markdown",
     "checksum": "56813da8eefcfc88b8dc239b5194d8be",
     "grade": false,
     "grade_id": "cell-ac8cc4cf6059ce59",
     "locked": true,
     "schema_version": 3,
     "solution": false,
     "task": false
    }
   },
   "source": [
    "## Utility functions"
   ]
  },
  {
   "cell_type": "code",
   "execution_count": 10,
   "metadata": {
    "deletable": false,
    "editable": false,
    "nbgrader": {
     "cell_type": "code",
     "checksum": "08956e21219d07c6ddcf516652515dbb",
     "grade": false,
     "grade_id": "cell-5f12215a88151927",
     "locked": true,
     "schema_version": 3,
     "solution": false,
     "task": false
    }
   },
   "outputs": [],
   "source": [
    "def compute_accuracy(model, data_loader):\n",
    "    \"\"\"\n",
    "    Takes in your model and either the train_dataloader and valid_dataloader above. Calculate the accuracy of\n",
    "    your model in this dataset.\n",
    "\n",
    "    NOTE: As explained below it assumes your model has a .predict() method. \n",
    "    \"\"\"\n",
    "    assert not data_loader.dataset.test, \"Only works for train and valid dataloaders\"\n",
    "    assert hasattr(model, 'predict'), \"your model does not have a '.predict()' method.\"\n",
    "    correct_pred, n_examples = 0, 0\n",
    "    with torch.no_grad():\n",
    "        for batch in data_loader: \n",
    "            images = batch['images'].to(DEVICE)\n",
    "            true_counts = batch['counts'].to(DEVICE)\n",
    "            pred_counts = model.predict(images)\n",
    "            n_examples += true_counts.size(0)\n",
    "            correct_pred += (pred_counts == true_counts).sum()\n",
    "        return correct_pred.float()/n_examples"
   ]
  },
  {
   "cell_type": "code",
   "execution_count": 11,
   "metadata": {},
   "outputs": [],
   "source": [
    "def compute_epoch_loss(model, data_loader):\n",
    "    \"\"\"Computes the loss of your model given a train or validation dataloader.\n",
    "    \n",
    "    NOTE: Only works for the MLP architecture we have below, if you don't use the MLP architecture \n",
    "    then you might need to compute the loss differently. Feel free to modify this function.\n",
    "    \n",
    "    \"\"\"\n",
    "    curr_loss, n_examples = 0., 0\n",
    "    with torch.no_grad():\n",
    "        for batch in data_loader:\n",
    "            images = batch['images'].to(DEVICE)\n",
    "            true_counts = batch['counts'].to(DEVICE)\n",
    "            logits, probs = model(images)\n",
    "            loss = F.cross_entropy(logits, true_counts, reduction='sum')\n",
    "            n_examples += true_counts.size(0)\n",
    "            curr_loss += loss.item()\n",
    "\n",
    "        curr_loss = curr_loss / n_examples\n",
    "        return curr_loss"
   ]
  },
  {
   "cell_type": "markdown",
   "metadata": {
    "deletable": false,
    "editable": false,
    "nbgrader": {
     "cell_type": "markdown",
     "checksum": "f30e1488dc9eb5939c80a3c9c6ad1237",
     "grade": false,
     "grade_id": "cell-8b8095556035bcdf",
     "locked": true,
     "schema_version": 3,
     "solution": false,
     "task": false
    }
   },
   "source": [
    "## Your model\n",
    "\n",
    "### Implementation\n",
    "\n",
    "Here were provide a baseline model based on a multi-layer perceptron like the one you saw in HW10. You have complete flexibility in the final implementation, including training and how your compute your loss. \n",
    "\n",
    "**Note:** The only requirement to be able to test your model is that your class has a method `.predict()` that takes in images of shape `(N, 20, 20)` and returns an array of shape `(N)` containing the prediction for the number of galaxies in each of the images. "
   ]
  },
  {
   "cell_type": "code",
   "execution_count": 12,
   "metadata": {},
   "outputs": [
    {
     "name": "stdout",
     "output_type": "stream",
     "text": [
      "Seed is 125\n"
     ]
    }
   ],
   "source": [
    "# the random seed makes sure that the random weight initialization\n",
    "# in the model is always the same.\n",
    "# Depending on your architecture you might want to try different seeds since some seeds could correspond\n",
    "# to a bad initialization.\n",
    "RANDOM_SEED = 125\n",
    "torch.manual_seed(RANDOM_SEED)\n",
    "print(\"Seed is\", RANDOM_SEED)"
   ]
  },
  {
   "cell_type": "code",
   "execution_count": 13,
   "metadata": {},
   "outputs": [],
   "source": [
    "class MLP(torch.nn.Module):\n",
    "\n",
    "    def __init__(self, n_hidden=50, n_classes=7):\n",
    "        \"\"\"A standard MLP with 1 hidden layer. \n",
    "        \n",
    "        Arguments: \n",
    "            n_hidden: Number of units in the first hidden layer. \n",
    "            n_classes: Number of classes. Should be 7, the possible number of galaxies in the image.\n",
    "        \"\"\"\n",
    "        super(MLP, self).__init__()\n",
    "        n_features=SLEN**2\n",
    "        self.linear = torch.nn.Linear(n_features, n_hidden)\n",
    "        self.linear_out = torch.nn.Linear(n_hidden, n_classes)\n",
    "        \n",
    "\n",
    "\n",
    "    def forward(self, x):\n",
    "        \"\"\"Forward function that takes in x, a tensor of shape (N, 20, 20) of galaxy images and \n",
    "        returns a prediction.\n",
    "        \n",
    "        Returns: \n",
    "            logits: Output of the feedfoward neural networs (unnormalized log-probabilities) \n",
    "            probs: normalized probabilities. \n",
    "        \"\"\"\n",
    "        assert len(x.shape) == 3\n",
    "        assert x.shape[1] == x.shape[2]\n",
    "        x = x.reshape(-1, SLEN**2) # flatten because we are doing a linear pass. \n",
    "        x = x / x.mean(axis=1).reshape(-1, 1) # I find that normalizing helps. \n",
    "        out = self.linear(x)\n",
    "        out = torch.tanh(out)\n",
    "        #out = F.relu(out)\n",
    "        out = torch.sigmoid(out)\n",
    "        logits = self.linear_out(out)\n",
    "        probs = F.softmax(logits, dim=1)\n",
    "        return logits, probs\n",
    "    \n",
    "    def predict(self, x):\n",
    "        logits, probs = self(x)\n",
    "        return probs.argmax(axis=1).int()"
   ]
  },
  {
   "cell_type": "code",
   "execution_count": 14,
   "metadata": {},
   "outputs": [],
   "source": [
    "class MLP(torch.nn.Module):\n",
    "\n",
    "    def __init__(self, n_hidden=54, n_classes=7):\n",
    "        \"\"\"A standard MLP with 1 hidden layer. \n",
    "        \n",
    "        Arguments: \n",
    "            n_hidden: Number of units in the first hidden layer. \n",
    "            n_classes: Number of classes. Should be 7, the possible number of galaxies in the image.\n",
    "        \"\"\"\n",
    "        super(MLP, self).__init__()\n",
    "        self.l1 = nn.Sequential(\n",
    "            nn.Conv2d(1, 16, kernel_size=5, stride=1, padding=2),\n",
    "            nn.BatchNorm2d(16),\n",
    "            nn.ReLU(),\n",
    "            nn.MaxPool2d(kernel_size=2, stride=2))\n",
    "        \n",
    "        self.l2 = nn.Sequential(\n",
    "            nn.Conv2d(16, 32, kernel_size=5, stride=1, padding=2),\n",
    "            nn.BatchNorm2d(32),\n",
    "            nn.ReLU(),\n",
    "            nn.MaxPool2d(kernel_size=2, stride=2))\n",
    "        \n",
    "        self.classifier = nn.Sequential(\n",
    "            torch.nn.Linear(800, n_hidden),\n",
    "            #torch.nn.Tanh(),\n",
    "            torch.nn.ReLU(),\n",
    "            torch.nn.Dropout(),\n",
    "            torch.nn.Linear(n_hidden, n_classes)\n",
    "            \n",
    "        )\n",
    "        \n",
    "\n",
    "\n",
    "    def forward(self, x):\n",
    "        \"\"\"Forward function that takes in x, a tensor of shape (N, 20, 20) of galaxy images and \n",
    "        returns a prediction.\n",
    "        \n",
    "        Returns: \n",
    "            logits: Output of the feedfoward neural networs (unnormalized log-probabilities) \n",
    "            probs: normalized probabilities. \n",
    "        \"\"\"\n",
    "        x = x.reshape(-1,1, 20, 20)\n",
    "        x = self.l1(x)\n",
    "        x = self.l2(x)\n",
    "        d = x.shape[0]\n",
    "        x = x.reshape(d,-1)\n",
    "        #x = x / x.mean(axis=1).reshape(-1, 1)\n",
    "        logits = self.classifier(x)\n",
    "        probs = F.softmax(logits, dim=1)\n",
    "        return logits,probs\n",
    "    \n",
    "    def predict(self, x):\n",
    "        logits, probs = self(x)\n",
    "        return probs.argmax(axis=1).int()"
   ]
  },
  {
   "cell_type": "markdown",
   "metadata": {
    "deletable": false,
    "editable": false,
    "nbgrader": {
     "cell_type": "markdown",
     "checksum": "7e245a29b3f8eabaed7c416ce590ecba",
     "grade": false,
     "grade_id": "cell-05d4fcdc274d45a9",
     "locked": true,
     "schema_version": 3,
     "solution": false,
     "task": false
    }
   },
   "source": [
    "### Initializiation\n",
    "\n",
    "You should create your model from the class specified above this cell. You __should__ move your model to the correct device by using the `.to(DEVICE)` method."
   ]
  },
  {
   "cell_type": "code",
   "execution_count": 24,
   "metadata": {},
   "outputs": [],
   "source": [
    "model = MLP(n_hidden=120, n_classes=7)\n",
    "model = model.to(DEVICE)"
   ]
  },
  {
   "cell_type": "markdown",
   "metadata": {
    "deletable": false,
    "editable": false,
    "nbgrader": {
     "cell_type": "markdown",
     "checksum": "96b033052cfb8bc95fb5900fe1232f8f",
     "grade": false,
     "grade_id": "cell-e6855b32bec9c89d",
     "locked": true,
     "schema_version": 3,
     "solution": false,
     "task": false
    }
   },
   "source": [
    "### Optimizer\n",
    "\n",
    "You can feel free to experiment with different optimizers and learning rates, etc. If you do, this is a good thing to write in the conclusions at the end of this notebook. "
   ]
  },
  {
   "cell_type": "code",
   "execution_count": 25,
   "metadata": {},
   "outputs": [],
   "source": [
    "optimizer = torch.optim.Adam(model.parameters(), lr=0.0005)"
   ]
  },
  {
   "cell_type": "markdown",
   "metadata": {
    "deletable": false,
    "editable": false,
    "nbgrader": {
     "cell_type": "markdown",
     "checksum": "dde0facc8cbccb804d299174170b537e",
     "grade": false,
     "grade_id": "cell-6ecb5cb777002b4f",
     "locked": true,
     "schema_version": 3,
     "solution": false,
     "task": false
    }
   },
   "source": [
    "## Training\n",
    "\n",
    "Depending on how much you changed your architecture, your training procedure might change. If you are still using a MLP it's very likely you can keep the same training procedure. \n",
    "\n",
    "You can also modify the number of epochs below, as an input argument to `run_training`."
   ]
  },
  {
   "cell_type": "code",
   "execution_count": 26,
   "metadata": {},
   "outputs": [],
   "source": [
    "def run_training(model, train_loader, valid_loader, n_epochs=10):\n",
    "    start_time = time.time()\n",
    "    epoch_loss = [] \n",
    "    for epoch in range(n_epochs):\n",
    "        model.train()\n",
    "        for batch_idx, batch in enumerate(train_loader):\n",
    "            images = batch['images'].to(DEVICE)\n",
    "            true_counts = batch['counts'].to(DEVICE)\n",
    "\n",
    "\n",
    "            # FORWARD AND BACK PROP\n",
    "            \n",
    "            logits, probs = model(images)\n",
    "            cost = F.cross_entropy(logits, true_counts)\n",
    "            optimizer.zero_grad()\n",
    "            cost.backward()\n",
    "\n",
    "            # UPDATE MODEL PARAMETERS\n",
    "            optimizer.step()\n",
    "\n",
    "            # LOGGING\n",
    "            if not batch_idx % 50:\n",
    "                print('Epoch: %03d/%03d | Batch %03d/%03d | Cost: %.4f'\n",
    "                      % (epoch+1, n_epochs, batch_idx,\n",
    "                         len(train_loader), cost))\n",
    "\n",
    "        # we evaluate our model after each epoch.\n",
    "        model.eval()\n",
    "        cost = compute_epoch_loss(model, train_loader)\n",
    "        epoch_loss.append(cost)\n",
    "\n",
    "        train_accuracy = compute_accuracy(model, train_loader)\n",
    "        valid_accuracy = compute_accuracy(model, valid_loader)\n",
    "\n",
    "        print('Epoch: %03d/%03d Train Cost: %.4f' % (\n",
    "                epoch+1, n_epochs, cost))\n",
    "        print('Train Accuracy: %.3f | Validation Accuracy: %.3f'\n",
    "              % (train_accuracy, valid_accuracy))\n",
    "        print('Time elapsed: %.2f min' % ((time.time() - start_time)/60))\n",
    "\n",
    "    print('Total Training Time: %.2f min' % ((time.time() - start_time)/60))\n",
    "    return train_accuracy, valid_accuracy, epoch_loss"
   ]
  },
  {
   "cell_type": "code",
   "execution_count": 27,
   "metadata": {
    "scrolled": false
   },
   "outputs": [
    {
     "name": "stdout",
     "output_type": "stream",
     "text": [
      "Epoch: 001/010 | Batch 000/313 | Cost: 1.9031\n",
      "Epoch: 001/010 | Batch 050/313 | Cost: 1.5675\n",
      "Epoch: 001/010 | Batch 100/313 | Cost: 1.3422\n",
      "Epoch: 001/010 | Batch 150/313 | Cost: 1.3650\n",
      "Epoch: 001/010 | Batch 200/313 | Cost: 1.3291\n",
      "Epoch: 001/010 | Batch 250/313 | Cost: 1.2529\n",
      "Epoch: 001/010 | Batch 300/313 | Cost: 1.0162\n",
      "Epoch: 001/010 Train Cost: 0.9162\n",
      "Train Accuracy: 0.668 | Validation Accuracy: 0.666\n",
      "Time elapsed: 0.22 min\n",
      "Epoch: 002/010 | Batch 000/313 | Cost: 1.0096\n",
      "Epoch: 002/010 | Batch 050/313 | Cost: 0.9817\n",
      "Epoch: 002/010 | Batch 100/313 | Cost: 0.8141\n",
      "Epoch: 002/010 | Batch 150/313 | Cost: 0.9448\n",
      "Epoch: 002/010 | Batch 200/313 | Cost: 0.9596\n",
      "Epoch: 002/010 | Batch 250/313 | Cost: 0.9047\n",
      "Epoch: 002/010 | Batch 300/313 | Cost: 0.7027\n",
      "Epoch: 002/010 Train Cost: 0.7099\n",
      "Train Accuracy: 0.760 | Validation Accuracy: 0.756\n",
      "Time elapsed: 0.43 min\n",
      "Epoch: 003/010 | Batch 000/313 | Cost: 0.9354\n",
      "Epoch: 003/010 | Batch 050/313 | Cost: 0.8580\n",
      "Epoch: 003/010 | Batch 100/313 | Cost: 0.8722\n",
      "Epoch: 003/010 | Batch 150/313 | Cost: 0.9504\n",
      "Epoch: 003/010 | Batch 200/313 | Cost: 0.7877\n",
      "Epoch: 003/010 | Batch 250/313 | Cost: 0.7697\n",
      "Epoch: 003/010 | Batch 300/313 | Cost: 0.6880\n",
      "Epoch: 003/010 Train Cost: 0.6160\n",
      "Train Accuracy: 0.788 | Validation Accuracy: 0.784\n",
      "Time elapsed: 0.64 min\n",
      "Epoch: 004/010 | Batch 000/313 | Cost: 0.9617\n",
      "Epoch: 004/010 | Batch 050/313 | Cost: 0.8852\n",
      "Epoch: 004/010 | Batch 100/313 | Cost: 0.7391\n",
      "Epoch: 004/010 | Batch 150/313 | Cost: 1.1031\n",
      "Epoch: 004/010 | Batch 200/313 | Cost: 0.8851\n",
      "Epoch: 004/010 | Batch 250/313 | Cost: 0.5817\n",
      "Epoch: 004/010 | Batch 300/313 | Cost: 0.8060\n",
      "Epoch: 004/010 Train Cost: 0.5552\n",
      "Train Accuracy: 0.807 | Validation Accuracy: 0.799\n",
      "Time elapsed: 0.84 min\n",
      "Epoch: 005/010 | Batch 000/313 | Cost: 0.6871\n",
      "Epoch: 005/010 | Batch 050/313 | Cost: 0.8505\n",
      "Epoch: 005/010 | Batch 100/313 | Cost: 0.7217\n",
      "Epoch: 005/010 | Batch 150/313 | Cost: 0.6672\n",
      "Epoch: 005/010 | Batch 200/313 | Cost: 0.6653\n",
      "Epoch: 005/010 | Batch 250/313 | Cost: 0.6091\n",
      "Epoch: 005/010 | Batch 300/313 | Cost: 0.4232\n",
      "Epoch: 005/010 Train Cost: 0.5248\n",
      "Train Accuracy: 0.802 | Validation Accuracy: 0.799\n",
      "Time elapsed: 1.05 min\n",
      "Epoch: 006/010 | Batch 000/313 | Cost: 0.9282\n",
      "Epoch: 006/010 | Batch 050/313 | Cost: 0.6417\n",
      "Epoch: 006/010 | Batch 100/313 | Cost: 0.5300\n",
      "Epoch: 006/010 | Batch 150/313 | Cost: 0.6112\n",
      "Epoch: 006/010 | Batch 200/313 | Cost: 0.5368\n",
      "Epoch: 006/010 | Batch 250/313 | Cost: 0.4612\n",
      "Epoch: 006/010 | Batch 300/313 | Cost: 0.5842\n",
      "Epoch: 006/010 Train Cost: 0.4942\n",
      "Train Accuracy: 0.815 | Validation Accuracy: 0.808\n",
      "Time elapsed: 1.25 min\n",
      "Epoch: 007/010 | Batch 000/313 | Cost: 0.8343\n",
      "Epoch: 007/010 | Batch 050/313 | Cost: 0.5139\n",
      "Epoch: 007/010 | Batch 100/313 | Cost: 0.5008\n",
      "Epoch: 007/010 | Batch 150/313 | Cost: 0.5610\n",
      "Epoch: 007/010 | Batch 200/313 | Cost: 0.5869\n",
      "Epoch: 007/010 | Batch 250/313 | Cost: 0.5310\n",
      "Epoch: 007/010 | Batch 300/313 | Cost: 0.6724\n",
      "Epoch: 007/010 Train Cost: 0.4776\n",
      "Train Accuracy: 0.823 | Validation Accuracy: 0.815\n",
      "Time elapsed: 1.45 min\n",
      "Epoch: 008/010 | Batch 000/313 | Cost: 0.5176\n",
      "Epoch: 008/010 | Batch 050/313 | Cost: 0.6684\n",
      "Epoch: 008/010 | Batch 100/313 | Cost: 0.5546\n",
      "Epoch: 008/010 | Batch 150/313 | Cost: 0.8116\n",
      "Epoch: 008/010 | Batch 200/313 | Cost: 0.6083\n",
      "Epoch: 008/010 | Batch 250/313 | Cost: 0.3919\n",
      "Epoch: 008/010 | Batch 300/313 | Cost: 0.6234\n",
      "Epoch: 008/010 Train Cost: 0.4609\n",
      "Train Accuracy: 0.818 | Validation Accuracy: 0.808\n",
      "Time elapsed: 1.66 min\n",
      "Epoch: 009/010 | Batch 000/313 | Cost: 0.4872\n",
      "Epoch: 009/010 | Batch 050/313 | Cost: 0.3522\n",
      "Epoch: 009/010 | Batch 100/313 | Cost: 0.7775\n",
      "Epoch: 009/010 | Batch 150/313 | Cost: 0.6518\n",
      "Epoch: 009/010 | Batch 200/313 | Cost: 0.5564\n",
      "Epoch: 009/010 | Batch 250/313 | Cost: 0.7809\n",
      "Epoch: 009/010 | Batch 300/313 | Cost: 0.5610\n",
      "Epoch: 009/010 Train Cost: 0.4408\n",
      "Train Accuracy: 0.832 | Validation Accuracy: 0.822\n",
      "Time elapsed: 1.86 min\n",
      "Epoch: 010/010 | Batch 000/313 | Cost: 0.5729\n",
      "Epoch: 010/010 | Batch 050/313 | Cost: 0.5211\n",
      "Epoch: 010/010 | Batch 100/313 | Cost: 0.4709\n",
      "Epoch: 010/010 | Batch 150/313 | Cost: 0.4752\n",
      "Epoch: 010/010 | Batch 200/313 | Cost: 0.4552\n",
      "Epoch: 010/010 | Batch 250/313 | Cost: 0.5890\n",
      "Epoch: 010/010 | Batch 300/313 | Cost: 0.6513\n",
      "Epoch: 010/010 Train Cost: 0.4251\n",
      "Train Accuracy: 0.842 | Validation Accuracy: 0.830\n",
      "Time elapsed: 2.07 min\n",
      "Total Training Time: 2.07 min\n"
     ]
    }
   ],
   "source": [
    "N_EPOCHS = 10\n",
    "\n",
    "train_accuracy, valid_accuracy, epoch_loss = run_training(model, train_loader, valid_loader, n_epochs=N_EPOCHS)"
   ]
  },
  {
   "cell_type": "markdown",
   "metadata": {
    "deletable": false,
    "editable": false,
    "nbgrader": {
     "cell_type": "markdown",
     "checksum": "6c9245d6327eaa0078b0a5f0e86551cd",
     "grade": false,
     "grade_id": "cell-9b6894f5da8e4a45",
     "locked": true,
     "schema_version": 3,
     "solution": false,
     "task": false
    }
   },
   "source": [
    "### Loss function\n",
    "\n",
    "Here is a plot showing your loss as a function of epoch which can be used to see if your model is being optimized correctly. This could also help you decide if e.g. **early stopping** might be helpful. "
   ]
  },
  {
   "cell_type": "code",
   "execution_count": 19,
   "metadata": {
    "scrolled": true
   },
   "outputs": [
    {
     "data": {
      "image/png": "[encoded data removed]",
      "text/plain": [
       "<Figure size 432x288 with 1 Axes>"
      ]
     },
     "metadata": {
      "needs_background": "light"
     },
     "output_type": "display_data"
    }
   ],
   "source": [
    "plt.plot(range(len(epoch_loss)), epoch_loss)\n",
    "plt.ylabel('Loss')\n",
    "plt.xlabel('Epoch')\n",
    "plt.show()"
   ]
  },
  {
   "cell_type": "markdown",
   "metadata": {
    "deletable": false,
    "editable": false,
    "nbgrader": {
     "cell_type": "markdown",
     "checksum": "577530aed1407ea1f89447280086f11d",
     "grade": false,
     "grade_id": "cell-c24fc3d27e8cac8f",
     "locked": true,
     "schema_version": 3,
     "solution": false,
     "task": false
    }
   },
   "source": [
    "## Testing \n",
    "\n",
    "Once you trained your `model`, you are ready to try it out in the `test_images`. Even though we don't provide the true counts for the test images, you can inspect some by eye if you want. \n",
    "\n",
    "**WARNING:** Do not modify the order of `my_counts` otherwise your submission to kaggle will be wrong. "
   ]
  },
  {
   "cell_type": "code",
   "execution_count": 20,
   "metadata": {
    "deletable": false,
    "editable": false,
    "nbgrader": {
     "cell_type": "code",
     "checksum": "c5b1b66c4f1cae52065286ea9bdf4d86",
     "grade": false,
     "grade_id": "cell-7c76cdf5d3914d2a",
     "locked": true,
     "schema_version": 3,
     "solution": false,
     "task": false
    }
   },
   "outputs": [],
   "source": [
    "my_counts = torch.zeros(0, device=DEVICE) \n",
    "model.eval()\n",
    "for batch in test_loader:\n",
    "    test_pred = model.predict(batch['images'].to(DEVICE))\n",
    "    my_counts = torch.cat((my_counts, test_pred), 0)"
   ]
  },
  {
   "cell_type": "markdown",
   "metadata": {
    "deletable": false,
    "editable": false,
    "nbgrader": {
     "cell_type": "markdown",
     "checksum": "70952c79ad9d6c72489e1cbcccba4e59",
     "grade": false,
     "grade_id": "cell-56b3b0606ba074ea",
     "locked": true,
     "points": 20,
     "schema_version": 3,
     "solution": false,
     "task": true
    }
   },
   "source": [
    "## Submission (20 points) \n",
    "\n",
    "Once you are satisfied with your model and your predictions, you are ready to submit to [kaggle](https://www.kaggle.com/c/galaxy-detection-challenge). We provide the function `counts_to_csv` that automatically takes in your prediction for the test set and creates a CSV file that you can upload to kaggle for your submission. This file will be created in the same directory as your notebook."
   ]
  },
  {
   "cell_type": "code",
   "execution_count": 21,
   "metadata": {
    "deletable": false,
    "editable": false,
    "nbgrader": {
     "cell_type": "code",
     "checksum": "58599892541dae03a54dbe95504257bc",
     "grade": false,
     "grade_id": "cell-91805f38edf69bdc",
     "locked": true,
     "schema_version": 3,
     "solution": false,
     "task": false
    }
   },
   "outputs": [],
   "source": [
    "import csv\n",
    "def counts_to_csv(uniqid, counts):\n",
    "    assert len(counts.shape) == 1, \"Incorrect format for counts.\"\n",
    "    assert counts.shape[0] == 10000, \"Incorrect format for counts.\"\n",
    "    with open(f'{uniqid}.csv', 'w', newline='') as fp: \n",
    "        writer = csv.writer(fp)\n",
    "        writer.writerow(['ID', 'Category'])\n",
    "        for i, c in enumerate(counts):\n",
    "            writer.writerow([str(i), str(int(c.item()))])"
   ]
  },
  {
   "cell_type": "code",
   "execution_count": 22,
   "metadata": {},
   "outputs": [],
   "source": [
    "# Please enter your uniqID below\n",
    "your_uniqid = 'EXAMPLE'"
   ]
  },
  {
   "cell_type": "code",
   "execution_count": 23,
   "metadata": {
    "deletable": false,
    "editable": false,
    "nbgrader": {
     "cell_type": "code",
     "checksum": "ac2346ce92cb41315e4d4ebef76c034e",
     "grade": false,
     "grade_id": "cell-235f1e93ab230050",
     "locked": true,
     "schema_version": 3,
     "solution": false,
     "task": false
    }
   },
   "outputs": [],
   "source": [
    "counts_to_csv(your_uniqid, my_counts) # creates a file in your current directory called `UNIQID.csv`."
   ]
  },
  {
   "cell_type": "markdown",
   "metadata": {
    "deletable": false,
    "editable": false,
    "nbgrader": {
     "cell_type": "markdown",
     "checksum": "d6c9758f8e582a9d9ff7b81e98cd27b1",
     "grade": false,
     "grade_id": "cell-aaf051eddcd709c6",
     "locked": true,
     "schema_version": 3,
     "solution": false,
     "task": false
    }
   },
   "source": [
    "## Conclusion (20 points)"
   ]
  },
  {
   "cell_type": "markdown",
   "metadata": {
    "deletable": false,
    "editable": false,
    "nbgrader": {
     "cell_type": "markdown",
     "checksum": "6e6c02414ddf4982dea98b784dd4d3ad",
     "grade": false,
     "grade_id": "cell-422b8d02ef9b3ce0",
     "locked": true,
     "schema_version": 3,
     "solution": false,
     "task": false
    }
   },
   "source": [
    "In the cell below, please describe the approach you took in designing your algorithm and the choices that went into this design. Your answer should be detailed and will be significantly weighted in determining your final grade. Your answer might include but is not limited to the following points: \n",
    "\n",
    "- What type of neural network architecture did you use? (CNN, MLP, ResNet, etc.) How many layers did you use? How many units in each layer? How did you initialize your neural network? What optimizer did you use? \n",
    "\n",
    "- What challenges did you encounter as you were doing this problem set? How did you overcome these obstacles?\n",
    "\n",
    "- Please explain your overall design and the choices behind it as much as possible (this can include your thought process). \n",
    "\n",
    "- How many different designs did you try? How did you settle on your final design?\n",
    "\n",
    "- If you used external resources to get any ideas for your solution, please describe these too."
   ]
  },
  {
   "cell_type": "markdown",
   "metadata": {
    "deletable": false,
    "nbgrader": {
     "cell_type": "markdown",
     "checksum": "954832c60404d66e7f61a6a52642c9dc",
     "grade": true,
     "grade_id": "cell-0897f6545b1adcc2",
     "locked": false,
     "points": 20,
     "schema_version": 3,
     "solution": true,
     "task": false
    }
   },
   "source": [
    "1. CNN. \n",
    "   I used 3 sequences of layers, the first one contains a 2-d convolution layer(1 input channel, 16 output channels, kernel_size=5, stride=1, padding=2), a 2-d BatchNorm layer, a ReLu layer, a MaxPool2d layer(kernel_size=2, stride=2);the second one contains a 2-d convolution layer(16 input channel, 32 output channels, kernel_size=5, stride=1, padding=2), a 2-d BatchNorm layer, a ReLu layer, a MaxPool2d layer(kernel_size=2, stride=2) and the last one contains a Linear layer(num_hidden=120),a ReLU layer, a Dropout layer, a linear layer(n_classes=7) and a softmax layer.\n",
    "   I initialed my neural network with BATCH_SIZE = 32, N_WORKERS = 0.\n",
    "   I used Adam optimizer(learning rate=0.0005).\n",
    "2. After I added the 2-d convolution layers, I found that the shape of data could not fit the model, thus I had to reshape it to (-1, 1, 20, 20). What's more, in order to get higher accuracy, I had to constantly adjust the parameters. \n",
    "3. My overall design is two blocks of covolutions and one block of classifier. I chose CNN to solve the problem because it has better performance in dealing with images than simple MLP. At first I only used one block of covolution but the accuracy was pretty low, so I added another one which made the result better but not good enough. Thus I added BatchNorm layers to avoid overfitting problems and the result now seems quite well. As for the classifier, I also used a Dropout layer to avoid overfitting.\n",
    "4. At the beginning I did not use covolution layers, the highest accuracy was about 0.72. Then I used CNN with only one block of covolution, but the accuracy fell down to 0.4 so I added another one. After hardwork of adjusting the parameters, the accuracy is about 0.87 now.\n",
    "5. I did not use external resources."
   ]
  }
 ],
 "metadata": {
  "kernelspec": {
   "display_name": "Python 3",
   "language": "python",
   "name": "python3"
  },
  "language_info": {
   "codemirror_mode": {
    "name": "ipython",
    "version": 3
   },
   "file_extension": ".py",
   "mimetype": "text/x-python",
   "name": "python",
   "nbconvert_exporter": "python",
   "pygments_lexer": "ipython3",
   "version": "3.8.3"
  },
  "latex_envs": {
   "LaTeX_envs_menu_present": true,
   "autoclose": false,
   "autocomplete": true,
   "bibliofile": "biblio.bib",
   "cite_by": "apalike",
   "current_citInitial": 1,
   "eqLabelWithNumbers": true,
   "eqNumInitial": 1,
   "hotkeys": {
    "equation": "meta-shift-y"
   },
   "labels_anchors": false,
   "latex_user_defs": false,
   "report_style_numbering": false,
   "user_envs_cfg": false
  },
  "toc": {
   "base_numbering": 1,
   "nav_menu": {},
   "number_sections": false,
   "sideBar": true,
   "skip_h1_title": false,
   "title_cell": "Table of Contents",
   "title_sidebar": "Contents",
   "toc_cell": false,
   "toc_position": {
    "height": "calc(100% - 180px)",
    "left": "10px",
    "top": "150px",
    "width": "191.875px"
   },
   "toc_section_display": true,
   "toc_window_display": true
  }
 },
 "nbformat": 4,
 "nbformat_minor": 4
}
