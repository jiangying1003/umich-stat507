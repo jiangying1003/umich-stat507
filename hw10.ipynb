{
 "cells": [
  {
   "cell_type": "markdown",
   "metadata": {
    "deletable": false,
    "editable": false,
    "nbgrader": {
     "cell_type": "markdown",
     "checksum": "574849aa889a7283599278471dc3aa59",
     "grade": false,
     "grade_id": "cell-d19a8b5c557678ac",
     "locked": true,
     "schema_version": 3,
     "solution": false,
     "task": false
    }
   },
   "source": [
    "# Homework 10: Introduction to Pytorch"
   ]
  },
  {
   "cell_type": "markdown",
   "metadata": {},
   "source": [
    "name: Ying Jiang\n",
    "\n",
    "email: jiangyyy@umich.edu\n",
    "\n",
    "This homework assignment took me XX hours in total to complete. (Please help us to gauge the difficulty of the assignment.)"
   ]
  },
  {
   "cell_type": "markdown",
   "metadata": {
    "deletable": false,
    "editable": false,
    "nbgrader": {
     "cell_type": "markdown",
     "checksum": "26bc23022a9b6661beb31f28d255c61a",
     "grade": false,
     "grade_id": "cell-9fc8abaaecff0e9a",
     "locked": true,
     "schema_version": 3,
     "solution": false,
     "task": false
    }
   },
   "source": [
    "## Collaboration Disclosure\n",
    "\n",
    "In the cell below, please list *everyone* with whom you discussed any of the homework problems, excluding only the GSIs and the course instructor. \n",
    "\n",
    "If you did not discuss the homework with anyone else, write __\"I did not discuss this homework with anyone.\"__\n",
    "\n",
    "Even if you discuss questions with other, the code you submit must be only yours. All work is checked with the [MOSS plagiarism detector](https://theory.stanford.edu/~aiken/moss/).)"
   ]
  },
  {
   "cell_type": "markdown",
   "metadata": {},
   "source": [
    "I did not discuss this homework with anyone."
   ]
  },
  {
   "cell_type": "markdown",
   "metadata": {
    "deletable": false,
    "editable": false,
    "nbgrader": {
     "cell_type": "markdown",
     "checksum": "9cedf9ea68925be0a6cd513b2c3865a5",
     "grade": false,
     "grade_id": "cell-a3523f265cef55df",
     "locked": true,
     "schema_version": 3,
     "solution": false,
     "task": false
    }
   },
   "source": [
    "## Submission Instructions\n",
    "Your homework solutions should be written entirely in this Jupyter notebook file. Once it contains your solutions, you should submit this notebook through Canvas. Before submitting, please make sure make sure __Cells->Run__ executes without errors; errors in your code cause problems for our auto-grader. Thus, even though we may ask you to check for errors in your functions, you should not include in your submission any examples of your functions actually raising those errors.\n",
    "\n",
    "## Nbgrader\n",
    "\n",
    "We will be using nbgrader to grade your jupyter notebook. Additional tests will be used at grading time, you are encouraged to read the problem carefully and verify your code covers all appropriate cases.\n",
    "\n",
    "This homework has a higher maximum time limit per cell as compared to previous homework. Please check that each cell of your notebook takes less __15 min__ to run. __Problem 1__ should be relatively fast (each cell should take < 2 min to run) and __Problem 2__ the training can take a bit longer but less __15 min__.\n",
    "\n",
    "## Error checking\n",
    "\n",
    "You do not need to do error checking (raising errors, etc.) in your code unless we explicitly ask you to so in a problem."
   ]
  },
  {
   "cell_type": "markdown",
   "metadata": {
    "deletable": false,
    "editable": false,
    "nbgrader": {
     "cell_type": "markdown",
     "checksum": "99a4b1f52b2a51fd259655608d2d5669",
     "grade": false,
     "grade_id": "coding-style",
     "locked": true,
     "schema_version": 3,
     "solution": false,
     "task": false
    }
   },
   "source": [
    "## Coding style\n",
    "Please follow the [PEP8 guidelines](https://www.python.org/dev/peps/pep-0008/). The `pycodestyle_magic` package will remind you if you are not. To install it, run\n",
    "```\n",
    "pip install flake8 pycodestyle_magic\n",
    "```\n",
    "Once it is installed the following two Jupyter directives will enable syntax checking:"
   ]
  },
  {
   "cell_type": "code",
   "execution_count": 1,
   "metadata": {
    "deletable": false,
    "editable": false,
    "nbgrader": {
     "cell_type": "code",
     "checksum": "11f994a1204f00eb8ea040c864033a8d",
     "grade": false,
     "grade_id": "cell-7311e8da28736726",
     "locked": true,
     "schema_version": 3,
     "solution": false,
     "task": false
    }
   },
   "outputs": [],
   "source": [
    "%load_ext pycodestyle_magic\n",
    "%flake8_on --ignore E266 --max_line_length 99"
   ]
  },
  {
   "cell_type": "markdown",
   "metadata": {
    "deletable": false,
    "editable": false,
    "nbgrader": {
     "cell_type": "markdown",
     "checksum": "e3bef7c98fab90f053f321da9b415344",
     "grade": false,
     "grade_id": "cell-a21a973f286b30ff",
     "locked": true,
     "schema_version": 3,
     "solution": false,
     "task": false
    }
   },
   "source": [
    "## Problem 1: Building and training simple models with Pytorch (15 points) \n",
    "In this problem, you'll use **Pytorch** to build the loss functions for a pair of commonly-used statistical models. \n",
    "\n",
    "We will use variables $X$ and $Y$, which will serve as the predictor (independent variable) and response (dependent variable), respectively. Please use $W$ to denote a parameter that multiplies the predictor, and $b$ to denote a bias parameter (i.e., a parameter that is added)."
   ]
  },
  {
   "cell_type": "code",
   "execution_count": 1,
   "metadata": {
    "deletable": false,
    "editable": false,
    "nbgrader": {
     "cell_type": "code",
     "checksum": "83ffaa1906b5f78ac9d0583107125478",
     "grade": false,
     "grade_id": "cell-0a60a8401508276c",
     "locked": true,
     "schema_version": 3,
     "solution": false,
     "task": false
    }
   },
   "outputs": [],
   "source": [
    "# You will probably need these imports\n",
    "import torch\n",
    "import torchvision\n",
    "import torch.nn as nn\n",
    "import numpy as np\n",
    "import torchvision.transforms as transforms\n",
    "from sklearn import datasets\n",
    "import matplotlib.pyplot as plt\n",
    "\n",
    "from torch.utils.data import TensorDataset, DataLoader"
   ]
  },
  {
   "cell_type": "markdown",
   "metadata": {
    "deletable": false,
    "editable": false,
    "nbgrader": {
     "cell_type": "markdown",
     "checksum": "9ca6c9ebc015a203a65113879431215f",
     "grade": false,
     "grade_id": "cell-acb19d53b079c648",
     "locked": true,
     "schema_version": 3,
     "solution": false,
     "task": false
    }
   },
   "source": [
    "### Part 1: Logistic regression (1 point)\n",
    "\n",
    "In this model, which we discussed briefly in class, the binary variable $Y$ is distributed as a Bernoulli random variable with success parameter $\\sigma(W^T X + b)$, where $\\sigma(z) = (1+\\exp(-z))^{-1}$ is the logistic function, $X \\in R^6$ is the predictor random variable, and $W \\in R^6, b \\in R$ are the model parameters. \n",
    " \n",
    "Using **Pytorch** code, implement a class `LogisticRegression` that inherits from `nn.module`. This class should should have two attributes `w` and `b` which should be `nn.parameters` with shapes `(6,1)` and `(1)` respectivelly. \n",
    "\n",
    "This class should a method called `forward` that takes in the predictor random variable `x` with shape `(N, 6)`, where `N` is the number of observations, and returns the success parameter (also known as the prediction of our model on $Y$).\n",
    "\n",
    "**Note:** Please initialize both `w, b` to be __all-one float tensors.__"
   ]
  },
  {
   "cell_type": "code",
   "execution_count": 3,
   "metadata": {
    "deletable": false,
    "nbgrader": {
     "cell_type": "code",
     "checksum": "6c0196ed6708ef335fb22cdd259e67ea",
     "grade": false,
     "grade_id": "cell-57996f5938f01dc0",
     "locked": false,
     "schema_version": 3,
     "solution": true,
     "task": false
    }
   },
   "outputs": [],
   "source": [
    "class LogisticRegression(nn.Module):\n",
    "    def __init__(self):\n",
    "        super(LogisticRegression, self).__init__()\n",
    "        self.w = nn.Parameter(torch.ones(6, 1))\n",
    "        self.b = nn.Parameter(torch.ones(1))\n",
    "\n",
    "    def forward(self, x):\n",
    "        temp = torch.mm(x, self.w)+self.b\n",
    "        y = (1+torch.exp(-temp))**(-1)\n",
    "        return y"
   ]
  },
  {
   "cell_type": "code",
   "execution_count": 4,
   "metadata": {
    "deletable": false,
    "editable": false,
    "nbgrader": {
     "cell_type": "code",
     "checksum": "06fb9cd1409b4ddb585e697cd836c415",
     "grade": true,
     "grade_id": "cell-03c0decc4c5a9c2e",
     "locked": true,
     "points": 1,
     "schema_version": 3,
     "solution": false,
     "task": false
    }
   },
   "outputs": [],
   "source": [
    "model = LogisticRegression()\n",
    "assert type(model.w) == nn.Parameter\n",
    "assert type(model.b) == nn.Parameter\n",
    "x = torch.eye(6).float()\n",
    "y = model.forward(x)\n",
    "assert y.shape == (6, 1)\n",
    "assert 0.86 < model.forward(x)[0].item() < 0.90"
   ]
  },
  {
   "cell_type": "markdown",
   "metadata": {
    "deletable": false,
    "editable": false,
    "nbgrader": {
     "cell_type": "markdown",
     "checksum": "5a78a83c4e956593306edff807b12e58",
     "grade": false,
     "grade_id": "cell-8104daad88d8a054",
     "locked": true,
     "schema_version": 3,
     "solution": false,
     "task": false
    }
   },
   "source": [
    "### Part 2: Negative log-likelihood loss (1 point)\n",
    "\n",
    "Using **Pytorch** code, write a function called `neg_log` that takes in `y_true` (true value of $Y$) and `y_pred` (predicted value of $Y$) and returns the negative log-likelihood loss function. You can assume that both `y_true` and `y_pred` have shapes `N x 1` where `N` is the number of observations. \n",
    " \n",
    " __Hint:__ The loss should be a negative log-likelihood term, summed over all the observations. Remember that $Y$ is Bernoulli distributed which should suggest what the likelihood is. "
   ]
  },
  {
   "cell_type": "code",
   "execution_count": 5,
   "metadata": {
    "deletable": false,
    "nbgrader": {
     "cell_type": "code",
     "checksum": "115f77fde2ed3fd603846e066431ad72",
     "grade": false,
     "grade_id": "cell-a92e07183bc33f6c",
     "locked": false,
     "schema_version": 3,
     "solution": true,
     "task": false
    }
   },
   "outputs": [],
   "source": [
    "def neg_log(y_true, y_pred):\n",
    "    return -(torch.mm(y_true.T, torch.log(y_pred))+torch.mm((1-y_true).T, torch.log(1-y_pred)))"
   ]
  },
  {
   "cell_type": "code",
   "execution_count": 6,
   "metadata": {
    "deletable": false,
    "editable": false,
    "nbgrader": {
     "cell_type": "code",
     "checksum": "39b0937c10f7647680ec20eecb43e0b9",
     "grade": true,
     "grade_id": "cell-ecbb91fb01491ddd",
     "locked": true,
     "points": 1,
     "schema_version": 3,
     "solution": false,
     "task": false
    }
   },
   "outputs": [],
   "source": [
    "y_true = torch.tensor([1, 1, 1, 1, 1]).float().view(5, 1)\n",
    "y_pred = torch.tensor([0.5, 0.5, 0.5, 0.5, 0.5]).float().view(5, 1)\n",
    "assert 3.4 < neg_log(y_true, y_pred).item() < 3.6"
   ]
  },
  {
   "cell_type": "markdown",
   "metadata": {
    "deletable": false,
    "editable": false,
    "nbgrader": {
     "cell_type": "markdown",
     "checksum": "9ec619f6d3071ef3d5bf143b57a7d0bd",
     "grade": false,
     "grade_id": "cell-d0107e3ec7457674",
     "locked": true,
     "schema_version": 3,
     "solution": false,
     "task": false
    }
   },
   "source": [
    "### Part 3: Estimating parameters in  logistic  regression (4 points) \n",
    "\n",
    "The four Numpy `.npy` files included along with the homework contain train and test data generated from a logistic model:\n",
    "\n",
    "- `logistic_xtest.npy`: contains a 500-by-6 matrix whose rows are the independent variables (predictors) from the test set.\n",
    "    \n",
    "- `logistic_xtrain.npy`: contains a 2000-by-6 matrix whose rows are the independent variables (predictors) from the train set.\n",
    "    \n",
    "- `logistic_ytest.npy`: contains a binary 500-dimensional vector of dependent variables (responses) from the test set.\n",
    "    \n",
    "- `logistic_ytrain.npy`: contains a binary 2000-dimensional vector of dependent variables (responses) from the train set.\n",
    "    \n",
    "The $i$-th row of the matrix in `logistic_xtrain.npy` is the predictor for the response in the $i$-th entry of the vector in `logistic_ytrain.npy`, and analogously for the two test set files.\n",
    "\n",
    "For this part you will obtain estimates of your `LogisticRegression` class model parameters $W$ and $b$ by minimizing the negative log-likelihood via gradient descent. Here is an outline of the steps:\n",
    "\n",
    "- Load the training data.\n",
    "\n",
    "- Create dataloaders for your training data, your dataloader should return `(x,y)` training pairs. You should specify `shuffle=True` and `batch_size=100` for its keyword arguments.\n",
    "\n",
    "- Create a SGD optimizer with `lr=0.001` (learning rate).\n",
    "\n",
    "- Runs the training loop for __500 epochs__. We recommend writing a separate function `train_loop` that takes in `lg_model` (your model), `optimizer` (the optimizer) and `train_dl_log` (the train dataloader) and runs the training loop for a single epoch. The training loops involves:\n",
    "    - Iterates through dataloader to load data\n",
    "    - Evaluates prediction loss on training pair\n",
    "    - Propagates loss in the optimizer \n",
    "    - Return average loss over all pairs returned by the train dataloader. \n",
    "    \n",
    "- Store the losses returned by each epoch of `train_loop` into a list called `losses`. \n",
    "\n",
    "   \n",
    "__Note:__ We didn't discuss reading numpy data from files. To load the files, you can simply call `x_train = np.load('xtrain.npy')` to read the data into the variable `x_train`. `x_train` will be a Numpy array. You will then have to convert them to pytorch tensors.\n",
    "   \n",
    "__Another note:__ you'll have to play around with the learning rate and the number of steps. Here are two good ways to check if optimization is finding a good minimizer:\n",
    "   \n",
    "- Try printing the training data loss before and after optimization.\n",
    "- Use the test data to validate your estimated parameters."
   ]
  },
  {
   "cell_type": "code",
   "execution_count": 7,
   "metadata": {
    "deletable": false,
    "nbgrader": {
     "cell_type": "code",
     "checksum": "3efb2065283b361e03011994335a84a2",
     "grade": false,
     "grade_id": "cell-fac15f532889da63",
     "locked": false,
     "schema_version": 3,
     "solution": true,
     "task": false
    }
   },
   "outputs": [],
   "source": [
    "def train_loop(lg_model, optimizer, train_dl_log):\n",
    "    loss_t = 0.0\n",
    "    for i, (x, y) in enumerate(train_dl_log):\n",
    "        y_pred = lg_model.forward(x)\n",
    "        loss = neg_log(y, y_pred)\n",
    "        lg_model.zero_grad()\n",
    "        loss.backward()\n",
    "        optimizer.step()\n",
    "        optimizer.zero_grad()\n",
    "        loss_t += loss.item()\n",
    "    return loss_t / len(train_dl_log)"
   ]
  },
  {
   "cell_type": "code",
   "execution_count": 8,
   "metadata": {
    "deletable": false,
    "nbgrader": {
     "cell_type": "code",
     "checksum": "d6336abe4c7ea4e1dcdd6640bc9176e3",
     "grade": false,
     "grade_id": "cell-prob1-part3-2",
     "locked": false,
     "schema_version": 3,
     "solution": true,
     "task": false
    }
   },
   "outputs": [
    {
     "name": "stderr",
     "output_type": "stream",
     "text": [
      "C:\\Users\\57277\\anaconda3_2020\\lib\\site-packages\\torch\\autograd\\__init__.py:130: UserWarning: CUDA initialization: Found no NVIDIA driver on your system. Please check that you have an NVIDIA GPU and installed a driver from http://www.nvidia.com/Download/index.aspx (Triggered internally at  ..\\c10\\cuda\\CUDAFunctions.cpp:100.)\n",
      "  Variable._execution_engine.run_backward(\n"
     ]
    }
   ],
   "source": [
    "# Load training data, run training, and create your list `losses` here.\n",
    "train_x = np.load('logistic_xtrain.npy')\n",
    "train_y = np.load('logistic_ytrain.npy')\n",
    "train_x = torch.from_numpy(train_x).float()\n",
    "train_y = torch.from_numpy(train_y).float()\n",
    "train_ds = TensorDataset(train_x, train_y)\n",
    "train_dl_log = DataLoader(train_ds, shuffle=True, batch_size=100)\n",
    "\n",
    "lg_model = LogisticRegression()\n",
    "optimizer = torch.optim.SGD(lg_model.parameters(), lr=1e-3)\n",
    "\n",
    "# run training\n",
    "losses = []\n",
    "for epoch in range(500):\n",
    "    losses.append(train_loop(lg_model, optimizer, train_dl_log))"
   ]
  },
  {
   "cell_type": "code",
   "execution_count": 9,
   "metadata": {
    "deletable": false,
    "editable": false,
    "nbgrader": {
     "cell_type": "code",
     "checksum": "e16b7569e4e388e10c9ec598524078d9",
     "grade": true,
     "grade_id": "cell-448a75f9d7f8ee78",
     "locked": true,
     "points": 1,
     "schema_version": 3,
     "solution": false,
     "task": false
    }
   },
   "outputs": [
    {
     "data": {
      "text/plain": [
       "[<matplotlib.lines.Line2D at 0x25aa2ef5310>]"
      ]
     },
     "execution_count": 9,
     "metadata": {},
     "output_type": "execute_result"
    },
    {
     "data": {
      "image/png": "[encoded data removed]",
      "text/plain": [
       "<Figure size 432x288 with 1 Axes>"
      ]
     },
     "metadata": {
      "needs_background": "light"
     },
     "output_type": "display_data"
    }
   ],
   "source": [
    "%matplotlib inline\n",
    "# Check convergence of your loss here, \n",
    "plt.plot(losses)"
   ]
  },
  {
   "cell_type": "code",
   "execution_count": 10,
   "metadata": {
    "deletable": false,
    "editable": false,
    "nbgrader": {
     "cell_type": "code",
     "checksum": "25617f5d1362a446dfbb8684e1c96864",
     "grade": true,
     "grade_id": "cell-7affe1dd44dd21ea",
     "locked": true,
     "points": 1,
     "schema_version": 3,
     "solution": false,
     "task": false
    }
   },
   "outputs": [],
   "source": [
    "assert losses[-1] < 40  # make sure your loss is low enough before continuing"
   ]
  },
  {
   "cell_type": "code",
   "execution_count": 11,
   "metadata": {
    "deletable": false,
    "editable": false,
    "nbgrader": {
     "cell_type": "code",
     "checksum": "4a0b56917e135e9dbc62fc7ddbe3b80d",
     "grade": true,
     "grade_id": "cell-dca6f97225b2351f",
     "locked": true,
     "points": 1,
     "schema_version": 3,
     "solution": false,
     "task": false
    }
   },
   "outputs": [],
   "source": [
    "b = lg_model.b.item()\n",
    "assert b < 0"
   ]
  },
  {
   "cell_type": "code",
   "execution_count": 12,
   "metadata": {
    "deletable": false,
    "editable": false,
    "nbgrader": {
     "cell_type": "code",
     "checksum": "8be96f903a321372d25bd1d2fb22720d",
     "grade": true,
     "grade_id": "cell-d8c439e195a2e82d",
     "locked": true,
     "points": 1,
     "schema_version": 3,
     "solution": false,
     "task": false
    }
   },
   "outputs": [],
   "source": [
    "w = lg_model.w.detach().numpy()\n",
    "assert w.shape == (6, 1)\n",
    "w1 = w[0, 0].item()\n",
    "assert 0.9 < w1 < 1.0"
   ]
  },
  {
   "cell_type": "markdown",
   "metadata": {
    "deletable": false,
    "editable": false,
    "nbgrader": {
     "cell_type": "markdown",
     "checksum": "3f6748731bc099bb4932faf5711c61af",
     "grade": false,
     "grade_id": "cell-6d383080ac3e9813",
     "locked": true,
     "schema_version": 3,
     "solution": false,
     "task": false
    }
   },
   "source": [
    "### Part 4: Evaluating your trained model (1 point)\n",
    "\n",
    "Load the test data. What is the negative log-likelihood of your model on this test data? That is, what is the negative log-likelihood when you use your estimated parameters with the previously unseen test data? Store this value on a `float` variable `loss_test`.  Please use a `batch_size=500` and do not take an average, just sum the losses."
   ]
  },
  {
   "cell_type": "code",
   "execution_count": 13,
   "metadata": {
    "deletable": false,
    "nbgrader": {
     "cell_type": "code",
     "checksum": "b4097632ab6d6a649b25b594af1498c3",
     "grade": false,
     "grade_id": "cell-521d0fedef0e225a",
     "locked": false,
     "schema_version": 3,
     "solution": true,
     "task": false
    }
   },
   "outputs": [],
   "source": [
    "# Load test data and evaluate the loss of your trained model here.\n",
    "test_x = np.load('logistic_xtest.npy')\n",
    "test_y = np.load('logistic_ytest.npy')\n",
    "test_x = torch.from_numpy(test_x).float()\n",
    "test_y = torch.from_numpy(test_y).float()\n",
    "test_ds = TensorDataset(test_x, test_y)\n",
    "test_dl_log = DataLoader(test_ds, shuffle=True, batch_size=500)\n",
    "\n",
    "loss_test = 0.0\n",
    "for i, (x, y) in enumerate(test_dl_log):\n",
    "    y_pred = lg_model.forward(x)\n",
    "    loss_test += neg_log(y, y_pred).item()"
   ]
  },
  {
   "cell_type": "code",
   "execution_count": 14,
   "metadata": {
    "deletable": false,
    "editable": false,
    "nbgrader": {
     "cell_type": "code",
     "checksum": "9c794c4907d475a3bdf8524688d43e82",
     "grade": true,
     "grade_id": "cell-c0cbac3f67e07dae",
     "locked": true,
     "points": 1,
     "schema_version": 3,
     "solution": false,
     "task": false
    }
   },
   "outputs": [],
   "source": [
    "assert type(loss_test) == float"
   ]
  },
  {
   "cell_type": "markdown",
   "metadata": {
    "deletable": false,
    "editable": false,
    "nbgrader": {
     "cell_type": "markdown",
     "checksum": "8de657d614ab55d901370611f5751b3c",
     "grade": false,
     "grade_id": "cell-13fb481cd882a079",
     "locked": true,
     "schema_version": 3,
     "solution": false,
     "task": false
    }
   },
   "source": [
    "### Part 5 Evaluating the estimated logistic parameters (1 point) \n",
    "\n",
    "The data was, in reality, generated with \n",
    "\n",
    "$$ W = (1,1,2,3,5,8),~~~~~~ b = -1. $$\n",
    "   \n",
    "Write **Pytorch** expressions to compute the squared error between your estimated parameters and their true values. Store your results in variables `Wsqerr` and `bsqerr` respectively. \n",
    "\n",
    "__Note:__ you need only evaluate the error of your final estimates, not at every step."
   ]
  },
  {
   "cell_type": "code",
   "execution_count": 15,
   "metadata": {
    "deletable": false,
    "nbgrader": {
     "cell_type": "code",
     "checksum": "bc1faf84730be643c0f797f5b18a13a2",
     "grade": false,
     "grade_id": "cell-158ec81820f5b877",
     "locked": false,
     "schema_version": 3,
     "solution": true,
     "task": false
    }
   },
   "outputs": [],
   "source": [
    "w = torch.tensor([1, 1, 2, 3, 5, 8])\n",
    "w_diff = w.view(6, -1)-lg_model.w\n",
    "b = torch.tensor(-1)\n",
    "Wsqerr = torch.mm(w_diff.T, w_diff)\n",
    "Wsqerr = Wsqerr.item()\n",
    "bsqerr = (b-lg_model.b)**2\n",
    "bsqerr = bsqerr.item()"
   ]
  },
  {
   "cell_type": "code",
   "execution_count": 16,
   "metadata": {
    "deletable": false,
    "editable": false,
    "nbgrader": {
     "cell_type": "code",
     "checksum": "d7de756f68bcbc4c2051e5e50cdcb446",
     "grade": true,
     "grade_id": "cell-00064ce4dbd2f40c",
     "locked": true,
     "points": 1,
     "schema_version": 3,
     "solution": false,
     "task": false
    }
   },
   "outputs": [],
   "source": [
    "assert type(Wsqerr) == float\n",
    "assert type(bsqerr) == float\n",
    "assert 0.001 < bsqerr < 0.005"
   ]
  },
  {
   "cell_type": "markdown",
   "metadata": {
    "deletable": false,
    "editable": false,
    "nbgrader": {
     "cell_type": "markdown",
     "checksum": "2cee9124ff9d3004e3c8d69c8a1df7d5",
     "grade": false,
     "grade_id": "cell-7e37039d16b6f519",
     "locked": true,
     "schema_version": 3,
     "solution": false,
     "task": false
    }
   },
   "source": [
    "### Part 6  Classification  of  normally  distributed  data.  (4 points) \n",
    "\n",
    "There are four other `.npy` that are included with this homework. These files contain train and test data generated from $K=3$ different classes. Each class $k \\in \\{1,2,3\\}$ has an associated mean $\\mu_k \\in R$ and variance $\\sigma^2_k \\in R$, and all observations from a given class are i.i.d. $\\mathcal{N}(\\mu_k,\\sigma^2_k)$.\n",
    "\n",
    "The four files are:\n",
    "\n",
    "- `normal_xtest.npy`: contains a 500-vector whose entries are the independent variables (predictors) from the test set.\n",
    "\n",
    "- `normal_xtrain.npy`: contains a 2000-vector whose entries are the independent variables (predictors) from the train set.\n",
    "\n",
    "- `normal_ytest.npy`: contains a 500-by-3 dimensional matrix whose rows are one-hot encodings of the class labels for the test set.\n",
    "\n",
    "- `normal_ytrain.npy`: contains a 2000-by-3 dimensional matrix whose rows are one-hot encodings of the class labels for the train set.\n",
    "    \n",
    "The $i$-th entry of the vector in `normal_xtrain.npy` is the observed random variable from class with label given by the $i$-th row of the matrix in `normal_ytrain.npy`, and analogously for the two test set files."
   ]
  },
  {
   "cell_type": "markdown",
   "metadata": {
    "deletable": false,
    "editable": false,
    "nbgrader": {
     "cell_type": "markdown",
     "checksum": "3a6af5e5570652fe9c79cd302fc77793",
     "grade": false,
     "grade_id": "cell-7e37039d16b6f520",
     "locked": true,
     "schema_version": 3,
     "solution": false,
     "task": false
    }
   },
   "source": [
    "Load the training data and use it to obtain estimates of the vector of class means $\\mu = (\\mu_0,\\mu_1,\\mu_2)$ and variances $\\sigma^2 = (\\sigma^2_0, \\sigma^2_1, \\sigma^2_2)$ by minimizing the cross-entropy between the estimated normals and the one-hot encodings of the class labels (as we did in our softmax regression example in class). \n",
    "\n",
    "   \n",
    "This time, instead of using gradient descent, use Adagrad, supplied by Pytorch as the function `torch.optim.Adagrad`. _Adagrad_ is a _stochastic gradient descent algorithm_, popular in machine learning. You can call this just like the gradient descent optimizer we used in class---just supply a learning rate. Documentation for the Pytorch implementation of Adagrad can be found here: https://pytorch.org/docs/stable/_modules/torch/optim/adagrad.html. See https://en.wikipedia.org/wiki/Stochastic_gradient_descent for more information about stochastic gradient descent and the Adagrad algorithm.\n",
    "\n",
    "**Deliverables:** Create and name the corresponding variables `mu` and `sigma2`. As before, calculate the average loss in each epoch and return a list of `loss_norm` that can be used for plotting (averaged over the # of pairs returned by the dataloader, just like before). __Please make sure to do the following:__\n",
    "\n",
    "- Initialize all mu's as all-zero tensors and the sigma2's as all-one tensors.\n",
    "\n",
    "- Use `batch_size=100`\n",
    "\n",
    "- Use a learning rate of __0.04__. \n",
    "\n",
    "- Run for __500__ epochs. \n",
    "\n",
    "\t\n",
    "__Note:__ you'll no longer be able to use the built-in logit cross-entropy that we used for training our models in lecture. Your cross-entropy for one observation should now look something like $ -\\sum_k y'_k \\log p_k,$ where $y'$ is the one-hot encoded vector and $p$ is the vector whose $k$-th entry is the (estimated) probability of the $k$-th observation given its class. \n",
    "   \n",
    "__Another note:__ Do not include any estimation of the mixing coefficients (i.e., the class priors) in your model. You only need to estimate three means and three variances, because we are building a _discriminative_ model in this problem."
   ]
  },
  {
   "cell_type": "code",
   "execution_count": 1,
   "metadata": {
    "deletable": false,
    "nbgrader": {
     "cell_type": "code",
     "checksum": "4ef3507af1ebe7f9689cfd32be1d7fef",
     "grade": false,
     "grade_id": "cell-78e38ccc39637640",
     "locked": false,
     "schema_version": 3,
     "solution": true,
     "task": false
    }
   },
   "outputs": [
    {
     "ename": "NameError",
     "evalue": "name 'np' is not defined",
     "output_type": "error",
     "traceback": [
      "\u001b[1;31m---------------------------------------------------------------------------\u001b[0m",
      "\u001b[1;31mNameError\u001b[0m                                 Traceback (most recent call last)",
      "\u001b[1;32m<ipython-input-1-6df66aa46a98>\u001b[0m in \u001b[0;36m<module>\u001b[1;34m\u001b[0m\n\u001b[0;32m      1\u001b[0m \u001b[1;31m# Your code to create the model, load data, and train model goes here.\u001b[0m\u001b[1;33m\u001b[0m\u001b[1;33m\u001b[0m\u001b[1;33m\u001b[0m\u001b[0m\n\u001b[1;32m----> 2\u001b[1;33m \u001b[0mtrain_x\u001b[0m \u001b[1;33m=\u001b[0m \u001b[0mnp\u001b[0m\u001b[1;33m.\u001b[0m\u001b[0mload\u001b[0m\u001b[1;33m(\u001b[0m\u001b[1;34m'normal_xtrain.npy'\u001b[0m\u001b[1;33m)\u001b[0m\u001b[1;33m\u001b[0m\u001b[1;33m\u001b[0m\u001b[0m\n\u001b[0m\u001b[0;32m      3\u001b[0m \u001b[0mtrain_y\u001b[0m \u001b[1;33m=\u001b[0m \u001b[0mnp\u001b[0m\u001b[1;33m.\u001b[0m\u001b[0mload\u001b[0m\u001b[1;33m(\u001b[0m\u001b[1;34m'normal_ytrain.npy'\u001b[0m\u001b[1;33m)\u001b[0m\u001b[1;33m\u001b[0m\u001b[1;33m\u001b[0m\u001b[0m\n\u001b[0;32m      4\u001b[0m \u001b[0mtrain_x\u001b[0m \u001b[1;33m=\u001b[0m \u001b[0mtorch\u001b[0m\u001b[1;33m.\u001b[0m\u001b[0mfrom_numpy\u001b[0m\u001b[1;33m(\u001b[0m\u001b[0mtrain_x\u001b[0m\u001b[1;33m)\u001b[0m\u001b[1;33m.\u001b[0m\u001b[0mfloat\u001b[0m\u001b[1;33m(\u001b[0m\u001b[1;33m)\u001b[0m\u001b[1;33m\u001b[0m\u001b[1;33m\u001b[0m\u001b[0m\n\u001b[0;32m      5\u001b[0m \u001b[0mtrain_y\u001b[0m \u001b[1;33m=\u001b[0m \u001b[0mtorch\u001b[0m\u001b[1;33m.\u001b[0m\u001b[0mfrom_numpy\u001b[0m\u001b[1;33m(\u001b[0m\u001b[0mtrain_y\u001b[0m\u001b[1;33m)\u001b[0m\u001b[1;33m.\u001b[0m\u001b[0mfloat\u001b[0m\u001b[1;33m(\u001b[0m\u001b[1;33m)\u001b[0m\u001b[1;33m\u001b[0m\u001b[1;33m\u001b[0m\u001b[0m\n",
      "\u001b[1;31mNameError\u001b[0m: name 'np' is not defined"
     ]
    }
   ],
   "source": [
    "# Your code to create the model, load data, and train model goes here.\n",
    "train_x = np.load('normal_xtrain.npy')\n",
    "train_y = np.load('normal_ytrain.npy')\n",
    "train_x = torch.from_numpy(train_x).float()\n",
    "train_y = torch.from_numpy(train_y).float()\n",
    "train_ds = TensorDataset(train_x, train_y)\n",
    "train_dl_log = DataLoader(train_ds, shuffle=True, batch_size=100)\n",
    "\n",
    "\n",
    "# loss function:\n",
    "def multiloss(a, y):\n",
    "    loss = 0.0\n",
    "    m = torch.mm(y, a.T)\n",
    "    for i in range(y.shape[0]):\n",
    "        loss -= m[i, i]\n",
    "    return loss\n",
    "\n",
    "\n",
    "# multilg_model\n",
    "class multiLogisticRegression(nn.Module):\n",
    "    def __init__(self):\n",
    "        super(multiLogisticRegression, self).__init__()\n",
    "        self.mu = nn.Parameter(torch.zeros(1, 3))\n",
    "        self.sigma2 = nn.Parameter(torch.ones(1, 3))\n",
    "\n",
    "    def forward(self, x):\n",
    "        a0 = torch.distributions.normal.Normal(self.mu[0, 0],\n",
    "                                               torch.sqrt(self.sigma2[0, 0])).log_prob(x)\n",
    "        a1 = torch.distributions.normal.Normal(self.mu[0, 1],\n",
    "                                               torch.sqrt(self.sigma2[0, 1])).log_prob(x)\n",
    "        a2 = torch.distributions.normal.Normal(self.mu[0, 2],\n",
    "                                               torch.sqrt(self.sigma2[0, 2])).log_prob(x)\n",
    "        a = torch.cat((a0, a1, a2), dim=1)\n",
    "        return a\n",
    "\n",
    "\n",
    "multilg_model = multiLogisticRegression()\n",
    "optimizer = torch.optim.Adagrad(multilg_model.parameters(), lr=0.04)\n",
    "\n",
    "\n",
    "def train_loop(multilg_model, optimizer, train_dl_log):\n",
    "    loss_t = 0.0\n",
    "    for i, (x, y) in enumerate(train_dl_log):\n",
    "        p = multilg_model.forward(x)\n",
    "        loss = multiloss(p, y)\n",
    "        multilg_model.zero_grad()\n",
    "        loss.backward()\n",
    "        optimizer.step()\n",
    "        optimizer.zero_grad()\n",
    "        loss_t += loss.item()\n",
    "    return loss_t / len(train_dl_log)\n",
    "\n",
    "\n",
    "# run training\n",
    "loss_norm = []\n",
    "for epoch in range(500):\n",
    "    loss_norm.append(train_loop(multilg_model, optimizer, train_dl_log))\n",
    "\n",
    "mu = multilg_model.mu[0]\n",
    "mu = mu.view(1, 3)\n",
    "\n",
    "sigma2 = multilg_model.sigma2[0]\n",
    "sigma2 = sigma2.view(1, 3)"
   ]
  },
  {
   "cell_type": "code",
   "execution_count": 18,
   "metadata": {
    "deletable": false,
    "editable": false,
    "nbgrader": {
     "cell_type": "code",
     "checksum": "7cd25337219364431124ab0c3aeb9fbd",
     "grade": true,
     "grade_id": "cell-5387a1e68768311e",
     "locked": true,
     "points": 1,
     "schema_version": 3,
     "solution": false,
     "task": false
    }
   },
   "outputs": [
    {
     "data": {
      "image/png": "[encoded data removed]",
      "text/plain": [
       "<Figure size 432x288 with 1 Axes>"
      ]
     },
     "metadata": {
      "needs_background": "light"
     },
     "output_type": "display_data"
    }
   ],
   "source": [
    "### Check convergence of your function.\n",
    "plt.plot(loss_norm)\n",
    "plt.title(\"Loss Function Convergence\")\n",
    "plt.show()"
   ]
  },
  {
   "cell_type": "code",
   "execution_count": 19,
   "metadata": {
    "deletable": false,
    "editable": false,
    "nbgrader": {
     "cell_type": "code",
     "checksum": "7500fead811a0ec5cfbbae476e9a9106",
     "grade": true,
     "grade_id": "cell-822cc8e8ca66784a",
     "locked": true,
     "points": 1,
     "schema_version": 3,
     "solution": false,
     "task": false
    }
   },
   "outputs": [],
   "source": [
    "\"\"\"Check correctness of your final loss function.\"\"\"\n",
    "assert loss_norm[-1] < 150"
   ]
  },
  {
   "cell_type": "code",
   "execution_count": 20,
   "metadata": {
    "deletable": false,
    "editable": false,
    "nbgrader": {
     "cell_type": "code",
     "checksum": "8a5701789eb8d90eef087842b00f21b4",
     "grade": true,
     "grade_id": "cell-3ff9fdc2c125b466",
     "locked": true,
     "points": 1,
     "schema_version": 3,
     "solution": false,
     "task": false
    }
   },
   "outputs": [],
   "source": [
    "assert type(mu) == torch.Tensor\n",
    "assert mu.shape == (1, 3)\n",
    "assert -1.1 < mu[0, 0].item() < -0.9"
   ]
  },
  {
   "cell_type": "code",
   "execution_count": 21,
   "metadata": {
    "deletable": false,
    "editable": false,
    "nbgrader": {
     "cell_type": "code",
     "checksum": "a7333c649a1cba358f7122b9fdd8029d",
     "grade": true,
     "grade_id": "cell-fb23d9cb72fa35f8",
     "locked": true,
     "points": 1,
     "schema_version": 3,
     "solution": false,
     "task": false
    }
   },
   "outputs": [],
   "source": [
    "assert type(sigma2) == torch.Tensor\n",
    "assert sigma2.shape == (1, 3)\n",
    "assert sigma2[0, 0] < 0.55"
   ]
  },
  {
   "cell_type": "markdown",
   "metadata": {
    "deletable": false,
    "editable": false,
    "nbgrader": {
     "cell_type": "markdown",
     "checksum": "2ae469600ff24fd20544dbf7e8191b4e",
     "grade": false,
     "grade_id": "cell-e03c18a8a503e9a6",
     "locked": true,
     "schema_version": 3,
     "solution": false,
     "task": false
    }
   },
   "source": [
    "### Part 7: Evaluating loss on test data (1 point) \n",
    "Load the test data. What is the cross-entropy of your model on this test data? That is, what is the cross-entropy when you use your estimated parameters with the previously unseen test data? Store your answer in a variable `loss_norm_test`. Please use a `batch_size=500` and do not take an average just sum the losses."
   ]
  },
  {
   "cell_type": "code",
   "execution_count": 22,
   "metadata": {
    "deletable": false,
    "nbgrader": {
     "cell_type": "code",
     "checksum": "0d700eeb5815d51e9a39c306a1eac370",
     "grade": false,
     "grade_id": "cell-1027a54bae06d532",
     "locked": false,
     "schema_version": 3,
     "solution": true,
     "task": false
    }
   },
   "outputs": [],
   "source": [
    "# Load test data and evaluate the loss of your trained model here.\n",
    "test_x = np.load('normal_xtest.npy')\n",
    "test_y = np.load('normal_ytest.npy')\n",
    "test_x = torch.from_numpy(test_x).float()\n",
    "test_y = torch.from_numpy(test_y).float()\n",
    "test_ds = TensorDataset(test_x, test_y)\n",
    "test_dl_log = DataLoader(test_ds, shuffle=True, batch_size=100)\n",
    "\n",
    "loss_norm_test = 0.0\n",
    "for i, (x, y) in enumerate(test_dl_log):\n",
    "    p = multilg_model.forward(x)\n",
    "    loss_norm_test += multiloss(p, y).item()"
   ]
  },
  {
   "cell_type": "code",
   "execution_count": 23,
   "metadata": {
    "deletable": false,
    "editable": false,
    "nbgrader": {
     "cell_type": "code",
     "checksum": "816a026c1aaabef7b43b6dca870c8037",
     "grade": true,
     "grade_id": "cell-468fe00942aa106e",
     "locked": true,
     "points": 1,
     "schema_version": 3,
     "solution": false,
     "task": false
    }
   },
   "outputs": [],
   "source": [
    "assert type(loss_norm_test) == float\n",
    "assert loss_norm_test < 800"
   ]
  },
  {
   "cell_type": "markdown",
   "metadata": {
    "deletable": false,
    "editable": false,
    "nbgrader": {
     "cell_type": "markdown",
     "checksum": "8fc7b3fc75cb064e4d05472333e12365",
     "grade": false,
     "grade_id": "cell-63d526ef250fd991",
     "locked": true,
     "schema_version": 3,
     "solution": false,
     "task": false
    }
   },
   "source": [
    "### Part 8: Evaluating parameter estimation on test data (1 point) \n",
    "\n",
    "The true parameter values for the three classes were\n",
    "\n",
    "\\begin{equation*} \\begin{aligned}\n",
    "\\mu_0 &= -1, \\sigma_0^2 = 0.5 \\\\\n",
    "\\mu_1 &= 0, \\sigma_1^2 = 1 \\\\\n",
    "\\mu_2 &= 3, \\sigma_2^2 = 1.5.\n",
    "\\end{aligned} \n",
    "\\end{equation*}\n",
    "\n",
    "Write a **Pytorch** expression to compute the total squared error (i.e., summed over the six parameters) between your estimates and their true values. What is the squared error? Stored it in a variable `squared_error`. \n",
    "\n",
    "__Note:__ you need only evaluate the error of your final estimates, not at every step."
   ]
  },
  {
   "cell_type": "code",
   "execution_count": 24,
   "metadata": {
    "deletable": false,
    "nbgrader": {
     "cell_type": "code",
     "checksum": "9bde8321fdbb7b39131a821df8d33f62",
     "grade": false,
     "grade_id": "cell-b8c8fc8627bab33c",
     "locked": false,
     "schema_version": 3,
     "solution": true,
     "task": false
    }
   },
   "outputs": [],
   "source": [
    "mu_t = torch.tensor([-1, 0, 3]).view(1, 3)\n",
    "sigma2_t = torch.tensor([0.5, 1, 1.5]).view(1, 3)\n",
    "squared_error = (torch.mm((mu - mu_t), (mu - mu_t).T) +\n",
    "                 torch.mm((sigma2 - sigma2_t), (sigma2 - sigma2_t).T)).item()"
   ]
  },
  {
   "cell_type": "code",
   "execution_count": 25,
   "metadata": {
    "deletable": false,
    "editable": false,
    "nbgrader": {
     "cell_type": "code",
     "checksum": "122f23b88de50be4ee2f9dfca2ab9b22",
     "grade": true,
     "grade_id": "cell-33f3e604e94f5286",
     "locked": true,
     "points": 1,
     "schema_version": 3,
     "solution": false,
     "task": false
    }
   },
   "outputs": [],
   "source": [
    "assert type(squared_error) == float\n",
    "assert squared_error < 0.030"
   ]
  },
  {
   "cell_type": "markdown",
   "metadata": {
    "deletable": false,
    "editable": false,
    "nbgrader": {
     "cell_type": "markdown",
     "checksum": "ff745cefaef3046b5b1f1ec5597e2e07",
     "grade": false,
     "grade_id": "cell-b5f3f457330567ac",
     "locked": true,
     "schema_version": 3,
     "solution": false,
     "task": false
    }
   },
   "source": [
    "### Part 9: Evaluating classification error on test data. (1 point)\n",
    "\n",
    "Write and evaluate a **Pytorch** expression that computes the classification error of your estimated model averaged over the test data. Store your answer in a variable `error`. "
   ]
  },
  {
   "cell_type": "code",
   "execution_count": 26,
   "metadata": {
    "deletable": false,
    "nbgrader": {
     "cell_type": "code",
     "checksum": "48648d551dfc3a66a80d78315507fd02",
     "grade": false,
     "grade_id": "cell-55c4cd3cbf254df0",
     "locked": false,
     "schema_version": 3,
     "solution": true,
     "task": false
    }
   },
   "outputs": [],
   "source": [
    "# verage\n",
    "error = 0.0\n",
    "for i, (x, y) in enumerate(test_dl_log):\n",
    "    index_pred = multilg_model.forward(x).max(dim=1)[1]\n",
    "    index_true = y.max(dim=1)[1]\n",
    "    t = (index_pred == index_true).int().sum()\n",
    "    error += 1 - (t/y.shape[0]).item()\n",
    "error = error/len(test_dl_log)"
   ]
  },
  {
   "cell_type": "code",
   "execution_count": 27,
   "metadata": {
    "deletable": false,
    "editable": false,
    "nbgrader": {
     "cell_type": "code",
     "checksum": "3076c652cfcc41e2a47c66efb226f541",
     "grade": true,
     "grade_id": "cell-06c5fd4920d3db75",
     "locked": true,
     "points": 1,
     "schema_version": 3,
     "solution": false,
     "task": false
    }
   },
   "outputs": [],
   "source": [
    "assert type(error) == float\n",
    "assert error < 0.40"
   ]
  },
  {
   "cell_type": "markdown",
   "metadata": {
    "deletable": false,
    "editable": false,
    "nbgrader": {
     "cell_type": "markdown",
     "checksum": "561b3af3b5fdb8a8fce28d26abb4705e",
     "grade": false,
     "grade_id": "cell-5c502b0221ce17d9",
     "locked": true,
     "schema_version": 3,
     "solution": false,
     "task": false
    }
   },
   "source": [
    "## Problem 2 (15 points) \n",
    "\n",
    "Modify the Multilayer Perceptron implementation below to achieve a better performance. In particular,\n",
    "- Your Validation and Test set accuracies should be >= 92%\n",
    "- Answer the questions at the bottom of this notebook\n",
    "\n",
    "Please read and execute this notebook first to make sure everything works correctly. Then, make any changes to the architecture, i.e., you can change\n",
    "\n",
    "- the number of layers\n",
    "- the activation function(s) (logistic sigmoid, tanh, relu, leaky relu, ...)\n",
    "- the learning rate\n",
    "- the number of hidden layers\n",
    "- the number of units in the hidden layer(s)\n",
    "- the number of epochs\n",
    "- the minibatch size\n",
    "\n",
    "However,\n",
    "\n",
    "- don't change the weight initialization\n",
    "- don't change the random seed\n",
    "- don't change the optimization algorithm\n",
    "\n",
    "### PIL\n",
    "Note that Python's Imaging Library (PIL) can be installed via\n",
    "\n",
    "    pip install pillow\n",
    "    \n",
    "### matplotlib \n",
    "Make sure that you have the latest version of matplotlib installed via \n",
    "\n",
    "    pip install matplotlib --upgrade\n",
    "    \n",
    "there is a bug in older versions that might cause an error during training. \n",
    "\n",
    "### Credit\n",
    "This problem is based on a homework assignment written by Sebastian Raschka (sraschka@wisc.edu)\n",
    "The dataset is from him too. Please do not distribute this modified version of his work."
   ]
  },
  {
   "cell_type": "code",
   "execution_count": 28,
   "metadata": {
    "deletable": false,
    "editable": false,
    "nbgrader": {
     "cell_type": "code",
     "checksum": "3211d3e8ac01c49e324f3f557cde1df6",
     "grade": false,
     "grade_id": "cell-76a5a7a43483610f",
     "locked": true,
     "schema_version": 3,
     "solution": false,
     "task": false
    }
   },
   "outputs": [],
   "source": [
    "import torch\n",
    "import os\n",
    "import pandas as pd\n",
    "import numpy as np\n",
    "import time\n",
    "from PIL import Image\n",
    "from torch.utils.data import Dataset\n",
    "from torchvision import transforms\n",
    "from torch.utils.data import DataLoader\n",
    "import torch.nn.functional as F\n",
    "import matplotlib.pyplot as plt"
   ]
  },
  {
   "cell_type": "code",
   "execution_count": 29,
   "metadata": {},
   "outputs": [],
   "source": [
    "\n",
    "# if you suspect the initialization is off, you could try to change the random seed.\n",
    "RANDOM_SEED = 123\n",
    "\n",
    "# If there is a GPU available, it will use it,\n",
    "# otherwise, it will use the CPU\n",
    "DEVICE = torch.device('cuda:0' if torch.cuda.is_available() else 'cpu')"
   ]
  },
  {
   "cell_type": "markdown",
   "metadata": {
    "deletable": false,
    "editable": false,
    "nbgrader": {
     "cell_type": "markdown",
     "checksum": "a8e32c3a3d25fd3823ee0f40bd72d92e",
     "grade": false,
     "grade_id": "cell-0da357fc681a527e",
     "locked": true,
     "schema_version": 3,
     "solution": false,
     "task": false
    }
   },
   "source": [
    "**Note:** I actually noticed that this code runs faster on the CPU than on the GPU, because the dataset is so small. However, you are encouraged to try out training on a GPU if you are interested, e.g., via Google Colab."
   ]
  },
  {
   "cell_type": "markdown",
   "metadata": {
    "deletable": false,
    "editable": false,
    "nbgrader": {
     "cell_type": "markdown",
     "checksum": "c0e980745e41677229d7664191f39993",
     "grade": false,
     "grade_id": "cell-287efe6a5433fe83",
     "locked": true,
     "schema_version": 3,
     "solution": false,
     "task": false
    }
   },
   "source": [
    "### Loading test\n",
    "The dataset consists of 3 classes:\n",
    "- Drawings of \"birds\" (class 0)\n",
    "- Drawings of \"pizzas\" (class 1)\n",
    "- Drawings of \"screwdrivers\" (class 2)\n",
    "\n",
    "(The dataset is based on Google Quickdraw: I wrote a script to fetch the images from the database here: https://quickdraw.withgoogle.com/data)\n",
    "\n",
    "The dataset is very small on purpose so that the training should be relatively fast (but this wouldn't be an ideal DL dataset because of its small size)."
   ]
  },
  {
   "cell_type": "code",
   "execution_count": 30,
   "metadata": {
    "deletable": false,
    "editable": false,
    "nbgrader": {
     "cell_type": "code",
     "checksum": "96ab7912b77c933c5dde54396dbad41f",
     "grade": false,
     "grade_id": "cell-49e6e73ffa604706",
     "locked": true,
     "schema_version": 3,
     "solution": false,
     "task": false
    }
   },
   "outputs": [
    {
     "name": "stdout",
     "output_type": "stream",
     "text": [
      "Class distribution Train [8005 7669 6826]\n"
     ]
    }
   ],
   "source": [
    "df_train = pd.read_csv('train.csv')\n",
    "print('Class distribution Train', np.bincount(df_train['Class Label'].values))"
   ]
  },
  {
   "cell_type": "markdown",
   "metadata": {
    "deletable": false,
    "editable": false,
    "nbgrader": {
     "cell_type": "markdown",
     "checksum": "392ba05edc4bd0f26b36a3df7f60c2be",
     "grade": false,
     "grade_id": "cell-6fd0be140f614664",
     "locked": true,
     "schema_version": 3,
     "solution": false,
     "task": false
    }
   },
   "source": [
    "The images are 28x28 dimensional (grayscale).\n",
    "\n",
    "**Important:** Make sure you unzip the file `png_files.zip` that should have been contained in the file you downloaded from Canvas.\n",
    "\n",
    "Some examples:"
   ]
  },
  {
   "cell_type": "code",
   "execution_count": 31,
   "metadata": {
    "deletable": false,
    "editable": false,
    "nbgrader": {
     "cell_type": "code",
     "checksum": "41cadcdf1b49ef514072637775c3e789",
     "grade": false,
     "grade_id": "cell-00fe422c03f505d3",
     "locked": true,
     "schema_version": 3,
     "solution": false,
     "task": false
    }
   },
   "outputs": [
    {
     "name": "stdout",
     "output_type": "stream",
     "text": [
      "png_files\\bird_000043.png\n"
     ]
    },
    {
     "data": {
      "image/png": "[encoded data removed]",
      "text/plain": [
       "<Figure size 432x288 with 1 Axes>"
      ]
     },
     "metadata": {
      "needs_background": "light"
     },
     "output_type": "display_data"
    },
    {
     "name": "stdout",
     "output_type": "stream",
     "text": [
      "png_files\\bird_000107.png\n"
     ]
    },
    {
     "data": {
      "image/png": "[encoded data removed]",
      "text/plain": [
       "<Figure size 432x288 with 1 Axes>"
      ]
     },
     "metadata": {
      "needs_background": "light"
     },
     "output_type": "display_data"
    },
    {
     "name": "stdout",
     "output_type": "stream",
     "text": [
      "png_files\\pizza_000000.png\n"
     ]
    },
    {
     "data": {
      "image/png": "[encoded data removed]",
      "text/plain": [
       "<Figure size 432x288 with 1 Axes>"
      ]
     },
     "metadata": {
      "needs_background": "light"
     },
     "output_type": "display_data"
    },
    {
     "name": "stdout",
     "output_type": "stream",
     "text": [
      "png_files\\pizza_000002.png\n"
     ]
    },
    {
     "data": {
      "image/png": "[encoded data removed]",
      "text/plain": [
       "<Figure size 432x288 with 1 Axes>"
      ]
     },
     "metadata": {
      "needs_background": "light"
     },
     "output_type": "display_data"
    },
    {
     "name": "stdout",
     "output_type": "stream",
     "text": [
      "png_files\\screwdriver_000001.png\n"
     ]
    },
    {
     "data": {
      "image/png": "[encoded data removed]",
      "text/plain": [
       "<Figure size 432x288 with 1 Axes>"
      ]
     },
     "metadata": {
      "needs_background": "light"
     },
     "output_type": "display_data"
    },
    {
     "name": "stdout",
     "output_type": "stream",
     "text": [
      "png_files\\screwdriver_000012.png\n"
     ]
    },
    {
     "data": {
      "image/png": "[encoded data removed]",
      "text/plain": [
       "<Figure size 432x288 with 1 Axes>"
      ]
     },
     "metadata": {
      "needs_background": "light"
     },
     "output_type": "display_data"
    }
   ],
   "source": [
    "%matplotlib inline\n",
    "import glob\n",
    "for i in (12, 25, 30000, 30001, 60000, 60005): \n",
    "    image_paths = sorted(glob.glob('png_files/*.png'))\n",
    "    im_path = image_paths[i]\n",
    "    print(im_path)\n",
    "    im = Image.open(im_path)\n",
    "    plt.imshow(im)\n",
    "    plt.show()\n",
    "    plt.close()"
   ]
  },
  {
   "cell_type": "markdown",
   "metadata": {
    "deletable": false,
    "editable": false,
    "nbgrader": {
     "cell_type": "markdown",
     "checksum": "f31f195e1174ba06f018b12b10d8a288",
     "grade": false,
     "grade_id": "cell-3cb0691f8a671983",
     "locked": true,
     "schema_version": 3,
     "solution": false,
     "task": false
    }
   },
   "source": [
    "### Setup dataset and dataloaders"
   ]
  },
  {
   "cell_type": "markdown",
   "metadata": {
    "deletable": false,
    "editable": false,
    "nbgrader": {
     "cell_type": "markdown",
     "checksum": "3915da330c4ccdcef8542fbd2fd27022",
     "grade": false,
     "grade_id": "cell-004a1f2b01d3eddb",
     "locked": true,
     "schema_version": 3,
     "solution": false,
     "task": false
    }
   },
   "source": [
    "- The only thing you should change in this section during experimenting is the batch size\n",
    "- However, it is not necessary to make changes to the batch size for your solution to work. "
   ]
  },
  {
   "cell_type": "code",
   "execution_count": 32,
   "metadata": {
    "code_folding": [],
    "deletable": false,
    "editable": false,
    "nbgrader": {
     "cell_type": "code",
     "checksum": "95442905d91e6dd74026e13992955456",
     "grade": false,
     "grade_id": "cell-80df8a866d977994",
     "locked": true,
     "schema_version": 3,
     "solution": false,
     "task": false
    }
   },
   "outputs": [],
   "source": [
    "class QuickdrawDataset(Dataset):\n",
    "    \"\"\"Custom Dataset for loading Quickdraw images\"\"\"\n",
    "\n",
    "    def __init__(self, csv_path, img_dir, transform=None):\n",
    "\n",
    "        df = pd.read_csv(csv_path)\n",
    "        self.img_dir = img_dir\n",
    "        self.img_names = df['Filename'].values\n",
    "        self.y = df['Class Label'].values\n",
    "        self.transform = transform\n",
    "\n",
    "    def __getitem__(self, index):\n",
    "        img = Image.open(os.path.join(self.img_dir,\n",
    "                         self.img_names[index]))\n",
    "\n",
    "        if self.transform is not None:\n",
    "            img = self.transform(img)\n",
    "\n",
    "        label = self.y[index]\n",
    "        return img, label\n",
    "\n",
    "    def __len__(self):\n",
    "        return self.y.shape[0]"
   ]
  },
  {
   "cell_type": "code",
   "execution_count": 33,
   "metadata": {},
   "outputs": [],
   "source": [
    "# CHANGE IF YOU LIKE, keep variable name the same.\n",
    "# NOTE: Using more workers might help make training faster. It depends on your computer.\n",
    "# feel free to experiment and see what works.\n",
    "BATCH_SIZE = 64\n",
    "N_WORKERS = 0"
   ]
  },
  {
   "cell_type": "code",
   "execution_count": 34,
   "metadata": {
    "deletable": false,
    "editable": false,
    "nbgrader": {
     "cell_type": "code",
     "checksum": "853b61f3bd09a83eec7463788dff9035",
     "grade": false,
     "grade_id": "cell-9bb91fc3f0fbf054",
     "locked": true,
     "schema_version": 3,
     "solution": false,
     "task": false
    }
   },
   "outputs": [],
   "source": [
    "# Note that transforms.ToTensor()\n",
    "# already divides pixels by 255. internally\n",
    "custom_transform = transforms.Compose([transforms.ToTensor()])\n",
    "\n",
    "\n",
    "train_dataset = QuickdrawDataset(csv_path='train.csv',\n",
    "                                 img_dir='png_files/',\n",
    "                                 transform=custom_transform)\n",
    "\n",
    "train_loader = DataLoader(dataset=train_dataset,\n",
    "                          batch_size=BATCH_SIZE,\n",
    "                          shuffle=True,\n",
    "                          num_workers=N_WORKERS)\n",
    "\n",
    "\n",
    "valid_dataset = QuickdrawDataset(csv_path='valid.csv',\n",
    "                                 img_dir='png_files/',\n",
    "                                 transform=custom_transform)\n",
    "\n",
    "valid_loader = DataLoader(dataset=valid_dataset,\n",
    "                          batch_size=BATCH_SIZE,\n",
    "                          shuffle=False,\n",
    "                          num_workers=N_WORKERS)\n",
    "\n",
    "test_dataset = QuickdrawDataset(csv_path='test.csv',\n",
    "                                img_dir='png_files/',\n",
    "                                transform=custom_transform)\n",
    "\n",
    "test_loader = DataLoader(dataset=test_dataset,\n",
    "                         batch_size=BATCH_SIZE,\n",
    "                         shuffle=False,\n",
    "                         num_workers=N_WORKERS)"
   ]
  },
  {
   "cell_type": "markdown",
   "metadata": {
    "deletable": false,
    "editable": false,
    "nbgrader": {
     "cell_type": "markdown",
     "checksum": "9ef9569fbbe79f4b3f55cdb0c77208d1",
     "grade": false,
     "grade_id": "cell-73170aab3bc769e1",
     "locked": true,
     "schema_version": 3,
     "solution": false,
     "task": false
    }
   },
   "source": [
    "The cell below just checks if the dataset can be loaded correctly.\n",
    "\n",
    "**Note:** Make sure you unzip the file `png_files.zip` that should have been contained in the file you downloaded from Canvas."
   ]
  },
  {
   "cell_type": "code",
   "execution_count": 35,
   "metadata": {
    "deletable": false,
    "editable": false,
    "nbgrader": {
     "cell_type": "code",
     "checksum": "f0e28d099fa7c999561cb0bbe1cc47ee",
     "grade": false,
     "grade_id": "cell-3fefdbf275aa6bc8",
     "locked": true,
     "schema_version": 3,
     "solution": false,
     "task": false
    }
   },
   "outputs": [
    {
     "name": "stdout",
     "output_type": "stream",
     "text": [
      "Epoch: 1 | Batch index: 0 | Batch size: 64\n",
      "break minibatch for-loop\n",
      "Epoch: 2 | Batch index: 0 | Batch size: 64\n",
      "break minibatch for-loop\n"
     ]
    }
   ],
   "source": [
    "torch.manual_seed(0)\n",
    "\n",
    "num_epochs = 2\n",
    "for epoch in range(num_epochs):\n",
    "\n",
    "    for batch_idx, (x, y) in enumerate(train_loader):\n",
    "\n",
    "        print('Epoch:', epoch+1, end='')\n",
    "        print(' | Batch index:', batch_idx, end='')\n",
    "        print(' | Batch size:', y.size()[0])\n",
    "\n",
    "        x = x.to(DEVICE)\n",
    "        y = y.to(DEVICE)\n",
    "\n",
    "        print('break minibatch for-loop')\n",
    "        break"
   ]
  },
  {
   "cell_type": "markdown",
   "metadata": {
    "deletable": false,
    "editable": false,
    "nbgrader": {
     "cell_type": "markdown",
     "checksum": "ca03b4544105758d3114e7ade6a5d9ff",
     "grade": false,
     "grade_id": "cell-b3e47ce4358f8ae0",
     "locked": true,
     "schema_version": 3,
     "solution": false,
     "task": false
    }
   },
   "source": [
    "If you get an error, make sure the `png_files.zip` file is in the same directory as this notebook and that it was unzipped correctly."
   ]
  },
  {
   "cell_type": "markdown",
   "metadata": {
    "deletable": false,
    "editable": false,
    "nbgrader": {
     "cell_type": "markdown",
     "checksum": "f02a8ce902b2b758225f17afdda278a8",
     "grade": false,
     "grade_id": "cell-668c1a74a1493136",
     "locked": true,
     "schema_version": 3,
     "solution": false,
     "task": false
    }
   },
   "source": [
    "### Multilayer Perceptron Model (You need to make changes in this section)\n",
    "\n",
    "The cell below contains the multi-layer perceptron model. **This is the main section where you want to make changes to the architecture.**"
   ]
  },
  {
   "cell_type": "code",
   "execution_count": 45,
   "metadata": {},
   "outputs": [],
   "source": [
    "class MLP(torch.nn.Module):\n",
    "\n",
    "    def __init__(self, num_features, num_hidden_1, num_classes):\n",
    "        super(MLP, self).__init__()\n",
    "\n",
    "        self.num_classes = num_classes\n",
    "\n",
    "        # ADD ADDITIONAL LAYERS BELOW IF YOU LIKE\n",
    "        self.linear_1 = torch.nn.Linear(num_features, num_hidden_1)\n",
    "        self.linear_out = torch.nn.Linear(num_hidden_1, num_classes)\n",
    "\n",
    "    def forward(self, x):\n",
    "        # MAKE SURE YOU CONNECT THE LAYERS PROPERLY IF YOU CHANGED\n",
    "        # ANYTHNG IN THE __init__ METHOD ABOVE\n",
    "        out = self.linear_1(x)\n",
    "        out = F.relu(out)\n",
    "        out = torch.tanh(out)\n",
    "        # out = torch.sigmoid(out)\n",
    "        logits = self.linear_out(out)\n",
    "        probas = F.softmax(logits, dim=1)\n",
    "        return logits, probas\n",
    "\n",
    "\n",
    "# Model Initialization\n",
    "# You should keep the variable names 'model' and 'optimizer' created below.\n",
    "\n",
    "\n",
    "# the random seed makes sure that the random weight initialization\n",
    "# in the model is always the same.\n",
    "# In practice, some weights don't work well, and we may also want\n",
    "# to try different random seeds. In this homework, this is not\n",
    "# necessary.\n",
    "torch.manual_seed(RANDOM_SEED)\n",
    "\n",
    "# IF YOU CHANGED THE ARCHITECTURE ABOVE, MAKE SURE YOU\n",
    "# ACCOUNT FOR IT VIA THE PARAMETERS BELOW. I.e., if you\n",
    "# added a second hidden layer, you may want to add a\n",
    "# hidden_2 parameter here. Also you may want to play\n",
    "# with the number of hidden units.\n",
    "model = MLP(num_features=28*28,\n",
    "            num_hidden_1=70,\n",
    "            num_classes=3)\n",
    "\n",
    "model = model.to(DEVICE)\n",
    "\n",
    "\n",
    "# For this homework, do not change the optimizer. However, you\n",
    "# likely want to experiment with the learning rate!\n",
    "optimizer = torch.optim.SGD(model.parameters(), lr=0.05)"
   ]
  },
  {
   "cell_type": "code",
   "execution_count": 37,
   "metadata": {
    "deletable": false,
    "nbgrader": {
     "cell_type": "code",
     "checksum": "a5c76d2e88f824ade722e6a7ba2ee7cf",
     "grade": false,
     "grade_id": "cell-62a74eab4e93145f",
     "locked": false,
     "schema_version": 3,
     "solution": true,
     "task": false
    }
   },
   "outputs": [
    {
     "data": {
      "text/plain": [
       "\"You can ignore this cell. You can remove the NotImplementedError() if you want\\nbut this won't affect the grading.\""
      ]
     },
     "execution_count": 37,
     "metadata": {},
     "output_type": "execute_result"
    }
   ],
   "source": [
    "\"\"\"You can ignore this cell. You can remove the NotImplementedError() if you want\n",
    "but this won't affect the grading.\"\"\"\n",
    "# YOUR CODE HERE"
   ]
  },
  {
   "cell_type": "markdown",
   "metadata": {
    "deletable": false,
    "editable": false,
    "nbgrader": {
     "cell_type": "markdown",
     "checksum": "876596bfb43e868aaf53d07ba8084792",
     "grade": false,
     "grade_id": "cell-e75bcfa84b820ba6",
     "locked": true,
     "schema_version": 3,
     "solution": false,
     "task": false
    }
   },
   "source": [
    "### Training"
   ]
  },
  {
   "cell_type": "code",
   "execution_count": 38,
   "metadata": {
    "deletable": false,
    "editable": false,
    "nbgrader": {
     "cell_type": "code",
     "checksum": "88e921794ff0b48df35f6c7aa8a3df7e",
     "grade": false,
     "grade_id": "cell-e75bcfa84b820ba7",
     "locked": true,
     "schema_version": 3,
     "solution": false,
     "task": false
    }
   },
   "outputs": [],
   "source": [
    "# DO NOT make changes to this cell\n",
    "\n",
    "def compute_epoch_loss(model, data_loader):\n",
    "    curr_loss, num_examples = 0., 0\n",
    "    with torch.no_grad():\n",
    "        for features, targets in data_loader:\n",
    "            features = features.view(-1, 28*28).to(DEVICE)\n",
    "            targets = targets.to(DEVICE)\n",
    "            logits, probas = model(features)\n",
    "            loss = F.cross_entropy(logits, targets, reduction='sum')\n",
    "            num_examples += targets.size(0)\n",
    "            curr_loss += loss\n",
    "\n",
    "        curr_loss = curr_loss / num_examples\n",
    "        return curr_loss\n",
    "\n",
    "\n",
    "def compute_accuracy(model, data_loader):\n",
    "    correct_pred, num_examples = 0, 0\n",
    "    with torch.no_grad():\n",
    "        for features, targets in data_loader:\n",
    "            features = features.view(-1, 28*28).to(DEVICE)\n",
    "            targets = targets.to(DEVICE)\n",
    "            logits, probas = model.forward(features)\n",
    "            predicted_labels = torch.argmax(probas, 1)\n",
    "            num_examples += targets.size(0)\n",
    "            correct_pred += (predicted_labels == targets).sum()\n",
    "        return correct_pred.float()/num_examples * 100\n",
    "\n",
    "\n",
    "start_time = time.time()\n",
    "minibatch_cost = []\n",
    "epoch_cost = []"
   ]
  },
  {
   "cell_type": "markdown",
   "metadata": {
    "deletable": false,
    "editable": false,
    "nbgrader": {
     "cell_type": "markdown",
     "checksum": "e1607d8a3c53f7ad2d8947f1a59a2446",
     "grade": false,
     "grade_id": "cell-019b3d645b90d7d8",
     "locked": true,
     "schema_version": 3,
     "solution": false,
     "task": false
    }
   },
   "source": [
    "__No need to change anything below, However, you can change the number of epochs if you like.__"
   ]
  },
  {
   "cell_type": "code",
   "execution_count": 39,
   "metadata": {},
   "outputs": [],
   "source": [
    "NUM_EPOCHS = 25  # You can change if you like. "
   ]
  },
  {
   "cell_type": "code",
   "execution_count": 40,
   "metadata": {
    "deletable": false,
    "editable": false,
    "nbgrader": {
     "cell_type": "code",
     "checksum": "48f0462fe62a74fece54ad86d1848880",
     "grade": false,
     "grade_id": "cell-d80ab3b68873e4d9",
     "locked": true,
     "schema_version": 3,
     "solution": false,
     "task": false
    }
   },
   "outputs": [],
   "source": [
    "# DO NOT make changes.\n",
    "def run_training():\n",
    "    for epoch in range(NUM_EPOCHS):\n",
    "        model.train()\n",
    "        for batch_idx, (features, targets) in enumerate(train_loader):\n",
    "            features = features.view(-1, 28*28).to(DEVICE)\n",
    "            targets = targets.to(DEVICE)\n",
    "\n",
    "            # FORWARD AND BACK PROP\n",
    "            logits, probas = model(features)\n",
    "            cost = F.cross_entropy(logits, targets)\n",
    "            optimizer.zero_grad()\n",
    "            cost.backward()\n",
    "            minibatch_cost.append(cost)\n",
    "\n",
    "            # UPDATE MODEL PARAMETERS\n",
    "            optimizer.step()\n",
    "\n",
    "            # LOGGING\n",
    "            if not batch_idx % 50:\n",
    "                print('Epoch: %03d/%03d | Batch %03d/%03d | Cost: %.4f'\n",
    "                      % (epoch+1, NUM_EPOCHS, batch_idx,\n",
    "                         len(train_loader), cost))\n",
    "\n",
    "        model.eval()\n",
    "        cost = compute_epoch_loss(model, train_loader)\n",
    "        epoch_cost.append(cost)\n",
    "\n",
    "        train_accuracy = compute_accuracy(model, train_loader)\n",
    "        valid_accuracy = compute_accuracy(model, valid_loader)\n",
    "\n",
    "        print('Epoch: %03d/%03d Train Cost: %.4f' % (\n",
    "                epoch+1, NUM_EPOCHS, cost))\n",
    "        print('Train Accuracy: %.3f | Validation Accuracy: %.3f'\n",
    "              % (train_accuracy, valid_accuracy))\n",
    "        print('Time elapsed: %.2f min' % ((time.time() - start_time)/60))\n",
    "\n",
    "    print('Total Training Time: %.2f min' % ((time.time() - start_time)/60))\n",
    "    return train_accuracy, valid_accuracy"
   ]
  },
  {
   "cell_type": "markdown",
   "metadata": {
    "deletable": false,
    "editable": false,
    "nbgrader": {
     "cell_type": "markdown",
     "checksum": "e6a5c4f0d6ba17c643e13e923275429f",
     "grade": false,
     "grade_id": "cell-d80ab3b68873e4d4",
     "locked": true,
     "schema_version": 3,
     "solution": false,
     "task": false
    }
   },
   "source": [
    "### Evaluation (Make no changes in this section)"
   ]
  },
  {
   "cell_type": "code",
   "execution_count": 41,
   "metadata": {
    "deletable": false,
    "editable": false,
    "nbgrader": {
     "cell_type": "code",
     "checksum": "2cdeb8e8685b43800565cd45bf9f8247",
     "grade": false,
     "grade_id": "cell-d80ab3b68873e4d2",
     "locked": true,
     "schema_version": 3,
     "solution": false,
     "task": false
    }
   },
   "outputs": [],
   "source": [
    "# DO NOT make changes.\n",
    "def evaluation():\n",
    "    plt.plot(range(len(minibatch_cost)), minibatch_cost)\n",
    "    plt.ylabel('Cross Entropy')\n",
    "    plt.xlabel('Minibatch')\n",
    "    plt.show()\n",
    "\n",
    "    plt.plot(range(len(epoch_cost)), epoch_cost)\n",
    "    plt.ylabel('Cross Entropy')\n",
    "    plt.xlabel('Epoch')\n",
    "    plt.show()\n",
    "\n",
    "    test_accuracy = compute_accuracy(model, test_loader)\n",
    "\n",
    "    print('Test Accuracy: %.2f' % test_accuracy)\n",
    "    return test_accuracy"
   ]
  },
  {
   "cell_type": "markdown",
   "metadata": {
    "deletable": false,
    "editable": false,
    "nbgrader": {
     "cell_type": "markdown",
     "checksum": "ae849ea1af3f5944db270d1265340700",
     "grade": false,
     "grade_id": "cell-d80ab3b68873e4e5",
     "locked": true,
     "schema_version": 3,
     "solution": false,
     "task": false
    }
   },
   "source": [
    "### Conclusions (YOUR ANSWERS REQUIRED)"
   ]
  },
  {
   "cell_type": "markdown",
   "metadata": {
    "deletable": false,
    "editable": false,
    "nbgrader": {
     "cell_type": "markdown",
     "checksum": "5ad2e50f5919d07ecee1b1b9c93fd0c2",
     "grade": false,
     "grade_id": "cell-d80ab3b68873e4d1",
     "locked": true,
     "schema_version": 3,
     "solution": false,
     "task": false
    }
   },
   "source": [
    "#### Question 1 ( 10 points) \n",
    "In this part we will check that your training/validation/testing accuracies are correct. As stated at the beginning of the problem, for full credit your validation and test accuracy must be >= 92%. \n",
    "\n",
    "**Note:** Do NOT change any of the following three cells in this question or add any new cells. Doing so will result in an automatic point deduction."
   ]
  },
  {
   "cell_type": "code",
   "execution_count": 42,
   "metadata": {
    "deletable": false,
    "editable": false,
    "nbgrader": {
     "cell_type": "code",
     "checksum": "0c40545c60a4480e5e2a894bd0472a63",
     "grade": false,
     "grade_id": "cell-46c824413d865289",
     "locked": true,
     "schema_version": 3,
     "solution": false,
     "task": false
    },
    "scrolled": true
   },
   "outputs": [
    {
     "name": "stdout",
     "output_type": "stream",
     "text": [
      "Epoch: 001/025 | Batch 000/352 | Cost: 1.0932\n",
      "Epoch: 001/025 | Batch 050/352 | Cost: 0.7527\n",
      "Epoch: 001/025 | Batch 100/352 | Cost: 0.5252\n",
      "Epoch: 001/025 | Batch 150/352 | Cost: 0.5128\n",
      "Epoch: 001/025 | Batch 200/352 | Cost: 0.4043\n",
      "Epoch: 001/025 | Batch 250/352 | Cost: 0.3703\n",
      "Epoch: 001/025 | Batch 300/352 | Cost: 0.3543\n",
      "Epoch: 001/025 | Batch 350/352 | Cost: 0.2867\n",
      "Epoch: 001/025 Train Cost: 0.4088\n",
      "Train Accuracy: 85.702 | Validation Accuracy: 86.160\n",
      "Time elapsed: 1.03 min\n",
      "Epoch: 002/025 | Batch 000/352 | Cost: 0.4458\n",
      "Epoch: 002/025 | Batch 050/352 | Cost: 0.3340\n",
      "Epoch: 002/025 | Batch 100/352 | Cost: 0.4569\n",
      "Epoch: 002/025 | Batch 150/352 | Cost: 0.5200\n",
      "Epoch: 002/025 | Batch 200/352 | Cost: 0.3524\n",
      "Epoch: 002/025 | Batch 250/352 | Cost: 0.2924\n",
      "Epoch: 002/025 | Batch 300/352 | Cost: 0.3220\n",
      "Epoch: 002/025 | Batch 350/352 | Cost: 0.5392\n",
      "Epoch: 002/025 Train Cost: 0.3362\n",
      "Train Accuracy: 88.844 | Validation Accuracy: 88.480\n",
      "Time elapsed: 1.72 min\n",
      "Epoch: 003/025 | Batch 000/352 | Cost: 0.2176\n",
      "Epoch: 003/025 | Batch 050/352 | Cost: 0.3782\n",
      "Epoch: 003/025 | Batch 100/352 | Cost: 0.2732\n",
      "Epoch: 003/025 | Batch 150/352 | Cost: 0.5635\n",
      "Epoch: 003/025 | Batch 200/352 | Cost: 0.3435\n",
      "Epoch: 003/025 | Batch 250/352 | Cost: 0.2759\n",
      "Epoch: 003/025 | Batch 300/352 | Cost: 0.2945\n",
      "Epoch: 003/025 | Batch 350/352 | Cost: 0.2322\n",
      "Epoch: 003/025 Train Cost: 0.3039\n",
      "Train Accuracy: 89.987 | Validation Accuracy: 89.720\n",
      "Time elapsed: 2.33 min\n",
      "Epoch: 004/025 | Batch 000/352 | Cost: 0.5460\n",
      "Epoch: 004/025 | Batch 050/352 | Cost: 0.2267\n",
      "Epoch: 004/025 | Batch 100/352 | Cost: 0.2443\n",
      "Epoch: 004/025 | Batch 150/352 | Cost: 0.2626\n",
      "Epoch: 004/025 | Batch 200/352 | Cost: 0.4367\n",
      "Epoch: 004/025 | Batch 250/352 | Cost: 0.1786\n",
      "Epoch: 004/025 | Batch 300/352 | Cost: 0.1835\n",
      "Epoch: 004/025 | Batch 350/352 | Cost: 0.3740\n",
      "Epoch: 004/025 Train Cost: 0.2838\n",
      "Train Accuracy: 90.502 | Validation Accuracy: 89.600\n",
      "Time elapsed: 3.00 min\n",
      "Epoch: 005/025 | Batch 000/352 | Cost: 0.2637\n",
      "Epoch: 005/025 | Batch 050/352 | Cost: 0.2543\n",
      "Epoch: 005/025 | Batch 100/352 | Cost: 0.2098\n",
      "Epoch: 005/025 | Batch 150/352 | Cost: 0.3249\n",
      "Epoch: 005/025 | Batch 200/352 | Cost: 0.2098\n",
      "Epoch: 005/025 | Batch 250/352 | Cost: 0.1828\n",
      "Epoch: 005/025 | Batch 300/352 | Cost: 0.2416\n",
      "Epoch: 005/025 | Batch 350/352 | Cost: 0.2603\n",
      "Epoch: 005/025 Train Cost: 0.2677\n",
      "Train Accuracy: 91.387 | Validation Accuracy: 90.800\n",
      "Time elapsed: 3.65 min\n",
      "Epoch: 006/025 | Batch 000/352 | Cost: 0.3144\n",
      "Epoch: 006/025 | Batch 050/352 | Cost: 0.2464\n",
      "Epoch: 006/025 | Batch 100/352 | Cost: 0.2858\n",
      "Epoch: 006/025 | Batch 150/352 | Cost: 0.2016\n",
      "Epoch: 006/025 | Batch 200/352 | Cost: 0.3130\n",
      "Epoch: 006/025 | Batch 250/352 | Cost: 0.2361\n",
      "Epoch: 006/025 | Batch 300/352 | Cost: 0.2946\n",
      "Epoch: 006/025 | Batch 350/352 | Cost: 0.0944\n",
      "Epoch: 006/025 Train Cost: 0.2490\n",
      "Train Accuracy: 91.942 | Validation Accuracy: 91.040\n",
      "Time elapsed: 4.30 min\n",
      "Epoch: 007/025 | Batch 000/352 | Cost: 0.2704\n",
      "Epoch: 007/025 | Batch 050/352 | Cost: 0.1800\n",
      "Epoch: 007/025 | Batch 100/352 | Cost: 0.2812\n",
      "Epoch: 007/025 | Batch 150/352 | Cost: 0.1195\n",
      "Epoch: 007/025 | Batch 200/352 | Cost: 0.1652\n",
      "Epoch: 007/025 | Batch 250/352 | Cost: 0.1048\n",
      "Epoch: 007/025 | Batch 300/352 | Cost: 0.2674\n",
      "Epoch: 007/025 | Batch 350/352 | Cost: 0.2746\n",
      "Epoch: 007/025 Train Cost: 0.2468\n",
      "Train Accuracy: 91.969 | Validation Accuracy: 90.640\n",
      "Time elapsed: 4.89 min\n",
      "Epoch: 008/025 | Batch 000/352 | Cost: 0.1424\n",
      "Epoch: 008/025 | Batch 050/352 | Cost: 0.1608\n",
      "Epoch: 008/025 | Batch 100/352 | Cost: 0.3159\n",
      "Epoch: 008/025 | Batch 150/352 | Cost: 0.1948\n",
      "Epoch: 008/025 | Batch 200/352 | Cost: 0.1938\n",
      "Epoch: 008/025 | Batch 250/352 | Cost: 0.3261\n",
      "Epoch: 008/025 | Batch 300/352 | Cost: 0.2880\n",
      "Epoch: 008/025 | Batch 350/352 | Cost: 0.1664\n",
      "Epoch: 008/025 Train Cost: 0.2316\n",
      "Train Accuracy: 92.480 | Validation Accuracy: 91.560\n",
      "Time elapsed: 5.48 min\n",
      "Epoch: 009/025 | Batch 000/352 | Cost: 0.3312\n",
      "Epoch: 009/025 | Batch 050/352 | Cost: 0.2705\n",
      "Epoch: 009/025 | Batch 100/352 | Cost: 0.2040\n",
      "Epoch: 009/025 | Batch 150/352 | Cost: 0.1126\n",
      "Epoch: 009/025 | Batch 200/352 | Cost: 0.1733\n",
      "Epoch: 009/025 | Batch 250/352 | Cost: 0.2814\n",
      "Epoch: 009/025 | Batch 300/352 | Cost: 0.1725\n",
      "Epoch: 009/025 | Batch 350/352 | Cost: 0.2505\n",
      "Epoch: 009/025 Train Cost: 0.2167\n",
      "Train Accuracy: 93.240 | Validation Accuracy: 91.920\n",
      "Time elapsed: 6.05 min\n",
      "Epoch: 010/025 | Batch 000/352 | Cost: 0.3085\n",
      "Epoch: 010/025 | Batch 050/352 | Cost: 0.3340\n",
      "Epoch: 010/025 | Batch 100/352 | Cost: 0.2727\n",
      "Epoch: 010/025 | Batch 150/352 | Cost: 0.3345\n",
      "Epoch: 010/025 | Batch 200/352 | Cost: 0.1509\n",
      "Epoch: 010/025 | Batch 250/352 | Cost: 0.2966\n",
      "Epoch: 010/025 | Batch 300/352 | Cost: 0.2582\n",
      "Epoch: 010/025 | Batch 350/352 | Cost: 0.3175\n",
      "Epoch: 010/025 Train Cost: 0.2064\n",
      "Train Accuracy: 93.511 | Validation Accuracy: 91.520\n",
      "Time elapsed: 6.84 min\n",
      "Epoch: 011/025 | Batch 000/352 | Cost: 0.1692\n",
      "Epoch: 011/025 | Batch 050/352 | Cost: 0.1592\n",
      "Epoch: 011/025 | Batch 100/352 | Cost: 0.2774\n",
      "Epoch: 011/025 | Batch 150/352 | Cost: 0.1899\n",
      "Epoch: 011/025 | Batch 200/352 | Cost: 0.1606\n",
      "Epoch: 011/025 | Batch 250/352 | Cost: 0.1447\n",
      "Epoch: 011/025 | Batch 300/352 | Cost: 0.1731\n",
      "Epoch: 011/025 | Batch 350/352 | Cost: 0.2470\n",
      "Epoch: 011/025 Train Cost: 0.2161\n",
      "Train Accuracy: 92.653 | Validation Accuracy: 90.640\n",
      "Time elapsed: 7.42 min\n",
      "Epoch: 012/025 | Batch 000/352 | Cost: 0.1609\n",
      "Epoch: 012/025 | Batch 050/352 | Cost: 0.2025\n",
      "Epoch: 012/025 | Batch 100/352 | Cost: 0.1929\n",
      "Epoch: 012/025 | Batch 150/352 | Cost: 0.1658\n",
      "Epoch: 012/025 | Batch 200/352 | Cost: 0.2670\n",
      "Epoch: 012/025 | Batch 250/352 | Cost: 0.2486\n",
      "Epoch: 012/025 | Batch 300/352 | Cost: 0.1721\n",
      "Epoch: 012/025 | Batch 350/352 | Cost: 0.1842\n",
      "Epoch: 012/025 Train Cost: 0.1896\n",
      "Train Accuracy: 94.164 | Validation Accuracy: 92.320\n",
      "Time elapsed: 8.00 min\n",
      "Epoch: 013/025 | Batch 000/352 | Cost: 0.2610\n",
      "Epoch: 013/025 | Batch 050/352 | Cost: 0.2527\n",
      "Epoch: 013/025 | Batch 100/352 | Cost: 0.2559\n",
      "Epoch: 013/025 | Batch 150/352 | Cost: 0.1205\n",
      "Epoch: 013/025 | Batch 200/352 | Cost: 0.2194\n",
      "Epoch: 013/025 | Batch 250/352 | Cost: 0.3062\n",
      "Epoch: 013/025 | Batch 300/352 | Cost: 0.1919\n",
      "Epoch: 013/025 | Batch 350/352 | Cost: 0.1263\n",
      "Epoch: 013/025 Train Cost: 0.1902\n",
      "Train Accuracy: 93.853 | Validation Accuracy: 91.360\n",
      "Time elapsed: 8.59 min\n",
      "Epoch: 014/025 | Batch 000/352 | Cost: 0.2125\n",
      "Epoch: 014/025 | Batch 050/352 | Cost: 0.1530\n",
      "Epoch: 014/025 | Batch 100/352 | Cost: 0.1414\n",
      "Epoch: 014/025 | Batch 150/352 | Cost: 0.0954\n",
      "Epoch: 014/025 | Batch 200/352 | Cost: 0.3436\n",
      "Epoch: 014/025 | Batch 250/352 | Cost: 0.2357\n",
      "Epoch: 014/025 | Batch 300/352 | Cost: 0.1638\n",
      "Epoch: 014/025 | Batch 350/352 | Cost: 0.1662\n",
      "Epoch: 014/025 Train Cost: 0.1755\n",
      "Train Accuracy: 94.729 | Validation Accuracy: 92.200\n",
      "Time elapsed: 9.17 min\n",
      "Epoch: 015/025 | Batch 000/352 | Cost: 0.1026\n",
      "Epoch: 015/025 | Batch 050/352 | Cost: 0.1198\n",
      "Epoch: 015/025 | Batch 100/352 | Cost: 0.0733\n",
      "Epoch: 015/025 | Batch 150/352 | Cost: 0.2270\n",
      "Epoch: 015/025 | Batch 200/352 | Cost: 0.1957\n",
      "Epoch: 015/025 | Batch 250/352 | Cost: 0.2452\n",
      "Epoch: 015/025 | Batch 300/352 | Cost: 0.1934\n",
      "Epoch: 015/025 | Batch 350/352 | Cost: 0.1360\n",
      "Epoch: 015/025 Train Cost: 0.1713\n",
      "Train Accuracy: 94.773 | Validation Accuracy: 92.200\n",
      "Time elapsed: 9.75 min\n",
      "Epoch: 016/025 | Batch 000/352 | Cost: 0.1677\n",
      "Epoch: 016/025 | Batch 050/352 | Cost: 0.1919\n",
      "Epoch: 016/025 | Batch 100/352 | Cost: 0.0805\n",
      "Epoch: 016/025 | Batch 150/352 | Cost: 0.1032\n",
      "Epoch: 016/025 | Batch 200/352 | Cost: 0.0826\n",
      "Epoch: 016/025 | Batch 250/352 | Cost: 0.1565\n",
      "Epoch: 016/025 | Batch 300/352 | Cost: 0.1857\n",
      "Epoch: 016/025 | Batch 350/352 | Cost: 0.1118\n",
      "Epoch: 016/025 Train Cost: 0.1726\n",
      "Train Accuracy: 94.596 | Validation Accuracy: 91.440\n",
      "Time elapsed: 10.34 min\n",
      "Epoch: 017/025 | Batch 000/352 | Cost: 0.1216\n",
      "Epoch: 017/025 | Batch 050/352 | Cost: 0.2082\n",
      "Epoch: 017/025 | Batch 100/352 | Cost: 0.0894\n",
      "Epoch: 017/025 | Batch 150/352 | Cost: 0.1439\n",
      "Epoch: 017/025 | Batch 200/352 | Cost: 0.2531\n",
      "Epoch: 017/025 | Batch 250/352 | Cost: 0.1443\n",
      "Epoch: 017/025 | Batch 300/352 | Cost: 0.1932\n",
      "Epoch: 017/025 | Batch 350/352 | Cost: 0.2037\n",
      "Epoch: 017/025 Train Cost: 0.1576\n",
      "Train Accuracy: 95.364 | Validation Accuracy: 92.200\n",
      "Time elapsed: 10.95 min\n",
      "Epoch: 018/025 | Batch 000/352 | Cost: 0.1770\n",
      "Epoch: 018/025 | Batch 050/352 | Cost: 0.1489\n"
     ]
    },
    {
     "name": "stdout",
     "output_type": "stream",
     "text": [
      "Epoch: 018/025 | Batch 100/352 | Cost: 0.0638\n",
      "Epoch: 018/025 | Batch 150/352 | Cost: 0.1696\n",
      "Epoch: 018/025 | Batch 200/352 | Cost: 0.1364\n",
      "Epoch: 018/025 | Batch 250/352 | Cost: 0.1920\n",
      "Epoch: 018/025 | Batch 300/352 | Cost: 0.1717\n",
      "Epoch: 018/025 | Batch 350/352 | Cost: 0.2502\n",
      "Epoch: 018/025 Train Cost: 0.1585\n",
      "Train Accuracy: 95.200 | Validation Accuracy: 92.000\n",
      "Time elapsed: 11.54 min\n",
      "Epoch: 019/025 | Batch 000/352 | Cost: 0.1069\n",
      "Epoch: 019/025 | Batch 050/352 | Cost: 0.2400\n",
      "Epoch: 019/025 | Batch 100/352 | Cost: 0.0944\n",
      "Epoch: 019/025 | Batch 150/352 | Cost: 0.2820\n",
      "Epoch: 019/025 | Batch 200/352 | Cost: 0.2020\n",
      "Epoch: 019/025 | Batch 250/352 | Cost: 0.1835\n",
      "Epoch: 019/025 | Batch 300/352 | Cost: 0.2277\n",
      "Epoch: 019/025 | Batch 350/352 | Cost: 0.1366\n",
      "Epoch: 019/025 Train Cost: 0.1464\n",
      "Train Accuracy: 95.724 | Validation Accuracy: 92.200\n",
      "Time elapsed: 12.13 min\n",
      "Epoch: 020/025 | Batch 000/352 | Cost: 0.1075\n",
      "Epoch: 020/025 | Batch 050/352 | Cost: 0.1341\n",
      "Epoch: 020/025 | Batch 100/352 | Cost: 0.0949\n",
      "Epoch: 020/025 | Batch 150/352 | Cost: 0.2080\n",
      "Epoch: 020/025 | Batch 200/352 | Cost: 0.3206\n",
      "Epoch: 020/025 | Batch 250/352 | Cost: 0.2300\n",
      "Epoch: 020/025 | Batch 300/352 | Cost: 0.2636\n",
      "Epoch: 020/025 | Batch 350/352 | Cost: 0.1227\n",
      "Epoch: 020/025 Train Cost: 0.1390\n",
      "Train Accuracy: 96.071 | Validation Accuracy: 92.400\n",
      "Time elapsed: 12.74 min\n",
      "Epoch: 021/025 | Batch 000/352 | Cost: 0.1825\n",
      "Epoch: 021/025 | Batch 050/352 | Cost: 0.1106\n",
      "Epoch: 021/025 | Batch 100/352 | Cost: 0.1960\n",
      "Epoch: 021/025 | Batch 150/352 | Cost: 0.1633\n",
      "Epoch: 021/025 | Batch 200/352 | Cost: 0.2257\n",
      "Epoch: 021/025 | Batch 250/352 | Cost: 0.1152\n",
      "Epoch: 021/025 | Batch 300/352 | Cost: 0.1554\n",
      "Epoch: 021/025 | Batch 350/352 | Cost: 0.0949\n",
      "Epoch: 021/025 Train Cost: 0.1366\n",
      "Train Accuracy: 96.093 | Validation Accuracy: 92.280\n",
      "Time elapsed: 13.32 min\n",
      "Epoch: 022/025 | Batch 000/352 | Cost: 0.1404\n",
      "Epoch: 022/025 | Batch 050/352 | Cost: 0.1522\n",
      "Epoch: 022/025 | Batch 100/352 | Cost: 0.0941\n",
      "Epoch: 022/025 | Batch 150/352 | Cost: 0.2174\n",
      "Epoch: 022/025 | Batch 200/352 | Cost: 0.0817\n",
      "Epoch: 022/025 | Batch 250/352 | Cost: 0.0654\n",
      "Epoch: 022/025 | Batch 300/352 | Cost: 0.3074\n",
      "Epoch: 022/025 | Batch 350/352 | Cost: 0.2542\n",
      "Epoch: 022/025 Train Cost: 0.1331\n",
      "Train Accuracy: 96.218 | Validation Accuracy: 92.200\n",
      "Time elapsed: 13.90 min\n",
      "Epoch: 023/025 | Batch 000/352 | Cost: 0.1284\n",
      "Epoch: 023/025 | Batch 050/352 | Cost: 0.1591\n",
      "Epoch: 023/025 | Batch 100/352 | Cost: 0.3036\n",
      "Epoch: 023/025 | Batch 150/352 | Cost: 0.1304\n",
      "Epoch: 023/025 | Batch 200/352 | Cost: 0.0933\n",
      "Epoch: 023/025 | Batch 250/352 | Cost: 0.1348\n",
      "Epoch: 023/025 | Batch 300/352 | Cost: 0.1302\n",
      "Epoch: 023/025 | Batch 350/352 | Cost: 0.0645\n",
      "Epoch: 023/025 Train Cost: 0.1263\n",
      "Train Accuracy: 96.453 | Validation Accuracy: 92.640\n",
      "Time elapsed: 14.49 min\n",
      "Epoch: 024/025 | Batch 000/352 | Cost: 0.0990\n",
      "Epoch: 024/025 | Batch 050/352 | Cost: 0.2451\n",
      "Epoch: 024/025 | Batch 100/352 | Cost: 0.1097\n",
      "Epoch: 024/025 | Batch 150/352 | Cost: 0.1150\n",
      "Epoch: 024/025 | Batch 200/352 | Cost: 0.0812\n",
      "Epoch: 024/025 | Batch 250/352 | Cost: 0.1073\n",
      "Epoch: 024/025 | Batch 300/352 | Cost: 0.1383\n",
      "Epoch: 024/025 | Batch 350/352 | Cost: 0.1728\n",
      "Epoch: 024/025 Train Cost: 0.1267\n",
      "Train Accuracy: 96.436 | Validation Accuracy: 92.120\n",
      "Time elapsed: 15.08 min\n",
      "Epoch: 025/025 | Batch 000/352 | Cost: 0.1863\n",
      "Epoch: 025/025 | Batch 050/352 | Cost: 0.2030\n",
      "Epoch: 025/025 | Batch 100/352 | Cost: 0.1256\n",
      "Epoch: 025/025 | Batch 150/352 | Cost: 0.0820\n",
      "Epoch: 025/025 | Batch 200/352 | Cost: 0.1873\n",
      "Epoch: 025/025 | Batch 250/352 | Cost: 0.0455\n",
      "Epoch: 025/025 | Batch 300/352 | Cost: 0.2115\n",
      "Epoch: 025/025 | Batch 350/352 | Cost: 0.1315\n",
      "Epoch: 025/025 Train Cost: 0.1173\n",
      "Train Accuracy: 96.804 | Validation Accuracy: 92.560\n",
      "Time elapsed: 15.69 min\n",
      "Total Training Time: 15.69 min\n"
     ]
    },
    {
     "data": {
      "image/png": "[encoded data removed]",
      "text/plain": [
       "<Figure size 432x288 with 1 Axes>"
      ]
     },
     "metadata": {
      "needs_background": "light"
     },
     "output_type": "display_data"
    },
    {
     "data": {
      "image/png": "[encoded data removed]",
      "text/plain": [
       "<Figure size 432x288 with 1 Axes>"
      ]
     },
     "metadata": {
      "needs_background": "light"
     },
     "output_type": "display_data"
    },
    {
     "name": "stdout",
     "output_type": "stream",
     "text": [
      "Test Accuracy: 92.11\n"
     ]
    }
   ],
   "source": [
    "train_accuracy, valid_accuracy = run_training()\n",
    "test_accuracy = evaluation()"
   ]
  },
  {
   "cell_type": "code",
   "execution_count": 43,
   "metadata": {
    "deletable": false,
    "editable": false,
    "nbgrader": {
     "cell_type": "code",
     "checksum": "8a4e88e0ef907fc9cbf845ad27704902",
     "grade": true,
     "grade_id": "cell-d23f7b521965ff88",
     "locked": true,
     "points": 2,
     "schema_version": 3,
     "solution": false,
     "task": false
    }
   },
   "outputs": [],
   "source": [
    "assert train_accuracy >= 90\n",
    "assert valid_accuracy >= 90\n",
    "assert test_accuracy >= 90"
   ]
  },
  {
   "cell_type": "code",
   "execution_count": 44,
   "metadata": {
    "deletable": false,
    "editable": false,
    "nbgrader": {
     "cell_type": "code",
     "checksum": "0a7181b18f32606dd944131aace3e8ce",
     "grade": true,
     "grade_id": "cell-4dc59df95e83bbd7",
     "locked": true,
     "points": 8,
     "schema_version": 3,
     "solution": false,
     "task": false
    }
   },
   "outputs": [],
   "source": [
    "assert train_accuracy >= 92\n",
    "assert valid_accuracy >= 92\n",
    "assert test_accuracy >= 92"
   ]
  },
  {
   "cell_type": "markdown",
   "metadata": {
    "deletable": false,
    "editable": false,
    "nbgrader": {
     "cell_type": "markdown",
     "checksum": "f9101865930d4201c8b2bf6f8cc7bc9e",
     "grade": false,
     "grade_id": "cell-46804a31015c31d6",
     "locked": true,
     "schema_version": 3,
     "solution": false,
     "task": false
    }
   },
   "source": [
    "#### Question 2 (2 points)"
   ]
  },
  {
   "cell_type": "markdown",
   "metadata": {
    "deletable": false,
    "editable": false,
    "nbgrader": {
     "cell_type": "markdown",
     "checksum": "728d689e41e7b363591bc333947c796a",
     "grade": false,
     "grade_id": "cell-8a3830ef84c09655",
     "locked": true,
     "schema_version": 3,
     "solution": false,
     "task": false
    }
   },
   "source": [
    "Do you notice any overfitting? If yes, why do you think your model is overfitting, and what would be a simple technique to reduce overfitting?"
   ]
  },
  {
   "cell_type": "markdown",
   "metadata": {
    "deletable": false,
    "nbgrader": {
     "cell_type": "markdown",
     "checksum": "9711d7d6ebe6d7f52a56c123b78f2d32",
     "grade": true,
     "grade_id": "cell-7a0f551b13b6b964",
     "locked": false,
     "points": 2,
     "schema_version": 3,
     "solution": true,
     "task": false
    }
   },
   "source": [
    "Yes. \n",
    "At first, I set the epoch=30 and found that although the train accracy is getting bigger, the validation accracy would go over 0.92 and down again. So my epoch is 25 now.\n",
    "Early stopping, dropout and regularization."
   ]
  },
  {
   "cell_type": "markdown",
   "metadata": {
    "deletable": false,
    "editable": false,
    "nbgrader": {
     "cell_type": "markdown",
     "checksum": "09a4e1dfe390b2b1b1d2c9ac62b77e3c",
     "grade": false,
     "grade_id": "cell-d321280c8d886d5b",
     "locked": true,
     "schema_version": 3,
     "solution": false,
     "task": false
    }
   },
   "source": [
    "#### Question 2 (3 points)\n",
    "What architectual changes did you make to improve the performance? Briefly list them below."
   ]
  },
  {
   "cell_type": "markdown",
   "metadata": {
    "deletable": false,
    "nbgrader": {
     "cell_type": "markdown",
     "checksum": "1df29bd576d95680bd1c1d2616780825",
     "grade": true,
     "grade_id": "cell-9c6b84983a659287",
     "locked": false,
     "points": 3,
     "schema_version": 3,
     "solution": true,
     "task": false
    }
   },
   "source": [
    "my MLP model now is \n",
    "a linear_1 layer (with num_hidden_1=70), a relu layer, a tanh layer, a linear_out layer and a softmax layer.\n",
    "\n",
    "BATCH_SIZE = 64\n",
    "N_WORKERS = 0"
   ]
  }
 ],
 "metadata": {
  "kernelspec": {
   "display_name": "Python 3",
   "language": "python",
   "name": "python3"
  },
  "language_info": {
   "codemirror_mode": {
    "name": "ipython",
    "version": 3
   },
   "file_extension": ".py",
   "mimetype": "text/x-python",
   "name": "python",
   "nbconvert_exporter": "python",
   "pygments_lexer": "ipython3",
   "version": "3.8.3"
  },
  "latex_envs": {
   "LaTeX_envs_menu_present": true,
   "autoclose": false,
   "autocomplete": true,
   "bibliofile": "biblio.bib",
   "cite_by": "apalike",
   "current_citInitial": 1,
   "eqLabelWithNumbers": true,
   "eqNumInitial": 1,
   "hotkeys": {
    "equation": "meta-shift-y"
   },
   "labels_anchors": false,
   "latex_user_defs": false,
   "report_style_numbering": false,
   "user_envs_cfg": false
  },
  "toc": {
   "base_numbering": 1,
   "nav_menu": {},
   "number_sections": false,
   "sideBar": true,
   "skip_h1_title": false,
   "title_cell": "Table of Contents",
   "title_sidebar": "Contents",
   "toc_cell": false,
   "toc_position": {
    "height": "calc(100% - 180px)",
    "left": "10px",
    "top": "150px",
    "width": "229px"
   },
   "toc_section_display": true,
   "toc_window_display": true
  }
 },
 "nbformat": 4,
 "nbformat_minor": 2
}
