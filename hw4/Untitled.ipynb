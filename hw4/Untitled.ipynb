{
 "cells": [
  {
   "cell_type": "code",
   "execution_count": 7,
   "metadata": {},
   "outputs": [],
   "source": [
    "import numpy as np\n",
    "a=np.array([1, 1, 1, 1, 0, 0, 0, 1, 0, 0, 0, 0, 0, 1, 0, 0]).reshape(4, 4)"
   ]
  },
  {
   "cell_type": "code",
   "execution_count": 9,
   "metadata": {},
   "outputs": [
    {
     "data": {
      "text/plain": [
       "True"
      ]
     },
     "execution_count": 9,
     "metadata": {},
     "output_type": "execute_result"
    }
   ],
   "source": [
    "def is_valid_board(array):\n",
    "    check = 1\n",
    "    if not type(array) == np.ndarray:\n",
    "        check = 0\n",
    "    if not np.all(np.logical_or(array == 0, array == 1)):\n",
    "        check = 0\n",
    "    return bool(check)\n",
    "a=np.array([1, 1, 1, 1]).reshape(2, 2)\n",
    "is_valid_board(np.array([1, 1, 1, 1]).reshape(2, 2))"
   ]
  },
  {
   "cell_type": "code",
   "execution_count": 2,
   "metadata": {},
   "outputs": [],
   "source": [
    "def sumneighbor(array, i, j):\n",
    "    m, n = array.shape()\n",
    "    value = 0\n",
    "    # (0,0)\n",
    "\n",
    "    def left(x, y):\n",
    "        if y != 0:\n",
    "            return [x, y-1]\n",
    "        else:\n",
    "            return [x, n-1]\n",
    "\n",
    "    def right(x, y):\n",
    "        if y != (n-1):\n",
    "            return [x, y+1]\n",
    "        else:\n",
    "            return [x, 0]\n",
    "\n",
    "    def upper(x, y):\n",
    "        if x != 0:\n",
    "            return [x-1, y]\n",
    "        else:\n",
    "            return [m-1, y]\n",
    "\n",
    "    def lower(x, y):\n",
    "        if x != m:\n",
    "            return [x+1, y]\n",
    "        else:\n",
    "            return [0, y]\n",
    "\n",
    "    value = array[left(x, y)[0] + left(x, y)[1]] + array[right(x, y)[0] + right(x, y)[1]] +\\\n",
    "        array[upper(x, y)[0] + upper(x, y)[1]] + array[lower(x, y)[0] + lower(x, y)[1]] +\\\n",
    "        array[left(upper(x, y))[0] + left(upper(x, y))[1]] +\\\n",
    "        array[right(upper(x, y))[0] + right(upper(x, y))[1]] +\\\n",
    "        array[left(lower(x, y))[0] + left(lower(x, y))[1]] +\\\n",
    "        array[right(lower(x, y))[0] + right(lower(x, y))[1]]\n",
    "    return value\n",
    "\n",
    "def gol_step(array):\n",
    "    if not is_valid_board(array):\n",
    "        raise TypeError\n",
    "    nrow, ncol = array.shape()\n",
    "    newarray = np.empty(nrow, ncol)\n",
    "    for i in range(nrow):\n",
    "        for j in range(ncol):\n",
    "            if array[i, j] == 1:\n",
    "                if not (sumneighbor(array, i, j) in (2, 3)):\n",
    "                    newarray[i, j]=0\n",
    "                else:\n",
    "                    newarray[i, j]=1\n",
    "            else:\n",
    "                if  sumneighbor(array, i, j) == 3:\n",
    "                    newarray[i, j]= 1\n",
    "                else:\n",
    "                    newarray[i, j]= 0\n",
    "\n",
    "    return newarray"
   ]
  },
  {
   "cell_type": "code",
   "execution_count": 3,
   "metadata": {},
   "outputs": [
    {
     "ename": "NameError",
     "evalue": "name 'np' is not defined",
     "output_type": "error",
     "traceback": [
      "\u001b[1;31m---------------------------------------------------------------------------\u001b[0m",
      "\u001b[1;31mNameError\u001b[0m                                 Traceback (most recent call last)",
      "\u001b[1;32m<ipython-input-3-3d108435e28e>\u001b[0m in \u001b[0;36m<module>\u001b[1;34m\u001b[0m\n\u001b[1;32m----> 1\u001b[1;33m \u001b[0mmyboard\u001b[0m \u001b[1;33m=\u001b[0m \u001b[0mnp\u001b[0m\u001b[1;33m.\u001b[0m\u001b[0marray\u001b[0m\u001b[1;33m(\u001b[0m\u001b[1;33m[\u001b[0m\u001b[1;36m1\u001b[0m\u001b[1;33m,\u001b[0m \u001b[1;36m1\u001b[0m\u001b[1;33m,\u001b[0m \u001b[1;36m1\u001b[0m\u001b[1;33m,\u001b[0m \u001b[1;36m1\u001b[0m\u001b[1;33m,\u001b[0m \u001b[1;36m0\u001b[0m\u001b[1;33m,\u001b[0m \u001b[1;36m0\u001b[0m\u001b[1;33m,\u001b[0m \u001b[1;36m0\u001b[0m\u001b[1;33m,\u001b[0m \u001b[1;36m1\u001b[0m\u001b[1;33m,\u001b[0m \u001b[1;36m0\u001b[0m\u001b[1;33m,\u001b[0m \u001b[1;36m0\u001b[0m\u001b[1;33m,\u001b[0m \u001b[1;36m0\u001b[0m\u001b[1;33m,\u001b[0m \u001b[1;36m0\u001b[0m\u001b[1;33m,\u001b[0m \u001b[1;36m0\u001b[0m\u001b[1;33m,\u001b[0m \u001b[1;36m1\u001b[0m\u001b[1;33m,\u001b[0m \u001b[1;36m0\u001b[0m\u001b[1;33m,\u001b[0m \u001b[1;36m0\u001b[0m\u001b[1;33m]\u001b[0m\u001b[1;33m)\u001b[0m\u001b[1;33m.\u001b[0m\u001b[0mreshape\u001b[0m\u001b[1;33m(\u001b[0m\u001b[1;36m4\u001b[0m\u001b[1;33m,\u001b[0m \u001b[1;36m4\u001b[0m\u001b[1;33m)\u001b[0m\u001b[1;33m\u001b[0m\u001b[1;33m\u001b[0m\u001b[0m\n\u001b[0m\u001b[0;32m      2\u001b[0m \u001b[0mmyboardans\u001b[0m \u001b[1;33m=\u001b[0m \u001b[0mnp\u001b[0m\u001b[1;33m.\u001b[0m\u001b[0marray\u001b[0m\u001b[1;33m(\u001b[0m\u001b[1;33m[\u001b[0m\u001b[1;36m0\u001b[0m\u001b[1;33m,\u001b[0m \u001b[1;36m1\u001b[0m\u001b[1;33m,\u001b[0m \u001b[1;36m0\u001b[0m\u001b[1;33m,\u001b[0m \u001b[1;36m1\u001b[0m\u001b[1;33m,\u001b[0m \u001b[1;36m0\u001b[0m\u001b[1;33m,\u001b[0m \u001b[1;36m1\u001b[0m\u001b[1;33m,\u001b[0m \u001b[1;36m0\u001b[0m\u001b[1;33m,\u001b[0m \u001b[1;36m1\u001b[0m\u001b[1;33m,\u001b[0m \u001b[1;36m0\u001b[0m\u001b[1;33m,\u001b[0m \u001b[1;36m0\u001b[0m\u001b[1;33m,\u001b[0m \u001b[1;36m0\u001b[0m\u001b[1;33m,\u001b[0m \u001b[1;36m0\u001b[0m\u001b[1;33m,\u001b[0m \u001b[1;36m0\u001b[0m\u001b[1;33m,\u001b[0m \u001b[1;36m1\u001b[0m\u001b[1;33m,\u001b[0m \u001b[1;36m0\u001b[0m\u001b[1;33m,\u001b[0m \u001b[1;36m1\u001b[0m\u001b[1;33m]\u001b[0m\u001b[1;33m)\u001b[0m\u001b[1;33m.\u001b[0m\u001b[0mreshape\u001b[0m\u001b[1;33m(\u001b[0m\u001b[1;36m4\u001b[0m\u001b[1;33m,\u001b[0m \u001b[1;36m4\u001b[0m\u001b[1;33m)\u001b[0m\u001b[1;33m\u001b[0m\u001b[1;33m\u001b[0m\u001b[0m\n\u001b[0;32m      3\u001b[0m \u001b[0mgol_step\u001b[0m\u001b[1;33m(\u001b[0m\u001b[0mmyboard\u001b[0m\u001b[1;33m)\u001b[0m\u001b[1;33m\u001b[0m\u001b[1;33m\u001b[0m\u001b[0m\n",
      "\u001b[1;31mNameError\u001b[0m: name 'np' is not defined"
     ]
    }
   ],
   "source": [
    "myboard = np.array([1, 1, 1, 1, 0, 0, 0, 1, 0, 0, 0, 0, 0, 1, 0, 0]).reshape(4, 4)\n",
    "myboardans = np.array([0, 1, 0, 1, 0, 1, 0, 1, 0, 0, 0, 0, 0, 1, 0, 1]).reshape(4, 4)\n",
    "gol_step(myboard)"
   ]
  },
  {
   "cell_type": "code",
   "execution_count": null,
   "metadata": {},
   "outputs": [],
   "source": [
    "for x in myboard:\n",
    "    print(x)\n",
    "np.all(np.logical_or(myboard==0, myboard==1))\n",
    "nrow=5\n",
    "range(nrow)"
   ]
  },
  {
   "cell_type": "code",
   "execution_count": 10,
   "metadata": {},
   "outputs": [],
   "source": [
    "def sumneighbor(array, pos):\n",
    "    m, n = array.shape\n",
    "    value = 0\n",
    "\n",
    "    def left(a):\n",
    "        if a[1] != 0:\n",
    "            return [a[0], a[1]-1]\n",
    "        else:\n",
    "            return [a[0], n-1]\n",
    "\n",
    "    def right(a):\n",
    "        if a[1] != (n-1):\n",
    "            return [a[0], a[1]+1]\n",
    "        else:\n",
    "            return [a[0], 0]\n",
    "\n",
    "    def upper(a):\n",
    "        if a[0] != 0:\n",
    "            return [a[0]-1, a[1]]\n",
    "        else:\n",
    "            return [m-1, a[1]]\n",
    "\n",
    "    def lower(a):\n",
    "        if a[0] != (m-1):\n",
    "            return [a[0]+1, a[1]]\n",
    "        else:\n",
    "            return [0, a[1]]\n",
    "\n",
    "    value = array[left(pos)[0], left(pos)[1]] + array[right(pos)[0], right(pos)[1]] +\\\n",
    "        array[upper(pos)[0], upper(pos)[1]] + array[lower(pos)[0], lower(pos)[1]] +\\\n",
    "        array[left(upper(pos))[0], left(upper(pos))[1]] +\\\n",
    "        array[right(upper(pos))[0] , right(upper(pos))[1]] +\\\n",
    "        array[left(lower(pos))[0] , left(lower(pos))[1]] +\\\n",
    "        array[right(lower(pos))[0] , right(lower(pos))[1]]\n",
    "    return value\n",
    "\n",
    "def gol_step(array):\n",
    "    if not is_valid_board(array):\n",
    "        raise TypeError\n",
    "    [nrow, ncol] = array.shape\n",
    "    newarray = np.empty((nrow, ncol))\n",
    "    for i in range(nrow):\n",
    "        for j in range(ncol):\n",
    "            if array[i, j] == 1:\n",
    "                if not (sumneighbor(array, [i, j]) in (2, 3)):\n",
    "                    newarray[i, j]=0\n",
    "                else:\n",
    "                    newarray[i, j]=1\n",
    "            else:\n",
    "                if  sumneighbor(array, [i, j]) == 3:\n",
    "                    newarray[i, j]= 1\n",
    "                else:\n",
    "                    newarray[i, j]= 0\n",
    "\n",
    "    return newarray"
   ]
  },
  {
   "cell_type": "code",
   "execution_count": null,
   "metadata": {},
   "outputs": [],
   "source": [
    "gol_step(myboard)"
   ]
  },
  {
   "cell_type": "code",
   "execution_count": null,
   "metadata": {},
   "outputs": [],
   "source": [
    "a=myboard\n",
    "import matplotlib.pyplot as plt\n",
    "cmap = 'gray_r'\n",
    "_=plt.imshow(a,cmap=plt.get_cmap(cmap))\n",
    "plt.xticks([])\n",
    "plt.yticks([])\n",
    "plt.show()"
   ]
  },
  {
   "cell_type": "code",
   "execution_count": 13,
   "metadata": {},
   "outputs": [
    {
     "data": {
      "image/png": "[encoded data removed]",
      "text/plain": [
       "<Figure size 432x288 with 1 Axes>"
      ]
     },
     "metadata": {},
     "output_type": "display_data"
    }
   ],
   "source": [
    "import matplotlib.pyplot as plt\n",
    "def draw_gol_board(array):\n",
    "    cmap = 'gray_r'\n",
    "    plt.imshow(array, cmap=plt.get_cmap(cmap))\n",
    "    plt.xticks([])\n",
    "    plt.yticks([])\n",
    "draw_gol_board(np.array([[1, 1, 0]]))"
   ]
  }
 ],
 "metadata": {
  "kernelspec": {
   "display_name": "Python 3",
   "language": "python",
   "name": "python3"
  },
  "language_info": {
   "codemirror_mode": {
    "name": "ipython",
    "version": 3
   },
   "file_extension": ".py",
   "mimetype": "text/x-python",
   "name": "python",
   "nbconvert_exporter": "python",
   "pygments_lexer": "ipython3",
   "version": "3.8.3"
  }
 },
 "nbformat": 4,
 "nbformat_minor": 4
}
